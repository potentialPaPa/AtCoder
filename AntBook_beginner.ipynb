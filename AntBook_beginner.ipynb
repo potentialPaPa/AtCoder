{
 "cells": [
  {
   "cell_type": "markdown",
   "metadata": {},
   "source": [
    "# AtCoder版！蟻本（初級編）"
   ]
  },
  {
   "cell_type": "markdown",
   "metadata": {},
   "source": [
    "本シートは、競技プログラミング（AtCoder）の勉強をする過程で作成したPythonコードをまとめています。  \n",
    "蟻本に掲載されている模範解答はC++のため、Pythonで勉強したい方の参考になれば幸いです。  \n",
    "なお、勉強教材としては、以下を活用しました。  \n",
    "- 通称『蟻本』（『プログラミングコンテストチャレンジブック 第2版』－マイナビ出版）\n",
    "- [drken](https://qiita.com/drken) さんのまとめ記事 [AtCoder 版！蟻本 (初級編)](https://qiita.com/drken/items/e77685614f3c6bf86f44)  "
   ]
  },
  {
   "cell_type": "markdown",
   "metadata": {},
   "source": [
    "## 例題2-1-2　Lake Counting"
   ]
  },
  {
   "cell_type": "markdown",
   "metadata": {},
   "source": [
    "### A - 深さ優先探索"
   ]
  },
  {
   "cell_type": "markdown",
   "metadata": {},
   "source": [
    "https://atcoder.jp/contests/atc001/tasks/dfs_a"
   ]
  },
  {
   "cell_type": "code",
   "execution_count": 141,
   "metadata": {},
   "outputs": [
    {
     "name": "stdin",
     "output_type": "stream",
     "text": [
      " 10 10\n"
     ]
    }
   ],
   "source": [
    "H, W = map(int, input().split())"
   ]
  },
  {
   "cell_type": "code",
   "execution_count": 142,
   "metadata": {},
   "outputs": [
    {
     "name": "stdin",
     "output_type": "stream",
     "text": [
      " s.........\n",
      " #########.\n",
      " #.......#.\n",
      " #..####.#.\n",
      " ##....#.#.\n",
      " #####.#.#.\n",
      " g.#.#.#.#.\n",
      " #.#.#.#.#.\n",
      " #.#.#.#.#.\n",
      " #.....#...\n"
     ]
    }
   ],
   "source": [
    "c = []\n",
    "for i in range(H):\n",
    "    c.append(list(input()))"
   ]
  },
  {
   "cell_type": "code",
   "execution_count": 143,
   "metadata": {},
   "outputs": [
    {
     "name": "stdout",
     "output_type": "stream",
     "text": [
      "Yes\n"
     ]
    }
   ],
   "source": [
    "INF = 999999 # Large number\n",
    "\n",
    "d = [[INF for j in range(W)] for i in range(H)] # Memo for distance. Initialize by INF.\n",
    "\n",
    "for i in range(H):\n",
    "    if \"s\" in c[i]:\n",
    "        si, sj = i, c[i].index(\"s\")\n",
    "        break\n",
    "\n",
    "import queue\n",
    "\n",
    "que = queue.Queue()\n",
    "que.put([si,sj])\n",
    "d[si][sj] = 0\n",
    "\n",
    "dx, dy = [1, 0, -1, 0], [0, 1, 0, -1]\n",
    "\n",
    "goal_flag = False\n",
    "\n",
    "while not que.empty():\n",
    "    nx, ny = que.get() #nx, ny: now x,y\n",
    "    if c[nx][ny]==\"g\":\n",
    "        goal_flag = True\n",
    "        break\n",
    "    for k in range(4):\n",
    "        ax, ay = nx + dx[k], ny + dy[k] # ax, ay: around x,y\n",
    "        \n",
    "        if (0 <= ax < H) and (0 <= ay < W) and (c[ax][ay] != \"#\") and (d[ax][ay] == INF):\n",
    "            que.put([ax, ay])\n",
    "            d[ax][ay] = d[nx][ny] + 1\n",
    "\n",
    "if goal_flag:\n",
    "    print(\"Yes\")\n",
    "else:\n",
    "    print(\"No\")"
   ]
  },
  {
   "cell_type": "markdown",
   "metadata": {},
   "source": [
    "- \\[Extra] Visualize result"
   ]
  },
  {
   "cell_type": "code",
   "execution_count": 157,
   "metadata": {},
   "outputs": [
    {
     "name": "stdout",
     "output_type": "stream",
     "text": [
      "['00', '01', '02', '03', '04', '05', '06', '07', '08', '09']\n",
      "['##', '##', '##', '##', '##', '##', '##', '##', '##', '10']\n",
      "['##', '33', '32', '31', '30', '29', '28', '27', '##', '11']\n",
      "['##', '34', '33', '##', '##', '##', '##', '26', '##', '12']\n",
      "['##', '##', '34', '35', '36', '37', '##', '25', '##', '13']\n",
      "['##', '##', '##', '##', '##', '38', '##', '24', '##', '14']\n",
      "['50', '49', '##', '47', '##', '39', '##', '23', '##', '15']\n",
      "['##', '48', '##', '46', '##', '40', '##', '22', '##', '16']\n",
      "['##', '47', '##', '45', '##', '41', '##', '21', '##', '17']\n",
      "['##', '46', '45', '44', '43', '42', '##', '20', '19', '18']\n"
     ]
    }
   ],
   "source": [
    "for i in range(H):\n",
    "    print([\"##\" if x==INF else str(\"%02d\" %x) for x in d[i]])"
   ]
  },
  {
   "cell_type": "markdown",
   "metadata": {},
   "source": [
    "## 例題2-1-3　迷路の最短路"
   ]
  },
  {
   "cell_type": "markdown",
   "metadata": {},
   "source": [
    "**【テーマ】** 幅優先探索（BFS）"
   ]
  },
  {
   "cell_type": "code",
   "execution_count": 15,
   "metadata": {},
   "outputs": [
    {
     "name": "stdout",
     "output_type": "stream",
     "text": [
      "#S######.#\n",
      "......#..#\n",
      ".#.##.##.#\n",
      ".#........\n",
      "##.##.####\n",
      "....#....#\n",
      ".#######.#\n",
      "....#.....\n",
      ".####.###.\n",
      "....#...G#\n"
     ]
    }
   ],
   "source": [
    "N, M = 10, 10\n",
    "INF = 10**8\n",
    "\n",
    "maze = []\n",
    "\n",
    "for n in range(N):\n",
    "    maze.append(input())"
   ]
  },
  {
   "cell_type": "code",
   "execution_count": 96,
   "metadata": {},
   "outputs": [],
   "source": [
    "# スタート、ゴールの座標を取得する\n",
    "for n in range(N):\n",
    "    if 'S' in maze[n]:\n",
    "        sx = maze[n].find('S')\n",
    "        sy = n\n",
    "    elif 'G' in maze[n]:\n",
    "        gx = maze[n].find('G')\n",
    "        gy = n"
   ]
  },
  {
   "cell_type": "code",
   "execution_count": 97,
   "metadata": {},
   "outputs": [],
   "source": [
    "d = [[INF for m in range(M)] for n in range(N)] # 各点までの最短距離配列\n",
    "dx = [1, 0, -1, 0]\n",
    "dy = [0, 1, 0, -1]\n",
    "#     →,↑,←,↓"
   ]
  },
  {
   "cell_type": "code",
   "execution_count": 98,
   "metadata": {},
   "outputs": [],
   "source": [
    "from collections import deque\n",
    "queue = deque([])"
   ]
  },
  {
   "cell_type": "code",
   "execution_count": 99,
   "metadata": {},
   "outputs": [],
   "source": [
    "queue.append((sx, sy))"
   ]
  },
  {
   "cell_type": "code",
   "execution_count": 100,
   "metadata": {},
   "outputs": [],
   "source": [
    "d[sy][sx] = 0"
   ]
  },
  {
   "cell_type": "code",
   "execution_count": 101,
   "metadata": {},
   "outputs": [],
   "source": [
    "while len(queue):\n",
    "    p = queue.popleft()\n",
    "    if p == (gx, gy):\n",
    "        break\n",
    "    \n",
    "    # 4方向を探索\n",
    "    for i in range(4):\n",
    "        nx = p[0] + dx[i]\n",
    "        ny = p[1] + dy[i]\n",
    "        \n",
    "        if 0 <= nx < M and 0 <= ny < N and maze[ny][nx] != '#' and d[ny][nx] == INF:\n",
    "            queue.append((nx, ny))\n",
    "            d[ny][nx] = d[p[1]][p[0]] + 1"
   ]
  },
  {
   "cell_type": "code",
   "execution_count": 104,
   "metadata": {},
   "outputs": [
    {
     "name": "stdout",
     "output_type": "stream",
     "text": [
      "22\n"
     ]
    }
   ],
   "source": [
    "print(d[gy][gx])"
   ]
  },
  {
   "cell_type": "markdown",
   "metadata": {},
   "source": [
    "### 幅優先探索"
   ]
  },
  {
   "cell_type": "markdown",
   "metadata": {},
   "source": [
    "https://atcoder.jp/contests/abc007/tasks/abc007_3"
   ]
  },
  {
   "cell_type": "code",
   "execution_count": 105,
   "metadata": {
    "scrolled": true
   },
   "outputs": [
    {
     "name": "stdout",
     "output_type": "stream",
     "text": [
      "7 8\n",
      "2 2\n",
      "4 5\n",
      "########\n",
      "#......#\n",
      "#.######\n",
      "#..#...#\n",
      "#..##..#\n",
      "##.....#\n",
      "########\n"
     ]
    }
   ],
   "source": [
    "R, C = map(int, input().split())\n",
    "sy, sx = map(int, input().split())\n",
    "gy, gx = map(int, input().split())\n",
    "\n",
    "maze = []\n",
    "for i in range(R):\n",
    "    maze.append(input())"
   ]
  },
  {
   "cell_type": "code",
   "execution_count": 144,
   "metadata": {},
   "outputs": [],
   "source": [
    "# 行／列番号を0始まりにする\n",
    "sx -= 1\n",
    "sy -= 1\n",
    "gx -= 1\n",
    "gy -= 1"
   ]
  },
  {
   "cell_type": "code",
   "execution_count": 145,
   "metadata": {},
   "outputs": [],
   "source": [
    "INF = 10000\n",
    "d = [[INF for j in range(C)] for i in range(R)]"
   ]
  },
  {
   "cell_type": "code",
   "execution_count": 146,
   "metadata": {},
   "outputs": [
    {
     "data": {
      "text/plain": [
       "[[10000, 10000, 10000, 10000, 10000, 10000, 10000, 10000],\n",
       " [10000, 10000, 10000, 10000, 10000, 10000, 10000, 10000],\n",
       " [10000, 10000, 10000, 10000, 10000, 10000, 10000, 10000],\n",
       " [10000, 10000, 10000, 10000, 10000, 10000, 10000, 10000],\n",
       " [10000, 10000, 10000, 10000, 10000, 10000, 10000, 10000],\n",
       " [10000, 10000, 10000, 10000, 10000, 10000, 10000, 10000],\n",
       " [10000, 10000, 10000, 10000, 10000, 10000, 10000, 10000]]"
      ]
     },
     "execution_count": 146,
     "metadata": {},
     "output_type": "execute_result"
    }
   ],
   "source": [
    "d"
   ]
  },
  {
   "cell_type": "code",
   "execution_count": 147,
   "metadata": {},
   "outputs": [],
   "source": [
    "# queの定義\n",
    "from collections import deque\n",
    "queue = deque([])\n",
    "\n",
    "# スタート座標の格納\n",
    "queue.append((sx, sy))\n",
    "\n",
    "# スタート地点の距離0を代入\n",
    "d[sy][sx] = 0"
   ]
  },
  {
   "cell_type": "code",
   "execution_count": 148,
   "metadata": {},
   "outputs": [
    {
     "data": {
      "text/plain": [
       "[[10000, 10000, 10000, 10000, 10000, 10000, 10000, 10000],\n",
       " [10000, 0, 10000, 10000, 10000, 10000, 10000, 10000],\n",
       " [10000, 10000, 10000, 10000, 10000, 10000, 10000, 10000],\n",
       " [10000, 10000, 10000, 10000, 10000, 10000, 10000, 10000],\n",
       " [10000, 10000, 10000, 10000, 10000, 10000, 10000, 10000],\n",
       " [10000, 10000, 10000, 10000, 10000, 10000, 10000, 10000],\n",
       " [10000, 10000, 10000, 10000, 10000, 10000, 10000, 10000]]"
      ]
     },
     "execution_count": 148,
     "metadata": {},
     "output_type": "execute_result"
    }
   ],
   "source": [
    "d"
   ]
  },
  {
   "cell_type": "code",
   "execution_count": 149,
   "metadata": {},
   "outputs": [],
   "source": [
    "# 4方向の移動を表現\n",
    "dx = [1, 0, -1, 0]\n",
    "dy = [0, -1, 0, 1]"
   ]
  },
  {
   "cell_type": "code",
   "execution_count": 150,
   "metadata": {},
   "outputs": [],
   "source": [
    "# queが空になるかゴールに到達するまで繰り返す\n",
    "while len(queue):\n",
    "    p = queue.popleft()\n",
    "    \n",
    "    if p == (gx, gy):\n",
    "        break\n",
    "    \n",
    "    for i in range(4):\n",
    "        nx = p[0] + dx[i]\n",
    "        ny = p[1] + dy[i]\n",
    "        \n",
    "        if 0 <= nx < C and 0 <= ny < R and maze[ny][nx] != '#' and d[ny][nx] == INF:\n",
    "            queue.append((nx, ny))\n",
    "            d[ny][nx] = d[p[1]][p[0]] + 1"
   ]
  },
  {
   "cell_type": "code",
   "execution_count": 151,
   "metadata": {},
   "outputs": [
    {
     "data": {
      "text/plain": [
       "[[10000, 10000, 10000, 10000, 10000, 10000, 10000, 10000],\n",
       " [10000, 0, 1, 2, 3, 4, 5, 10000],\n",
       " [10000, 1, 10000, 10000, 10000, 10000, 10000, 10000],\n",
       " [10000, 2, 3, 10000, 11, 10, 11, 10000],\n",
       " [10000, 3, 4, 10000, 10000, 9, 10, 10000],\n",
       " [10000, 10000, 5, 6, 7, 8, 9, 10000],\n",
       " [10000, 10000, 10000, 10000, 10000, 10000, 10000, 10000]]"
      ]
     },
     "execution_count": 151,
     "metadata": {},
     "output_type": "execute_result"
    }
   ],
   "source": [
    "d"
   ]
  },
  {
   "cell_type": "code",
   "execution_count": 152,
   "metadata": {},
   "outputs": [
    {
     "name": "stdout",
     "output_type": "stream",
     "text": [
      "11\n"
     ]
    }
   ],
   "source": [
    "print(d[gy][gx])"
   ]
  },
  {
   "cell_type": "markdown",
   "metadata": {},
   "source": [
    "### チーズ (Cheese)"
   ]
  },
  {
   "cell_type": "markdown",
   "metadata": {},
   "source": [
    "https://atcoder.jp/contests/joi2011yo/tasks/joi2011yo_e"
   ]
  },
  {
   "cell_type": "code",
   "execution_count": null,
   "metadata": {},
   "outputs": [],
   "source": []
  },
  {
   "cell_type": "markdown",
   "metadata": {},
   "source": [
    "### Grid Repainting"
   ]
  },
  {
   "cell_type": "markdown",
   "metadata": {},
   "source": [
    "https://atcoder.jp/contests/abc088/tasks/abc088_d"
   ]
  },
  {
   "cell_type": "code",
   "execution_count": null,
   "metadata": {},
   "outputs": [],
   "source": []
  },
  {
   "cell_type": "markdown",
   "metadata": {},
   "source": [
    "### Darker and Darker"
   ]
  },
  {
   "cell_type": "markdown",
   "metadata": {},
   "source": [
    "https://atcoder.jp/contests/agc033/tasks/agc033_a"
   ]
  },
  {
   "cell_type": "code",
   "execution_count": null,
   "metadata": {},
   "outputs": [],
   "source": []
  },
  {
   "cell_type": "markdown",
   "metadata": {},
   "source": [
    "### 器物損壊！高橋君"
   ]
  },
  {
   "cell_type": "markdown",
   "metadata": {},
   "source": [
    "https://atcoder.jp/contests/arc005/tasks/arc005_3"
   ]
  },
  {
   "cell_type": "code",
   "execution_count": null,
   "metadata": {},
   "outputs": [],
   "source": []
  },
  {
   "cell_type": "markdown",
   "metadata": {},
   "source": [
    "### Cup"
   ]
  },
  {
   "cell_type": "markdown",
   "metadata": {},
   "source": [
    "http://judge.u-aizu.ac.jp/onlinejudge/description.jsp?id=0503"
   ]
  },
  {
   "cell_type": "code",
   "execution_count": null,
   "metadata": {},
   "outputs": [],
   "source": []
  }
 ],
 "metadata": {
  "kernelspec": {
   "display_name": "Python 3",
   "language": "python",
   "name": "python3"
  },
  "language_info": {
   "codemirror_mode": {
    "name": "ipython",
    "version": 3
   },
   "file_extension": ".py",
   "mimetype": "text/x-python",
   "name": "python",
   "nbconvert_exporter": "python",
   "pygments_lexer": "ipython3",
   "version": "3.7.6"
  }
 },
 "nbformat": 4,
 "nbformat_minor": 4
}
