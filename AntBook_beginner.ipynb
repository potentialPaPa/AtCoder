{
 "cells": [
  {
   "cell_type": "markdown",
   "metadata": {},
   "source": [
    "# AtCoder版！蟻本（初級編）"
   ]
  },
  {
   "cell_type": "markdown",
   "metadata": {},
   "source": [
    "本シートは、競技プログラミング（AtCoder）の勉強をする過程で作成したPythonコードをまとめています。  \n",
    "蟻本に掲載されている模範解答はC++のため、Pythonで勉強したい方の参考になれば幸いです。  \n",
    "なお、勉強教材としては、以下を活用しました。  \n",
    "- 通称『蟻本』（『プログラミングコンテストチャレンジブック 第2版』－マイナビ出版）\n",
    "- [drken](https://qiita.com/drken) さんのまとめ記事 [AtCoder 版！蟻本 (初級編)](https://qiita.com/drken/items/e77685614f3c6bf86f44)  "
   ]
  },
  {
   "cell_type": "markdown",
   "metadata": {},
   "source": [
    "## いざチャレンジ！でもその前に　‥‥準備編"
   ]
  },
  {
   "cell_type": "markdown",
   "metadata": {},
   "source": [
    "## 基礎からスタート！　‥‥初級編"
   ]
  },
  {
   "cell_type": "markdown",
   "metadata": {},
   "source": [
    "### 全ての基本 ”全探索”"
   ]
  },
  {
   "cell_type": "markdown",
   "metadata": {},
   "source": [
    "#### （例題）部分和問題"
   ]
  },
  {
   "cell_type": "markdown",
   "metadata": {},
   "source": [
    "**深さ優先探索（DFS）**  \n",
    "- 一番はじめの状態から遷移を繰り返すことでたどり着けるすべての状態を生成する\n",
    "- したがって、全ての状態に対して操作を施したり、全状態を列挙したりできる\n",
    "- 再帰関数で簡単に書けることが多い"
   ]
  },
  {
   "cell_type": "markdown",
   "metadata": {},
   "source": [
    "#### （例題）Lake Counting"
   ]
  },
  {
   "cell_type": "markdown",
   "metadata": {},
   "source": [
    "##### 深さ優先探索"
   ]
  },
  {
   "cell_type": "markdown",
   "metadata": {},
   "source": [
    "https://atcoder.jp/contests/atc001/tasks/dfs_a"
   ]
  },
  {
   "cell_type": "code",
   "execution_count": 141,
   "metadata": {},
   "outputs": [
    {
     "name": "stdin",
     "output_type": "stream",
     "text": [
      " 10 10\n"
     ]
    }
   ],
   "source": [
    "H, W = map(int, input().split())"
   ]
  },
  {
   "cell_type": "code",
   "execution_count": 142,
   "metadata": {},
   "outputs": [
    {
     "name": "stdin",
     "output_type": "stream",
     "text": [
      " s.........\n",
      " #########.\n",
      " #.......#.\n",
      " #..####.#.\n",
      " ##....#.#.\n",
      " #####.#.#.\n",
      " g.#.#.#.#.\n",
      " #.#.#.#.#.\n",
      " #.#.#.#.#.\n",
      " #.....#...\n"
     ]
    }
   ],
   "source": [
    "c = []\n",
    "for i in range(H):\n",
    "    c.append(list(input()))"
   ]
  },
  {
   "cell_type": "code",
   "execution_count": 143,
   "metadata": {},
   "outputs": [
    {
     "name": "stdout",
     "output_type": "stream",
     "text": [
      "Yes\n"
     ]
    }
   ],
   "source": [
    "INF = 999999 # Large number\n",
    "\n",
    "d = [[INF for j in range(W)] for i in range(H)] # Memo for distance. Initialize by INF.\n",
    "\n",
    "for i in range(H):\n",
    "    if \"s\" in c[i]:\n",
    "        si, sj = i, c[i].index(\"s\")\n",
    "        break\n",
    "\n",
    "import queue\n",
    "\n",
    "que = queue.Queue()\n",
    "que.put([si,sj])\n",
    "d[si][sj] = 0\n",
    "\n",
    "dx, dy = [1, 0, -1, 0], [0, 1, 0, -1]\n",
    "\n",
    "goal_flag = False\n",
    "\n",
    "while not que.empty():\n",
    "    nx, ny = que.get() #nx, ny: now x,y\n",
    "    if c[nx][ny]==\"g\":\n",
    "        goal_flag = True\n",
    "        break\n",
    "    for k in range(4):\n",
    "        ax, ay = nx + dx[k], ny + dy[k] # ax, ay: around x,y\n",
    "        \n",
    "        if (0 <= ax < H) and (0 <= ay < W) and (c[ax][ay] != \"#\") and (d[ax][ay] == INF):\n",
    "            que.put([ax, ay])\n",
    "            d[ax][ay] = d[nx][ny] + 1\n",
    "\n",
    "if goal_flag:\n",
    "    print(\"Yes\")\n",
    "else:\n",
    "    print(\"No\")"
   ]
  },
  {
   "cell_type": "markdown",
   "metadata": {},
   "source": [
    "- \\[Extra] Visualize result"
   ]
  },
  {
   "cell_type": "code",
   "execution_count": 157,
   "metadata": {},
   "outputs": [
    {
     "name": "stdout",
     "output_type": "stream",
     "text": [
      "['00', '01', '02', '03', '04', '05', '06', '07', '08', '09']\n",
      "['##', '##', '##', '##', '##', '##', '##', '##', '##', '10']\n",
      "['##', '33', '32', '31', '30', '29', '28', '27', '##', '11']\n",
      "['##', '34', '33', '##', '##', '##', '##', '26', '##', '12']\n",
      "['##', '##', '34', '35', '36', '37', '##', '25', '##', '13']\n",
      "['##', '##', '##', '##', '##', '38', '##', '24', '##', '14']\n",
      "['50', '49', '##', '47', '##', '39', '##', '23', '##', '15']\n",
      "['##', '48', '##', '46', '##', '40', '##', '22', '##', '16']\n",
      "['##', '47', '##', '45', '##', '41', '##', '21', '##', '17']\n",
      "['##', '46', '45', '44', '43', '42', '##', '20', '19', '18']\n"
     ]
    }
   ],
   "source": [
    "for i in range(H):\n",
    "    print([\"##\" if x==INF else str(\"%02d\" %x) for x in d[i]])"
   ]
  },
  {
   "cell_type": "markdown",
   "metadata": {},
   "source": [
    "#### （例題）迷路の最短路"
   ]
  },
  {
   "cell_type": "markdown",
   "metadata": {},
   "source": [
    "**幅優先探索（BFS）**  \n",
    "- 深さ優先探索同様、たどり着ける全ての状態を生成する\n",
    "- 最短路を求めたい場合等に使用する。（深さ優先だと同じ状態を何度も通ることになるため。）"
   ]
  },
  {
   "cell_type": "code",
   "execution_count": 15,
   "metadata": {},
   "outputs": [
    {
     "name": "stdout",
     "output_type": "stream",
     "text": [
      "#S######.#\n",
      "......#..#\n",
      ".#.##.##.#\n",
      ".#........\n",
      "##.##.####\n",
      "....#....#\n",
      ".#######.#\n",
      "....#.....\n",
      ".####.###.\n",
      "....#...G#\n"
     ]
    }
   ],
   "source": [
    "N, M = 10, 10\n",
    "INF = 10**8\n",
    "\n",
    "maze = []\n",
    "\n",
    "for n in range(N):\n",
    "    maze.append(input())"
   ]
  },
  {
   "cell_type": "code",
   "execution_count": 96,
   "metadata": {},
   "outputs": [],
   "source": [
    "# スタート、ゴールの座標を取得する\n",
    "for n in range(N):\n",
    "    if 'S' in maze[n]:\n",
    "        sx = maze[n].find('S')\n",
    "        sy = n\n",
    "    elif 'G' in maze[n]:\n",
    "        gx = maze[n].find('G')\n",
    "        gy = n"
   ]
  },
  {
   "cell_type": "code",
   "execution_count": 97,
   "metadata": {},
   "outputs": [],
   "source": [
    "d = [[INF for m in range(M)] for n in range(N)] # 各点までの最短距離配列\n",
    "dx = [1, 0, -1, 0]\n",
    "dy = [0, 1, 0, -1]\n",
    "#     →,↑,←,↓"
   ]
  },
  {
   "cell_type": "code",
   "execution_count": 98,
   "metadata": {},
   "outputs": [],
   "source": [
    "from collections import deque\n",
    "queue = deque([])"
   ]
  },
  {
   "cell_type": "code",
   "execution_count": 99,
   "metadata": {},
   "outputs": [],
   "source": [
    "queue.append((sx, sy))"
   ]
  },
  {
   "cell_type": "code",
   "execution_count": 100,
   "metadata": {},
   "outputs": [],
   "source": [
    "d[sy][sx] = 0"
   ]
  },
  {
   "cell_type": "code",
   "execution_count": 101,
   "metadata": {},
   "outputs": [],
   "source": [
    "while len(queue):\n",
    "    p = queue.popleft()\n",
    "    if p == (gx, gy):\n",
    "        break\n",
    "    \n",
    "    # 4方向を探索\n",
    "    for i in range(4):\n",
    "        nx = p[0] + dx[i]\n",
    "        ny = p[1] + dy[i]\n",
    "        \n",
    "        if 0 <= nx < M and 0 <= ny < N and maze[ny][nx] != '#' and d[ny][nx] == INF:\n",
    "            queue.append((nx, ny))\n",
    "            d[ny][nx] = d[p[1]][p[0]] + 1"
   ]
  },
  {
   "cell_type": "code",
   "execution_count": 104,
   "metadata": {},
   "outputs": [
    {
     "name": "stdout",
     "output_type": "stream",
     "text": [
      "22\n"
     ]
    }
   ],
   "source": [
    "print(d[gy][gx])"
   ]
  },
  {
   "cell_type": "markdown",
   "metadata": {},
   "source": [
    "##### 幅優先探索"
   ]
  },
  {
   "cell_type": "markdown",
   "metadata": {},
   "source": [
    "https://atcoder.jp/contests/abc007/tasks/abc007_3"
   ]
  },
  {
   "cell_type": "code",
   "execution_count": 105,
   "metadata": {
    "scrolled": true
   },
   "outputs": [
    {
     "name": "stdout",
     "output_type": "stream",
     "text": [
      "7 8\n",
      "2 2\n",
      "4 5\n",
      "########\n",
      "#......#\n",
      "#.######\n",
      "#..#...#\n",
      "#..##..#\n",
      "##.....#\n",
      "########\n"
     ]
    }
   ],
   "source": [
    "R, C = map(int, input().split())\n",
    "sy, sx = map(int, input().split())\n",
    "gy, gx = map(int, input().split())\n",
    "\n",
    "maze = []\n",
    "for i in range(R):\n",
    "    maze.append(input())"
   ]
  },
  {
   "cell_type": "code",
   "execution_count": 144,
   "metadata": {},
   "outputs": [],
   "source": [
    "# 行／列番号を0始まりにする\n",
    "sx -= 1\n",
    "sy -= 1\n",
    "gx -= 1\n",
    "gy -= 1"
   ]
  },
  {
   "cell_type": "code",
   "execution_count": 145,
   "metadata": {},
   "outputs": [],
   "source": [
    "INF = 10000\n",
    "d = [[INF for j in range(C)] for i in range(R)]"
   ]
  },
  {
   "cell_type": "code",
   "execution_count": 146,
   "metadata": {},
   "outputs": [
    {
     "data": {
      "text/plain": [
       "[[10000, 10000, 10000, 10000, 10000, 10000, 10000, 10000],\n",
       " [10000, 10000, 10000, 10000, 10000, 10000, 10000, 10000],\n",
       " [10000, 10000, 10000, 10000, 10000, 10000, 10000, 10000],\n",
       " [10000, 10000, 10000, 10000, 10000, 10000, 10000, 10000],\n",
       " [10000, 10000, 10000, 10000, 10000, 10000, 10000, 10000],\n",
       " [10000, 10000, 10000, 10000, 10000, 10000, 10000, 10000],\n",
       " [10000, 10000, 10000, 10000, 10000, 10000, 10000, 10000]]"
      ]
     },
     "execution_count": 146,
     "metadata": {},
     "output_type": "execute_result"
    }
   ],
   "source": [
    "d"
   ]
  },
  {
   "cell_type": "code",
   "execution_count": 147,
   "metadata": {},
   "outputs": [],
   "source": [
    "# queの定義\n",
    "from collections import deque\n",
    "queue = deque([])\n",
    "\n",
    "# スタート座標の格納\n",
    "queue.append((sx, sy))\n",
    "\n",
    "# スタート地点の距離0を代入\n",
    "d[sy][sx] = 0"
   ]
  },
  {
   "cell_type": "code",
   "execution_count": 148,
   "metadata": {},
   "outputs": [
    {
     "data": {
      "text/plain": [
       "[[10000, 10000, 10000, 10000, 10000, 10000, 10000, 10000],\n",
       " [10000, 0, 10000, 10000, 10000, 10000, 10000, 10000],\n",
       " [10000, 10000, 10000, 10000, 10000, 10000, 10000, 10000],\n",
       " [10000, 10000, 10000, 10000, 10000, 10000, 10000, 10000],\n",
       " [10000, 10000, 10000, 10000, 10000, 10000, 10000, 10000],\n",
       " [10000, 10000, 10000, 10000, 10000, 10000, 10000, 10000],\n",
       " [10000, 10000, 10000, 10000, 10000, 10000, 10000, 10000]]"
      ]
     },
     "execution_count": 148,
     "metadata": {},
     "output_type": "execute_result"
    }
   ],
   "source": [
    "d"
   ]
  },
  {
   "cell_type": "code",
   "execution_count": 149,
   "metadata": {},
   "outputs": [],
   "source": [
    "# 4方向の移動を表現\n",
    "dx = [1, 0, -1, 0]\n",
    "dy = [0, -1, 0, 1]"
   ]
  },
  {
   "cell_type": "code",
   "execution_count": 150,
   "metadata": {},
   "outputs": [],
   "source": [
    "# queが空になるかゴールに到達するまで繰り返す\n",
    "while len(queue):\n",
    "    p = queue.popleft()\n",
    "    \n",
    "    if p == (gx, gy):\n",
    "        break\n",
    "    \n",
    "    for i in range(4):\n",
    "        nx = p[0] + dx[i]\n",
    "        ny = p[1] + dy[i]\n",
    "        \n",
    "        if 0 <= nx < C and 0 <= ny < R and maze[ny][nx] != '#' and d[ny][nx] == INF:\n",
    "            queue.append((nx, ny))\n",
    "            d[ny][nx] = d[p[1]][p[0]] + 1"
   ]
  },
  {
   "cell_type": "code",
   "execution_count": 151,
   "metadata": {},
   "outputs": [
    {
     "data": {
      "text/plain": [
       "[[10000, 10000, 10000, 10000, 10000, 10000, 10000, 10000],\n",
       " [10000, 0, 1, 2, 3, 4, 5, 10000],\n",
       " [10000, 1, 10000, 10000, 10000, 10000, 10000, 10000],\n",
       " [10000, 2, 3, 10000, 11, 10, 11, 10000],\n",
       " [10000, 3, 4, 10000, 10000, 9, 10, 10000],\n",
       " [10000, 10000, 5, 6, 7, 8, 9, 10000],\n",
       " [10000, 10000, 10000, 10000, 10000, 10000, 10000, 10000]]"
      ]
     },
     "execution_count": 151,
     "metadata": {},
     "output_type": "execute_result"
    }
   ],
   "source": [
    "d"
   ]
  },
  {
   "cell_type": "code",
   "execution_count": 152,
   "metadata": {},
   "outputs": [
    {
     "name": "stdout",
     "output_type": "stream",
     "text": [
      "11\n"
     ]
    }
   ],
   "source": [
    "print(d[gy][gx])"
   ]
  },
  {
   "cell_type": "markdown",
   "metadata": {},
   "source": [
    "##### チーズ (Cheese)"
   ]
  },
  {
   "cell_type": "markdown",
   "metadata": {},
   "source": [
    "https://atcoder.jp/contests/joi2011yo/tasks/joi2011yo_e"
   ]
  },
  {
   "cell_type": "code",
   "execution_count": 1,
   "metadata": {},
   "outputs": [
    {
     "data": {
      "application/vnd.jupyter.widget-view+json": {
       "model_id": "6e4f94a1418b40c0af02d97d92e0925a",
       "version_major": 2,
       "version_minor": 0
      },
      "text/plain": [
       "Textarea(value='')"
      ]
     },
     "metadata": {},
     "output_type": "display_data"
    }
   ],
   "source": [
    "from ipywidgets import Textarea\n",
    "import io\n",
    "\n",
    "if 'open' in globals():\n",
    "    del open\n",
    "original_open = open\n",
    "\n",
    "class custom_open():\n",
    "    def __init__(self):\n",
    "        self.text = ''\n",
    "\n",
    "    def __call__(self, file, *args, **kwargs):\n",
    "        if file == 0:\n",
    "            return io.StringIO(self.text)\n",
    "        return original_open(file, *args, **kwargs)\n",
    "\n",
    "    def updater(self, change):\n",
    "        self.text = change[\"new\"]\n",
    "\n",
    "open = custom_open()\n",
    "text_area = Textarea()\n",
    "text_area.observe(open.updater, names='value')\n",
    "display(text_area)"
   ]
  },
  {
   "cell_type": "code",
   "execution_count": 143,
   "metadata": {},
   "outputs": [],
   "source": [
    "H, W, N, *C = open(0).read().split()\n",
    "H, W, N = map(int, [H, W, N])"
   ]
  },
  {
   "cell_type": "code",
   "execution_count": 144,
   "metadata": {},
   "outputs": [
    {
     "name": "stdout",
     "output_type": "stream",
     "text": [
      ".X...X.S.X\n",
      "6..5X..X1X\n",
      "...XXXX..X\n",
      "X..9X...X.\n",
      "8.X2X..X3X\n",
      "...XX.X4..\n",
      "XX....7X..\n",
      "X..X..XX..\n",
      "X...X.XX..\n",
      "..X.......\n"
     ]
    }
   ],
   "source": [
    "print(*C, sep='\\n')"
   ]
  },
  {
   "cell_type": "code",
   "execution_count": 145,
   "metadata": {},
   "outputs": [],
   "source": [
    "# 巣、各工場の座標を取得\n",
    "\n",
    "locations = {} # 場所の説明: (i, j)　とする\n",
    "FACTORY_NUM = list(map(str, range(1, N+1)))\n",
    "\n",
    "for i in range(H):\n",
    "    for j in range(W):\n",
    "        if (C[i][j] == 'S') or (C[i][j] in FACTORY_NUM):\n",
    "            locations[C[i][j]] = (i, j)"
   ]
  },
  {
   "cell_type": "code",
   "execution_count": 146,
   "metadata": {},
   "outputs": [
    {
     "data": {
      "text/plain": [
       "{'S': (0, 7),\n",
       " '6': (1, 0),\n",
       " '5': (1, 3),\n",
       " '1': (1, 8),\n",
       " '9': (3, 3),\n",
       " '8': (4, 0),\n",
       " '2': (4, 3),\n",
       " '3': (4, 8),\n",
       " '4': (5, 7),\n",
       " '7': (6, 6)}"
      ]
     },
     "execution_count": 146,
     "metadata": {},
     "output_type": "execute_result"
    }
   ],
   "source": [
    "locations"
   ]
  },
  {
   "cell_type": "code",
   "execution_count": 150,
   "metadata": {},
   "outputs": [
    {
     "name": "stdout",
     "output_type": "stream",
     "text": [
      "91\n"
     ]
    }
   ],
   "source": [
    "from collections import deque\n",
    "\n",
    "INF = 999\n",
    "total_d = 0\n",
    "\n",
    "# 4方向の移動を表現\n",
    "di = [1, 0, -1, 0]\n",
    "dj = [0, -1, 0, 1]\n",
    "\n",
    "for g in range(1, N+1):\n",
    "    \n",
    "    d = [[INF for j in range(W)] for i in range(H)] # 各地点の距離を初期化\n",
    "    \n",
    "    queue = deque([]) # queの定義\n",
    "\n",
    "    # 出発地点の座標の格納\n",
    "    if g == 1:\n",
    "        si, sj = locations['S']\n",
    "    else:\n",
    "        si, sj = locations[str(g-1)]\n",
    "        \n",
    "    queue.append((si, sj))\n",
    "\n",
    "    d[si][sj] = 0 # スタート地点の距離0を代入\n",
    "    \n",
    "    \n",
    "    # queが空になるか目的地に到達するまで繰り返す\n",
    "    while len(queue):\n",
    "        p = queue.popleft()\n",
    "\n",
    "        if p == locations[str(g)]:\n",
    "            total_d += d[p[0]][p[1]]\n",
    "            break\n",
    "\n",
    "        for i in range(4):\n",
    "            ni = p[0] + di[i]\n",
    "            nj = p[1] + dj[i]\n",
    "\n",
    "            if 0 <= ni < H and 0 <= nj < W and C[ni][nj] != 'X' and d[ni][nj] == INF:\n",
    "                queue.append((ni, nj))\n",
    "                d[ni][nj] = d[p[0]][p[1]] + 1\n",
    "\n",
    "print(total_d)"
   ]
  },
  {
   "cell_type": "markdown",
   "metadata": {},
   "source": [
    "##### Grid Repainting"
   ]
  },
  {
   "cell_type": "markdown",
   "metadata": {},
   "source": [
    "https://atcoder.jp/contests/abc088/tasks/abc088_d"
   ]
  },
  {
   "cell_type": "code",
   "execution_count": null,
   "metadata": {},
   "outputs": [],
   "source": []
  },
  {
   "cell_type": "markdown",
   "metadata": {},
   "source": [
    "##### Darker and Darker"
   ]
  },
  {
   "cell_type": "markdown",
   "metadata": {},
   "source": [
    "https://atcoder.jp/contests/agc033/tasks/agc033_a"
   ]
  },
  {
   "cell_type": "code",
   "execution_count": null,
   "metadata": {},
   "outputs": [],
   "source": []
  },
  {
   "cell_type": "markdown",
   "metadata": {},
   "source": [
    "##### 器物損壊！高橋君"
   ]
  },
  {
   "cell_type": "markdown",
   "metadata": {},
   "source": [
    "https://atcoder.jp/contests/arc005/tasks/arc005_3"
   ]
  },
  {
   "cell_type": "code",
   "execution_count": null,
   "metadata": {},
   "outputs": [],
   "source": []
  },
  {
   "cell_type": "markdown",
   "metadata": {},
   "source": [
    "##### Cup"
   ]
  },
  {
   "cell_type": "markdown",
   "metadata": {},
   "source": [
    "http://judge.u-aizu.ac.jp/onlinejudge/description.jsp?id=0503"
   ]
  },
  {
   "cell_type": "markdown",
   "metadata": {},
   "source": [
    "#### （例題）特殊な状態の列挙"
   ]
  },
  {
   "cell_type": "markdown",
   "metadata": {},
   "source": [
    "- n個の要素に対して、n!通りのすべての順列を生成する"
   ]
  },
  {
   "cell_type": "code",
   "execution_count": 49,
   "metadata": {},
   "outputs": [],
   "source": [
    "used = {}\n",
    "perm = {}\n",
    "\n",
    "def permutation1(pos:int, n:int):\n",
    "    if pos == n:\n",
    "        \n",
    "        # ここにpermに対する操作を書く #\n",
    "        \n",
    "        print(*perm.values())\n",
    "        return\n",
    "    \n",
    "        # ---------------------------- #\n",
    "\n",
    "    for i in range(n):\n",
    "        if not used.get(i):\n",
    "            perm[pos] = i\n",
    "            used[i] = True\n",
    "            permutation1(pos + 1, n)\n",
    "            used[i] = False\n",
    "    return"
   ]
  },
  {
   "cell_type": "code",
   "execution_count": 50,
   "metadata": {
    "scrolled": false
   },
   "outputs": [
    {
     "name": "stdout",
     "output_type": "stream",
     "text": [
      "0 1 2\n",
      "0 2 1\n",
      "1 0 2\n",
      "1 2 0\n",
      "2 0 1\n",
      "2 1 0\n"
     ]
    }
   ],
   "source": [
    "permutation1(0,3)"
   ]
  },
  {
   "cell_type": "code",
   "execution_count": 82,
   "metadata": {},
   "outputs": [],
   "source": [
    "import itertools\n",
    "\n",
    "\n",
    "\n",
    "def permutation2(n:int):\n",
    "\n",
    "    for perm2 in itertools.permutations(range(n)):\n",
    "        \n",
    "        # ここにperm2に対する操作を書く #\n",
    "        \n",
    "        print(*perm2)\n",
    "        \n",
    "        # ----------------------------- #\n",
    "        \n",
    "    return"
   ]
  },
  {
   "cell_type": "code",
   "execution_count": 83,
   "metadata": {},
   "outputs": [
    {
     "name": "stdout",
     "output_type": "stream",
     "text": [
      "0 1 2\n",
      "0 2 1\n",
      "1 0 2\n",
      "1 2 0\n",
      "2 0 1\n",
      "2 1 0\n"
     ]
    }
   ],
   "source": [
    "permutation2(3)"
   ]
  },
  {
   "cell_type": "markdown",
   "metadata": {},
   "source": [
    "##### One-stroke Path"
   ]
  },
  {
   "cell_type": "markdown",
   "metadata": {},
   "source": [
    "https://atcoder.jp/contests/abc054/tasks/abc054_c"
   ]
  },
  {
   "cell_type": "markdown",
   "metadata": {},
   "source": [
    "##### カード並べ"
   ]
  },
  {
   "cell_type": "markdown",
   "metadata": {},
   "source": [
    "https://atcoder.jp/contests/joi2010yo/tasks/joi2010yo_d"
   ]
  },
  {
   "cell_type": "markdown",
   "metadata": {},
   "source": [
    "##### カードゲーム"
   ]
  },
  {
   "cell_type": "markdown",
   "metadata": {},
   "source": [
    "https://yukicoder.me/problems/199"
   ]
  },
  {
   "cell_type": "markdown",
   "metadata": {},
   "source": [
    "### 猪突猛進！ ”貪欲法”"
   ]
  },
  {
   "cell_type": "markdown",
   "metadata": {},
   "source": [
    "#### （例題）硬化の問題"
   ]
  },
  {
   "cell_type": "code",
   "execution_count": 36,
   "metadata": {},
   "outputs": [
    {
     "name": "stdout",
     "output_type": "stream",
     "text": [
      "3 2 1 3 0 2 620\n"
     ]
    }
   ],
   "source": [
    "*C, A = map(int, input().split())"
   ]
  },
  {
   "cell_type": "code",
   "execution_count": 37,
   "metadata": {},
   "outputs": [
    {
     "name": "stdout",
     "output_type": "stream",
     "text": [
      "[3, 2, 1, 3, 0, 2]\n",
      "620\n"
     ]
    }
   ],
   "source": [
    "print(list(C))\n",
    "print(A)"
   ]
  },
  {
   "cell_type": "code",
   "execution_count": 42,
   "metadata": {},
   "outputs": [
    {
     "name": "stdout",
     "output_type": "stream",
     "text": [
      "6\n"
     ]
    }
   ],
   "source": [
    "PRICE = [1, 5, 10, 50, 100, 500]\n",
    "COINS = dict(zip(PRICE, C))\n",
    "\n",
    "ans = 0\n",
    "unpaid = A\n",
    "\n",
    "for k in sorted(COINS.keys(), reverse=True):\n",
    "    t = min(int(unpaid/k), COINS[k])\n",
    "    unpaid -= t*k\n",
    "    ans += t\n",
    "\n",
    "print(ans)"
   ]
  },
  {
   "cell_type": "markdown",
   "metadata": {},
   "source": [
    "##### おつり"
   ]
  },
  {
   "cell_type": "markdown",
   "metadata": {},
   "source": [
    "https://atcoder.jp/contests/joi2008yo/tasks/joi2008yo_a"
   ]
  },
  {
   "cell_type": "code",
   "execution_count": 40,
   "metadata": {},
   "outputs": [
    {
     "name": "stdout",
     "output_type": "stream",
     "text": [
      "380\n"
     ]
    }
   ],
   "source": [
    "P = int(input())"
   ]
  },
  {
   "cell_type": "code",
   "execution_count": 45,
   "metadata": {},
   "outputs": [
    {
     "name": "stdout",
     "output_type": "stream",
     "text": [
      "4\n"
     ]
    }
   ],
   "source": [
    "COIN_TYPES = [1, 5, 10, 50, 100, 500]\n",
    "\n",
    "ans = 0\n",
    "unpaid = 1000 - P\n",
    "\n",
    "for c in sorted(COIN_TYPES, reverse=True): # 貪欲法なので大きい方からfor文を回す\n",
    "    t = int(unpaid/c)\n",
    "    unpaid -= c*t\n",
    "    ans += t\n",
    "    \n",
    "print(ans)"
   ]
  },
  {
   "cell_type": "markdown",
   "metadata": {},
   "source": [
    "##### Coin Changing Problem（未）"
   ]
  },
  {
   "cell_type": "markdown",
   "metadata": {},
   "source": [
    "http://judge.u-aizu.ac.jp/onlinejudge/description.jsp?id=DPL_1_A&lang=jp"
   ]
  },
  {
   "cell_type": "code",
   "execution_count": 59,
   "metadata": {},
   "outputs": [
    {
     "name": "stdout",
     "output_type": "stream",
     "text": [
      "15 6 1 2 7 8 12 50\n"
     ]
    }
   ],
   "source": [
    "N, _, *C = map(int, input().split())"
   ]
  },
  {
   "cell_type": "code",
   "execution_count": 60,
   "metadata": {},
   "outputs": [
    {
     "data": {
      "text/plain": [
       "(15, 6, [1, 2, 7, 8, 12, 50])"
      ]
     },
     "execution_count": 60,
     "metadata": {},
     "output_type": "execute_result"
    }
   ],
   "source": [
    "N, _, C"
   ]
  },
  {
   "cell_type": "code",
   "execution_count": 64,
   "metadata": {},
   "outputs": [
    {
     "name": "stdout",
     "output_type": "stream",
     "text": [
      "3\n"
     ]
    }
   ],
   "source": [
    "# 今までのやり方と同様だと間違い↓\n",
    "\n",
    "unpaid = N\n",
    "ans = 0\n",
    "\n",
    "for c in sorted(C, reverse=True):\n",
    "    t = int(unpaid/c)\n",
    "    unpaid -= c*t\n",
    "    ans += t\n",
    "    \n",
    "print(ans)"
   ]
  },
  {
   "cell_type": "markdown",
   "metadata": {},
   "source": [
    "#### （例題）区間の問題"
   ]
  },
  {
   "cell_type": "code",
   "execution_count": 1,
   "metadata": {},
   "outputs": [],
   "source": [
    "#入力\n",
    "N = 5\n",
    "S = [1, 2, 4, 6, 8]\n",
    "T = [3, 5, 7, 9, 10]"
   ]
  },
  {
   "cell_type": "code",
   "execution_count": 2,
   "metadata": {},
   "outputs": [],
   "source": [
    "schedules = tuple(zip(S, T))"
   ]
  },
  {
   "cell_type": "code",
   "execution_count": 3,
   "metadata": {},
   "outputs": [
    {
     "data": {
      "text/plain": [
       "((1, 3), (2, 5), (4, 7), (6, 9), (8, 10))"
      ]
     },
     "execution_count": 3,
     "metadata": {},
     "output_type": "execute_result"
    }
   ],
   "source": [
    "schedules"
   ]
  },
  {
   "cell_type": "code",
   "execution_count": 10,
   "metadata": {},
   "outputs": [
    {
     "name": "stdout",
     "output_type": "stream",
     "text": [
      "3\n"
     ]
    }
   ],
   "source": [
    "ans = 0\n",
    "t = 0\n",
    "\n",
    "for sch in sorted(schedules, key = lambda k:k[1]):\n",
    "    if t < sch[0]:\n",
    "        ans += 1\n",
    "        t = sch[1]\n",
    "        \n",
    "print(ans)"
   ]
  },
  {
   "cell_type": "markdown",
   "metadata": {},
   "source": [
    "##### Robot Arms"
   ]
  },
  {
   "cell_type": "markdown",
   "metadata": {},
   "source": [
    "https://atcoder.jp/contests/keyence2020/tasks/keyence2020_b"
   ]
  },
  {
   "cell_type": "code",
   "execution_count": 11,
   "metadata": {},
   "outputs": [
    {
     "data": {
      "application/vnd.jupyter.widget-view+json": {
       "model_id": "0e6bc71a46c94d258166135d49dd2f16",
       "version_major": 2,
       "version_minor": 0
      },
      "text/plain": [
       "Textarea(value='')"
      ]
     },
     "metadata": {},
     "output_type": "display_data"
    }
   ],
   "source": [
    "from ipywidgets import Textarea\n",
    "import io\n",
    "\n",
    "if 'open' in globals():\n",
    "    del open\n",
    "original_open = open\n",
    "\n",
    "class custom_open():\n",
    "    def __init__(self):\n",
    "        self.text = ''\n",
    "\n",
    "    def __call__(self, file, *args, **kwargs):\n",
    "        if file == 0:\n",
    "            return io.StringIO(self.text)\n",
    "        return original_open(file, *args, **kwargs)\n",
    "\n",
    "    def updater(self, change):\n",
    "        self.text = change[\"new\"]\n",
    "\n",
    "open = custom_open()\n",
    "text_area = Textarea()\n",
    "text_area.observe(open.updater, names='value')\n",
    "display(text_area)"
   ]
  },
  {
   "cell_type": "code",
   "execution_count": 60,
   "metadata": {},
   "outputs": [],
   "source": [
    "_, *_XL = open(0).read().split()"
   ]
  },
  {
   "cell_type": "code",
   "execution_count": 61,
   "metadata": {},
   "outputs": [],
   "source": [
    "XL = list(zip(*[map(int, iter(_XL))]*2))"
   ]
  },
  {
   "cell_type": "markdown",
   "metadata": {},
   "source": [
    "- TLEになる回答"
   ]
  },
  {
   "cell_type": "code",
   "execution_count": 65,
   "metadata": {},
   "outputs": [
    {
     "ename": "KeyboardInterrupt",
     "evalue": "",
     "output_type": "error",
     "traceback": [
      "\u001b[0;31m---------------------------------------------------------------------------\u001b[0m",
      "\u001b[0;31mKeyboardInterrupt\u001b[0m                         Traceback (most recent call last)",
      "\u001b[0;32m<ipython-input-65-be502d50c572>\u001b[0m in \u001b[0;36m<module>\u001b[0;34m\u001b[0m\n\u001b[1;32m     10\u001b[0m         \u001b[0mt\u001b[0m \u001b[0;34m=\u001b[0m \u001b[0me\u001b[0m\u001b[0;34m\u001b[0m\u001b[0;34m\u001b[0m\u001b[0m\n\u001b[1;32m     11\u001b[0m     \u001b[0;32melse\u001b[0m\u001b[0;34m:\u001b[0m\u001b[0;34m\u001b[0m\u001b[0;34m\u001b[0m\u001b[0m\n\u001b[0;32m---> 12\u001b[0;31m         \u001b[0marms\u001b[0m\u001b[0;34m.\u001b[0m\u001b[0mremove\u001b[0m\u001b[0;34m(\u001b[0m\u001b[0;34m(\u001b[0m\u001b[0ms\u001b[0m\u001b[0;34m,\u001b[0m \u001b[0me\u001b[0m\u001b[0;34m)\u001b[0m\u001b[0;34m)\u001b[0m\u001b[0;34m\u001b[0m\u001b[0;34m\u001b[0m\u001b[0m\n\u001b[0m\u001b[1;32m     13\u001b[0m \u001b[0;34m\u001b[0m\u001b[0m\n\u001b[1;32m     14\u001b[0m \u001b[0mprint\u001b[0m\u001b[0;34m(\u001b[0m\u001b[0mlen\u001b[0m\u001b[0;34m(\u001b[0m\u001b[0marms\u001b[0m\u001b[0;34m)\u001b[0m\u001b[0;34m)\u001b[0m\u001b[0;34m\u001b[0m\u001b[0;34m\u001b[0m\u001b[0m\n",
      "\u001b[0;31mKeyboardInterrupt\u001b[0m: "
     ]
    }
   ],
   "source": [
    "ans = 0\n",
    "t = -10**10 # 数直線のマイナス方向からスタートする\n",
    "\n",
    "arms = [(X-L, X+L) for X, L in XL]\n",
    "\n",
    "arms_sorted = sorted(arms, key=lambda k:k[1])\n",
    "\n",
    "for s, e in arms_sorted:\n",
    "    if t <= s:\n",
    "        t = e\n",
    "    else:\n",
    "        arms.remove((s, e))\n",
    "\n",
    "print(len(arms))"
   ]
  },
  {
   "cell_type": "markdown",
   "metadata": {},
   "source": [
    "- sortedの計算量が原因だろうか？\n",
    "    - sorted --> $O(n \\log{n})$\n",
    "    - 今回、$n=10^5$　なので1151292であり、普通に解けそう…  \n",
    "    https://qiita.com/Hironsan/items/68161ee16b1c9d7b25fb\n",
    "\n",
    "\n",
    "- for文内のremoveが遅い？\n",
    "    - removeをなくしてみる"
   ]
  },
  {
   "cell_type": "code",
   "execution_count": 66,
   "metadata": {},
   "outputs": [
    {
     "name": "stdout",
     "output_type": "stream",
     "text": [
      "179\n"
     ]
    }
   ],
   "source": [
    "ans = 0\n",
    "t = -10**10 # 数直線のマイナス方向からスタートする\n",
    "\n",
    "arms = [(X-L, X+L) for X, L in XL]\n",
    "arms_sorted = sorted(arms, key=lambda k:k[1])\n",
    "\n",
    "ans = 0\n",
    "\n",
    "for s, e in arms_sorted:\n",
    "    if t <= s:\n",
    "        t = e\n",
    "        ans += 1\n",
    "        \n",
    "print(ans)"
   ]
  },
  {
   "cell_type": "markdown",
   "metadata": {},
   "source": [
    "ビンゴ！  \n",
    "removeのせいで処理が遅くなってしまっていた。  \n",
    "\n",
    "\n",
    "**【教訓】**  \n",
    "**『競技プログラミングでは、無駄なこと（問題文で求められていないこと）をするな！』**"
   ]
  },
  {
   "cell_type": "code",
   "execution_count": null,
   "metadata": {},
   "outputs": [],
   "source": []
  },
  {
   "cell_type": "code",
   "execution_count": null,
   "metadata": {},
   "outputs": [],
   "source": []
  },
  {
   "cell_type": "markdown",
   "metadata": {},
   "source": [
    "##### Islands War"
   ]
  },
  {
   "cell_type": "markdown",
   "metadata": {},
   "source": [
    "https://atcoder.jp/contests/abc103/tasks/abc103_d"
   ]
  },
  {
   "cell_type": "code",
   "execution_count": null,
   "metadata": {},
   "outputs": [],
   "source": []
  },
  {
   "cell_type": "markdown",
   "metadata": {},
   "source": [
    "##### Clique Problem"
   ]
  },
  {
   "cell_type": "markdown",
   "metadata": {},
   "source": [
    "http://codeforces.com/contest/528/problem/B"
   ]
  },
  {
   "cell_type": "code",
   "execution_count": null,
   "metadata": {},
   "outputs": [],
   "source": []
  },
  {
   "cell_type": "markdown",
   "metadata": {},
   "source": [
    "##### プレゼント"
   ]
  },
  {
   "cell_type": "markdown",
   "metadata": {},
   "source": [
    "https://atcoder.jp/contests/abc038/tasks/abc038_d"
   ]
  },
  {
   "cell_type": "code",
   "execution_count": null,
   "metadata": {},
   "outputs": [],
   "source": []
  }
 ],
 "metadata": {
  "kernelspec": {
   "display_name": "Python 3",
   "language": "python",
   "name": "python3"
  },
  "language_info": {
   "codemirror_mode": {
    "name": "ipython",
    "version": 3
   },
   "file_extension": ".py",
   "mimetype": "text/x-python",
   "name": "python",
   "nbconvert_exporter": "python",
   "pygments_lexer": "ipython3",
   "version": "3.7.6"
  },
  "toc": {
   "base_numbering": 1,
   "nav_menu": {},
   "number_sections": true,
   "sideBar": true,
   "skip_h1_title": true,
   "title_cell": "Table of Contents",
   "title_sidebar": "Contents",
   "toc_cell": false,
   "toc_position": {},
   "toc_section_display": true,
   "toc_window_display": true
  }
 },
 "nbformat": 4,
 "nbformat_minor": 4
}
