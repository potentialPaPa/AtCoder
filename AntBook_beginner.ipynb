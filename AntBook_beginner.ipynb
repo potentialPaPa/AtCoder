{
 "cells": [
  {
   "cell_type": "markdown",
   "metadata": {},
   "source": [
    "# AtCoder版！蟻本（初級編）"
   ]
  },
  {
   "cell_type": "markdown",
   "metadata": {},
   "source": [
    "本シートは、競技プログラミング（AtCoder）の勉強をする過程で作成したPythonコードをまとめています。  \n",
    "蟻本に掲載されている模範解答はC++のため、Pythonで勉強したい方の参考になれば幸いです。  \n",
    "なお、勉強教材としては、以下を活用しました。  \n",
    "- 通称『蟻本』（『プログラミングコンテストチャレンジブック 第2版』－マイナビ出版）\n",
    "- [drken](https://qiita.com/drken) さんのまとめ記事 [AtCoder 版！蟻本 (初級編)](https://qiita.com/drken/items/e77685614f3c6bf86f44)  "
   ]
  },
  {
   "cell_type": "markdown",
   "metadata": {},
   "source": [
    "## 例題2-1-2　Lake Counting"
   ]
  },
  {
   "cell_type": "markdown",
   "metadata": {},
   "source": [
    "### A - 深さ優先探索"
   ]
  },
  {
   "cell_type": "markdown",
   "metadata": {},
   "source": [
    "https://atcoder.jp/contests/atc001/tasks/dfs_a"
   ]
  },
  {
   "cell_type": "code",
   "execution_count": 141,
   "metadata": {},
   "outputs": [
    {
     "name": "stdin",
     "output_type": "stream",
     "text": [
      " 10 10\n"
     ]
    }
   ],
   "source": [
    "H, W = map(int, input().split())"
   ]
  },
  {
   "cell_type": "code",
   "execution_count": 142,
   "metadata": {},
   "outputs": [
    {
     "name": "stdin",
     "output_type": "stream",
     "text": [
      " s.........\n",
      " #########.\n",
      " #.......#.\n",
      " #..####.#.\n",
      " ##....#.#.\n",
      " #####.#.#.\n",
      " g.#.#.#.#.\n",
      " #.#.#.#.#.\n",
      " #.#.#.#.#.\n",
      " #.....#...\n"
     ]
    }
   ],
   "source": [
    "c = []\n",
    "for i in range(H):\n",
    "    c.append(list(input()))"
   ]
  },
  {
   "cell_type": "code",
   "execution_count": 143,
   "metadata": {},
   "outputs": [
    {
     "name": "stdout",
     "output_type": "stream",
     "text": [
      "Yes\n"
     ]
    }
   ],
   "source": [
    "INF = 999999 # Large number\n",
    "\n",
    "d = [[INF for j in range(W)] for i in range(H)] # Memo for distance. Initialize by INF.\n",
    "\n",
    "for i in range(H):\n",
    "    if \"s\" in c[i]:\n",
    "        si, sj = i, c[i].index(\"s\")\n",
    "        break\n",
    "\n",
    "import queue\n",
    "\n",
    "que = queue.Queue()\n",
    "que.put([si,sj])\n",
    "d[si][sj] = 0\n",
    "\n",
    "dx, dy = [1, 0, -1, 0], [0, 1, 0, -1]\n",
    "\n",
    "goal_flag = False\n",
    "\n",
    "while not que.empty():\n",
    "    nx, ny = que.get() #nx, ny: now x,y\n",
    "    if c[nx][ny]==\"g\":\n",
    "        goal_flag = True\n",
    "        break\n",
    "    for k in range(4):\n",
    "        ax, ay = nx + dx[k], ny + dy[k] # ax, ay: around x,y\n",
    "        \n",
    "        if (0 <= ax < H) and (0 <= ay < W) and (c[ax][ay] != \"#\") and (d[ax][ay] == INF):\n",
    "            que.put([ax, ay])\n",
    "            d[ax][ay] = d[nx][ny] + 1\n",
    "\n",
    "if goal_flag:\n",
    "    print(\"Yes\")\n",
    "else:\n",
    "    print(\"No\")"
   ]
  },
  {
   "cell_type": "markdown",
   "metadata": {},
   "source": [
    "- \\[Extra] Visualize result"
   ]
  },
  {
   "cell_type": "code",
   "execution_count": 157,
   "metadata": {},
   "outputs": [
    {
     "name": "stdout",
     "output_type": "stream",
     "text": [
      "['00', '01', '02', '03', '04', '05', '06', '07', '08', '09']\n",
      "['##', '##', '##', '##', '##', '##', '##', '##', '##', '10']\n",
      "['##', '33', '32', '31', '30', '29', '28', '27', '##', '11']\n",
      "['##', '34', '33', '##', '##', '##', '##', '26', '##', '12']\n",
      "['##', '##', '34', '35', '36', '37', '##', '25', '##', '13']\n",
      "['##', '##', '##', '##', '##', '38', '##', '24', '##', '14']\n",
      "['50', '49', '##', '47', '##', '39', '##', '23', '##', '15']\n",
      "['##', '48', '##', '46', '##', '40', '##', '22', '##', '16']\n",
      "['##', '47', '##', '45', '##', '41', '##', '21', '##', '17']\n",
      "['##', '46', '45', '44', '43', '42', '##', '20', '19', '18']\n"
     ]
    }
   ],
   "source": [
    "for i in range(H):\n",
    "    print([\"##\" if x==INF else str(\"%02d\" %x) for x in d[i]])"
   ]
  }
 ],
 "metadata": {
  "kernelspec": {
   "display_name": "Python 3",
   "language": "python",
   "name": "python3"
  },
  "language_info": {
   "codemirror_mode": {
    "name": "ipython",
    "version": 3
   },
   "file_extension": ".py",
   "mimetype": "text/x-python",
   "name": "python",
   "nbconvert_exporter": "python",
   "pygments_lexer": "ipython3",
   "version": "3.7.4"
  }
 },
 "nbformat": 4,
 "nbformat_minor": 4
}
