{
 "cells": [
  {
   "cell_type": "markdown",
   "metadata": {},
   "source": [
    "# AtCoder Grand Contest 044"
   ]
  },
  {
   "cell_type": "markdown",
   "metadata": {},
   "source": [
    "Created on May 23, 2020  \n",
    "First try of AGC."
   ]
  },
  {
   "cell_type": "markdown",
   "metadata": {},
   "source": [
    "https://atcoder.jp/contests/agc044"
   ]
  },
  {
   "cell_type": "markdown",
   "metadata": {},
   "source": [
    "## A（後日、他の人の回答を見ながら復習）"
   ]
  },
  {
   "cell_type": "markdown",
   "metadata": {},
   "source": [
    "https://atcoder.jp/contests/agc044/tasks/agc044_a"
   ]
  },
  {
   "cell_type": "code",
   "execution_count": 1,
   "metadata": {},
   "outputs": [
    {
     "data": {
      "application/vnd.jupyter.widget-view+json": {
       "model_id": "ebbea6596d87434c9b16a79827697272",
       "version_major": 2,
       "version_minor": 0
      },
      "text/plain": [
       "Textarea(value='')"
      ]
     },
     "metadata": {},
     "output_type": "display_data"
    }
   ],
   "source": [
    "from ipywidgets import Textarea\n",
    "import io\n",
    "\n",
    "if 'open' in globals():\n",
    "    del open\n",
    "original_open = open\n",
    "\n",
    "class custom_open():\n",
    "    def __init__(self):\n",
    "        self.text = ''\n",
    "\n",
    "    def __call__(self, file, *args, **kwargs):\n",
    "        if file == 0:\n",
    "            return io.StringIO(self.text)\n",
    "        return original_open(file, *args, **kwargs)\n",
    "\n",
    "    def updater(self, change):\n",
    "        self.text = change[\"new\"]\n",
    "\n",
    "open = custom_open()\n",
    "text_area = Textarea()\n",
    "text_area.observe(open.updater, names='value')\n",
    "display(text_area)"
   ]
  },
  {
   "cell_type": "code",
   "execution_count": 2,
   "metadata": {},
   "outputs": [],
   "source": [
    "T, *tmp = open(0).read().split()\n",
    "T = int(T)\n",
    "data = list(zip(*[map(int, iter(tmp))]*5))"
   ]
  },
  {
   "cell_type": "code",
   "execution_count": 3,
   "metadata": {},
   "outputs": [
    {
     "data": {
      "text/plain": [
       "(5,\n",
       " [(11, 1, 2, 4, 8),\n",
       "  (11, 1, 2, 2, 8),\n",
       "  (32, 10, 8, 5, 4),\n",
       "  (29384293847243, 454353412, 332423423, 934923490, 1),\n",
       "  (900000000000000000, 332423423, 454353412, 934923490, 987654321)])"
      ]
     },
     "execution_count": 3,
     "metadata": {},
     "output_type": "execute_result"
    }
   ],
   "source": [
    "T, data"
   ]
  },
  {
   "cell_type": "markdown",
   "metadata": {},
   "source": [
    "**【ポイント】**\n",
    "- Nから開始する\n",
    "- 2 or 3 or 5 で割れる数まで増減させてから割り算を実行する\n",
    "- 1は例外処理をする"
   ]
  },
  {
   "cell_type": "code",
   "execution_count": 105,
   "metadata": {},
   "outputs": [],
   "source": [
    "def solve(N,A,B,C,D):\n",
    "    memo = {1: D}\n",
    "    \n",
    "    def rec(n):\n",
    "        if n in memo:\n",
    "            return memo[n]\n",
    "        elif n==0:\n",
    "            return 0\n",
    "        elif n==1:\n",
    "            return D\n",
    "        \n",
    "        ret = D * n\n",
    "        if n%2==0:\n",
    "            ret = min(ret, rec(n//2)+A)\n",
    "        else:\n",
    "            ret = min(ret, rec(n//2)+A+D, rec(n//2+1)+A+D)\n",
    "        \n",
    "        if n%3==0:\n",
    "            ret = min(ret, rec(n//3)+B)\n",
    "        else:\n",
    "            ret = min(ret, rec(n//3)+B+D*(n%3), rec(n//3+1)+B+D*(3-n%3))\n",
    "        \n",
    "        if n%5==0:\n",
    "            ret = min(ret, rec(n//5)+C)\n",
    "        else:\n",
    "            ret = min(ret, rec(n//5)+C+D*(n%5), rec(n//5+1)+C+D*(5-n%5))\n",
    "        \n",
    "        memo[n] = ret\n",
    "        return ret    \n",
    "    return rec(N)"
   ]
  },
  {
   "cell_type": "code",
   "execution_count": 109,
   "metadata": {},
   "outputs": [
    {
     "name": "stdout",
     "output_type": "stream",
     "text": [
      "20\n",
      "19\n",
      "26\n",
      "3821859835\n",
      "23441258666\n"
     ]
    }
   ],
   "source": [
    "for i in range(T):\n",
    "    N, A, B, C, D = data[i]\n",
    "    \n",
    "    print(solve(N, A, B, C, D))"
   ]
  }
 ],
 "metadata": {
  "kernelspec": {
   "display_name": "Python 3",
   "language": "python",
   "name": "python3"
  },
  "language_info": {
   "codemirror_mode": {
    "name": "ipython",
    "version": 3
   },
   "file_extension": ".py",
   "mimetype": "text/x-python",
   "name": "python",
   "nbconvert_exporter": "python",
   "pygments_lexer": "ipython3",
   "version": "3.7.6"
  },
  "toc": {
   "base_numbering": 1,
   "nav_menu": {},
   "number_sections": true,
   "sideBar": true,
   "skip_h1_title": true,
   "title_cell": "Table of Contents",
   "title_sidebar": "Contents",
   "toc_cell": false,
   "toc_position": {},
   "toc_section_display": true,
   "toc_window_display": false
  }
 },
 "nbformat": 4,
 "nbformat_minor": 4
}
