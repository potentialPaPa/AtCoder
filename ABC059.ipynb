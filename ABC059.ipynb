{
 "cells": [
  {
   "cell_type": "markdown",
   "metadata": {},
   "source": [
    "# AtCoder Beginner Contest 059"
   ]
  },
  {
   "cell_type": "markdown",
   "metadata": {},
   "source": [
    "Created on November 17, 2020  "
   ]
  },
  {
   "cell_type": "markdown",
   "metadata": {},
   "source": [
    "https://atcoder.jp/contests/abc059"
   ]
  },
  {
   "cell_type": "markdown",
   "metadata": {},
   "source": [
    "## A（AC）"
   ]
  },
  {
   "cell_type": "markdown",
   "metadata": {},
   "source": [
    "https://atcoder.jp/contests/abc059/tasks/abc059_a"
   ]
  },
  {
   "cell_type": "code",
   "execution_count": 7,
   "metadata": {
    "ExecuteTime": {
     "end_time": "2020-11-17T13:52:06.443618Z",
     "start_time": "2020-11-17T13:52:05.572931Z"
    }
   },
   "outputs": [
    {
     "name": "stdout",
     "output_type": "stream",
     "text": [
      "resident register number\n"
     ]
    }
   ],
   "source": [
    "S = list(input().split())"
   ]
  },
  {
   "cell_type": "code",
   "execution_count": 8,
   "metadata": {
    "ExecuteTime": {
     "end_time": "2020-11-17T13:52:06.661449Z",
     "start_time": "2020-11-17T13:52:06.652228Z"
    }
   },
   "outputs": [
    {
     "name": "stdout",
     "output_type": "stream",
     "text": [
      "RRN\n"
     ]
    }
   ],
   "source": [
    "print(*[s[0].upper() for s in S], sep=\"\")"
   ]
  },
  {
   "cell_type": "markdown",
   "metadata": {},
   "source": [
    "## B（AC, WA1回）"
   ]
  },
  {
   "cell_type": "markdown",
   "metadata": {},
   "source": [
    "https://atcoder.jp/contests/abc059/tasks/abc059_b"
   ]
  },
  {
   "cell_type": "code",
   "execution_count": 22,
   "metadata": {
    "ExecuteTime": {
     "end_time": "2020-11-17T14:05:04.467460Z",
     "start_time": "2020-11-17T14:04:58.836237Z"
    }
   },
   "outputs": [
    {
     "name": "stdout",
     "output_type": "stream",
     "text": [
      "123456789012345678901234567890\n",
      "234567890123456789012345678901\n"
     ]
    }
   ],
   "source": [
    "A = input()\n",
    "B = input()"
   ]
  },
  {
   "cell_type": "code",
   "execution_count": 24,
   "metadata": {
    "ExecuteTime": {
     "end_time": "2020-11-17T14:06:15.161410Z",
     "start_time": "2020-11-17T14:06:15.149586Z"
    }
   },
   "outputs": [
    {
     "name": "stdout",
     "output_type": "stream",
     "text": [
      "LESS\n"
     ]
    }
   ],
   "source": [
    "lenA = len(A)\n",
    "lenB = len(B)\n",
    "\n",
    "ans = 'EQUAL'\n",
    "\n",
    "if lenA > lenB:\n",
    "    ans = 'GREATER'\n",
    "elif lenA < lenB:\n",
    "    ans = 'LESS'\n",
    "else:\n",
    "    for i in range(lenA):\n",
    "        if int(A[i]) > int(B[i]):\n",
    "            ans = 'GREATER'\n",
    "            break\n",
    "        elif int(A[i]) < int(B[i]):\n",
    "            ans = 'LESS'\n",
    "            break\n",
    "            \n",
    "print(ans)"
   ]
  },
  {
   "cell_type": "markdown",
   "metadata": {},
   "source": [
    "## C（解けず）"
   ]
  },
  {
   "cell_type": "markdown",
   "metadata": {},
   "source": [
    "https://atcoder.jp/contests/abc059/tasks/arc072_a"
   ]
  },
  {
   "cell_type": "code",
   "execution_count": 32,
   "metadata": {
    "ExecuteTime": {
     "end_time": "2020-11-17T14:12:23.040418Z",
     "start_time": "2020-11-17T14:12:19.953393Z"
    }
   },
   "outputs": [
    {
     "name": "stdout",
     "output_type": "stream",
     "text": [
      "4\n",
      "1 -3 1 0\n"
     ]
    }
   ],
   "source": [
    "n = int(input())\n",
    "a = list(map(int, input().split()))"
   ]
  },
  {
   "cell_type": "code",
   "execution_count": 45,
   "metadata": {
    "ExecuteTime": {
     "end_time": "2020-11-17T14:16:01.483403Z",
     "start_time": "2020-11-17T14:16:01.470597Z"
    }
   },
   "outputs": [
    {
     "data": {
      "text/plain": [
       "(1,\n",
       " array([ 1, -2, -1, -1]),\n",
       " array([ 1, -1, -2, -3]),\n",
       " array([ 1, -2,  1,  1]),\n",
       " array([ 1, -1,  0,  1]))"
      ]
     },
     "execution_count": 45,
     "metadata": {},
     "output_type": "execute_result"
    }
   ],
   "source": [
    "import numpy as np\n",
    "\n",
    "b = a[:]\n",
    "# b[2] += 2\n",
    "# b[3] += 2\n",
    "\n",
    "sum(b), np.cumsum(a),np.cumsum(np.cumsum(a)), np.cumsum(b),np.cumsum(np.cumsum(b))"
   ]
  },
  {
   "cell_type": "markdown",
   "metadata": {},
   "source": [
    "## D（）"
   ]
  },
  {
   "cell_type": "markdown",
   "metadata": {},
   "source": [
    "https://atcoder.jp/contests/abc059/tasks/abc059_d"
   ]
  }
 ],
 "metadata": {
  "kernelspec": {
   "display_name": "Python 3",
   "language": "python",
   "name": "python3"
  },
  "language_info": {
   "codemirror_mode": {
    "name": "ipython",
    "version": 3
   },
   "file_extension": ".py",
   "mimetype": "text/x-python",
   "name": "python",
   "nbconvert_exporter": "python",
   "pygments_lexer": "ipython3",
   "version": "3.7.6"
  },
  "toc": {
   "base_numbering": 1,
   "nav_menu": {},
   "number_sections": true,
   "sideBar": true,
   "skip_h1_title": true,
   "title_cell": "Table of Contents",
   "title_sidebar": "Contents",
   "toc_cell": false,
   "toc_position": {},
   "toc_section_display": true,
   "toc_window_display": false
  }
 },
 "nbformat": 4,
 "nbformat_minor": 4
}
