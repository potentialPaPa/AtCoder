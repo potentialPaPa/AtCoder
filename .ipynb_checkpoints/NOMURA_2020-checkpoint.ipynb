{
 "cells": [
  {
   "cell_type": "markdown",
   "metadata": {},
   "source": [
    "# NOMURA Programming Contest 2020"
   ]
  },
  {
   "cell_type": "markdown",
   "metadata": {},
   "source": [
    "Created on May 30, 2020  \n",
    "Attend contest."
   ]
  },
  {
   "cell_type": "markdown",
   "metadata": {},
   "source": [
    "https://atcoder.jp/contests/nomura2020"
   ]
  },
  {
   "cell_type": "markdown",
   "metadata": {},
   "source": [
    "## A（AC）"
   ]
  },
  {
   "cell_type": "code",
   "execution_count": 19,
   "metadata": {
    "ExecuteTime": {
     "end_time": "2020-05-30T12:08:38.514441Z",
     "start_time": "2020-05-30T12:08:33.991072Z"
    }
   },
   "outputs": [
    {
     "name": "stdout",
     "output_type": "stream",
     "text": [
      "10 0 12 0 140\n"
     ]
    }
   ],
   "source": [
    "H1, M1, H2, M2, K = map(int, input().split())"
   ]
  },
  {
   "cell_type": "code",
   "execution_count": 23,
   "metadata": {
    "ExecuteTime": {
     "end_time": "2020-05-30T12:10:20.176974Z",
     "start_time": "2020-05-30T12:10:20.164110Z"
    }
   },
   "outputs": [
    {
     "name": "stdout",
     "output_type": "stream",
     "text": [
      "0\n"
     ]
    }
   ],
   "source": [
    "if H1 > H2 or (H1 == H2 and M1 >= M2):\n",
    "    H2 += 24\n",
    "    \n",
    "diff_min = H2*60 + M2 - (H1*60 + M1)\n",
    "if diff_min - K < 0:\n",
    "    print(0)\n",
    "else:\n",
    "    print(diff_min - K)"
   ]
  },
  {
   "cell_type": "markdown",
   "metadata": {},
   "source": [
    "## B（解けず…）"
   ]
  },
  {
   "cell_type": "markdown",
   "metadata": {},
   "source": [
    "- TLEになる"
   ]
  },
  {
   "cell_type": "code",
   "execution_count": 128,
   "metadata": {
    "ExecuteTime": {
     "end_time": "2020-05-30T13:06:45.364989Z",
     "start_time": "2020-05-30T13:06:45.355841Z"
    }
   },
   "outputs": [],
   "source": [
    "T_orig = list(\"?\"*10**3) # For Debug\n",
    "# T_orig = list(input())"
   ]
  },
  {
   "cell_type": "code",
   "execution_count": 129,
   "metadata": {
    "ExecuteTime": {
     "end_time": "2020-05-30T13:06:45.992262Z",
     "start_time": "2020-05-30T13:06:45.620910Z"
    }
   },
   "outputs": [
    {
     "name": "stdout",
     "output_type": "stream",
     "text": [
      "PDPDPDPDPDPDPDPDPDPDPDPDPDPDPDPDPDPDPDPDPDPDPDPDPDPDPDPDPDPDPDPDPDPDPDPDPDPDPDPDPDPDPDPDPDPDPDPDPDPDPDPDPDPDPDPDPDPDPDPDPDPDPDPDPDPDPDPDPDPDPDPDPDPDPDPDPDPDPDPDPDPDPDPDPDPDPDPDPDPDPDPDPDPDPDPDPDPDPDPDPDPDPDPDPDPDPDPDPDPDPDPDPDPDPDPDPDPDPDPDPDPDPDPDPDPDPDPDPDPDPDPDPDPDPDPDPDPDPDPDPDPDPDPDPDPDPDPDPDPDPDPDPDPDPDPDPDPDPDPDPDPDPDPDPDPDPDPDPDPDPDPDPDPDPDPDPDPDPDPDPDPDPDPDPDPDPDPDPDPDPDPDPDPDPDPDPDPDPDPDPDPDPDPDPDPDPDPDPDPDPDPDPDPDPDPDPDPDPDPDPDPDPDPDPDPDPDPDPDPDPDPDPDPDPDPDPDPDPDPDPDPDPDPDPDPDPDPDPDPDPDPDPDPDPDPDPDPDPDPDPDPDPDPDPDPDPDPDPDPDPDPDPDPDPDPDPDPDPDPDPDPDPDPDPDPDPDPDPDPDPDPDPDPDPDPDPDPDPDPDPDPDPDPDPDPDPDPDPDPDPDPDPDPDPDPDPDPDPDPDPDPDPDPDPDPDPDPDPDPDPDPDPDPDPDPDPDPDPDPDPDPDPDPDPDPDPDPDPDPDPDPDPDPDPDPDPDPDPDPDPDPDPDPDPDPDPDPDPDPDPDPDPDPDPDPDPDPDPDPDPDPDPDPDPDPDPDPDPDPDPDPDPDPDPDPDPDPDPDPDPDPDPDPDPDPDPDPDPDPDPDPDPDPDPDPDPDPDPDPDPDPDPDPDPDPDPDPDPDPDPDPDPDPDPDPDPDPDPDPDPDPDPDPDPDPDPDPDPDPDPDPDPDPDPDPDPDPDPDPDPDPDPDPDPDPDPDPDPDPDPDPDPDPDPDPDPDPDPDPDPDPDPDPDPDPDPDPDPDPDPDPDPDPDPDPDPDPDPDPD\n"
     ]
    }
   ],
   "source": [
    "T = T_orig[:]\n",
    "\n",
    "if set(T) == set(\"?\"):\n",
    "    T[-1] = \"D\"\n",
    "\n",
    "while \"?\" in T:\n",
    "    for i in range(len(T)):\n",
    "        if T[i]==\"?\":\n",
    "            if i==0:\n",
    "                if T[i+1]==\"D\":\n",
    "                    T[i] = \"P\"\n",
    "                elif T[i+1]==\"P\":\n",
    "                    T[i] = \"D\"\n",
    "            elif i==len(T)-1:\n",
    "                T[i] = \"D\"\n",
    "            else:\n",
    "                if T[i-1]==\"P\":\n",
    "                    T[i] = \"D\"\n",
    "                elif T[i+1]==\"D\":\n",
    "                    T[i] = \"P\"\n",
    "                elif T[i+1]==\"P\":\n",
    "                    T[i] = \"D\"\n",
    "                    \n",
    "print(*T, sep=\"\")"
   ]
  },
  {
   "cell_type": "markdown",
   "metadata": {},
   "source": [
    "- 別案を検討（色々と試行錯誤したものの、結局解けず）"
   ]
  },
  {
   "cell_type": "code",
   "execution_count": 222,
   "metadata": {
    "ExecuteTime": {
     "end_time": "2020-05-30T13:59:28.649389Z",
     "start_time": "2020-05-30T13:59:20.779996Z"
    }
   },
   "outputs": [
    {
     "name": "stdout",
     "output_type": "stream",
     "text": [
      "PPP???P??DDDD???PDPD??\n"
     ]
    }
   ],
   "source": [
    "T_str = input()"
   ]
  },
  {
   "cell_type": "code",
   "execution_count": 223,
   "metadata": {
    "ExecuteTime": {
     "end_time": "2020-05-30T13:59:28.915433Z",
     "start_time": "2020-05-30T13:59:28.904907Z"
    }
   },
   "outputs": [],
   "source": [
    "T_list = \"\"\n",
    "\n",
    "for i,t in enumerate(T_str):\n",
    "    if i==0:\n",
    "        T_list += t\n",
    "    elif t==T_list[-1]:\n",
    "        T_list += t\n",
    "    else:\n",
    "        T_list += \",\" + t"
   ]
  },
  {
   "cell_type": "code",
   "execution_count": 224,
   "metadata": {
    "ExecuteTime": {
     "end_time": "2020-05-30T13:59:29.446968Z",
     "start_time": "2020-05-30T13:59:29.439725Z"
    }
   },
   "outputs": [],
   "source": [
    "T_list = T_list.split(\",\")"
   ]
  },
  {
   "cell_type": "code",
   "execution_count": 225,
   "metadata": {
    "ExecuteTime": {
     "end_time": "2020-05-30T13:59:29.830124Z",
     "start_time": "2020-05-30T13:59:29.818980Z"
    }
   },
   "outputs": [
    {
     "data": {
      "text/plain": [
       "['PPP', '???', 'P', '??', 'DDDD', '???', 'P', 'D', 'P', 'D', '??']"
      ]
     },
     "execution_count": 225,
     "metadata": {},
     "output_type": "execute_result"
    }
   ],
   "source": [
    "T_list"
   ]
  },
  {
   "cell_type": "code",
   "execution_count": 221,
   "metadata": {
    "ExecuteTime": {
     "end_time": "2020-05-30T13:57:17.977693Z",
     "start_time": "2020-05-30T13:57:17.954357Z"
    }
   },
   "outputs": [
    {
     "name": "stdout",
     "output_type": "stream",
     "text": [
      "last\n"
     ]
    }
   ],
   "source": [
    "for i,t in enumerate(T_list):\n",
    "    if \"?\" in t:\n",
    "        if i==0:\n",
    "            print(\"first\")\n",
    "            \n",
    "        elif i==len(T_list)-1:\n",
    "            T_list[i] = list(T_list[i])\n",
    "            T_list[i][-1] = \"D\"\n",
    "            \n",
    "            tmp = \"PD\" * int(T_list[i].count(\"?\")/2) + \"D\" * (T_list[i].count(\"?\")%2)\n",
    "            T_list[i] = tmp+\"P\"\n",
    "                \n",
    "        else:\n",
    "            if T_list[i-1]==\"P\" and T_list[i+1]==\"P\":\n",
    "                T_list[i] = list(T_list[i])\n",
    "                T_list[i][0] = \"D\"\n",
    "                \n",
    "                tmp = \"PD\" * int(T_list[i].count(\"?\")/2) + \"D\" * (T_list[i].count(\"?\")%2)\n",
    "                T_list[i] = \"D\"+tmp\n",
    "                \n",
    "            elif T_list[i-1]==\"P\" and T_list[i+1]==\"D\":\n",
    "                T_list[i] = list(T_list[i])\n",
    "                T_list[i][0] = \"D\"\n",
    "                T_list[i][-1] = \"P\"\n",
    "                \n",
    "                tmp = \"PD\" * int(T_list[i].count(\"?\")/2) + \"D\" * (T_list[i].count(\"?\")%2)\n",
    "                T_list[i] = \"D\"+tmp+\"P\"\n",
    "                \n",
    "            elif T_list[i-1]==\"D\" and T_list[i+1]==\"P\":\n",
    "                T_list[i] = list(T_list[i])\n",
    "                                \n",
    "                tmp = \"PD\" * int(T_list[i].count(\"?\")/2) + \"D\" * (T_list[i].count(\"?\")%2)\n",
    "            \n",
    "            elif T_list[i-1]==\"D\" and T_list[i+1]==\"P\":\n",
    "                T_list[i][-1] = \"P\"\n",
    "                \n",
    "                tmp = \"PD\" * int(T_list[i].count(\"?\")/2) + \"D\" * (T_list[i].count(\"?\")%2)\n",
    "                T_list[i] = tmp+\"P\"\n",
    "                "
   ]
  },
  {
   "cell_type": "code",
   "execution_count": 220,
   "metadata": {
    "ExecuteTime": {
     "end_time": "2020-05-30T13:55:22.513543Z",
     "start_time": "2020-05-30T13:55:22.499819Z"
    }
   },
   "outputs": [
    {
     "data": {
      "text/plain": [
       "['P', 'DD', 'P', 'DPDD', 'P', '???']"
      ]
     },
     "execution_count": 220,
     "metadata": {},
     "output_type": "execute_result"
    }
   ],
   "source": [
    "T_list"
   ]
  },
  {
   "cell_type": "code",
   "execution_count": 216,
   "metadata": {
    "ExecuteTime": {
     "end_time": "2020-05-30T13:51:51.186842Z",
     "start_time": "2020-05-30T13:51:51.171681Z"
    }
   },
   "outputs": [
    {
     "data": {
      "text/plain": [
       "'PDD'"
      ]
     },
     "execution_count": 216,
     "metadata": {},
     "output_type": "execute_result"
    }
   ],
   "source": [
    "\"PD\" * int(T_list[i].count(\"?\")/2) + \"D\" * (T_list[i].count(\"?\")%2)"
   ]
  },
  {
   "cell_type": "code",
   "execution_count": 215,
   "metadata": {
    "ExecuteTime": {
     "end_time": "2020-05-30T13:51:46.904682Z",
     "start_time": "2020-05-30T13:51:46.894074Z"
    }
   },
   "outputs": [
    {
     "data": {
      "text/plain": [
       "'D'"
      ]
     },
     "execution_count": 215,
     "metadata": {},
     "output_type": "execute_result"
    }
   ],
   "source": [
    "\"D\" * (T_list[i].count(\"?\")%2)"
   ]
  }
 ],
 "metadata": {
  "kernelspec": {
   "display_name": "Python 3",
   "language": "python",
   "name": "python3"
  },
  "language_info": {
   "codemirror_mode": {
    "name": "ipython",
    "version": 3
   },
   "file_extension": ".py",
   "mimetype": "text/x-python",
   "name": "python",
   "nbconvert_exporter": "python",
   "pygments_lexer": "ipython3",
   "version": "3.7.6"
  },
  "toc": {
   "base_numbering": 1,
   "nav_menu": {},
   "number_sections": true,
   "sideBar": true,
   "skip_h1_title": true,
   "title_cell": "Table of Contents",
   "title_sidebar": "Contents",
   "toc_cell": false,
   "toc_position": {},
   "toc_section_display": true,
   "toc_window_display": false
  }
 },
 "nbformat": 4,
 "nbformat_minor": 4
}
