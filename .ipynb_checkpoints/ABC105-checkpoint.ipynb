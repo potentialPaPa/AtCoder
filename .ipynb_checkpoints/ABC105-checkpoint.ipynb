{
 "cells": [
  {
   "cell_type": "markdown",
   "metadata": {},
   "source": [
    "# AtCoder Beginner Contest 105"
   ]
  },
  {
   "cell_type": "markdown",
   "metadata": {},
   "source": [
    "Created on July 18, 2020  \n",
    "A-C: Over 30 minutes"
   ]
  },
  {
   "cell_type": "markdown",
   "metadata": {},
   "source": [
    "https://atcoder.jp/contests/abc105"
   ]
  },
  {
   "cell_type": "markdown",
   "metadata": {},
   "source": [
    "## A（AC、ただしWA 3回）"
   ]
  },
  {
   "cell_type": "markdown",
   "metadata": {},
   "source": [
    "https://atcoder.jp/contests/abc105/tasks/abc105_a"
   ]
  },
  {
   "cell_type": "code",
   "execution_count": 39,
   "metadata": {
    "ExecuteTime": {
     "end_time": "2020-07-17T21:06:03.498445Z",
     "start_time": "2020-07-17T21:05:55.339498Z"
    }
   },
   "outputs": [
    {
     "name": "stdout",
     "output_type": "stream",
     "text": [
      "10 22\n"
     ]
    }
   ],
   "source": [
    "N, K = map(int, input().split())"
   ]
  },
  {
   "cell_type": "code",
   "execution_count": 40,
   "metadata": {
    "ExecuteTime": {
     "end_time": "2020-07-17T21:06:03.963851Z",
     "start_time": "2020-07-17T21:06:03.953893Z"
    }
   },
   "outputs": [
    {
     "name": "stdout",
     "output_type": "stream",
     "text": [
      "1\n"
     ]
    }
   ],
   "source": [
    "import math\n",
    "\n",
    "print(math.ceil(N / K) - (N // K))"
   ]
  },
  {
   "cell_type": "markdown",
   "metadata": {},
   "source": [
    "## B（AC、ただしWA 1回）"
   ]
  },
  {
   "cell_type": "markdown",
   "metadata": {},
   "source": [
    "https://atcoder.jp/contests/abc105/tasks/abc105_b"
   ]
  },
  {
   "cell_type": "code",
   "execution_count": 70,
   "metadata": {
    "ExecuteTime": {
     "end_time": "2020-07-17T21:18:13.871565Z",
     "start_time": "2020-07-17T21:18:12.189302Z"
    }
   },
   "outputs": [
    {
     "name": "stdout",
     "output_type": "stream",
     "text": [
      "7\n"
     ]
    }
   ],
   "source": [
    "N = int(input())"
   ]
  },
  {
   "cell_type": "code",
   "execution_count": 72,
   "metadata": {
    "ExecuteTime": {
     "end_time": "2020-07-17T21:18:25.297577Z",
     "start_time": "2020-07-17T21:18:25.282128Z"
    }
   },
   "outputs": [
    {
     "name": "stdout",
     "output_type": "stream",
     "text": [
      "Yes\n"
     ]
    }
   ],
   "source": [
    "A = list(range(4, 101, 4))\n",
    "B = list(range(7, 101, 7))\n",
    "\n",
    "is_made = False\n",
    "\n",
    "if N in A or N in B:\n",
    "    is_made = True\n",
    "else:\n",
    "    for a in A:\n",
    "        for b in B:\n",
    "            if a+b > N:\n",
    "                break\n",
    "            elif a+b == N:\n",
    "                is_made = True\n",
    "                break\n",
    "\n",
    "if is_made:\n",
    "    print(\"Yes\")\n",
    "else:\n",
    "    print(\"No\")"
   ]
  },
  {
   "cell_type": "markdown",
   "metadata": {},
   "source": [
    "## C（解けず…解説見て実装）"
   ]
  },
  {
   "cell_type": "markdown",
   "metadata": {},
   "source": [
    "https://atcoder.jp/contests/abc105/tasks/abc105_c"
   ]
  },
  {
   "cell_type": "markdown",
   "metadata": {},
   "source": [
    "- kビットで表現できる最小値・最大値を返す関数（自力で解こうとした結果）"
   ]
  },
  {
   "cell_type": "code",
   "execution_count": 73,
   "metadata": {
    "ExecuteTime": {
     "end_time": "2020-07-17T21:37:08.509587Z",
     "start_time": "2020-07-17T21:37:03.579601Z"
    }
   },
   "outputs": [
    {
     "name": "stdout",
     "output_type": "stream",
     "text": [
      "-9\n"
     ]
    }
   ],
   "source": [
    "N = int(input())"
   ]
  },
  {
   "cell_type": "code",
   "execution_count": 92,
   "metadata": {
    "ExecuteTime": {
     "end_time": "2020-07-18T02:16:17.199551Z",
     "start_time": "2020-07-18T02:16:17.189186Z"
    }
   },
   "outputs": [],
   "source": [
    "def min_expressible(k: int):\n",
    "    val = 0\n",
    "    for i in range(1, k+1):\n",
    "        if i%2 == 0:\n",
    "            val += (-2)**(i-1)\n",
    "    return val\n",
    "\n",
    "def max_expressible(k: int):\n",
    "    val = 0\n",
    "    for i in range(1, k+1):\n",
    "        if i%2 == 1:\n",
    "            val += (-2)**(i-1)\n",
    "    return val"
   ]
  },
  {
   "cell_type": "markdown",
   "metadata": {},
   "source": [
    "- 解説動画を見て実装"
   ]
  },
  {
   "cell_type": "code",
   "execution_count": 93,
   "metadata": {
    "ExecuteTime": {
     "end_time": "2020-07-18T02:17:52.949815Z",
     "start_time": "2020-07-18T02:17:50.886002Z"
    }
   },
   "outputs": [
    {
     "name": "stdout",
     "output_type": "stream",
     "text": [
      "-9\n"
     ]
    }
   ],
   "source": [
    "N = int(input())"
   ]
  },
  {
   "cell_type": "code",
   "execution_count": 111,
   "metadata": {
    "ExecuteTime": {
     "end_time": "2020-07-18T02:32:08.635586Z",
     "start_time": "2020-07-18T02:32:08.621287Z"
    }
   },
   "outputs": [
    {
     "name": "stdout",
     "output_type": "stream",
     "text": [
      "1011\n"
     ]
    }
   ],
   "source": [
    "def minus_binary(n, S: str):\n",
    "    if n == 0:\n",
    "        if S == \"\":\n",
    "            S = \"0\"\n",
    "        return S\n",
    "    \n",
    "    if n == 1:\n",
    "        S = \"1\" + S\n",
    "        return minus_binary(0, S)\n",
    "\n",
    "    else:\n",
    "        if n%2 == 1:\n",
    "            n -= 1\n",
    "            S = \"1\" + S\n",
    "        else:\n",
    "            S = \"0\" + S\n",
    "\n",
    "        return minus_binary(n/(-2), S)\n",
    "\n",
    "S = \"\"\n",
    "print(minus_binary(N, S))"
   ]
  },
  {
   "cell_type": "markdown",
   "metadata": {},
   "source": [
    "## D（）"
   ]
  },
  {
   "cell_type": "markdown",
   "metadata": {},
   "source": [
    "https://atcoder.jp/contests/abc105/tasks/abc105_d"
   ]
  }
 ],
 "metadata": {
  "kernelspec": {
   "display_name": "Python 3",
   "language": "python",
   "name": "python3"
  },
  "language_info": {
   "codemirror_mode": {
    "name": "ipython",
    "version": 3
   },
   "file_extension": ".py",
   "mimetype": "text/x-python",
   "name": "python",
   "nbconvert_exporter": "python",
   "pygments_lexer": "ipython3",
   "version": "3.7.6"
  },
  "toc": {
   "base_numbering": 1,
   "nav_menu": {},
   "number_sections": true,
   "sideBar": true,
   "skip_h1_title": true,
   "title_cell": "Table of Contents",
   "title_sidebar": "Contents",
   "toc_cell": false,
   "toc_position": {},
   "toc_section_display": true,
   "toc_window_display": false
  }
 },
 "nbformat": 4,
 "nbformat_minor": 4
}
