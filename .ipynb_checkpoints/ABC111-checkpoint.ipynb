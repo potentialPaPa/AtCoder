{
 "cells": [
  {
   "cell_type": "markdown",
   "metadata": {},
   "source": [
    "# AtCoder Beginner Contest 111"
   ]
  },
  {
   "cell_type": "markdown",
   "metadata": {},
   "source": [
    "Created on June 25, 2020  "
   ]
  },
  {
   "cell_type": "markdown",
   "metadata": {},
   "source": [
    "https://atcoder.jp/contests/abc111"
   ]
  },
  {
   "cell_type": "markdown",
   "metadata": {},
   "source": [
    "## A（AC）"
   ]
  },
  {
   "cell_type": "markdown",
   "metadata": {},
   "source": [
    "https://atcoder.jp/contests/abc111/tasks/abc111_a"
   ]
  },
  {
   "cell_type": "code",
   "execution_count": 1,
   "metadata": {
    "ExecuteTime": {
     "end_time": "2020-06-24T19:56:54.587892Z",
     "start_time": "2020-06-24T19:56:52.622344Z"
    }
   },
   "outputs": [
    {
     "name": "stdout",
     "output_type": "stream",
     "text": [
      "119\n"
     ]
    }
   ],
   "source": [
    "n = input()"
   ]
  },
  {
   "cell_type": "code",
   "execution_count": 10,
   "metadata": {
    "ExecuteTime": {
     "end_time": "2020-06-24T19:59:04.447108Z",
     "start_time": "2020-06-24T19:59:04.437499Z"
    }
   },
   "outputs": [
    {
     "name": "stdout",
     "output_type": "stream",
     "text": [
      "991\n"
     ]
    }
   ],
   "source": [
    "print(*[1 if a=='9' else 9 for a in n], sep=\"\")"
   ]
  },
  {
   "cell_type": "markdown",
   "metadata": {},
   "source": [
    "## B（AC）"
   ]
  },
  {
   "cell_type": "markdown",
   "metadata": {},
   "source": [
    "https://atcoder.jp/contests/abc111/tasks/abc111_b"
   ]
  },
  {
   "cell_type": "code",
   "execution_count": 17,
   "metadata": {
    "ExecuteTime": {
     "end_time": "2020-06-24T20:01:40.770419Z",
     "start_time": "2020-06-24T20:01:38.256969Z"
    }
   },
   "outputs": [
    {
     "name": "stdout",
     "output_type": "stream",
     "text": [
      "223\n"
     ]
    }
   ],
   "source": [
    "N = int(input())"
   ]
  },
  {
   "cell_type": "code",
   "execution_count": 18,
   "metadata": {
    "ExecuteTime": {
     "end_time": "2020-06-24T20:01:41.041205Z",
     "start_time": "2020-06-24T20:01:41.026999Z"
    }
   },
   "outputs": [
    {
     "name": "stdout",
     "output_type": "stream",
     "text": [
      "333\n"
     ]
    }
   ],
   "source": [
    "for i in range(N, 1000):\n",
    "    if str(i)[0] == str(i)[1] == str(i)[2]:\n",
    "        print(i)\n",
    "        break"
   ]
  },
  {
   "cell_type": "markdown",
   "metadata": {},
   "source": [
    "## C（WA/TLEで解けず…）"
   ]
  },
  {
   "cell_type": "markdown",
   "metadata": {},
   "source": [
    "https://atcoder.jp/contests/abc111/tasks/arc103_a"
   ]
  },
  {
   "cell_type": "code",
   "execution_count": 99,
   "metadata": {
    "ExecuteTime": {
     "end_time": "2020-06-24T20:29:34.994637Z",
     "start_time": "2020-06-24T20:29:32.860421Z"
    }
   },
   "outputs": [
    {
     "name": "stdout",
     "output_type": "stream",
     "text": [
      "4\n",
      "1 1 1 1\n"
     ]
    }
   ],
   "source": [
    "N = int(input())\n",
    "V = list(map(int, input().split()))"
   ]
  },
  {
   "cell_type": "code",
   "execution_count": 100,
   "metadata": {
    "ExecuteTime": {
     "end_time": "2020-06-24T20:29:35.408113Z",
     "start_time": "2020-06-24T20:29:35.387347Z"
    }
   },
   "outputs": [
    {
     "name": "stdout",
     "output_type": "stream",
     "text": [
      "2\n"
     ]
    }
   ],
   "source": [
    "V_ODD = [v for i,v in enumerate(V) if i%2==1]\n",
    "V_EVEN = [v for i,v in enumerate(V) if i%2==0]\n",
    "\n",
    "import collections\n",
    "\n",
    "if len(collections.Counter(V)) == 1:\n",
    "    ans = len(V) // 2\n",
    "\n",
    "else:\n",
    "    ans = 999999\n",
    "    \n",
    "    for (c_odd, v_odd) in sorted(list(zip(collections.Counter(V_ODD).values(), collections.Counter(V_ODD).keys())), reverse=True):\n",
    "        ans_tmp = len(V)//2 - c_odd\n",
    "\n",
    "        for (c_even, v_even) in sorted(list(zip(collections.Counter(V_EVEN).values(), collections.Counter(V_EVEN).keys())), reverse=True):\n",
    "            if v_even == v_odd:\n",
    "                pass\n",
    "            else:\n",
    "                ans_tmp += len(V)//2 - c_even\n",
    "\n",
    "        ans = min(ans, ans_tmp)\n",
    "\n",
    "print(ans)"
   ]
  },
  {
   "cell_type": "markdown",
   "metadata": {},
   "source": [
    "- 解説見て実装"
   ]
  },
  {
   "cell_type": "code",
   "execution_count": 140,
   "metadata": {
    "ExecuteTime": {
     "end_time": "2020-06-24T20:57:35.360131Z",
     "start_time": "2020-06-24T20:57:27.200207Z"
    }
   },
   "outputs": [
    {
     "name": "stdout",
     "output_type": "stream",
     "text": [
      "4\n",
      "1 1 1 1\n"
     ]
    }
   ],
   "source": [
    "N = int(input())\n",
    "V = list(map(int, input().split()))"
   ]
  },
  {
   "cell_type": "code",
   "execution_count": 141,
   "metadata": {
    "ExecuteTime": {
     "end_time": "2020-06-24T20:57:35.659184Z",
     "start_time": "2020-06-24T20:57:35.631204Z"
    }
   },
   "outputs": [
    {
     "name": "stdout",
     "output_type": "stream",
     "text": [
      "2\n"
     ]
    }
   ],
   "source": [
    "V_ODD = [v for i,v in enumerate(V) if i%2==1]\n",
    "V_EVEN = [v for i,v in enumerate(V) if i%2==0]\n",
    "\n",
    "import collections\n",
    "\n",
    "V_ODD_SORTED = sorted(list(zip(collections.Counter(V_ODD).values(), collections.Counter(V_ODD).keys())), reverse=True)\n",
    "V_EVEN_SORTED = sorted(list(zip(collections.Counter(V_EVEN).values(), collections.Counter(V_EVEN).keys())), reverse=True)\n",
    "\n",
    "ans_list = []\n",
    "\n",
    "if V_ODD_SORTED[0][1] == V_EVEN_SORTED[0][1]:\n",
    "    if len(V_ODD_SORTED) > 1:\n",
    "        tmp = len(V)//2 - V_ODD_SORTED[1][0]\n",
    "        tmp += len(V)//2 - V_EVEN_SORTED[0][0]\n",
    "        ans_list.append(tmp)\n",
    "        \n",
    "    if len(V_EVEN_SORTED) > 1:\n",
    "        tmp = len(V)//2 - V_ODD_SORTED[0][0]\n",
    "        tmp += len(V)//2 - V_EVEN_SORTED[1][0]\n",
    "        ans_list.append(tmp)\n",
    "\n",
    "    if len(V_ODD_SORTED) == 1 and len(V_EVEN_SORTED) == 1:\n",
    "        ans_list.append(len(V)//2)\n",
    "        \n",
    "else:\n",
    "    tmp = len(V)//2 - V_ODD_SORTED[0][0]\n",
    "    tmp += len(V)//2 - V_EVEN_SORTED[0][0]\n",
    "    ans_list.append(tmp)\n",
    "    \n",
    "print(min(ans_list))"
   ]
  },
  {
   "cell_type": "markdown",
   "metadata": {},
   "source": [
    "## D（）"
   ]
  },
  {
   "cell_type": "markdown",
   "metadata": {},
   "source": [
    "https://atcoder.jp/contests/abc111/tasks/abc111_d"
   ]
  }
 ],
 "metadata": {
  "kernelspec": {
   "display_name": "Python 3",
   "language": "python",
   "name": "python3"
  },
  "language_info": {
   "codemirror_mode": {
    "name": "ipython",
    "version": 3
   },
   "file_extension": ".py",
   "mimetype": "text/x-python",
   "name": "python",
   "nbconvert_exporter": "python",
   "pygments_lexer": "ipython3",
   "version": "3.7.6"
  },
  "toc": {
   "base_numbering": 1,
   "nav_menu": {},
   "number_sections": true,
   "sideBar": true,
   "skip_h1_title": true,
   "title_cell": "Table of Contents",
   "title_sidebar": "Contents",
   "toc_cell": false,
   "toc_position": {},
   "toc_section_display": true,
   "toc_window_display": false
  }
 },
 "nbformat": 4,
 "nbformat_minor": 4
}
