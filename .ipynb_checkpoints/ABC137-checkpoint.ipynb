{
 "cells": [
  {
   "cell_type": "markdown",
   "metadata": {},
   "source": [
    "# AtCoder Beginner Contest 137"
   ]
  },
  {
   "cell_type": "markdown",
   "metadata": {},
   "source": [
    "Created on June 1, 2020  \n",
    "Extra exercise in the morning."
   ]
  },
  {
   "cell_type": "markdown",
   "metadata": {},
   "source": [
    "https://atcoder.jp/contests/abc137"
   ]
  },
  {
   "cell_type": "markdown",
   "metadata": {},
   "source": [
    "## A（AC）"
   ]
  },
  {
   "cell_type": "markdown",
   "metadata": {},
   "source": [
    "https://atcoder.jp/contests/abc137/tasks/abc137_a"
   ]
  },
  {
   "cell_type": "code",
   "execution_count": 5,
   "metadata": {
    "ExecuteTime": {
     "end_time": "2020-05-31T20:33:48.335821Z",
     "start_time": "2020-05-31T20:33:46.711300Z"
    }
   },
   "outputs": [
    {
     "name": "stdout",
     "output_type": "stream",
     "text": [
      "-13 3\n"
     ]
    }
   ],
   "source": [
    "A, B = map(int, input().split())"
   ]
  },
  {
   "cell_type": "code",
   "execution_count": 8,
   "metadata": {
    "ExecuteTime": {
     "end_time": "2020-05-31T20:34:29.363326Z",
     "start_time": "2020-05-31T20:34:29.354262Z"
    }
   },
   "outputs": [
    {
     "name": "stdout",
     "output_type": "stream",
     "text": [
      "-10\n"
     ]
    }
   ],
   "source": [
    "print(max(A+B, A-B, A*B))"
   ]
  },
  {
   "cell_type": "markdown",
   "metadata": {},
   "source": [
    "## B（AC）"
   ]
  },
  {
   "cell_type": "markdown",
   "metadata": {},
   "source": [
    "https://atcoder.jp/contests/abc137/tasks/abc137_b"
   ]
  },
  {
   "cell_type": "code",
   "execution_count": 17,
   "metadata": {
    "ExecuteTime": {
     "end_time": "2020-05-31T20:39:13.335356Z",
     "start_time": "2020-05-31T20:39:12.583180Z"
    }
   },
   "outputs": [
    {
     "name": "stdout",
     "output_type": "stream",
     "text": [
      "1 100\n"
     ]
    }
   ],
   "source": [
    "K, X = map(int, input().split())"
   ]
  },
  {
   "cell_type": "code",
   "execution_count": 18,
   "metadata": {
    "ExecuteTime": {
     "end_time": "2020-05-31T20:39:13.544100Z",
     "start_time": "2020-05-31T20:39:13.536156Z"
    }
   },
   "outputs": [
    {
     "name": "stdout",
     "output_type": "stream",
     "text": [
      "100\n"
     ]
    }
   ],
   "source": [
    "print(*list(range(X-K+1, X+K)))"
   ]
  },
  {
   "cell_type": "markdown",
   "metadata": {},
   "source": [
    "## C（AC）"
   ]
  },
  {
   "cell_type": "markdown",
   "metadata": {},
   "source": [
    "https://atcoder.jp/contests/abc137/tasks/abc137_c"
   ]
  },
  {
   "cell_type": "code",
   "execution_count": 67,
   "metadata": {
    "ExecuteTime": {
     "end_time": "2020-05-31T21:04:21.234464Z",
     "start_time": "2020-05-31T21:04:12.090002Z"
    }
   },
   "outputs": [
    {
     "name": "stdout",
     "output_type": "stream",
     "text": [
      "3\n",
      "acornistnt\n",
      "peanutbomb\n",
      "constraint\n"
     ]
    }
   ],
   "source": [
    "N = int(input())\n",
    "\n",
    "S = [\"\"]*N\n",
    "\n",
    "for i in range(N):\n",
    "    S[i] = input()"
   ]
  },
  {
   "cell_type": "code",
   "execution_count": 68,
   "metadata": {
    "ExecuteTime": {
     "end_time": "2020-05-31T21:04:21.616618Z",
     "start_time": "2020-05-31T21:04:21.607645Z"
    }
   },
   "outputs": [
    {
     "data": {
      "text/plain": [
       "['acornistnt', 'peanutbomb', 'constraint']"
      ]
     },
     "execution_count": 68,
     "metadata": {},
     "output_type": "execute_result"
    }
   ],
   "source": [
    "S"
   ]
  },
  {
   "cell_type": "code",
   "execution_count": 69,
   "metadata": {
    "ExecuteTime": {
     "end_time": "2020-05-31T21:04:22.593515Z",
     "start_time": "2020-05-31T21:04:22.579731Z"
    }
   },
   "outputs": [],
   "source": [
    "def cmb(n, r):\n",
    "    if n - r < r: r = n - r\n",
    "    if r == 0: return 1\n",
    "    if r == 1: return n\n",
    "\n",
    "    numerator = [n - r + k + 1 for k in range(r)]\n",
    "    denominator = [k + 1 for k in range(r)]\n",
    "\n",
    "    for p in range(2,r+1):\n",
    "        pivot = denominator[p - 1]\n",
    "        if pivot > 1:\n",
    "            offset = (n - r) % p\n",
    "            for k in range(p-1,r,p):\n",
    "                numerator[k - offset] /= pivot\n",
    "                denominator[k] /= pivot\n",
    "\n",
    "    result = 1\n",
    "    for k in range(r):\n",
    "        if numerator[k] > 1:\n",
    "            result *= int(numerator[k])\n",
    "\n",
    "    return result"
   ]
  },
  {
   "cell_type": "code",
   "execution_count": 77,
   "metadata": {
    "ExecuteTime": {
     "end_time": "2020-05-31T21:07:38.344562Z",
     "start_time": "2020-05-31T21:07:38.321102Z"
    }
   },
   "outputs": [
    {
     "name": "stdout",
     "output_type": "stream",
     "text": [
      "1\n"
     ]
    }
   ],
   "source": [
    "S_set = [\"\".join(sorted(s)) for s in S]\n",
    "\n",
    "\n",
    "import collections\n",
    "import itertools\n",
    "\n",
    "same_list = collections.Counter(S_set)\n",
    "\n",
    "ans = [0]*len(same_list)\n",
    "\n",
    "for i,v in enumerate(same_list.values()):\n",
    "    if i==0:\n",
    "        if v==1:\n",
    "            ans[i] = 0\n",
    "        else:\n",
    "            ans[i] = cmb(v, 2)\n",
    "    else:\n",
    "        if v==1:\n",
    "            ans[i] = ans[i-1] + 0\n",
    "        else:\n",
    "            ans[i] = ans[i-1] + cmb(v, 2)\n",
    "\n",
    "print(ans[-1])"
   ]
  }
 ],
 "metadata": {
  "kernelspec": {
   "display_name": "Python 3",
   "language": "python",
   "name": "python3"
  },
  "language_info": {
   "codemirror_mode": {
    "name": "ipython",
    "version": 3
   },
   "file_extension": ".py",
   "mimetype": "text/x-python",
   "name": "python",
   "nbconvert_exporter": "python",
   "pygments_lexer": "ipython3",
   "version": "3.7.6"
  },
  "toc": {
   "base_numbering": 1,
   "nav_menu": {},
   "number_sections": true,
   "sideBar": true,
   "skip_h1_title": true,
   "title_cell": "Table of Contents",
   "title_sidebar": "Contents",
   "toc_cell": false,
   "toc_position": {},
   "toc_section_display": true,
   "toc_window_display": false
  }
 },
 "nbformat": 4,
 "nbformat_minor": 4
}
