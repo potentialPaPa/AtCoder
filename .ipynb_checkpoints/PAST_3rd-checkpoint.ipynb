{
 "cells": [
  {
   "cell_type": "markdown",
   "metadata": {},
   "source": [
    "# 第三回 アルゴリズム実技検定"
   ]
  },
  {
   "cell_type": "markdown",
   "metadata": {},
   "source": [
    "Attended on 2020/6/6"
   ]
  },
  {
   "cell_type": "markdown",
   "metadata": {},
   "source": [
    "# A"
   ]
  },
  {
   "cell_type": "code",
   "execution_count": 9,
   "metadata": {
    "ExecuteTime": {
     "end_time": "2020-06-06T04:04:23.807084Z",
     "start_time": "2020-06-06T04:04:21.003560Z"
    }
   },
   "outputs": [
    {
     "name": "stdout",
     "output_type": "stream",
     "text": [
      "aDs\n",
      "kjH\n"
     ]
    }
   ],
   "source": [
    "s = input()\n",
    "t = input()"
   ]
  },
  {
   "cell_type": "code",
   "execution_count": 10,
   "metadata": {
    "ExecuteTime": {
     "end_time": "2020-06-06T04:04:24.137619Z",
     "start_time": "2020-06-06T04:04:24.128355Z"
    }
   },
   "outputs": [
    {
     "name": "stdout",
     "output_type": "stream",
     "text": [
      "different\n"
     ]
    }
   ],
   "source": [
    "if s==t:\n",
    "    print(\"same\")\n",
    "elif s.upper()==t.upper():\n",
    "    print(\"case-insensitive\")\n",
    "else:\n",
    "    print(\"different\")"
   ]
  },
  {
   "cell_type": "markdown",
   "metadata": {},
   "source": [
    "# B"
   ]
  },
  {
   "cell_type": "code",
   "execution_count": 136,
   "metadata": {
    "ExecuteTime": {
     "end_time": "2020-06-06T05:58:59.380310Z",
     "start_time": "2020-06-06T05:58:59.352197Z"
    },
    "scrolled": true
   },
   "outputs": [
    {
     "data": {
      "application/vnd.jupyter.widget-view+json": {
       "model_id": "",
       "version_major": 2,
       "version_minor": 0
      },
      "text/plain": [
       "Textarea(value='')"
      ]
     },
     "metadata": {},
     "output_type": "display_data"
    }
   ],
   "source": [
    "from ipywidgets import Textarea\n",
    "import io\n",
    "\n",
    "if 'open' in globals():\n",
    "    del open\n",
    "original_open = open\n",
    "\n",
    "class custom_open():\n",
    "    def __init__(self):\n",
    "        self.text = ''\n",
    "\n",
    "    def __call__(self, file, *args, **kwargs):\n",
    "        if file == 0:\n",
    "            return io.StringIO(self.text)\n",
    "        return original_open(file, *args, **kwargs)\n",
    "\n",
    "    def updater(self, change):\n",
    "        self.text = change[\"new\"]\n",
    "\n",
    "open = custom_open()\n",
    "text_area = Textarea()\n",
    "text_area.observe(open.updater, names='value')\n",
    "display(text_area)"
   ]
  },
  {
   "cell_type": "code",
   "execution_count": 137,
   "metadata": {
    "ExecuteTime": {
     "end_time": "2020-06-06T05:59:06.924159Z",
     "start_time": "2020-06-06T05:59:06.917112Z"
    }
   },
   "outputs": [],
   "source": [
    "N, M, Q, *_s = map(int, open(0).read().split())"
   ]
  },
  {
   "cell_type": "code",
   "execution_count": 138,
   "metadata": {
    "ExecuteTime": {
     "end_time": "2020-06-06T05:59:07.360678Z",
     "start_time": "2020-06-06T05:59:07.352934Z"
    },
    "scrolled": true
   },
   "outputs": [
    {
     "data": {
      "text/plain": [
       "(2, 1, 6, [2, 1, 1, 1, 1, 1, 2, 2, 2, 1, 1, 1, 1, 2])"
      ]
     },
     "execution_count": 138,
     "metadata": {},
     "output_type": "execute_result"
    }
   ],
   "source": [
    "N, M, Q, _s"
   ]
  },
  {
   "cell_type": "code",
   "execution_count": 139,
   "metadata": {
    "ExecuteTime": {
     "end_time": "2020-06-06T05:59:07.924390Z",
     "start_time": "2020-06-06T05:59:07.917225Z"
    }
   },
   "outputs": [],
   "source": [
    "s = []\n",
    "i = 0\n",
    "for _ in range(Q):\n",
    "    if _s[i] == 1:\n",
    "        s.append(tuple(_s[i:i+2]))\n",
    "        i += 2\n",
    "    else:\n",
    "        s.append(tuple(_s[i:i+3]))\n",
    "        i += 3"
   ]
  },
  {
   "cell_type": "code",
   "execution_count": 140,
   "metadata": {
    "ExecuteTime": {
     "end_time": "2020-06-06T05:59:10.782895Z",
     "start_time": "2020-06-06T05:59:10.772510Z"
    },
    "scrolled": true
   },
   "outputs": [
    {
     "data": {
      "text/plain": [
       "[(2, 1, 1), (1, 1), (1, 2), (2, 2, 1), (1, 1), (1, 2)]"
      ]
     },
     "execution_count": 140,
     "metadata": {},
     "output_type": "execute_result"
    }
   ],
   "source": [
    "s"
   ]
  },
  {
   "cell_type": "markdown",
   "metadata": {},
   "source": [
    "- TLEの解"
   ]
  },
  {
   "cell_type": "code",
   "execution_count": 68,
   "metadata": {
    "ExecuteTime": {
     "end_time": "2020-06-06T04:39:23.914494Z",
     "start_time": "2020-06-06T04:39:23.897115Z"
    }
   },
   "outputs": [
    {
     "name": "stdout",
     "output_type": "stream",
     "text": [
      "1\n",
      "0\n",
      "0\n",
      "0\n"
     ]
    }
   ],
   "source": [
    "import numpy as np\n",
    "\n",
    "scores = np.array([0]*N)\n",
    "points = {m: N for m in range(1, M+1)}\n",
    "solved = {m: np.array([False]*N) for m in range(1, M+1)}\n",
    "\n",
    "for q in s:\n",
    "    if q[0] == 1:\n",
    "        print(scores[q[1]-1])\n",
    "    else:\n",
    "        points[q[2]] -= 1\n",
    "        scores[q[1]-1] += points[q[2]]\n",
    "\n",
    "        scores -= solved[q[2]]*1\n",
    "        solved[q[2]][q[1]-1] = True\n"
   ]
  },
  {
   "cell_type": "markdown",
   "metadata": {},
   "source": [
    "- 再検討"
   ]
  },
  {
   "cell_type": "code",
   "execution_count": 167,
   "metadata": {
    "ExecuteTime": {
     "end_time": "2020-06-06T06:08:46.390739Z",
     "start_time": "2020-06-06T06:08:46.366332Z"
    },
    "scrolled": true
   },
   "outputs": [
    {
     "data": {
      "application/vnd.jupyter.widget-view+json": {
       "model_id": "512e61d8963346faa8c4450846d220d8",
       "version_major": 2,
       "version_minor": 0
      },
      "text/plain": [
       "Textarea(value='')"
      ]
     },
     "metadata": {},
     "output_type": "display_data"
    }
   ],
   "source": [
    "from ipywidgets import Textarea\n",
    "import io\n",
    "\n",
    "if 'open' in globals():\n",
    "    del open\n",
    "original_open = open\n",
    "\n",
    "class custom_open():\n",
    "    def __init__(self):\n",
    "        self.text = ''\n",
    "\n",
    "    def __call__(self, file, *args, **kwargs):\n",
    "        if file == 0:\n",
    "            return io.StringIO(self.text)\n",
    "        return original_open(file, *args, **kwargs)\n",
    "\n",
    "    def updater(self, change):\n",
    "        self.text = change[\"new\"]\n",
    "\n",
    "open = custom_open()\n",
    "text_area = Textarea()\n",
    "text_area.observe(open.updater, names='value')\n",
    "display(text_area)"
   ]
  },
  {
   "cell_type": "code",
   "execution_count": 168,
   "metadata": {
    "ExecuteTime": {
     "end_time": "2020-06-06T06:08:50.859409Z",
     "start_time": "2020-06-06T06:08:50.853066Z"
    }
   },
   "outputs": [],
   "source": [
    "N, M, Q, *_s = map(int, open(0).read().split())"
   ]
  },
  {
   "cell_type": "code",
   "execution_count": 169,
   "metadata": {
    "ExecuteTime": {
     "end_time": "2020-06-06T06:08:51.006839Z",
     "start_time": "2020-06-06T06:08:50.995712Z"
    },
    "scrolled": true
   },
   "outputs": [
    {
     "data": {
      "text/plain": [
       "(2, 1, 6, [2, 1, 1, 1, 1, 1, 2, 2, 2, 1, 1, 1, 1, 2])"
      ]
     },
     "execution_count": 169,
     "metadata": {},
     "output_type": "execute_result"
    }
   ],
   "source": [
    "N, M, Q, _s"
   ]
  },
  {
   "cell_type": "code",
   "execution_count": 170,
   "metadata": {
    "ExecuteTime": {
     "end_time": "2020-06-06T06:08:51.591603Z",
     "start_time": "2020-06-06T06:08:51.582281Z"
    }
   },
   "outputs": [],
   "source": [
    "s = []\n",
    "i = 0\n",
    "for _ in range(Q):\n",
    "    if _s[i] == 1:\n",
    "        s.append(tuple(_s[i:i+2]))\n",
    "        i += 2\n",
    "    else:\n",
    "        s.append(tuple(_s[i:i+3]))\n",
    "        i += 3"
   ]
  },
  {
   "cell_type": "code",
   "execution_count": 171,
   "metadata": {
    "ExecuteTime": {
     "end_time": "2020-06-06T06:08:52.034759Z",
     "start_time": "2020-06-06T06:08:52.024968Z"
    },
    "scrolled": true
   },
   "outputs": [
    {
     "data": {
      "text/plain": [
       "[(2, 1, 1), (1, 1), (1, 2), (2, 2, 1), (1, 1), (1, 2)]"
      ]
     },
     "execution_count": 171,
     "metadata": {},
     "output_type": "execute_result"
    }
   ],
   "source": [
    "s"
   ]
  },
  {
   "cell_type": "code",
   "execution_count": 172,
   "metadata": {
    "ExecuteTime": {
     "end_time": "2020-06-06T06:08:52.557722Z",
     "start_time": "2020-06-06T06:08:52.546289Z"
    }
   },
   "outputs": [
    {
     "name": "stdout",
     "output_type": "stream",
     "text": [
      "1\n",
      "0\n",
      "0\n",
      "0\n"
     ]
    }
   ],
   "source": [
    "import numpy as np\n",
    "\n",
    "points = np.array([N] * M)\n",
    "solved = np.array([[False]*M]*N)\n",
    "\n",
    "for q in s:\n",
    "    if q[0] == 1:\n",
    "        print(sum(points*solved[q[1]-1]))\n",
    "    else:\n",
    "        solved[q[1]-1][q[2]-1] = True\n",
    "        points[q[2]-1] -= 1"
   ]
  },
  {
   "cell_type": "markdown",
   "metadata": {},
   "source": [
    "# C"
   ]
  },
  {
   "cell_type": "code",
   "execution_count": 86,
   "metadata": {
    "ExecuteTime": {
     "end_time": "2020-06-06T05:19:48.655831Z",
     "start_time": "2020-06-06T05:19:46.598043Z"
    }
   },
   "outputs": [
    {
     "name": "stdout",
     "output_type": "stream",
     "text": [
      "1000000001 1 1\n"
     ]
    }
   ],
   "source": [
    "A, R, N = map(int, input().split())"
   ]
  },
  {
   "cell_type": "code",
   "execution_count": 87,
   "metadata": {
    "ExecuteTime": {
     "end_time": "2020-06-06T05:19:48.843554Z",
     "start_time": "2020-06-06T05:19:48.832414Z"
    }
   },
   "outputs": [
    {
     "name": "stdout",
     "output_type": "stream",
     "text": [
      "large\n"
     ]
    }
   ],
   "source": [
    "import math\n",
    "\n",
    "ans_log = math.log10(A) + (N-1)*math.log10(R)\n",
    "\n",
    "if ans_log <= 9:\n",
    "    print(A*(R**(N-1)))\n",
    "else:\n",
    "    print(\"large\")"
   ]
  },
  {
   "cell_type": "markdown",
   "metadata": {},
   "source": [
    "# D"
   ]
  },
  {
   "cell_type": "code",
   "execution_count": 51,
   "metadata": {
    "ExecuteTime": {
     "end_time": "2020-06-06T05:10:59.908417Z",
     "start_time": "2020-06-06T05:10:59.811998Z"
    }
   },
   "outputs": [
    {
     "data": {
      "application/vnd.jupyter.widget-view+json": {
       "model_id": "1b3456f543a14685ae3763b6a875023a",
       "version_major": 2,
       "version_minor": 0
      },
      "text/plain": [
       "Textarea(value='')"
      ]
     },
     "metadata": {},
     "output_type": "display_data"
    }
   ],
   "source": [
    "from ipywidgets import Textarea\n",
    "import io\n",
    "\n",
    "if 'open' in globals():\n",
    "    del open\n",
    "original_open = open\n",
    "\n",
    "class custom_open():\n",
    "    def __init__(self):\n",
    "        self.text = ''\n",
    "\n",
    "    def __call__(self, file, *args, **kwargs):\n",
    "        if file == 0:\n",
    "            return io.StringIO(self.text)\n",
    "        return original_open(file, *args, **kwargs)\n",
    "\n",
    "    def updater(self, change):\n",
    "        self.text = change[\"new\"]\n",
    "\n",
    "open = custom_open()\n",
    "text_area = Textarea()\n",
    "text_area.observe(open.updater, names='value')\n",
    "display(text_area)"
   ]
  },
  {
   "cell_type": "code",
   "execution_count": 133,
   "metadata": {
    "ExecuteTime": {
     "end_time": "2020-06-06T05:56:24.882535Z",
     "start_time": "2020-06-06T05:56:24.875257Z"
    }
   },
   "outputs": [],
   "source": [
    "_N, *s = open(0).read().split()\n",
    "N = int(_N)"
   ]
  },
  {
   "cell_type": "code",
   "execution_count": 134,
   "metadata": {
    "ExecuteTime": {
     "end_time": "2020-06-06T05:56:25.558159Z",
     "start_time": "2020-06-06T05:56:25.546589Z"
    }
   },
   "outputs": [
    {
     "data": {
      "text/plain": [
       "(29,\n",
       " ['.###.###.###.###.###.###.###.###.###.#.#.###.#.#.#.#.#.#.###.###.###.###..#..###.###.###.###.###.#.#.###.###.###.###.',\n",
       "  '...#.#.#...#.#.#.#.#.#...#.#...#.#.#.#.#.#...#.#.#.#.#.#.#.....#.#.#.#.#.##..#.#...#.#.#...#.#...#.#...#.#.....#...#.',\n",
       "  '.###.#.#...#.###.#.#.###.###...#.###.###.###.###.###.###.###...#.###.#.#..#..###...#.###.###.###.###.###.###.###.###.',\n",
       "  '.#...#.#...#...#.#.#.#.#...#...#.#.#...#.#.#...#...#...#.#.#...#...#.#.#..#..#.#...#...#.#...#.#...#.#.....#...#.#...',\n",
       "  '.###.###...#.###.###.###.###...#.###...#.###...#...#...#.###...#.###.###.###.###...#.###.###.###...#.###.###.###.###.'])"
      ]
     },
     "execution_count": 134,
     "metadata": {},
     "output_type": "execute_result"
    }
   ],
   "source": [
    "N, s"
   ]
  },
  {
   "cell_type": "code",
   "execution_count": 135,
   "metadata": {
    "ExecuteTime": {
     "end_time": "2020-06-06T05:56:27.136643Z",
     "start_time": "2020-06-06T05:56:27.108330Z"
    }
   },
   "outputs": [
    {
     "name": "stdout",
     "output_type": "stream",
     "text": [
      "20790697846444679018792642532\n"
     ]
    }
   ],
   "source": [
    "A = {\n",
    "        1: {\"###\": set([0,2,3,5,6,7,8,9]),\n",
    "               \".#.\" : set([1]),\n",
    "               \"#.#\": set([4])},\n",
    "\n",
    "        2: {\"#.#\": set([0,4,8,9]),\n",
    "              \"##.\": set([1]),\n",
    "              \"..#\": set([2,3,7]),\n",
    "              \"#..\": set([5,6])},\n",
    "\n",
    "        3: {\"#.#\": set([0]),\n",
    "              \".#.\": set([1]),\n",
    "              \"###\": set([2,3,4,5,6,8,9]),\n",
    "              \"..#\": set([7])},\n",
    "\n",
    "        4: {\"#.#\": set([0,6,8]),\n",
    "              \".#.\": set([1]),\n",
    "              \"#..\": set([2]),\n",
    "              \"..#\": set([3,4,5,7,9])},\n",
    "\n",
    "        5: {\"###\": set([0,1,2,3,5,6,8,9]),\n",
    "              \"..#\": set([4,7])}\n",
    "        }\n",
    "\n",
    "ans = {i: set(range(10)) for i in range(1, N+1)}\n",
    "\n",
    "for r in range(1, 5+1):\n",
    "    s_split = list(zip(*[iter(s[r-1])]*4))\n",
    "    \n",
    "    for i, s_row in enumerate(s_split, 1):\n",
    "        ans[i] = ans[i] & A[r][\"\".join(s_row[1:])]\n",
    "        \n",
    "print(*[str(*ans[i]) for i in range(1, N+1)], sep=\"\")"
   ]
  },
  {
   "cell_type": "markdown",
   "metadata": {},
   "source": [
    "# E"
   ]
  },
  {
   "cell_type": "code",
   "execution_count": 176,
   "metadata": {
    "ExecuteTime": {
     "end_time": "2020-06-06T06:25:34.664910Z",
     "start_time": "2020-06-06T06:25:34.640188Z"
    }
   },
   "outputs": [
    {
     "data": {
      "application/vnd.jupyter.widget-view+json": {
       "model_id": "6ea4eb04485148798a53eb8e4d950a7e",
       "version_major": 2,
       "version_minor": 0
      },
      "text/plain": [
       "Textarea(value='')"
      ]
     },
     "metadata": {},
     "output_type": "display_data"
    }
   ],
   "source": [
    "from ipywidgets import Textarea\n",
    "import io\n",
    "\n",
    "if 'open' in globals():\n",
    "    del open\n",
    "original_open = open\n",
    "\n",
    "class custom_open():\n",
    "    def __init__(self):\n",
    "        self.text = ''\n",
    "\n",
    "    def __call__(self, file, *args, **kwargs):\n",
    "        if file == 0:\n",
    "            return io.StringIO(self.text)\n",
    "        return original_open(file, *args, **kwargs)\n",
    "\n",
    "    def updater(self, change):\n",
    "        self.text = change[\"new\"]\n",
    "\n",
    "open = custom_open()\n",
    "text_area = Textarea()\n",
    "text_area.observe(open.updater, names='value')\n",
    "display(text_area)"
   ]
  },
  {
   "cell_type": "code",
   "execution_count": 177,
   "metadata": {
    "ExecuteTime": {
     "end_time": "2020-06-06T06:26:22.393928Z",
     "start_time": "2020-06-06T06:26:22.386648Z"
    }
   },
   "outputs": [],
   "source": [
    "N, M, Q, *_ = map(int, open(0).read().split())"
   ]
  },
  {
   "cell_type": "code",
   "execution_count": 178,
   "metadata": {
    "ExecuteTime": {
     "end_time": "2020-06-06T06:26:26.637638Z",
     "start_time": "2020-06-06T06:26:26.626530Z"
    }
   },
   "outputs": [
    {
     "data": {
      "text/plain": [
       "(3, 2, 3)"
      ]
     },
     "execution_count": 178,
     "metadata": {},
     "output_type": "execute_result"
    }
   ],
   "source": [
    "N, M, Q"
   ]
  },
  {
   "cell_type": "code",
   "execution_count": 244,
   "metadata": {
    "ExecuteTime": {
     "end_time": "2020-06-06T06:46:52.887295Z",
     "start_time": "2020-06-06T06:46:52.876301Z"
    }
   },
   "outputs": [],
   "source": [
    "uv = []\n",
    "\n",
    "for m in range(M):\n",
    "    i_s, i_e = m*2, (m+1)*2\n",
    "    uv.append(_[i_s:i_e])\n",
    "\n",
    "c = _[i_e: i_e+N]\n",
    "\n",
    "i_s = i_e+N\n",
    "\n",
    "s = []\n",
    "\n",
    "for q in range(Q):\n",
    "    if _[i_s] == 1:\n",
    "        i_e = i_s+2\n",
    "        s.append(_[i_s: i_e])\n",
    "        i_s = i_e\n",
    "    else:\n",
    "        i_e = i_s+3\n",
    "        s.append(_[i_s: i_e])\n",
    "        i_s = i_e"
   ]
  },
  {
   "cell_type": "code",
   "execution_count": 245,
   "metadata": {
    "ExecuteTime": {
     "end_time": "2020-06-06T06:46:53.126820Z",
     "start_time": "2020-06-06T06:46:53.117846Z"
    }
   },
   "outputs": [
    {
     "name": "stdout",
     "output_type": "stream",
     "text": [
      "[[1, 2], [2, 3]]\n",
      "[5, 10, 15]\n",
      "[[1, 2], [2, 1, 20], [1, 1]]\n"
     ]
    }
   ],
   "source": [
    "print(uv, c, s, sep=\"\\n\")"
   ]
  },
  {
   "cell_type": "code",
   "execution_count": 246,
   "metadata": {
    "ExecuteTime": {
     "end_time": "2020-06-06T06:46:53.315175Z",
     "start_time": "2020-06-06T06:46:53.307634Z"
    }
   },
   "outputs": [],
   "source": [
    "graph = [[] for _ in range(N)]\n",
    "\n",
    "for i, v in enumerate(uv, 1):\n",
    "    v.remove(i)\n",
    "    graph[i-1].append(*v)\n",
    "    graph[v[-1]-1].append(i)"
   ]
  },
  {
   "cell_type": "code",
   "execution_count": 250,
   "metadata": {
    "ExecuteTime": {
     "end_time": "2020-06-06T06:50:06.105474Z",
     "start_time": "2020-06-06T06:50:06.094086Z"
    }
   },
   "outputs": [
    {
     "name": "stdout",
     "output_type": "stream",
     "text": [
      "2\n",
      "2\n",
      "1\n",
      "[1, 20]\n",
      "1\n",
      "1\n"
     ]
    }
   ],
   "source": [
    "import numpy as np\n",
    "c_ind = np.array(range(1, N+1))\n",
    "\n",
    "for s_i in s:\n",
    "    print(s_i[1])\n",
    "    \n",
    "    if s_i[0] == 1:\n",
    "        c_ind = graph[s_i[1]-1] * c_ind[s_i[1]-1]\n",
    "    else:\n",
    "        print(s_i[1:])"
   ]
  },
  {
   "cell_type": "code",
   "execution_count": null,
   "metadata": {},
   "outputs": [],
   "source": []
  },
  {
   "cell_type": "markdown",
   "metadata": {},
   "source": [
    "# F"
   ]
  },
  {
   "cell_type": "code",
   "execution_count": 173,
   "metadata": {
    "ExecuteTime": {
     "end_time": "2020-06-06T06:20:16.890973Z",
     "start_time": "2020-06-06T06:20:16.864886Z"
    }
   },
   "outputs": [
    {
     "data": {
      "application/vnd.jupyter.widget-view+json": {
       "model_id": "f20bdef820a64e7a9bd930edccbbf1f4",
       "version_major": 2,
       "version_minor": 0
      },
      "text/plain": [
       "Textarea(value='')"
      ]
     },
     "metadata": {},
     "output_type": "display_data"
    }
   ],
   "source": [
    "from ipywidgets import Textarea\n",
    "import io\n",
    "\n",
    "if 'open' in globals():\n",
    "    del open\n",
    "original_open = open\n",
    "\n",
    "class custom_open():\n",
    "    def __init__(self):\n",
    "        self.text = ''\n",
    "\n",
    "    def __call__(self, file, *args, **kwargs):\n",
    "        if file == 0:\n",
    "            return io.StringIO(self.text)\n",
    "        return original_open(file, *args, **kwargs)\n",
    "\n",
    "    def updater(self, change):\n",
    "        self.text = change[\"new\"]\n",
    "\n",
    "open = custom_open()\n",
    "text_area = Textarea()\n",
    "text_area.observe(open.updater, names='value')\n",
    "display(text_area)"
   ]
  },
  {
   "cell_type": "code",
   "execution_count": 174,
   "metadata": {
    "ExecuteTime": {
     "end_time": "2020-06-06T06:21:06.837637Z",
     "start_time": "2020-06-06T06:21:06.831700Z"
    }
   },
   "outputs": [],
   "source": [
    "N, *A = open(0).read().split()"
   ]
  },
  {
   "cell_type": "code",
   "execution_count": 175,
   "metadata": {
    "ExecuteTime": {
     "end_time": "2020-06-06T06:21:10.052301Z",
     "start_time": "2020-06-06T06:21:10.040339Z"
    }
   },
   "outputs": [
    {
     "data": {
      "text/plain": [
       "('2', ['yc', 'ys'])"
      ]
     },
     "execution_count": 175,
     "metadata": {},
     "output_type": "execute_result"
    }
   ],
   "source": [
    "N, A"
   ]
  },
  {
   "cell_type": "code",
   "execution_count": null,
   "metadata": {},
   "outputs": [],
   "source": []
  }
 ],
 "metadata": {
  "kernelspec": {
   "display_name": "Python 3",
   "language": "python",
   "name": "python3"
  },
  "language_info": {
   "codemirror_mode": {
    "name": "ipython",
    "version": 3
   },
   "file_extension": ".py",
   "mimetype": "text/x-python",
   "name": "python",
   "nbconvert_exporter": "python",
   "pygments_lexer": "ipython3",
   "version": "3.7.6"
  },
  "toc": {
   "base_numbering": 1,
   "nav_menu": {},
   "number_sections": true,
   "sideBar": true,
   "skip_h1_title": true,
   "title_cell": "Table of Contents",
   "title_sidebar": "Contents",
   "toc_cell": false,
   "toc_position": {},
   "toc_section_display": true,
   "toc_window_display": false
  }
 },
 "nbformat": 4,
 "nbformat_minor": 4
}
