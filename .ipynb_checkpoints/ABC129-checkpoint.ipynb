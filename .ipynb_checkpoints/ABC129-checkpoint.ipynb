{
 "cells": [
  {
   "cell_type": "markdown",
   "metadata": {},
   "source": [
    "# AtCoder Beginner Contest 129"
   ]
  },
  {
   "cell_type": "markdown",
   "metadata": {},
   "source": [
    "Created on June 9, 2020  \n",
    "30 minutes exercise in the morning."
   ]
  },
  {
   "cell_type": "markdown",
   "metadata": {},
   "source": [
    "https://atcoder.jp/contests/abc129"
   ]
  },
  {
   "cell_type": "markdown",
   "metadata": {},
   "source": [
    "## A（AC）"
   ]
  },
  {
   "cell_type": "markdown",
   "metadata": {},
   "source": [
    "https://atcoder.jp/contests/abc129/tasks/abc129_a"
   ]
  },
  {
   "cell_type": "code",
   "execution_count": 1,
   "metadata": {
    "ExecuteTime": {
     "end_time": "2020-06-08T20:08:21.332274Z",
     "start_time": "2020-06-08T20:08:14.650666Z"
    }
   },
   "outputs": [
    {
     "name": "stdout",
     "output_type": "stream",
     "text": [
      "1 3 4\n"
     ]
    }
   ],
   "source": [
    "P, Q, R = map(int, input().split())"
   ]
  },
  {
   "cell_type": "code",
   "execution_count": 7,
   "metadata": {
    "ExecuteTime": {
     "end_time": "2020-06-08T20:09:03.360788Z",
     "start_time": "2020-06-08T20:09:03.347928Z"
    }
   },
   "outputs": [
    {
     "name": "stdout",
     "output_type": "stream",
     "text": [
      "4\n"
     ]
    }
   ],
   "source": [
    "print(sum(sorted([P, Q, R])[:2]))"
   ]
  },
  {
   "cell_type": "markdown",
   "metadata": {},
   "source": [
    "## B（AC）"
   ]
  },
  {
   "cell_type": "markdown",
   "metadata": {},
   "source": [
    "https://atcoder.jp/contests/abc129/tasks/abc129_b"
   ]
  },
  {
   "cell_type": "code",
   "execution_count": 15,
   "metadata": {
    "ExecuteTime": {
     "end_time": "2020-06-08T20:14:21.366559Z",
     "start_time": "2020-06-08T20:14:18.229795Z"
    }
   },
   "outputs": [
    {
     "name": "stdout",
     "output_type": "stream",
     "text": [
      "8\n",
      "27 23 76 2 3 5 62 52\n"
     ]
    }
   ],
   "source": [
    "N = int(input())\n",
    "W = list(map(int, input().split()))"
   ]
  },
  {
   "cell_type": "code",
   "execution_count": 16,
   "metadata": {
    "ExecuteTime": {
     "end_time": "2020-06-08T20:14:21.679632Z",
     "start_time": "2020-06-08T20:14:21.666702Z"
    }
   },
   "outputs": [
    {
     "name": "stdout",
     "output_type": "stream",
     "text": [
      "2\n"
     ]
    }
   ],
   "source": [
    "ans = 99999\n",
    "\n",
    "for T in range(1, N):\n",
    "    diffW = abs(sum(W[:T]) - sum(W[T:]))\n",
    "    ans = min(ans, diffW)\n",
    "    \n",
    "print(ans)"
   ]
  },
  {
   "cell_type": "markdown",
   "metadata": {},
   "source": [
    "## C（AC）"
   ]
  },
  {
   "cell_type": "markdown",
   "metadata": {},
   "source": [
    "https://atcoder.jp/contests/abc129/tasks/abc129_c"
   ]
  },
  {
   "cell_type": "code",
   "execution_count": 115,
   "metadata": {
    "ExecuteTime": {
     "end_time": "2020-06-08T21:22:42.080365Z",
     "start_time": "2020-06-08T21:22:31.963424Z"
    }
   },
   "outputs": [
    {
     "name": "stdout",
     "output_type": "stream",
     "text": [
      "100 5\n",
      "1\n",
      "23\n",
      "45\n",
      "67\n",
      "89\n"
     ]
    }
   ],
   "source": [
    "N, M = map(int, input().split())\n",
    "A = []\n",
    "for m in range(M):\n",
    "    A.append(int(input()))"
   ]
  },
  {
   "cell_type": "markdown",
   "metadata": {},
   "source": [
    "- TLEの解"
   ]
  },
  {
   "cell_type": "code",
   "execution_count": 33,
   "metadata": {
    "ExecuteTime": {
     "end_time": "2020-06-08T20:40:24.032600Z",
     "start_time": "2020-06-08T20:40:23.946044Z"
    }
   },
   "outputs": [
    {
     "name": "stdout",
     "output_type": "stream",
     "text": [
      "0\n"
     ]
    }
   ],
   "source": [
    "from collections import deque\n",
    "queue = deque()\n",
    "queue.append(0)\n",
    "\n",
    "count = 0\n",
    "\n",
    "dx = [1, 2]\n",
    "\n",
    "\n",
    "while len(queue):\n",
    "    p = queue.popleft()\n",
    "    \n",
    "    if p == N or p==N-1:\n",
    "        count += 1\n",
    "        continue\n",
    "        \n",
    "    for i in range(2):\n",
    "        nx = p + dx[i]\n",
    "        \n",
    "        if nx not in A:\n",
    "            queue.append(nx)\n",
    "#         print(queue)\n",
    "            \n",
    "\n",
    "print(count % 1000000007)"
   ]
  },
  {
   "cell_type": "markdown",
   "metadata": {},
   "source": [
    "- 再検討（再帰関数）　→　こちらもTLE"
   ]
  },
  {
   "cell_type": "code",
   "execution_count": 82,
   "metadata": {
    "ExecuteTime": {
     "end_time": "2020-06-08T21:03:30.190391Z",
     "start_time": "2020-06-08T21:03:30.178846Z"
    }
   },
   "outputs": [
    {
     "name": "stdout",
     "output_type": "stream",
     "text": [
      "4\n"
     ]
    }
   ],
   "source": [
    "def f(n):\n",
    "    if n == 0:\n",
    "        fn_1 = 0\n",
    "        fn_2 = 0\n",
    "    elif n == 1:\n",
    "        fn_1 = 1\n",
    "        fn_2 = 0\n",
    "    elif n == 2:\n",
    "        fn_1 = 1\n",
    "        fn_2 = 1\n",
    "    else:\n",
    "        if n-1 not in A:\n",
    "            fn_1 = f(n-1)\n",
    "        else:\n",
    "            fn_1 = 0\n",
    "        if n-2 not in A:\n",
    "            fn_2 = f(n-2)\n",
    "        else:\n",
    "            fn_2 = 0\n",
    "    return fn_1 + fn_2\n",
    "\n",
    "print(f(N) % 1000000007)"
   ]
  },
  {
   "cell_type": "markdown",
   "metadata": {},
   "source": [
    "- 解説を見て実装  "
   ]
  },
  {
   "cell_type": "markdown",
   "metadata": {},
   "source": [
    "**【ポイント】**  \n",
    "後ろから計算していく"
   ]
  },
  {
   "cell_type": "markdown",
   "metadata": {},
   "source": [
    "- なぜかTLE　⇒　階段が壊れているかどうか判定で毎回inを使っているからと思われる。"
   ]
  },
  {
   "cell_type": "code",
   "execution_count": 121,
   "metadata": {
    "ExecuteTime": {
     "end_time": "2020-06-08T21:24:47.475516Z",
     "start_time": "2020-06-08T21:24:47.463677Z"
    }
   },
   "outputs": [
    {
     "name": "stdout",
     "output_type": "stream",
     "text": [
      "608200469\n"
     ]
    }
   ],
   "source": [
    "dp = [0]*(N+2)\n",
    "\n",
    "dp[N] = 1\n",
    "dp[N+1] = 0\n",
    "\n",
    "for i in range(N-1, -1, -1):\n",
    "    if i in A:\n",
    "        dp[i] = 0\n",
    "    else:\n",
    "        dp[i] = (dp[i+1] + dp[i+2]) % 1000000007\n",
    "    \n",
    "print(dp[0])"
   ]
  },
  {
   "cell_type": "markdown",
   "metadata": {},
   "source": [
    "- ACの解"
   ]
  },
  {
   "cell_type": "code",
   "execution_count": 125,
   "metadata": {
    "ExecuteTime": {
     "end_time": "2020-06-08T21:29:59.518577Z",
     "start_time": "2020-06-08T21:29:59.504317Z"
    }
   },
   "outputs": [
    {
     "name": "stdout",
     "output_type": "stream",
     "text": [
      "608200469\n"
     ]
    }
   ],
   "source": [
    "broken = [0]*(N+2)\n",
    "for a in A:\n",
    "    broken[a] = 1\n",
    "\n",
    "dp = [0]*(N+2)\n",
    "\n",
    "dp[N] = 1\n",
    "dp[N+1] = 0\n",
    "\n",
    "for i in range(N-1, -1, -1):\n",
    "    if broken[i]:\n",
    "        dp[i] = 0\n",
    "    else:\n",
    "        dp[i] = (dp[i+1] + dp[i+2]) % 1000000007\n",
    "    \n",
    "print(dp[0])"
   ]
  },
  {
   "cell_type": "markdown",
   "metadata": {},
   "source": [
    "## D（）"
   ]
  },
  {
   "cell_type": "markdown",
   "metadata": {},
   "source": [
    "https://atcoder.jp/contests/abc129/tasks/abc129_d"
   ]
  },
  {
   "cell_type": "markdown",
   "metadata": {},
   "source": [
    "## E（）"
   ]
  },
  {
   "cell_type": "markdown",
   "metadata": {},
   "source": [
    "https://atcoder.jp/contests/abc129/tasks/abc129_e"
   ]
  },
  {
   "cell_type": "markdown",
   "metadata": {},
   "source": [
    "## F（）"
   ]
  },
  {
   "cell_type": "markdown",
   "metadata": {},
   "source": [
    "https://atcoder.jp/contests/abc129/tasks/abc129_f"
   ]
  }
 ],
 "metadata": {
  "kernelspec": {
   "display_name": "Python 3",
   "language": "python",
   "name": "python3"
  },
  "language_info": {
   "codemirror_mode": {
    "name": "ipython",
    "version": 3
   },
   "file_extension": ".py",
   "mimetype": "text/x-python",
   "name": "python",
   "nbconvert_exporter": "python",
   "pygments_lexer": "ipython3",
   "version": "3.7.6"
  },
  "toc": {
   "base_numbering": 1,
   "nav_menu": {},
   "number_sections": true,
   "sideBar": true,
   "skip_h1_title": true,
   "title_cell": "Table of Contents",
   "title_sidebar": "Contents",
   "toc_cell": false,
   "toc_position": {},
   "toc_section_display": true,
   "toc_window_display": false
  }
 },
 "nbformat": 4,
 "nbformat_minor": 4
}
