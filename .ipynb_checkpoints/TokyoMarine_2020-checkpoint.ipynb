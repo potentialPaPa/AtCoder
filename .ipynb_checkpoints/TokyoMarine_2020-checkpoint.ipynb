{
 "cells": [
  {
   "cell_type": "markdown",
   "metadata": {},
   "source": [
    "# Tokyo Marine Programming Contest 2020"
   ]
  },
  {
   "cell_type": "markdown",
   "metadata": {},
   "source": [
    "Attended on June 13, 2020  "
   ]
  },
  {
   "cell_type": "markdown",
   "metadata": {},
   "source": [
    "https://atcoder.jp/contests/tokiomarine2020"
   ]
  },
  {
   "cell_type": "markdown",
   "metadata": {},
   "source": [
    "## A（AC）"
   ]
  },
  {
   "cell_type": "code",
   "execution_count": 9,
   "metadata": {
    "ExecuteTime": {
     "end_time": "2020-06-13T12:01:28.506098Z",
     "start_time": "2020-06-13T12:01:27.189691Z"
    }
   },
   "outputs": [
    {
     "name": "stdout",
     "output_type": "stream",
     "text": [
      "takahashi\n"
     ]
    }
   ],
   "source": [
    "S = input()"
   ]
  },
  {
   "cell_type": "code",
   "execution_count": 10,
   "metadata": {
    "ExecuteTime": {
     "end_time": "2020-06-13T12:01:28.845728Z",
     "start_time": "2020-06-13T12:01:28.834673Z"
    }
   },
   "outputs": [
    {
     "name": "stdout",
     "output_type": "stream",
     "text": [
      "tak\n"
     ]
    }
   ],
   "source": [
    "print(S[:3])"
   ]
  },
  {
   "cell_type": "markdown",
   "metadata": {},
   "source": [
    "## B（AC）"
   ]
  },
  {
   "cell_type": "code",
   "execution_count": 15,
   "metadata": {
    "ExecuteTime": {
     "end_time": "2020-06-13T12:05:14.798291Z",
     "start_time": "2020-06-13T12:05:11.368953Z"
    }
   },
   "outputs": [
    {
     "name": "stdout",
     "output_type": "stream",
     "text": [
      "1 2\n",
      "3 3\n",
      "3\n"
     ]
    }
   ],
   "source": [
    "A, V = map(int, input().split())\n",
    "B, W = map(int, input().split())\n",
    "T = int(input())"
   ]
  },
  {
   "cell_type": "code",
   "execution_count": 16,
   "metadata": {
    "ExecuteTime": {
     "end_time": "2020-06-13T12:05:15.125502Z",
     "start_time": "2020-06-13T12:05:15.115175Z"
    }
   },
   "outputs": [
    {
     "name": "stdout",
     "output_type": "stream",
     "text": [
      "NO\n"
     ]
    }
   ],
   "source": [
    "if abs(B-A) <= (V-W)*T:\n",
    "    print(\"YES\")\n",
    "else:\n",
    "    print(\"NO\")"
   ]
  },
  {
   "cell_type": "markdown",
   "metadata": {},
   "source": [
    "## C（）"
   ]
  },
  {
   "cell_type": "markdown",
   "metadata": {},
   "source": [
    "- TLEの解"
   ]
  },
  {
   "cell_type": "code",
   "execution_count": 7,
   "metadata": {
    "ExecuteTime": {
     "end_time": "2020-06-13T13:38:49.909882Z",
     "start_time": "2020-06-13T13:38:45.930883Z"
    }
   },
   "outputs": [
    {
     "name": "stdout",
     "output_type": "stream",
     "text": [
      "5 2\n",
      "1 0 0 1 0\n"
     ]
    }
   ],
   "source": [
    "import numpy as np\n",
    "N, K = map(int, input().split())\n",
    "A = np.array(list(map(int, input().split())))"
   ]
  },
  {
   "cell_type": "code",
   "execution_count": 137,
   "metadata": {
    "ExecuteTime": {
     "end_time": "2020-06-13T13:22:52.995632Z",
     "start_time": "2020-06-13T13:22:45.844350Z"
    }
   },
   "outputs": [
    {
     "name": "stdout",
     "output_type": "stream",
     "text": [
      "5 2\n",
      "1 0 0 1 0\n",
      "3 3 4 4 3\n"
     ]
    }
   ],
   "source": [
    "N, K = map(int, input().split())\n",
    "A = list(map(int, input().split()))\n",
    " \n",
    "import numpy as np\n",
    "D = np.array([[0]*N]*N)\n",
    " \n",
    "for k in range(K):\n",
    "    for i in range(N):\n",
    "        L = max(0, i-A[i])\n",
    "        R = min(i+A[i]+1, N)\n",
    " \n",
    "        D[i][L:R] = 1\n",
    "    A = D.sum(axis=0)\n",
    "    \n",
    "print(*D.sum(axis=0))"
   ]
  },
  {
   "cell_type": "markdown",
   "metadata": {},
   "source": [
    "- なぜかREになる"
   ]
  },
  {
   "cell_type": "code",
   "execution_count": 11,
   "metadata": {
    "ExecuteTime": {
     "end_time": "2020-06-13T13:39:26.753535Z",
     "start_time": "2020-06-13T13:39:26.748335Z"
    }
   },
   "outputs": [],
   "source": [
    "D = np.diag([1]*N)"
   ]
  },
  {
   "cell_type": "code",
   "execution_count": 12,
   "metadata": {
    "ExecuteTime": {
     "end_time": "2020-06-13T13:39:28.236317Z",
     "start_time": "2020-06-13T13:39:28.223879Z"
    }
   },
   "outputs": [
    {
     "name": "stdout",
     "output_type": "stream",
     "text": [
      "3 3 4 4 3\n"
     ]
    }
   ],
   "source": [
    "is_all_on = [0] * N\n",
    "\n",
    "for k in range(K):\n",
    "    for i in range(N):\n",
    "        if not is_all_on[i]:\n",
    "            L = max(0, i-A[i])\n",
    "            R = min(i+A[i]+1, N)\n",
    "\n",
    "            D[i][L:R] = 1\n",
    "\n",
    "            is_all_on[i] = D[i].all()\n",
    "    A = D.sum(axis=0)\n",
    "    \n",
    "print(*D.sum(axis=0))"
   ]
  },
  {
   "cell_type": "markdown",
   "metadata": {},
   "source": [
    "## D（）"
   ]
  },
  {
   "cell_type": "code",
   "execution_count": null,
   "metadata": {},
   "outputs": [],
   "source": []
  },
  {
   "cell_type": "markdown",
   "metadata": {},
   "source": [
    "## E（）"
   ]
  },
  {
   "cell_type": "markdown",
   "metadata": {},
   "source": [
    "## F（）"
   ]
  }
 ],
 "metadata": {
  "kernelspec": {
   "display_name": "Python 3",
   "language": "python",
   "name": "python3"
  },
  "language_info": {
   "codemirror_mode": {
    "name": "ipython",
    "version": 3
   },
   "file_extension": ".py",
   "mimetype": "text/x-python",
   "name": "python",
   "nbconvert_exporter": "python",
   "pygments_lexer": "ipython3",
   "version": "3.7.6"
  },
  "toc": {
   "base_numbering": 1,
   "nav_menu": {},
   "number_sections": true,
   "sideBar": true,
   "skip_h1_title": true,
   "title_cell": "Table of Contents",
   "title_sidebar": "Contents",
   "toc_cell": false,
   "toc_position": {},
   "toc_section_display": true,
   "toc_window_display": false
  }
 },
 "nbformat": 4,
 "nbformat_minor": 4
}
