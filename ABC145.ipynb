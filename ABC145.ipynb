{
 "cells": [
  {
   "cell_type": "markdown",
   "metadata": {},
   "source": [
    "# AtCoder Beginner Contest 145"
   ]
  },
  {
   "cell_type": "markdown",
   "metadata": {},
   "source": [
    "Created on May 29, 2020  \n",
    "30 minutes exercise in the morning. --> 28 minutes"
   ]
  },
  {
   "cell_type": "markdown",
   "metadata": {},
   "source": [
    "https://atcoder.jp/contests/abc145"
   ]
  },
  {
   "cell_type": "markdown",
   "metadata": {},
   "source": [
    "## A（AC）"
   ]
  },
  {
   "cell_type": "markdown",
   "metadata": {},
   "source": [
    "https://atcoder.jp/contests/abc145/tasks/abc145_a"
   ]
  },
  {
   "cell_type": "code",
   "execution_count": 53,
   "metadata": {
    "ExecuteTime": {
     "end_time": "2020-05-28T21:03:25.394592Z",
     "start_time": "2020-05-28T21:03:23.948611Z"
    }
   },
   "outputs": [
    {
     "name": "stdout",
     "output_type": "stream",
     "text": [
      "2\n"
     ]
    }
   ],
   "source": [
    "r = int(input())"
   ]
  },
  {
   "cell_type": "code",
   "execution_count": 54,
   "metadata": {
    "ExecuteTime": {
     "end_time": "2020-05-28T21:03:31.723721Z",
     "start_time": "2020-05-28T21:03:31.714610Z"
    }
   },
   "outputs": [
    {
     "name": "stdout",
     "output_type": "stream",
     "text": [
      "4\n"
     ]
    }
   ],
   "source": [
    "print(r**2)"
   ]
  },
  {
   "cell_type": "markdown",
   "metadata": {},
   "source": [
    "## B（AC）"
   ]
  },
  {
   "cell_type": "markdown",
   "metadata": {},
   "source": [
    "https://atcoder.jp/contests/abc145/tasks/abc145_b"
   ]
  },
  {
   "cell_type": "code",
   "execution_count": 11,
   "metadata": {
    "ExecuteTime": {
     "end_time": "2020-05-28T20:41:50.366447Z",
     "start_time": "2020-05-28T20:41:44.642691Z"
    }
   },
   "outputs": [
    {
     "name": "stdout",
     "output_type": "stream",
     "text": [
      "7\n",
      "asdfghj\n"
     ]
    }
   ],
   "source": [
    "N = int(input())\n",
    "S = input()"
   ]
  },
  {
   "cell_type": "code",
   "execution_count": 13,
   "metadata": {
    "ExecuteTime": {
     "end_time": "2020-05-28T20:42:03.585230Z",
     "start_time": "2020-05-28T20:42:03.573761Z"
    }
   },
   "outputs": [
    {
     "name": "stdout",
     "output_type": "stream",
     "text": [
      "No\n"
     ]
    }
   ],
   "source": [
    "if N%2==1:\n",
    "    print('No')\n",
    "else:\n",
    "    if S[:int(N/2)] == S[int(N/2):]:\n",
    "        print('Yes')\n",
    "    else:\n",
    "        print('No')"
   ]
  },
  {
   "cell_type": "markdown",
   "metadata": {},
   "source": [
    "## C（AC）"
   ]
  },
  {
   "cell_type": "markdown",
   "metadata": {},
   "source": [
    "https://atcoder.jp/contests/abc145/tasks/abc145_c"
   ]
  },
  {
   "cell_type": "code",
   "execution_count": 14,
   "metadata": {
    "ExecuteTime": {
     "end_time": "2020-05-28T20:44:00.721940Z",
     "start_time": "2020-05-28T20:44:00.607485Z"
    }
   },
   "outputs": [
    {
     "data": {
      "application/vnd.jupyter.widget-view+json": {
       "model_id": "3b750e8c33554422964a42ddae46d957",
       "version_major": 2,
       "version_minor": 0
      },
      "text/plain": [
       "Textarea(value='')"
      ]
     },
     "metadata": {},
     "output_type": "display_data"
    }
   ],
   "source": [
    "from ipywidgets import Textarea\n",
    "import io\n",
    "\n",
    "if 'open' in globals():\n",
    "    del open\n",
    "original_open = open\n",
    "\n",
    "class custom_open():\n",
    "    def __init__(self):\n",
    "        self.text = ''\n",
    "\n",
    "    def __call__(self, file, *args, **kwargs):\n",
    "        if file == 0:\n",
    "            return io.StringIO(self.text)\n",
    "        return original_open(file, *args, **kwargs)\n",
    "\n",
    "    def updater(self, change):\n",
    "        self.text = change[\"new\"]\n",
    "\n",
    "open = custom_open()\n",
    "text_area = Textarea()\n",
    "text_area.observe(open.updater, names='value')\n",
    "display(text_area)"
   ]
  },
  {
   "cell_type": "code",
   "execution_count": 49,
   "metadata": {
    "ExecuteTime": {
     "end_time": "2020-05-28T20:56:52.871290Z",
     "start_time": "2020-05-28T20:56:52.864233Z"
    }
   },
   "outputs": [],
   "source": [
    "N, *_XY = open(0).read().split()\n",
    "N = int(N)\n",
    "XY = list(zip(*[map(int, iter(_XY))]*2))"
   ]
  },
  {
   "cell_type": "code",
   "execution_count": 50,
   "metadata": {
    "ExecuteTime": {
     "end_time": "2020-05-28T20:56:53.015083Z",
     "start_time": "2020-05-28T20:56:53.005152Z"
    }
   },
   "outputs": [
    {
     "data": {
      "text/plain": [
       "[(-406, 10),\n",
       " (512, 859),\n",
       " (494, 362),\n",
       " (-955, -475),\n",
       " (128, 553),\n",
       " (-986, -885),\n",
       " (763, 77),\n",
       " (449, 310)]"
      ]
     },
     "execution_count": 50,
     "metadata": {},
     "output_type": "execute_result"
    }
   ],
   "source": [
    "XY"
   ]
  },
  {
   "cell_type": "code",
   "execution_count": 52,
   "metadata": {
    "ExecuteTime": {
     "end_time": "2020-05-28T21:02:24.769729Z",
     "start_time": "2020-05-28T21:02:24.490340Z"
    }
   },
   "outputs": [
    {
     "name": "stdout",
     "output_type": "stream",
     "text": [
      "7641.981782438673\n"
     ]
    }
   ],
   "source": [
    "import itertools\n",
    "import numpy as np\n",
    "\n",
    "routes = list(itertools.permutations(XY, N))\n",
    "\n",
    "memo = {}\n",
    "d_list = []\n",
    "\n",
    "for r in routes:\n",
    "    d = 0\n",
    "    for i in range(N-1):\n",
    "        if (r[i], r[i+1]) in memo.keys():\n",
    "            d += memo[(r[i], r[i+1])]\n",
    "        elif (r[i+1], r[i]) in memo.keys():\n",
    "            d += memo[(r[i+1], r[i])]\n",
    "        else:\n",
    "            memo[(r[i], r[i+1])] = np.linalg.norm(np.array(r[i]) - np.array(r[i+1]))\n",
    "            d += memo[(r[i], r[i+1])]\n",
    "    d_list.append(d)\n",
    "\n",
    "print(np.mean(d_list))"
   ]
  }
 ],
 "metadata": {
  "kernelspec": {
   "display_name": "Python 3",
   "language": "python",
   "name": "python3"
  },
  "language_info": {
   "codemirror_mode": {
    "name": "ipython",
    "version": 3
   },
   "file_extension": ".py",
   "mimetype": "text/x-python",
   "name": "python",
   "nbconvert_exporter": "python",
   "pygments_lexer": "ipython3",
   "version": "3.7.6"
  },
  "toc": {
   "base_numbering": 1,
   "nav_menu": {},
   "number_sections": true,
   "sideBar": true,
   "skip_h1_title": true,
   "title_cell": "Table of Contents",
   "title_sidebar": "Contents",
   "toc_cell": false,
   "toc_position": {},
   "toc_section_display": true,
   "toc_window_display": false
  }
 },
 "nbformat": 4,
 "nbformat_minor": 4
}
