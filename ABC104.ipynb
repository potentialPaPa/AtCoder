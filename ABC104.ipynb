{
 "cells": [
  {
   "cell_type": "markdown",
   "metadata": {},
   "source": [
    "# AtCoder Beginner Contest 104"
   ]
  },
  {
   "cell_type": "markdown",
   "metadata": {},
   "source": [
    "Created on July 18, 2020  \n",
    "A-C: Over 30 minutes."
   ]
  },
  {
   "cell_type": "markdown",
   "metadata": {},
   "source": [
    "https://atcoder.jp/contests/abc104"
   ]
  },
  {
   "cell_type": "markdown",
   "metadata": {},
   "source": [
    "## A（AC）"
   ]
  },
  {
   "cell_type": "markdown",
   "metadata": {},
   "source": [
    "https://atcoder.jp/contests/abc104/tasks/abc104_a"
   ]
  },
  {
   "cell_type": "code",
   "execution_count": 1,
   "metadata": {
    "ExecuteTime": {
     "end_time": "2020-07-18T12:57:56.311935Z",
     "start_time": "2020-07-18T12:57:54.305815Z"
    }
   },
   "outputs": [
    {
     "name": "stdout",
     "output_type": "stream",
     "text": [
      "1300\n"
     ]
    }
   ],
   "source": [
    "R = int(input())"
   ]
  },
  {
   "cell_type": "code",
   "execution_count": 2,
   "metadata": {
    "ExecuteTime": {
     "end_time": "2020-07-18T12:59:05.105563Z",
     "start_time": "2020-07-18T12:59:05.093673Z"
    }
   },
   "outputs": [
    {
     "name": "stdout",
     "output_type": "stream",
     "text": [
      "ARC\n"
     ]
    }
   ],
   "source": [
    "if R < 1200:\n",
    "    ans = \"ABC\"\n",
    "elif R < 2800:\n",
    "    ans = \"ARC\"\n",
    "else:\n",
    "    ans = \"AGC\"\n",
    "    \n",
    "print(ans)"
   ]
  },
  {
   "cell_type": "markdown",
   "metadata": {},
   "source": [
    "## B（AC）"
   ]
  },
  {
   "cell_type": "markdown",
   "metadata": {},
   "source": [
    "https://atcoder.jp/contests/abc104/tasks/abc104_b"
   ]
  },
  {
   "cell_type": "code",
   "execution_count": 25,
   "metadata": {
    "ExecuteTime": {
     "end_time": "2020-07-18T13:07:41.829460Z",
     "start_time": "2020-07-18T13:07:39.177890Z"
    }
   },
   "outputs": [
    {
     "name": "stdout",
     "output_type": "stream",
     "text": [
      "AtCoder\n"
     ]
    }
   ],
   "source": [
    "S = input()"
   ]
  },
  {
   "cell_type": "code",
   "execution_count": 26,
   "metadata": {
    "ExecuteTime": {
     "end_time": "2020-07-18T13:07:42.064464Z",
     "start_time": "2020-07-18T13:07:42.047215Z"
    }
   },
   "outputs": [
    {
     "name": "stdout",
     "output_type": "stream",
     "text": [
      "AC\n"
     ]
    }
   ],
   "source": [
    "ans = \"WA\"\n",
    "\n",
    "if S[0] == \"A\" and S[2:-1].count(\"C\") == 1:\n",
    "    if S[1:].replace(\"C\", \"\").islower():\n",
    "        ans = \"AC\"\n",
    "\n",
    "print(ans)"
   ]
  },
  {
   "cell_type": "markdown",
   "metadata": {},
   "source": [
    "## C（解けず…、解説動画を見て実装）"
   ]
  },
  {
   "cell_type": "markdown",
   "metadata": {},
   "source": [
    "https://atcoder.jp/contests/abc104/tasks/abc104_c"
   ]
  },
  {
   "cell_type": "code",
   "execution_count": 1,
   "metadata": {
    "ExecuteTime": {
     "end_time": "2020-07-18T14:29:48.137021Z",
     "start_time": "2020-07-18T14:29:48.046317Z"
    }
   },
   "outputs": [
    {
     "data": {
      "application/vnd.jupyter.widget-view+json": {
       "model_id": "d39cf91f6d1842d5888fe5947fb4dc30",
       "version_major": 2,
       "version_minor": 0
      },
      "text/plain": [
       "Textarea(value='')"
      ]
     },
     "metadata": {},
     "output_type": "display_data"
    }
   ],
   "source": [
    "from ipywidgets import Textarea\n",
    "import io\n",
    "\n",
    "if 'open' in globals():\n",
    "    del open\n",
    "original_open = open\n",
    "class custom_open():\n",
    "    def __init__(self):\n",
    "        self.text = ''\n",
    "    def __call__(self, file, *args, **kwargs):\n",
    "        if file == 0:\n",
    "            return io.StringIO(self.text)\n",
    "        return original_open(file, *args, **kwargs)\n",
    "    def updater(self, change):\n",
    "        self.text = change[\"new\"]\n",
    "open = custom_open()\n",
    "text_area = Textarea()\n",
    "text_area.observe(open.updater, names='value')\n",
    "display(text_area)"
   ]
  },
  {
   "cell_type": "code",
   "execution_count": 76,
   "metadata": {
    "ExecuteTime": {
     "end_time": "2020-07-18T15:06:52.806230Z",
     "start_time": "2020-07-18T15:06:52.794660Z"
    }
   },
   "outputs": [],
   "source": [
    "import numpy as np\n",
    "\n",
    "D, G, *pc = map(int, open(0).read().split())\n",
    "pc = list(zip(*[iter(pc)]*2))\n",
    "p, c = np.array([]), np.array([])\n",
    "for (x,y) in pc:\n",
    "    p = np.append(p, x)\n",
    "    c = np.append(c, y)"
   ]
  },
  {
   "cell_type": "code",
   "execution_count": 77,
   "metadata": {
    "ExecuteTime": {
     "end_time": "2020-07-18T15:06:53.549633Z",
     "start_time": "2020-07-18T15:06:53.540293Z"
    },
    "scrolled": true
   },
   "outputs": [
    {
     "data": {
      "text/plain": [
       "(10,\n",
       " 10550000,\n",
       " array([100., 100., 100., 100., 100., 100., 100., 100., 100., 100.]),\n",
       " array([1000000., 1000000., 1000000., 1000000., 1000000., 1000000.,\n",
       "        1000000., 1000000., 1000000., 1000000.]))"
      ]
     },
     "execution_count": 77,
     "metadata": {},
     "output_type": "execute_result"
    }
   ],
   "source": [
    "D, G, p, c"
   ]
  },
  {
   "cell_type": "markdown",
   "metadata": {},
   "source": [
    "- 解説を見て実装（ACしたもののコード汚い）"
   ]
  },
  {
   "cell_type": "code",
   "execution_count": 91,
   "metadata": {
    "ExecuteTime": {
     "end_time": "2020-07-18T15:12:48.888746Z",
     "start_time": "2020-07-18T15:12:48.781073Z"
    }
   },
   "outputs": [
    {
     "name": "stdout",
     "output_type": "stream",
     "text": [
      "1000\n"
     ]
    }
   ],
   "source": [
    "import numpy as np\n",
    "import math\n",
    "\n",
    "base_points = np.array([i*100 for i in range(1, D+1)])\n",
    "\n",
    "ans = []\n",
    "\n",
    "for i in range(2**D):\n",
    "    bit_flag = np.array(list(map(int, format(i, '0%db' %D))))\n",
    "    points = sum(bit_flag * (c + p*base_points))\n",
    "    solved_num = sum(bit_flag * p)\n",
    "    \n",
    "    if points >= G:\n",
    "        ans.append(solved_num)\n",
    "\n",
    "    else:\n",
    "        remained = G - points\n",
    "        remained_problems = sorted((bit_flag==False) * np.array(range(1, D+1)), reverse=True)\n",
    "        i = 0\n",
    "\n",
    "        while True:\n",
    "            if remained <= 0:\n",
    "                break\n",
    "                \n",
    "            highest_p = remained_problems[i]\n",
    "\n",
    "            if math.ceil(remained / (highest_p * 100)) <= p[highest_p - 1]:\n",
    "                solved_num += math.ceil(remained / (highest_p * 100))\n",
    "                remained -= (math.ceil(remained / (highest_p * 100)) * highest_p * 100)\n",
    "            else:\n",
    "                solved_num += p[highest_p - 1]\n",
    "                remained -= (highest_p * 100 * p[highest_p - 1] + c[highest_p - 1])\n",
    "                i += 1\n",
    "\n",
    "        ans.append(solved_num)\n",
    "        \n",
    "print(int(min(ans)))"
   ]
  },
  {
   "cell_type": "markdown",
   "metadata": {},
   "source": [
    "- WA"
   ]
  },
  {
   "cell_type": "code",
   "execution_count": 99,
   "metadata": {
    "ExecuteTime": {
     "end_time": "2020-07-18T13:45:40.974772Z",
     "start_time": "2020-07-18T13:45:40.963330Z"
    }
   },
   "outputs": [],
   "source": [
    "# 全完一つで達成できるケース\n",
    "\n",
    "total_points = []\n",
    "for i in range(D):\n",
    "    total_points.append(pc[i][0] * (i+1) * 100 + pc[i][1])\n",
    "    \n",
    "ans_list = [i[0] for i, x in zip(pc, total_points) if x >= G]"
   ]
  },
  {
   "cell_type": "code",
   "execution_count": 100,
   "metadata": {
    "ExecuteTime": {
     "end_time": "2020-07-18T13:46:09.043447Z",
     "start_time": "2020-07-18T13:46:09.026650Z"
    }
   },
   "outputs": [
    {
     "name": "stdout",
     "output_type": "stream",
     "text": [
      "66\n"
     ]
    }
   ],
   "source": [
    "# 難しい問題から順に解いていくケース\n",
    "\n",
    "import math\n",
    "\n",
    "achieved = False\n",
    "remained = G\n",
    "highest_p = D\n",
    "\n",
    "ans_other = 0\n",
    "\n",
    "while not achieved:\n",
    "    if remained <= 0:\n",
    "        achieved = True\n",
    "    elif math.ceil(remained / (highest_p * 100)) <= pc[highest_p - 1][0]:\n",
    "        ans_other += math.ceil(remained / (highest_p * 100))\n",
    "        remained -= (math.ceil(remained / (highest_p * 100)) * highest_p * 100)\n",
    "    else:\n",
    "        ans_other += pc[highest_p - 1][0]\n",
    "        remained -= (highest_p * 100 * pc[highest_p - 1][0] + pc[highest_p - 1][1])\n",
    "        highest_p -= 1\n",
    "        \n",
    "ans_list.append(ans_other)\n",
    "\n",
    "print(min(ans_list))"
   ]
  },
  {
   "cell_type": "code",
   "execution_count": 139,
   "metadata": {
    "ExecuteTime": {
     "end_time": "2020-07-18T14:03:55.733159Z",
     "start_time": "2020-07-18T14:03:55.715757Z"
    }
   },
   "outputs": [
    {
     "name": "stdout",
     "output_type": "stream",
     "text": [
      "66\n"
     ]
    }
   ],
   "source": [
    "# 完答ボーナスを含め、最も効率の良い問題から解くケース\n",
    "import math\n",
    "\n",
    "efficient_order = sorted(list(zip([x/y for x,(y,z) in list(zip(total_points, pc))], range(1, D+1))), reverse = True)\n",
    "\n",
    "achieved = False\n",
    "remained = G\n",
    "highest_p = D\n",
    "\n",
    "ans_other = 0\n",
    "\n",
    "for _, i in efficient_order:\n",
    "        if remained <= 0:\n",
    "            break\n",
    "        elif math.ceil(remained / (i * 100)) <= pc[i - 1][0]:\n",
    "            ans_other += math.ceil(remained / (i * 100))\n",
    "            remained -= (math.ceil(remained / (i * 100)) * i * 100)\n",
    "        else:\n",
    "            ans_other += pc[i - 1][0]\n",
    "            remained -= (i * 100 * pc[i - 1][0] + pc[i - 1][1])\n",
    "\n",
    "ans_list.append(ans_other)\n",
    "\n",
    "print(min(ans_list))"
   ]
  },
  {
   "cell_type": "markdown",
   "metadata": {},
   "source": [
    "## D（）"
   ]
  },
  {
   "cell_type": "markdown",
   "metadata": {},
   "source": [
    "https://atcoder.jp/contests/abc104/tasks/abc104_d"
   ]
  }
 ],
 "metadata": {
  "kernelspec": {
   "display_name": "Python 3",
   "language": "python",
   "name": "python3"
  },
  "language_info": {
   "codemirror_mode": {
    "name": "ipython",
    "version": 3
   },
   "file_extension": ".py",
   "mimetype": "text/x-python",
   "name": "python",
   "nbconvert_exporter": "python",
   "pygments_lexer": "ipython3",
   "version": "3.7.6"
  },
  "toc": {
   "base_numbering": 1,
   "nav_menu": {},
   "number_sections": true,
   "sideBar": true,
   "skip_h1_title": true,
   "title_cell": "Table of Contents",
   "title_sidebar": "Contents",
   "toc_cell": false,
   "toc_position": {},
   "toc_section_display": true,
   "toc_window_display": false
  }
 },
 "nbformat": 4,
 "nbformat_minor": 4
}
