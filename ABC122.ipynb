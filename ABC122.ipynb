{
 "cells": [
  {
   "cell_type": "markdown",
   "metadata": {},
   "source": [
    "# AtCoder Beginner Contest 122"
   ]
  },
  {
   "cell_type": "markdown",
   "metadata": {},
   "source": [
    "Created on June 14, 2020  \n",
    "Morning exercise.  \n",
    "A-C: 43min."
   ]
  },
  {
   "cell_type": "markdown",
   "metadata": {},
   "source": [
    "https://atcoder.jp/contests/abc122"
   ]
  },
  {
   "cell_type": "markdown",
   "metadata": {},
   "source": [
    "## A（AC）"
   ]
  },
  {
   "cell_type": "markdown",
   "metadata": {},
   "source": [
    "https://atcoder.jp/contests/abc122/tasks/abc122_a"
   ]
  },
  {
   "cell_type": "code",
   "execution_count": 3,
   "metadata": {
    "ExecuteTime": {
     "end_time": "2020-06-13T21:17:09.364808Z",
     "start_time": "2020-06-13T21:17:08.199760Z"
    }
   },
   "outputs": [
    {
     "name": "stdout",
     "output_type": "stream",
     "text": [
      "G\n"
     ]
    }
   ],
   "source": [
    "b = input()"
   ]
  },
  {
   "cell_type": "code",
   "execution_count": 4,
   "metadata": {
    "ExecuteTime": {
     "end_time": "2020-06-13T21:17:09.915156Z",
     "start_time": "2020-06-13T21:17:09.904116Z"
    }
   },
   "outputs": [
    {
     "name": "stdout",
     "output_type": "stream",
     "text": [
      "C\n"
     ]
    }
   ],
   "source": [
    "pair = {\"A\": \"T\", \"T\": \"A\", \"C\": \"G\", \"G\": \"C\"}\n",
    "print(pair[b])"
   ]
  },
  {
   "cell_type": "markdown",
   "metadata": {},
   "source": [
    "## B（AC）"
   ]
  },
  {
   "cell_type": "markdown",
   "metadata": {},
   "source": [
    "https://atcoder.jp/contests/abc122/tasks/abc122_b"
   ]
  },
  {
   "cell_type": "code",
   "execution_count": 25,
   "metadata": {
    "ExecuteTime": {
     "end_time": "2020-06-13T21:28:46.100154Z",
     "start_time": "2020-06-13T21:28:45.323122Z"
    }
   },
   "outputs": [
    {
     "name": "stdout",
     "output_type": "stream",
     "text": [
      "SHINJUKU\n"
     ]
    }
   ],
   "source": [
    "S = list(input())"
   ]
  },
  {
   "cell_type": "code",
   "execution_count": 26,
   "metadata": {
    "ExecuteTime": {
     "end_time": "2020-06-13T21:28:46.390242Z",
     "start_time": "2020-06-13T21:28:46.375854Z"
    }
   },
   "outputs": [
    {
     "name": "stdout",
     "output_type": "stream",
     "text": [
      "0\n"
     ]
    }
   ],
   "source": [
    "max_len = 0\n",
    "\n",
    "for i in range(len(S)):\n",
    "    for j in range(i, len(S)):\n",
    "        if S[i:j+1][-1] not in [\"A\", \"C\", \"G\", \"T\"]:\n",
    "            break\n",
    "        else:\n",
    "            max_len = max(max_len, len(S[i:j+1]))\n",
    "            \n",
    "print(max_len)"
   ]
  },
  {
   "cell_type": "markdown",
   "metadata": {},
   "source": [
    "## C（AC、ただしTLE*1）"
   ]
  },
  {
   "cell_type": "markdown",
   "metadata": {},
   "source": [
    "https://atcoder.jp/contests/abc122/tasks/abc122_c"
   ]
  },
  {
   "cell_type": "code",
   "execution_count": 27,
   "metadata": {
    "ExecuteTime": {
     "end_time": "2020-06-13T21:29:33.377148Z",
     "start_time": "2020-06-13T21:29:33.284217Z"
    },
    "scrolled": true
   },
   "outputs": [
    {
     "data": {
      "application/vnd.jupyter.widget-view+json": {
       "model_id": "e49bda995c884e95aee1d5022dbae4ee",
       "version_major": 2,
       "version_minor": 0
      },
      "text/plain": [
       "Textarea(value='')"
      ]
     },
     "metadata": {},
     "output_type": "display_data"
    }
   ],
   "source": [
    "from ipywidgets import Textarea\n",
    "import io\n",
    "\n",
    "if 'open' in globals():\n",
    "    del open\n",
    "original_open = open\n",
    "class custom_open():\n",
    "    def __init__(self):\n",
    "        self.text = ''\n",
    "    def __call__(self, file, *args, **kwargs):\n",
    "        if file == 0:\n",
    "            return io.StringIO(self.text)\n",
    "        return original_open(file, *args, **kwargs)\n",
    "    def updater(self, change):\n",
    "        self.text = change[\"new\"]\n",
    "open = custom_open()\n",
    "text_area = Textarea()\n",
    "text_area.observe(open.updater, names='value')\n",
    "display(text_area)"
   ]
  },
  {
   "cell_type": "markdown",
   "metadata": {},
   "source": [
    "- TLEの解"
   ]
  },
  {
   "cell_type": "code",
   "execution_count": 32,
   "metadata": {
    "ExecuteTime": {
     "end_time": "2020-06-13T21:34:07.808891Z",
     "start_time": "2020-06-13T21:34:07.802048Z"
    }
   },
   "outputs": [],
   "source": [
    "N, Q, S, *_LR = open(0).read().split()\n",
    "N = int(N)\n",
    "Q = int(Q)\n",
    "LR = list(zip(*[map(int, iter(_LR))]*2))"
   ]
  },
  {
   "cell_type": "code",
   "execution_count": 33,
   "metadata": {
    "ExecuteTime": {
     "end_time": "2020-06-13T21:34:08.172597Z",
     "start_time": "2020-06-13T21:34:08.159121Z"
    }
   },
   "outputs": [
    {
     "data": {
      "text/plain": [
       "(8, 3, 'ACACTACG', [(3, 7), (2, 3), (1, 8)])"
      ]
     },
     "execution_count": 33,
     "metadata": {},
     "output_type": "execute_result"
    }
   ],
   "source": [
    "N, Q, S, LR"
   ]
  },
  {
   "cell_type": "code",
   "execution_count": 62,
   "metadata": {
    "ExecuteTime": {
     "end_time": "2020-06-13T21:44:25.276314Z",
     "start_time": "2020-06-13T21:44:25.264937Z"
    }
   },
   "outputs": [
    {
     "name": "stdout",
     "output_type": "stream",
     "text": [
      "2\n",
      "0\n",
      "3\n"
     ]
    }
   ],
   "source": [
    "AC = []\n",
    "\n",
    "for i in range(1, N):\n",
    "    if S[i-1: i+1] == \"AC\":\n",
    "        AC.append(1)\n",
    "    else:\n",
    "        AC.append(0)\n",
    "        \n",
    "for L,R in LR:\n",
    "    print(sum(AC[L-1: R-1]))"
   ]
  },
  {
   "cell_type": "markdown",
   "metadata": {},
   "source": [
    "- 【AC】累積和を使用して、スライスをなくした"
   ]
  },
  {
   "cell_type": "code",
   "execution_count": 63,
   "metadata": {
    "ExecuteTime": {
     "end_time": "2020-06-13T21:45:25.085377Z",
     "start_time": "2020-06-13T21:45:25.076227Z"
    }
   },
   "outputs": [],
   "source": [
    "N, Q, S, *_LR = open(0).read().split()\n",
    "N = int(N)\n",
    "Q = int(Q)\n",
    "LR = list(zip(*[map(int, iter(_LR))]*2))"
   ]
  },
  {
   "cell_type": "code",
   "execution_count": 64,
   "metadata": {
    "ExecuteTime": {
     "end_time": "2020-06-13T21:45:25.293487Z",
     "start_time": "2020-06-13T21:45:25.283630Z"
    }
   },
   "outputs": [
    {
     "data": {
      "text/plain": [
       "(8, 3, 'ACACTACG', [(3, 7), (2, 3), (1, 8)])"
      ]
     },
     "execution_count": 64,
     "metadata": {},
     "output_type": "execute_result"
    }
   ],
   "source": [
    "N, Q, S, LR"
   ]
  },
  {
   "cell_type": "code",
   "execution_count": 88,
   "metadata": {
    "ExecuteTime": {
     "end_time": "2020-06-13T21:57:25.239875Z",
     "start_time": "2020-06-13T21:57:25.226149Z"
    }
   },
   "outputs": [
    {
     "name": "stdout",
     "output_type": "stream",
     "text": [
      "2\n",
      "0\n",
      "3\n"
     ]
    }
   ],
   "source": [
    "AC = [0]*(N)\n",
    "\n",
    "for i in range(1, N):\n",
    "    if S[i-1] == \"A\":\n",
    "        if S[i] == \"C\":\n",
    "            is_AC = 1\n",
    "        else:\n",
    "            is_AC = 0\n",
    "    else:\n",
    "        is_AC = 0\n",
    "\n",
    "    if i == 1:\n",
    "        AC[i] = is_AC\n",
    "    else:\n",
    "        AC[i] = AC[i-1] + is_AC\n",
    "        \n",
    "for L,R in LR:\n",
    "    print(AC[R-1] - AC[L-1])"
   ]
  },
  {
   "cell_type": "markdown",
   "metadata": {},
   "source": [
    "## D（）"
   ]
  },
  {
   "cell_type": "markdown",
   "metadata": {},
   "source": [
    "https://atcoder.jp/contests/abc122/tasks/abc122_d"
   ]
  }
 ],
 "metadata": {
  "kernelspec": {
   "display_name": "Python 3",
   "language": "python",
   "name": "python3"
  },
  "language_info": {
   "codemirror_mode": {
    "name": "ipython",
    "version": 3
   },
   "file_extension": ".py",
   "mimetype": "text/x-python",
   "name": "python",
   "nbconvert_exporter": "python",
   "pygments_lexer": "ipython3",
   "version": "3.7.6"
  },
  "toc": {
   "base_numbering": 1,
   "nav_menu": {},
   "number_sections": true,
   "sideBar": true,
   "skip_h1_title": true,
   "title_cell": "Table of Contents",
   "title_sidebar": "Contents",
   "toc_cell": false,
   "toc_position": {},
   "toc_section_display": true,
   "toc_window_display": false
  }
 },
 "nbformat": 4,
 "nbformat_minor": 4
}
