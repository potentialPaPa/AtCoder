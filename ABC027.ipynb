{
 "cells": [
  {
   "cell_type": "markdown",
   "metadata": {},
   "source": [
    "# AtCoder Beginner Contest 027"
   ]
  },
  {
   "cell_type": "markdown",
   "metadata": {},
   "source": [
    "Created on December 03, 2020  "
   ]
  },
  {
   "cell_type": "markdown",
   "metadata": {},
   "source": [
    "https://atcoder.jp/contests/abc027"
   ]
  },
  {
   "cell_type": "markdown",
   "metadata": {},
   "source": [
    "## A（AC）"
   ]
  },
  {
   "cell_type": "markdown",
   "metadata": {},
   "source": [
    "https://atcoder.jp/contests/abc027/tasks/abc027_a"
   ]
  },
  {
   "cell_type": "code",
   "execution_count": 6,
   "metadata": {
    "ExecuteTime": {
     "end_time": "2020-12-03T14:24:55.830656Z",
     "start_time": "2020-12-03T14:24:54.385807Z"
    }
   },
   "outputs": [
    {
     "name": "stdout",
     "output_type": "stream",
     "text": [
      "5 5 5\n"
     ]
    }
   ],
   "source": [
    "L = list(map(int, input().split()))"
   ]
  },
  {
   "cell_type": "code",
   "execution_count": 7,
   "metadata": {
    "ExecuteTime": {
     "end_time": "2020-12-03T14:24:56.039231Z",
     "start_time": "2020-12-03T14:24:56.027813Z"
    }
   },
   "outputs": [
    {
     "name": "stdout",
     "output_type": "stream",
     "text": [
      "5\n"
     ]
    }
   ],
   "source": [
    "if L[0]==L[1]:\n",
    "    print(L[2])\n",
    "elif L[1]==L[2]:\n",
    "    print(L[0])\n",
    "else: #L[0]==L[2]\n",
    "    print(L[1])"
   ]
  },
  {
   "cell_type": "markdown",
   "metadata": {},
   "source": [
    "## B（AC, WA*1）"
   ]
  },
  {
   "cell_type": "markdown",
   "metadata": {},
   "source": [
    "https://atcoder.jp/contests/abc027/tasks/abc027_b"
   ]
  },
  {
   "cell_type": "markdown",
   "metadata": {},
   "source": [
    "良い解法が思いつかなかった。  \n",
    "解説スライドを見ながら実装。"
   ]
  },
  {
   "cell_type": "code",
   "execution_count": 90,
   "metadata": {
    "ExecuteTime": {
     "end_time": "2020-12-03T23:32:33.214824Z",
     "start_time": "2020-12-03T23:32:30.802159Z"
    }
   },
   "outputs": [
    {
     "name": "stdout",
     "output_type": "stream",
     "text": [
      "4\n",
      "0 0 0 0\n"
     ]
    }
   ],
   "source": [
    "N = int(input())\n",
    "A = list(map(int, input().split()))"
   ]
  },
  {
   "cell_type": "code",
   "execution_count": 92,
   "metadata": {
    "ExecuteTime": {
     "end_time": "2020-12-03T23:32:39.119324Z",
     "start_time": "2020-12-03T23:32:39.103294Z"
    }
   },
   "outputs": [
    {
     "name": "stdout",
     "output_type": "stream",
     "text": [
      "0\n"
     ]
    }
   ],
   "source": [
    "from numpy import cumsum\n",
    "\n",
    "S = sum(A)\n",
    "ave = S/N\n",
    "cum_S = cumsum(A)\n",
    "\n",
    "if S%N == 0:\n",
    "    ans = 0\n",
    "    \n",
    "    for i in range(N-1):\n",
    "        L,R = cum_S[i], cum_S[-1] - cum_S[i]\n",
    "        if L != (i+1)*ave:\n",
    "            ans += 1\n",
    "            \n",
    "    print(ans)\n",
    "    \n",
    "else:\n",
    "    print(-1)"
   ]
  },
  {
   "cell_type": "markdown",
   "metadata": {},
   "source": [
    "【WA解法（要因不明）】"
   ]
  },
  {
   "cell_type": "code",
   "execution_count": 57,
   "metadata": {
    "ExecuteTime": {
     "end_time": "2020-12-03T23:19:24.121557Z",
     "start_time": "2020-12-03T23:19:24.106201Z"
    }
   },
   "outputs": [
    {
     "name": "stdout",
     "output_type": "stream",
     "text": [
      "-1\n"
     ]
    }
   ],
   "source": [
    "S = sum(A)\n",
    "ave = S/N\n",
    "\n",
    "k = 0\n",
    "g = {0: 0} # グループ\n",
    "e = {0: 0} # 各グループに入っている要素数\n",
    "\n",
    "is_solved = False\n",
    "\n",
    "for i,a in enumerate(A):\n",
    "    g[k] += a\n",
    "    e[k] += 1\n",
    "    \n",
    "    if g[k]//e[k] == ave:\n",
    "        if i == N-1:\n",
    "            is_solved = True\n",
    "        else:\n",
    "            k += 1\n",
    "            g[k],e[k] = 0,0\n",
    "\n",
    "if is_solved:\n",
    "    print(sum(e.values()) - len(e))\n",
    "else:\n",
    "    print(-1)"
   ]
  },
  {
   "cell_type": "markdown",
   "metadata": {},
   "source": [
    "## C（）"
   ]
  },
  {
   "cell_type": "markdown",
   "metadata": {},
   "source": [
    "https://atcoder.jp/contests/abc027/tasks/abc027_c"
   ]
  },
  {
   "cell_type": "code",
   "execution_count": 96,
   "metadata": {
    "ExecuteTime": {
     "end_time": "2020-12-03T23:34:48.424031Z",
     "start_time": "2020-12-03T23:34:45.229606Z"
    }
   },
   "outputs": [
    {
     "name": "stdout",
     "output_type": "stream",
     "text": [
      "1\n"
     ]
    }
   ],
   "source": [
    "N = int(input())"
   ]
  },
  {
   "cell_type": "markdown",
   "metadata": {},
   "source": [
    "## D（）"
   ]
  },
  {
   "cell_type": "markdown",
   "metadata": {},
   "source": [
    "https://atcoder.jp/contests/abc027/tasks/abc027_d"
   ]
  }
 ],
 "metadata": {
  "kernelspec": {
   "display_name": "Python 3",
   "language": "python",
   "name": "python3"
  },
  "language_info": {
   "codemirror_mode": {
    "name": "ipython",
    "version": 3
   },
   "file_extension": ".py",
   "mimetype": "text/x-python",
   "name": "python",
   "nbconvert_exporter": "python",
   "pygments_lexer": "ipython3",
   "version": "3.7.6"
  },
  "toc": {
   "base_numbering": 1,
   "nav_menu": {},
   "number_sections": true,
   "sideBar": true,
   "skip_h1_title": true,
   "title_cell": "Table of Contents",
   "title_sidebar": "Contents",
   "toc_cell": false,
   "toc_position": {},
   "toc_section_display": true,
   "toc_window_display": false
  }
 },
 "nbformat": 4,
 "nbformat_minor": 4
}
