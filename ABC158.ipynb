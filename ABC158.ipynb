{
 "cells": [
  {
   "cell_type": "markdown",
   "metadata": {},
   "source": [
    "# AtCoder Beginner Contest 158"
   ]
  },
  {
   "cell_type": "markdown",
   "metadata": {},
   "source": [
    "Created on May 6, 2020  \n",
    "For Exercise in the morning."
   ]
  },
  {
   "cell_type": "markdown",
   "metadata": {},
   "source": [
    "https://atcoder.jp/contests/abc158"
   ]
  },
  {
   "cell_type": "markdown",
   "metadata": {},
   "source": [
    "## A（AC）"
   ]
  },
  {
   "cell_type": "markdown",
   "metadata": {},
   "source": [
    "https://atcoder.jp/contests/abc158/tasks/abc158_a"
   ]
  },
  {
   "cell_type": "code",
   "execution_count": 3,
   "metadata": {},
   "outputs": [
    {
     "name": "stdin",
     "output_type": "stream",
     "text": [
      " AAA\n"
     ]
    }
   ],
   "source": [
    "S = list(input())"
   ]
  },
  {
   "cell_type": "code",
   "execution_count": 6,
   "metadata": {},
   "outputs": [
    {
     "name": "stdout",
     "output_type": "stream",
     "text": [
      "No\n"
     ]
    }
   ],
   "source": [
    "if len(set(S)) == 1:\n",
    "    print('No')\n",
    "else:\n",
    "    print('Yes')"
   ]
  },
  {
   "cell_type": "markdown",
   "metadata": {},
   "source": [
    "## B（AC）"
   ]
  },
  {
   "cell_type": "markdown",
   "metadata": {},
   "source": [
    "https://atcoder.jp/contests/abc158/tasks/abc158_b"
   ]
  },
  {
   "cell_type": "code",
   "execution_count": 43,
   "metadata": {},
   "outputs": [
    {
     "name": "stdin",
     "output_type": "stream",
     "text": [
      " 8 0 4\n"
     ]
    }
   ],
   "source": [
    "N, A, B = map(int, input().split())"
   ]
  },
  {
   "cell_type": "code",
   "execution_count": 44,
   "metadata": {},
   "outputs": [
    {
     "name": "stdout",
     "output_type": "stream",
     "text": [
      "0\n"
     ]
    }
   ],
   "source": [
    "import math\n",
    "\n",
    "ans = 0\n",
    "\n",
    "ONE_BLOCK_NUM = A + B\n",
    "\n",
    "if ONE_BLOCK_NUM != 0:\n",
    "    ans += math.floor(N / ONE_BLOCK_NUM) * A # ひとかたまり丸々ある部分\n",
    "    res = N % ONE_BLOCK_NUM                  # ひとかたまり丸々は無い、最後の部分\n",
    "    if res >= A:\n",
    "        ans += A\n",
    "    else:\n",
    "        ans += res\n",
    "\n",
    "print(ans)"
   ]
  },
  {
   "cell_type": "markdown",
   "metadata": {},
   "source": [
    "## C（AC）"
   ]
  },
  {
   "cell_type": "markdown",
   "metadata": {},
   "source": [
    "https://atcoder.jp/contests/abc158/tasks/abc158_c"
   ]
  },
  {
   "cell_type": "code",
   "execution_count": 84,
   "metadata": {},
   "outputs": [
    {
     "name": "stdin",
     "output_type": "stream",
     "text": [
      " 8 10\n"
     ]
    }
   ],
   "source": [
    "A, B = map(int, input().split())"
   ]
  },
  {
   "cell_type": "code",
   "execution_count": 87,
   "metadata": {},
   "outputs": [
    {
     "name": "stdout",
     "output_type": "stream",
     "text": [
      "100\n"
     ]
    }
   ],
   "source": [
    "import math\n",
    "\n",
    "X_MIN_FROM_A = math.ceil(A / 0.08)\n",
    "X_MAX_FROM_A = math.ceil((A + 1) / 0.08)\n",
    "\n",
    "ans_set_from_a = set(range(X_MIN_FROM_A, X_MAX_FROM_A))\n",
    "\n",
    "X_MIN_FROM_B = math.ceil(B / 0.10)\n",
    "X_MAX_FROM_B = math.ceil((B + 1) / 0.10)\n",
    "\n",
    "ans_set_from_b = set(range(X_MIN_FROM_B, X_MAX_FROM_B))\n",
    "\n",
    "\n",
    "ans_set = ans_set_from_a & ans_set_from_b\n",
    "\n",
    "if len(ans_set) == 0:\n",
    "    print(-1)\n",
    "else:\n",
    "    print(min(ans_set))"
   ]
  }
 ],
 "metadata": {
  "kernelspec": {
   "display_name": "Python 3",
   "language": "python",
   "name": "python3"
  },
  "language_info": {
   "codemirror_mode": {
    "name": "ipython",
    "version": 3
   },
   "file_extension": ".py",
   "mimetype": "text/x-python",
   "name": "python",
   "nbconvert_exporter": "python",
   "pygments_lexer": "ipython3",
   "version": "3.7.4"
  }
 },
 "nbformat": 4,
 "nbformat_minor": 4
}
