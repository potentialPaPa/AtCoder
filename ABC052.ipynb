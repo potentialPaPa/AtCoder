{
 "cells": [
  {
   "cell_type": "markdown",
   "metadata": {},
   "source": [
    "# AtCoder Beginner Contest 052"
   ]
  },
  {
   "cell_type": "markdown",
   "metadata": {},
   "source": [
    "Created on November 22, 2020  "
   ]
  },
  {
   "cell_type": "markdown",
   "metadata": {},
   "source": [
    "https://atcoder.jp/contests/abc052"
   ]
  },
  {
   "cell_type": "markdown",
   "metadata": {},
   "source": [
    "## A（AC）"
   ]
  },
  {
   "cell_type": "markdown",
   "metadata": {},
   "source": [
    "https://atcoder.jp/contests/abc052/tasks/abc052_a"
   ]
  },
  {
   "cell_type": "code",
   "execution_count": 3,
   "metadata": {
    "ExecuteTime": {
     "end_time": "2020-11-21T19:52:08.809848Z",
     "start_time": "2020-11-21T19:52:07.949297Z"
    }
   },
   "outputs": [
    {
     "name": "stdout",
     "output_type": "stream",
     "text": [
      "100 600 200 300\n"
     ]
    }
   ],
   "source": [
    "A,B,C,D = map(int, input().split())"
   ]
  },
  {
   "cell_type": "code",
   "execution_count": 4,
   "metadata": {
    "ExecuteTime": {
     "end_time": "2020-11-21T19:52:08.993418Z",
     "start_time": "2020-11-21T19:52:08.986200Z"
    }
   },
   "outputs": [
    {
     "name": "stdout",
     "output_type": "stream",
     "text": [
      "60000\n"
     ]
    }
   ],
   "source": [
    "S1 = A*B\n",
    "S2 = C*D\n",
    "print(max(S1,S2))"
   ]
  },
  {
   "cell_type": "markdown",
   "metadata": {},
   "source": [
    "## B（AC）"
   ]
  },
  {
   "cell_type": "markdown",
   "metadata": {},
   "source": [
    "https://atcoder.jp/contests/abc052/tasks/abc052_b"
   ]
  },
  {
   "cell_type": "code",
   "execution_count": 14,
   "metadata": {
    "ExecuteTime": {
     "end_time": "2020-11-21T19:56:51.559434Z",
     "start_time": "2020-11-21T19:56:48.476999Z"
    }
   },
   "outputs": [
    {
     "name": "stdout",
     "output_type": "stream",
     "text": [
      "5\n",
      "IIDID\n"
     ]
    }
   ],
   "source": [
    "N = int(input())\n",
    "S = input()"
   ]
  },
  {
   "cell_type": "code",
   "execution_count": 15,
   "metadata": {
    "ExecuteTime": {
     "end_time": "2020-11-21T19:56:51.725897Z",
     "start_time": "2020-11-21T19:56:51.718599Z"
    }
   },
   "outputs": [
    {
     "name": "stdout",
     "output_type": "stream",
     "text": [
      "2\n"
     ]
    }
   ],
   "source": [
    "import numpy as np\n",
    "\n",
    "L = [1 if s=='I' else -1 for s in S]\n",
    "L.insert(0,0)\n",
    "\n",
    "print(max(np.cumsum(L)))"
   ]
  },
  {
   "cell_type": "markdown",
   "metadata": {},
   "source": [
    "## C（AC）"
   ]
  },
  {
   "cell_type": "markdown",
   "metadata": {},
   "source": [
    "https://atcoder.jp/contests/abc052/tasks/abc052_c"
   ]
  },
  {
   "cell_type": "code",
   "execution_count": 60,
   "metadata": {
    "ExecuteTime": {
     "end_time": "2020-11-21T20:23:01.489047Z",
     "start_time": "2020-11-21T20:23:00.989644Z"
    }
   },
   "outputs": [
    {
     "name": "stdout",
     "output_type": "stream",
     "text": [
      "1000\n"
     ]
    }
   ],
   "source": [
    "N = int(input())"
   ]
  },
  {
   "cell_type": "code",
   "execution_count": 61,
   "metadata": {
    "ExecuteTime": {
     "end_time": "2020-11-21T20:23:01.716972Z",
     "start_time": "2020-11-21T20:23:01.703981Z"
    }
   },
   "outputs": [],
   "source": [
    "import math\n",
    "\n",
    "def factrization_prime(number):\n",
    "    factor = {}\n",
    "    div = 2\n",
    "    s = math.sqrt(number)\n",
    "    while div <= s:\n",
    "        div_cnt = 0\n",
    "        while number % div == 0:\n",
    "            div_cnt += 1\n",
    "            number //= div\n",
    "        if div_cnt != 0:\n",
    "            factor[div] = div_cnt\n",
    "        div += 1\n",
    "    if number > 1:\n",
    "        factor[number] = 1\n",
    "    return factor"
   ]
  },
  {
   "cell_type": "code",
   "execution_count": 62,
   "metadata": {
    "ExecuteTime": {
     "end_time": "2020-11-21T20:23:01.830635Z",
     "start_time": "2020-11-21T20:23:01.816156Z"
    }
   },
   "outputs": [],
   "source": [
    "memo = {x:0 for x in range(2, N+1)}\n",
    "\n",
    "for n in range(2, N+1):\n",
    "    for k,v in factrization_prime(n).items():\n",
    "        memo[k] += v"
   ]
  },
  {
   "cell_type": "code",
   "execution_count": 63,
   "metadata": {
    "ExecuteTime": {
     "end_time": "2020-11-21T20:23:01.928076Z",
     "start_time": "2020-11-21T20:23:01.918942Z"
    }
   },
   "outputs": [
    {
     "name": "stdout",
     "output_type": "stream",
     "text": [
      "972926972\n"
     ]
    }
   ],
   "source": [
    "ans = 1\n",
    "INF = 10**9+7\n",
    "\n",
    "for v in memo.values():\n",
    "    if v != 0:\n",
    "        ans = ans * (v+1) % INF\n",
    "    \n",
    "print(ans)"
   ]
  },
  {
   "cell_type": "markdown",
   "metadata": {},
   "source": [
    "## D（）"
   ]
  },
  {
   "cell_type": "markdown",
   "metadata": {},
   "source": [
    "https://atcoder.jp/contests/abc052/tasks/abc052_d"
   ]
  }
 ],
 "metadata": {
  "kernelspec": {
   "display_name": "Python 3",
   "language": "python",
   "name": "python3"
  },
  "language_info": {
   "codemirror_mode": {
    "name": "ipython",
    "version": 3
   },
   "file_extension": ".py",
   "mimetype": "text/x-python",
   "name": "python",
   "nbconvert_exporter": "python",
   "pygments_lexer": "ipython3",
   "version": "3.7.6"
  },
  "toc": {
   "base_numbering": 1,
   "nav_menu": {},
   "number_sections": true,
   "sideBar": true,
   "skip_h1_title": true,
   "title_cell": "Table of Contents",
   "title_sidebar": "Contents",
   "toc_cell": false,
   "toc_position": {},
   "toc_section_display": true,
   "toc_window_display": false
  }
 },
 "nbformat": 4,
 "nbformat_minor": 4
}
