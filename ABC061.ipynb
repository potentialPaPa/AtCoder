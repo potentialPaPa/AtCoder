{
 "cells": [
  {
   "cell_type": "markdown",
   "metadata": {},
   "source": [
    "# AtCoder Beginner Contest 061"
   ]
  },
  {
   "cell_type": "markdown",
   "metadata": {},
   "source": [
    "Created on November 16, 2020  "
   ]
  },
  {
   "cell_type": "markdown",
   "metadata": {},
   "source": [
    "https://atcoder.jp/contests/abc061"
   ]
  },
  {
   "cell_type": "markdown",
   "metadata": {},
   "source": [
    "## A（）"
   ]
  },
  {
   "cell_type": "markdown",
   "metadata": {},
   "source": [
    "https://atcoder.jp/contests/abc061/tasks/abc061_a"
   ]
  },
  {
   "cell_type": "code",
   "execution_count": 1,
   "metadata": {
    "ExecuteTime": {
     "end_time": "2020-11-15T22:21:07.289756Z",
     "start_time": "2020-11-15T22:21:02.971602Z"
    }
   },
   "outputs": [
    {
     "name": "stdout",
     "output_type": "stream",
     "text": [
      "1 3 2\n"
     ]
    }
   ],
   "source": [
    "A,B,C = map(int, input().split())"
   ]
  },
  {
   "cell_type": "code",
   "execution_count": 2,
   "metadata": {
    "ExecuteTime": {
     "end_time": "2020-11-15T22:21:30.190027Z",
     "start_time": "2020-11-15T22:21:30.178804Z"
    }
   },
   "outputs": [
    {
     "name": "stdout",
     "output_type": "stream",
     "text": [
      "Yes\n"
     ]
    }
   ],
   "source": [
    "if A <= C <= B:\n",
    "    print('Yes')\n",
    "else:\n",
    "    print('No')"
   ]
  },
  {
   "cell_type": "markdown",
   "metadata": {},
   "source": [
    "## B（）"
   ]
  },
  {
   "cell_type": "markdown",
   "metadata": {},
   "source": [
    "https://atcoder.jp/contests/abc061/tasks/abc061_b"
   ]
  },
  {
   "cell_type": "code",
   "execution_count": 18,
   "metadata": {
    "ExecuteTime": {
     "end_time": "2020-11-15T22:29:13.287791Z",
     "start_time": "2020-11-15T22:28:52.727157Z"
    }
   },
   "outputs": [
    {
     "name": "stdout",
     "output_type": "stream",
     "text": [
      "8 8\n",
      "1 2\n",
      "3 4\n",
      "1 5\n",
      "2 8\n",
      "3 7\n",
      "5 2\n",
      "4 1\n",
      "6 8\n"
     ]
    }
   ],
   "source": [
    "N,M = map(int, input().split())\n",
    "a,b = {},{}\n",
    "for i in range(1,M+1):\n",
    "    a[i],b[i] = map(int, input().split())"
   ]
  },
  {
   "cell_type": "code",
   "execution_count": 19,
   "metadata": {
    "ExecuteTime": {
     "end_time": "2020-11-15T22:29:13.526638Z",
     "start_time": "2020-11-15T22:29:13.516429Z"
    }
   },
   "outputs": [
    {
     "name": "stdout",
     "output_type": "stream",
     "text": [
      "3\n",
      "3\n",
      "2\n",
      "2\n",
      "2\n",
      "1\n",
      "1\n",
      "2\n"
     ]
    }
   ],
   "source": [
    "from collections import Counter\n",
    "\n",
    "a_count = Counter(a.values())\n",
    "b_count = Counter(b.values())\n",
    "\n",
    "for i in range(1,N+1):\n",
    "    print(a_count[i]+b_count[i])"
   ]
  },
  {
   "cell_type": "markdown",
   "metadata": {},
   "source": [
    "## C（）"
   ]
  },
  {
   "cell_type": "markdown",
   "metadata": {},
   "source": [
    "https://atcoder.jp/contests/abc061/tasks/abc061_c"
   ]
  },
  {
   "cell_type": "markdown",
   "metadata": {},
   "source": [
    "【WA・TLE・MLE】"
   ]
  },
  {
   "cell_type": "code",
   "execution_count": 29,
   "metadata": {
    "ExecuteTime": {
     "end_time": "2020-11-16T11:35:10.572734Z",
     "start_time": "2020-11-16T11:34:29.569695Z"
    }
   },
   "outputs": [
    {
     "name": "stdout",
     "output_type": "stream",
     "text": [
      "10 500000\n",
      "1 100000\n",
      "1 100000\n",
      "1 100000\n",
      "1 100000\n",
      "1 100000\n",
      "100000 100000\n",
      "100000 100000\n",
      "100000 100000\n",
      "100000 100000\n",
      "100000 100000\n"
     ]
    }
   ],
   "source": [
    "N,K = map(int, input().split())\n",
    "a,b = {},{}\n",
    "\n",
    "for i in range(1, N+1):\n",
    "    a[i],b[i] = map(int, input().split())"
   ]
  },
  {
   "cell_type": "code",
   "execution_count": 32,
   "metadata": {
    "ExecuteTime": {
     "end_time": "2020-11-16T11:35:32.749677Z",
     "start_time": "2020-11-16T11:35:32.739773Z"
    }
   },
   "outputs": [
    {
     "name": "stdout",
     "output_type": "stream",
     "text": [
      "1\n"
     ]
    }
   ],
   "source": [
    "a_sort = dict(sorted(a.items(), key=lambda x:x[1]))\n",
    "\n",
    "S = ''\n",
    "\n",
    "for k,v in a_sort.items():\n",
    "    S += str(v)*b[k]\n",
    "    if len(S) >= K:\n",
    "        break\n",
    "\n",
    "print(S[K-1])"
   ]
  },
  {
   "cell_type": "markdown",
   "metadata": {},
   "source": [
    "【再考：TLE】"
   ]
  },
  {
   "cell_type": "code",
   "execution_count": 65,
   "metadata": {
    "ExecuteTime": {
     "end_time": "2020-11-16T11:52:01.872149Z",
     "start_time": "2020-11-16T11:51:56.170609Z"
    }
   },
   "outputs": [
    {
     "name": "stdout",
     "output_type": "stream",
     "text": [
      "3 7\n",
      "1 2\n",
      "5 6\n",
      "3 4\n"
     ]
    }
   ],
   "source": [
    "N,K = map(int, input().split())\n",
    "a,b = {},{}\n",
    "\n",
    "for i in range(1, N+1):\n",
    "    a[i],b[i] = map(int, input().split())"
   ]
  },
  {
   "cell_type": "code",
   "execution_count": 70,
   "metadata": {
    "ExecuteTime": {
     "end_time": "2020-11-16T11:52:17.877038Z",
     "start_time": "2020-11-16T11:52:17.866875Z"
    }
   },
   "outputs": [
    {
     "name": "stdout",
     "output_type": "stream",
     "text": [
      "5\n"
     ]
    }
   ],
   "source": [
    "a_sort = dict(sorted(a.items(), key=lambda x:x[1]))\n",
    "arr = []\n",
    "\n",
    "for k,v in a_sort.items():\n",
    "    arr.extend([v]*b[k])\n",
    "    if len(arr) >= K:\n",
    "        break\n",
    "\n",
    "print(arr[K-1])"
   ]
  },
  {
   "cell_type": "markdown",
   "metadata": {},
   "source": [
    "【再々考】"
   ]
  },
  {
   "cell_type": "code",
   "execution_count": 78,
   "metadata": {
    "ExecuteTime": {
     "end_time": "2020-11-16T11:58:14.408409Z",
     "start_time": "2020-11-16T11:58:07.306175Z"
    }
   },
   "outputs": [
    {
     "name": "stdout",
     "output_type": "stream",
     "text": [
      "3 4\n",
      "1 2\n",
      "5 6\n",
      "3 4\n"
     ]
    }
   ],
   "source": [
    "N,K = map(int, input().split())\n",
    "a,b = {},{}\n",
    "\n",
    "for i in range(1, N+1):\n",
    "    a[i],b[i] = map(int, input().split())"
   ]
  },
  {
   "cell_type": "code",
   "execution_count": 81,
   "metadata": {
    "ExecuteTime": {
     "end_time": "2020-11-16T11:59:16.750800Z",
     "start_time": "2020-11-16T11:59:16.736857Z"
    }
   },
   "outputs": [
    {
     "name": "stdout",
     "output_type": "stream",
     "text": [
      "3\n"
     ]
    }
   ],
   "source": [
    "a_sort = dict(sorted(a.items(), key=lambda x:x[1]))\n",
    "\n",
    "i = 0\n",
    "\n",
    "for k,v in a_sort.items():\n",
    "    i += b[k]\n",
    "    if i >= K:\n",
    "        print(k)\n",
    "        break"
   ]
  },
  {
   "cell_type": "markdown",
   "metadata": {},
   "source": [
    "## D（）"
   ]
  },
  {
   "cell_type": "markdown",
   "metadata": {},
   "source": [
    "https://atcoder.jp/contests/abc061/tasks/abc061_d"
   ]
  }
 ],
 "metadata": {
  "kernelspec": {
   "display_name": "Python 3",
   "language": "python",
   "name": "python3"
  },
  "language_info": {
   "codemirror_mode": {
    "name": "ipython",
    "version": 3
   },
   "file_extension": ".py",
   "mimetype": "text/x-python",
   "name": "python",
   "nbconvert_exporter": "python",
   "pygments_lexer": "ipython3",
   "version": "3.7.6"
  },
  "toc": {
   "base_numbering": 1,
   "nav_menu": {},
   "number_sections": true,
   "sideBar": true,
   "skip_h1_title": true,
   "title_cell": "Table of Contents",
   "title_sidebar": "Contents",
   "toc_cell": false,
   "toc_position": {},
   "toc_section_display": true,
   "toc_window_display": false
  }
 },
 "nbformat": 4,
 "nbformat_minor": 4
}
