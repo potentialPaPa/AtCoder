{
 "cells": [
  {
   "cell_type": "markdown",
   "metadata": {},
   "source": [
    "# AtCoder Beginner Contest 064"
   ]
  },
  {
   "cell_type": "markdown",
   "metadata": {},
   "source": [
    "Created on November 15, 2020  "
   ]
  },
  {
   "cell_type": "markdown",
   "metadata": {},
   "source": [
    "https://atcoder.jp/contests/abc064"
   ]
  },
  {
   "cell_type": "markdown",
   "metadata": {},
   "source": [
    "## A（AC）"
   ]
  },
  {
   "cell_type": "markdown",
   "metadata": {},
   "source": [
    "https://atcoder.jp/contests/abc064/tasks/abc064_a"
   ]
  },
  {
   "cell_type": "code",
   "execution_count": 5,
   "metadata": {
    "ExecuteTime": {
     "end_time": "2020-11-14T20:38:38.459729Z",
     "start_time": "2020-11-14T20:38:36.972539Z"
    }
   },
   "outputs": [
    {
     "name": "stdout",
     "output_type": "stream",
     "text": [
      "2 3 4\n"
     ]
    }
   ],
   "source": [
    "r,g,b = map(int, input().split())"
   ]
  },
  {
   "cell_type": "code",
   "execution_count": 6,
   "metadata": {
    "ExecuteTime": {
     "end_time": "2020-11-14T20:38:38.708333Z",
     "start_time": "2020-11-14T20:38:38.698212Z"
    }
   },
   "outputs": [
    {
     "name": "stdout",
     "output_type": "stream",
     "text": [
      "NO\n"
     ]
    }
   ],
   "source": [
    "if (10*g+b)%4 == 0:\n",
    "    ans = 'YES'\n",
    "else:\n",
    "    ans = 'NO'\n",
    "    \n",
    "print(ans)"
   ]
  },
  {
   "cell_type": "markdown",
   "metadata": {},
   "source": [
    "## B（AC）"
   ]
  },
  {
   "cell_type": "markdown",
   "metadata": {},
   "source": [
    "https://atcoder.jp/contests/abc064/tasks/abc064_b"
   ]
  },
  {
   "cell_type": "code",
   "execution_count": 9,
   "metadata": {
    "ExecuteTime": {
     "end_time": "2020-11-14T20:40:38.153367Z",
     "start_time": "2020-11-14T20:40:35.701383Z"
    }
   },
   "outputs": [
    {
     "name": "stdout",
     "output_type": "stream",
     "text": [
      "8\n",
      "3 1 4 1 5 9 2 6\n"
     ]
    }
   ],
   "source": [
    "N = int(input())\n",
    "A = list(map(int, input().split()))"
   ]
  },
  {
   "cell_type": "code",
   "execution_count": 10,
   "metadata": {
    "ExecuteTime": {
     "end_time": "2020-11-14T20:40:38.407068Z",
     "start_time": "2020-11-14T20:40:38.398528Z"
    }
   },
   "outputs": [
    {
     "name": "stdout",
     "output_type": "stream",
     "text": [
      "8\n"
     ]
    }
   ],
   "source": [
    "L,R = min(A),max(A)\n",
    "print(R-L)"
   ]
  },
  {
   "cell_type": "markdown",
   "metadata": {},
   "source": [
    "## C（AC、ただしWA4回）"
   ]
  },
  {
   "cell_type": "markdown",
   "metadata": {},
   "source": [
    "https://atcoder.jp/contests/abc064/tasks/abc064_c"
   ]
  },
  {
   "cell_type": "markdown",
   "metadata": {},
   "source": [
    "レート \n",
    "1\n",
    "-\n",
    "399\n",
    "：灰色\n",
    "レート \n",
    "400\n",
    "-\n",
    "799\n",
    "：茶色\n",
    "レート \n",
    "800\n",
    "-\n",
    "1199\n",
    "：緑色\n",
    "レート \n",
    "1200\n",
    "-\n",
    "1599\n",
    "：水色\n",
    "レート \n",
    "1600\n",
    "-\n",
    "1999\n",
    "：青色\n",
    "レート \n",
    "2000\n",
    "-\n",
    "2399\n",
    "：黄色\n",
    "レート \n",
    "2400\n",
    "-\n",
    "2799\n",
    "：橙色\n",
    "レート \n",
    "2800\n",
    "-\n",
    "3199\n",
    "：赤色"
   ]
  },
  {
   "cell_type": "markdown",
   "metadata": {},
   "source": [
    "【なぜかWA】"
   ]
  },
  {
   "cell_type": "code",
   "execution_count": 75,
   "metadata": {
    "ExecuteTime": {
     "end_time": "2020-11-14T21:06:23.130783Z",
     "start_time": "2020-11-14T21:06:15.523726Z"
    }
   },
   "outputs": [
    {
     "name": "stdout",
     "output_type": "stream",
     "text": [
      "4\n",
      "2100 2500 2700 2700\n"
     ]
    }
   ],
   "source": [
    "N = int(input())\n",
    "A = list(map(int, input().split()))"
   ]
  },
  {
   "cell_type": "code",
   "execution_count": 78,
   "metadata": {
    "ExecuteTime": {
     "end_time": "2020-11-14T21:13:47.789892Z",
     "start_time": "2020-11-14T21:13:47.779489Z"
    }
   },
   "outputs": [
    {
     "name": "stdout",
     "output_type": "stream",
     "text": [
      "2 2\n"
     ]
    }
   ],
   "source": [
    "colors = [a//400 if (a//400) < 8 else 8 for a in A]\n",
    "\n",
    "import collections\n",
    "c = collections.Counter(colors)\n",
    "\n",
    "m = max(len(c) - (c[8]!=0), 1)\n",
    "M = min(8, len(c) - (c[8]!=0) + c[8])\n",
    "\n",
    "print(m, M)"
   ]
  },
  {
   "cell_type": "markdown",
   "metadata": {},
   "source": [
    "【解決：AC】  \n",
    "⇒レートが3200以上は好きな色にできる　＝　レート色として存在しない色でも可能ということ"
   ]
  },
  {
   "cell_type": "code",
   "execution_count": 75,
   "metadata": {
    "ExecuteTime": {
     "end_time": "2020-11-14T21:06:23.130783Z",
     "start_time": "2020-11-14T21:06:15.523726Z"
    }
   },
   "outputs": [
    {
     "name": "stdout",
     "output_type": "stream",
     "text": [
      "4\n",
      "2100 2500 2700 2700\n"
     ]
    }
   ],
   "source": [
    "N = int(input())\n",
    "A = list(map(int, input().split()))"
   ]
  },
  {
   "cell_type": "code",
   "execution_count": 78,
   "metadata": {
    "ExecuteTime": {
     "end_time": "2020-11-14T21:13:47.789892Z",
     "start_time": "2020-11-14T21:13:47.779489Z"
    }
   },
   "outputs": [
    {
     "name": "stdout",
     "output_type": "stream",
     "text": [
      "2 2\n"
     ]
    }
   ],
   "source": [
    "colors = [a//400 if (a//400) < 8 else 8 for a in A]\n",
    "\n",
    "import collections\n",
    "c = collections.Counter(colors)\n",
    "\n",
    "m = max(len(c) - (c[8]!=0), 1)\n",
    "M = len(c) - (c[8]!=0) + c[8]\n",
    "\n",
    "print(m, M)"
   ]
  },
  {
   "cell_type": "markdown",
   "metadata": {},
   "source": [
    "## D（）"
   ]
  },
  {
   "cell_type": "markdown",
   "metadata": {},
   "source": [
    "https://atcoder.jp/contests/abc064/tasks/abc064_d"
   ]
  }
 ],
 "metadata": {
  "kernelspec": {
   "display_name": "Python 3",
   "language": "python",
   "name": "python3"
  },
  "language_info": {
   "codemirror_mode": {
    "name": "ipython",
    "version": 3
   },
   "file_extension": ".py",
   "mimetype": "text/x-python",
   "name": "python",
   "nbconvert_exporter": "python",
   "pygments_lexer": "ipython3",
   "version": "3.7.6"
  },
  "toc": {
   "base_numbering": 1,
   "nav_menu": {},
   "number_sections": true,
   "sideBar": true,
   "skip_h1_title": true,
   "title_cell": "Table of Contents",
   "title_sidebar": "Contents",
   "toc_cell": false,
   "toc_position": {},
   "toc_section_display": true,
   "toc_window_display": false
  }
 },
 "nbformat": 4,
 "nbformat_minor": 4
}
