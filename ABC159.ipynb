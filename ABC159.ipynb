{
 "cells": [
  {
   "cell_type": "markdown",
   "metadata": {},
   "source": [
    "# AtCoder Beginner Contest 159"
   ]
  },
  {
   "cell_type": "markdown",
   "metadata": {},
   "source": [
    "Created on May 5, 2020  \n",
    "For Exercise in the morning."
   ]
  },
  {
   "cell_type": "markdown",
   "metadata": {},
   "source": [
    "https://atcoder.jp/contests/abc159"
   ]
  },
  {
   "cell_type": "markdown",
   "metadata": {},
   "source": [
    "## A（AC）"
   ]
  },
  {
   "cell_type": "markdown",
   "metadata": {},
   "source": [
    "https://atcoder.jp/contests/abc159/tasks/abc159_a"
   ]
  },
  {
   "cell_type": "code",
   "execution_count": 12,
   "metadata": {},
   "outputs": [
    {
     "name": "stdin",
     "output_type": "stream",
     "text": [
      " 0 3\n"
     ]
    }
   ],
   "source": [
    "N, M = map(int, input().split())"
   ]
  },
  {
   "cell_type": "code",
   "execution_count": 13,
   "metadata": {},
   "outputs": [
    {
     "name": "stdout",
     "output_type": "stream",
     "text": [
      "3\n"
     ]
    }
   ],
   "source": [
    "# 偶数 = 偶数 + 偶数\n",
    "# 偶数 = 奇数 + 奇数\n",
    "\n",
    "even_count = N*(N-1)/2 + M*(M-1)/2\n",
    "print(int(even_count))"
   ]
  },
  {
   "cell_type": "markdown",
   "metadata": {},
   "source": [
    "## B（AC）"
   ]
  },
  {
   "cell_type": "markdown",
   "metadata": {},
   "source": [
    "https://atcoder.jp/contests/abc159/tasks/abc159_b"
   ]
  },
  {
   "cell_type": "code",
   "execution_count": 32,
   "metadata": {},
   "outputs": [
    {
     "name": "stdin",
     "output_type": "stream",
     "text": [
      " akasaka\n"
     ]
    }
   ],
   "source": [
    "S_list = list(input())"
   ]
  },
  {
   "cell_type": "code",
   "execution_count": 21,
   "metadata": {},
   "outputs": [],
   "source": [
    "# これ破壊的処理なので注意！使わないことにする\n",
    "# S_list.reverse()"
   ]
  },
  {
   "cell_type": "code",
   "execution_count": 33,
   "metadata": {},
   "outputs": [
    {
     "name": "stdout",
     "output_type": "stream",
     "text": [
      "Yes\n"
     ]
    }
   ],
   "source": [
    "N = len(S_list)\n",
    "\n",
    "is_strong = False\n",
    "\n",
    "if list(reversed(S_list)) == S_list:\n",
    "    first_half = S_list[:int((N-1)/2)]\n",
    "    if list(reversed(first_half)) == first_half:\n",
    "        is_strong = True\n",
    "\n",
    "if is_strong:\n",
    "    print('Yes')\n",
    "else:\n",
    "    print('No')"
   ]
  },
  {
   "cell_type": "markdown",
   "metadata": {},
   "source": [
    "## C（AC）"
   ]
  },
  {
   "cell_type": "markdown",
   "metadata": {},
   "source": [
    "https://atcoder.jp/contests/abc159/tasks/abc159_c"
   ]
  },
  {
   "cell_type": "code",
   "execution_count": 40,
   "metadata": {},
   "outputs": [
    {
     "name": "stdin",
     "output_type": "stream",
     "text": [
      " 999\n"
     ]
    }
   ],
   "source": [
    "L = int(input())"
   ]
  },
  {
   "cell_type": "markdown",
   "metadata": {},
   "source": [
    "V = x * y * z とする  \n",
    "x + y + z = L  \n",
    "⇔ z = L - (x + y)  \n",
    "制約条件は：  \n",
    "0 < x,y,z < L  \n",
    "0 < x+y < L  "
   ]
  },
  {
   "cell_type": "code",
   "execution_count": 43,
   "metadata": {},
   "outputs": [
    {
     "name": "stdout",
     "output_type": "stream",
     "text": [
      "36926037.0\n"
     ]
    }
   ],
   "source": [
    "x = L/3\n",
    "y = L/3\n",
    "z = L/3\n",
    "\n",
    "v = x * y * z\n",
    "\n",
    "print(v)"
   ]
  },
  {
   "cell_type": "markdown",
   "metadata": {},
   "source": [
    "**【解説してみる】**  \n",
    "\n",
    "(方針)\n",
    "- x + y + z = L を使って、vをxとyだけで表現する\n",
    "- vを偏微分して、x方向、y方向の傾きが0になる箇所（最大値があるとすればここ）を求める\n",
    "- x, y, z 全て足してLになるように、zを求める\n",
    "\n",
    "(内容)\n",
    "$$\n",
    "  \\begin{align}\n",
    "    v &= xyz \\tag{1} \\\\\n",
    "    L &= x + y + z \\tag{2} \\\\\n",
    "    z &= L - (x + y) \\tag{2-1} \\\\\n",
    "  \\end{align}\n",
    "$$\n",
    "\n",
    "ここで、(2-1)を使って(1)を書き換える。\n",
    "\n",
    "$$\n",
    "  \\begin{align}\n",
    "    v &= xy\\{L - (x + y)\\} \\\\\n",
    "    &= Lxy - x^2y - xy^2 \\tag{3}\\\\\n",
    "  \\end{align}\n",
    "$$\n",
    "\n",
    "偏微分を行う。\n",
    "\n",
    "$$\n",
    "  \\begin{align}\n",
    "    \\frac{\\partial v}{\\partial x} &= Ly - 2xy - y^2 \\\\\n",
    "    &= y\\{(L - (2x + y)\\} \\tag{4} \\\\\n",
    "    \\frac{\\partial v}{\\partial y} &= Lx - x^2 - 2xy \\\\\n",
    "    &= x\\{(L - (x + 2y)\\} \\tag{5} \\\\\n",
    "\\end{align}\n",
    "$$\n",
    "\n",
    "偏微分したものは、vの傾きを表す。  \n",
    "最大値を取りうるのは、傾きが0の点なので、  \n",
    "\n",
    "$$\n",
    "  \\begin{align}\n",
    "    \\frac{\\partial v}{\\partial x} &= 0 \n",
    "    ⇔ 2x + y = L \\tag{6} \\\\\n",
    "    \\frac{\\partial v}{\\partial y} &= 0 \n",
    "    ⇔ x + 2y = L \\tag{7} \\\\\n",
    "  \\end{align}\n",
    "$$\n",
    "\n",
    "$$\n",
    "  \\begin{align}\n",
    "    ∴ x = \\frac{L}{3}, y = \\frac{L}{3}, z = \\frac{L}{3}\n",
    "  \\end{align}\n",
    "$$\n",
    "\n",
    "(まとめ)\n",
    "\n",
    "縦、横、高さが非整数でもよい、という条件から、  \n",
    "「ニュートン法的なアプローチ？実装方法分からん！」（イチからやろうとすると時間掛かるはず…）  \n",
    "と思ったけど、数学的に解決できました。  \n",
    "\n",
    "結論。大学でちょっとでも数学かじってて良かった。"
   ]
  }
 ],
 "metadata": {
  "kernelspec": {
   "display_name": "Python 3",
   "language": "python",
   "name": "python3"
  },
  "language_info": {
   "codemirror_mode": {
    "name": "ipython",
    "version": 3
   },
   "file_extension": ".py",
   "mimetype": "text/x-python",
   "name": "python",
   "nbconvert_exporter": "python",
   "pygments_lexer": "ipython3",
   "version": "3.7.4"
  }
 },
 "nbformat": 4,
 "nbformat_minor": 4
}
