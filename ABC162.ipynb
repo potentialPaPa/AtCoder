{
 "cells": [
  {
   "cell_type": "markdown",
   "metadata": {},
   "source": [
    "# AtCoder Beginner Contest 162"
   ]
  },
  {
   "cell_type": "markdown",
   "metadata": {},
   "source": [
    "Created on December 27, 2020  "
   ]
  },
  {
   "cell_type": "markdown",
   "metadata": {},
   "source": [
    "https://atcoder.jp/contests/abc162"
   ]
  },
  {
   "cell_type": "markdown",
   "metadata": {},
   "source": [
    "## A（AC）"
   ]
  },
  {
   "cell_type": "markdown",
   "metadata": {},
   "source": [
    "https://atcoder.jp/contests/abc162/tasks/abc162_a"
   ]
  },
  {
   "cell_type": "code",
   "execution_count": 10,
   "metadata": {
    "ExecuteTime": {
     "end_time": "2020-12-27T00:22:43.474955Z",
     "start_time": "2020-12-27T00:22:41.256945Z"
    }
   },
   "outputs": [
    {
     "name": "stdout",
     "output_type": "stream",
     "text": [
      "192\n",
      "No\n"
     ]
    }
   ],
   "source": [
    "if input().count('7'): \n",
    "    print('Yes')\n",
    "else:\n",
    "    print('No')"
   ]
  },
  {
   "cell_type": "markdown",
   "metadata": {},
   "source": [
    "## B（AC）"
   ]
  },
  {
   "cell_type": "markdown",
   "metadata": {},
   "source": [
    "https://atcoder.jp/contests/abc162/tasks/abc162_b"
   ]
  },
  {
   "cell_type": "code",
   "execution_count": 14,
   "metadata": {
    "ExecuteTime": {
     "end_time": "2020-12-27T00:27:05.418707Z",
     "start_time": "2020-12-27T00:27:04.899756Z"
    }
   },
   "outputs": [
    {
     "name": "stdout",
     "output_type": "stream",
     "text": [
      "1000000\n"
     ]
    }
   ],
   "source": [
    "N = int(input())"
   ]
  },
  {
   "cell_type": "code",
   "execution_count": 15,
   "metadata": {
    "ExecuteTime": {
     "end_time": "2020-12-27T00:27:05.771188Z",
     "start_time": "2020-12-27T00:27:05.576430Z"
    }
   },
   "outputs": [
    {
     "name": "stdout",
     "output_type": "stream",
     "text": [
      "266666333332\n"
     ]
    }
   ],
   "source": [
    "ans = 0\n",
    "for i in range(1,N+1):\n",
    "    if i%15 == 0 or i%3 == 0 or i%5 == 0:\n",
    "        continue\n",
    "    else:\n",
    "        ans += i\n",
    "        \n",
    "print(ans)"
   ]
  },
  {
   "cell_type": "markdown",
   "metadata": {},
   "source": [
    "## C（AC）"
   ]
  },
  {
   "cell_type": "markdown",
   "metadata": {},
   "source": [
    "https://atcoder.jp/contests/abc162/tasks/abc162_c"
   ]
  },
  {
   "cell_type": "code",
   "execution_count": 53,
   "metadata": {
    "ExecuteTime": {
     "end_time": "2020-12-27T00:46:10.767345Z",
     "start_time": "2020-12-27T00:46:09.823592Z"
    }
   },
   "outputs": [
    {
     "name": "stdout",
     "output_type": "stream",
     "text": [
      "200\n"
     ]
    }
   ],
   "source": [
    "K = int(input())"
   ]
  },
  {
   "cell_type": "markdown",
   "metadata": {},
   "source": [
    "【3重ループをPyPyで実行（これが最速）】"
   ]
  },
  {
   "cell_type": "code",
   "execution_count": 60,
   "metadata": {
    "ExecuteTime": {
     "end_time": "2020-12-27T00:56:36.238961Z",
     "start_time": "2020-12-27T00:56:34.081151Z"
    }
   },
   "outputs": [
    {
     "name": "stdout",
     "output_type": "stream",
     "text": [
      "10813692\n"
     ]
    }
   ],
   "source": [
    "import math\n",
    "\n",
    "ans = 0\n",
    "\n",
    "for a in range(1,K+1):\n",
    "    for b in range(1,K+1):\n",
    "        for c in range(1,K+1):\n",
    "            ans += math.gcd(a,math.gcd(b,c))\n",
    "                \n",
    "print(ans)                "
   ]
  },
  {
   "cell_type": "markdown",
   "metadata": {},
   "source": [
    "【3重ループをPyPyで実行、メモ化（むしろ遅い）】"
   ]
  },
  {
   "cell_type": "code",
   "execution_count": 54,
   "metadata": {
    "ExecuteTime": {
     "end_time": "2020-12-27T00:46:13.334045Z",
     "start_time": "2020-12-27T00:46:10.967910Z"
    }
   },
   "outputs": [
    {
     "name": "stdout",
     "output_type": "stream",
     "text": [
      "10813692\n"
     ]
    }
   ],
   "source": [
    "import math\n",
    "from functools import reduce\n",
    "\n",
    "def gcd(*numbers):\n",
    "    return reduce(math.gcd, numbers)\n",
    "\n",
    "ans = 0\n",
    "memo = {}\n",
    "\n",
    "for a in range(1,K+1):\n",
    "    for b in range(a,K+1):\n",
    "        for c in range(b,K+1):\n",
    "            abc = tuple(set([a,b,c]))\n",
    "            if abc not in memo.keys():\n",
    "                memo[abc] = gcd(*abc)\n",
    "            \n",
    "            if len(abc)==3:\n",
    "                ans += memo[abc] * 6\n",
    "            elif len(abc)==2:\n",
    "                ans += memo[abc] * 3\n",
    "            elif len(abc)==1:\n",
    "                ans += memo[abc]\n",
    "                \n",
    "print(ans)                "
   ]
  },
  {
   "cell_type": "markdown",
   "metadata": {},
   "source": [
    "【2s以内に収まらない】"
   ]
  },
  {
   "cell_type": "code",
   "execution_count": 45,
   "metadata": {
    "ExecuteTime": {
     "end_time": "2020-12-27T00:40:02.138344Z",
     "start_time": "2020-12-27T00:39:52.673363Z"
    }
   },
   "outputs": [
    {
     "name": "stdout",
     "output_type": "stream",
     "text": [
      "10813692\n"
     ]
    }
   ],
   "source": [
    "import math\n",
    "from functools import reduce\n",
    "\n",
    "def gcd(*numbers):\n",
    "    return reduce(math.gcd, numbers)\n",
    "\n",
    "ans = 0\n",
    "memo = {}\n",
    "\n",
    "for a in range(1,K+1):\n",
    "    for b in range(1,K+1):\n",
    "        for c in range(1,K+1):\n",
    "            abc = tuple(set([a,b,c]))\n",
    "            if abc not in memo.keys():\n",
    "                memo[abc] = gcd(*abc)\n",
    "                \n",
    "            ans += memo[abc]\n",
    "            \n",
    "print(ans)"
   ]
  },
  {
   "cell_type": "markdown",
   "metadata": {},
   "source": [
    "## D（）"
   ]
  },
  {
   "cell_type": "markdown",
   "metadata": {},
   "source": [
    "https://atcoder.jp/contests/abc162/tasks/abc162_d"
   ]
  }
 ],
 "metadata": {
  "kernelspec": {
   "display_name": "Python 3",
   "language": "python",
   "name": "python3"
  },
  "language_info": {
   "codemirror_mode": {
    "name": "ipython",
    "version": 3
   },
   "file_extension": ".py",
   "mimetype": "text/x-python",
   "name": "python",
   "nbconvert_exporter": "python",
   "pygments_lexer": "ipython3",
   "version": "3.7.6"
  },
  "toc": {
   "base_numbering": 1,
   "nav_menu": {},
   "number_sections": true,
   "sideBar": true,
   "skip_h1_title": true,
   "title_cell": "Table of Contents",
   "title_sidebar": "Contents",
   "toc_cell": false,
   "toc_position": {},
   "toc_section_display": true,
   "toc_window_display": false
  }
 },
 "nbformat": 4,
 "nbformat_minor": 4
}
