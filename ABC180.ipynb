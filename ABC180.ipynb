{
 "cells": [
  {
   "cell_type": "markdown",
   "metadata": {},
   "source": [
    "# AtCoder Beginner Contest 180"
   ]
  },
  {
   "cell_type": "markdown",
   "metadata": {},
   "source": [
    "Created on October 17, 2020  "
   ]
  },
  {
   "cell_type": "markdown",
   "metadata": {},
   "source": [
    "https://atcoder.jp/contests/abc180"
   ]
  },
  {
   "cell_type": "markdown",
   "metadata": {},
   "source": [
    "## A（AC）"
   ]
  },
  {
   "cell_type": "markdown",
   "metadata": {},
   "source": [
    "https://atcoder.jp/contests/abc180/tasks/abc180_a"
   ]
  },
  {
   "cell_type": "code",
   "execution_count": 1,
   "metadata": {
    "ExecuteTime": {
     "end_time": "2020-10-17T11:00:26.953784Z",
     "start_time": "2020-10-17T11:00:21.814896Z"
    }
   },
   "outputs": [
    {
     "name": "stdout",
     "output_type": "stream",
     "text": [
      "100 1 2\n"
     ]
    }
   ],
   "source": [
    "N, A, B = map(int, input().split())"
   ]
  },
  {
   "cell_type": "code",
   "execution_count": 3,
   "metadata": {
    "ExecuteTime": {
     "end_time": "2020-10-17T11:00:46.597025Z",
     "start_time": "2020-10-17T11:00:46.584424Z"
    }
   },
   "outputs": [
    {
     "name": "stdout",
     "output_type": "stream",
     "text": [
      "101\n"
     ]
    }
   ],
   "source": [
    "print(N - A + B)"
   ]
  },
  {
   "cell_type": "markdown",
   "metadata": {},
   "source": [
    "## B（AC）"
   ]
  },
  {
   "cell_type": "markdown",
   "metadata": {},
   "source": [
    "https://atcoder.jp/contests/abc180/tasks/abc180_b"
   ]
  },
  {
   "cell_type": "code",
   "execution_count": 12,
   "metadata": {
    "ExecuteTime": {
     "end_time": "2020-10-17T11:04:31.494646Z",
     "start_time": "2020-10-17T11:04:29.749974Z"
    }
   },
   "outputs": [
    {
     "name": "stdout",
     "output_type": "stream",
     "text": [
      "10\n",
      "3 -1 -4 1 -5 9 2 -6 5 -3\n"
     ]
    }
   ],
   "source": [
    "N = int(input())\n",
    "X = list(map(int, input().split()))"
   ]
  },
  {
   "cell_type": "code",
   "execution_count": 14,
   "metadata": {
    "ExecuteTime": {
     "end_time": "2020-10-17T11:06:15.807967Z",
     "start_time": "2020-10-17T11:06:15.795206Z"
    }
   },
   "outputs": [
    {
     "name": "stdout",
     "output_type": "stream",
     "text": [
      "39\n",
      "14.38749456993816\n",
      "9\n"
     ]
    }
   ],
   "source": [
    "import math\n",
    "\n",
    "a1 = sum([abs(x) for x in X])\n",
    "a2 = math.sqrt(sum([x**2 for x in X]))\n",
    "a3 = max([abs(x) for x in X])\n",
    "\n",
    "print(a1)\n",
    "print(a2)\n",
    "print(a3)"
   ]
  },
  {
   "cell_type": "markdown",
   "metadata": {},
   "source": [
    "## C（AC）"
   ]
  },
  {
   "cell_type": "markdown",
   "metadata": {},
   "source": [
    "https://atcoder.jp/contests/abc180/tasks/abc180_c"
   ]
  },
  {
   "cell_type": "code",
   "execution_count": 15,
   "metadata": {
    "ExecuteTime": {
     "end_time": "2020-10-17T11:07:06.592541Z",
     "start_time": "2020-10-17T11:07:02.113572Z"
    }
   },
   "outputs": [
    {
     "name": "stdout",
     "output_type": "stream",
     "text": [
      "6\n"
     ]
    }
   ],
   "source": [
    "N = int(input())"
   ]
  },
  {
   "cell_type": "code",
   "execution_count": 16,
   "metadata": {
    "ExecuteTime": {
     "end_time": "2020-10-17T11:07:35.279012Z",
     "start_time": "2020-10-17T11:07:35.267563Z"
    }
   },
   "outputs": [],
   "source": [
    "def make_divisors(n):\n",
    "    lower_divisors , upper_divisors = [], []\n",
    "    i = 1\n",
    "    while i*i <= n:\n",
    "        if n % i == 0:\n",
    "            lower_divisors.append(i)\n",
    "            if i != n // i:\n",
    "                upper_divisors.append(n//i)\n",
    "        i += 1\n",
    "    return lower_divisors + upper_divisors[::-1]"
   ]
  },
  {
   "cell_type": "code",
   "execution_count": 22,
   "metadata": {
    "ExecuteTime": {
     "end_time": "2020-10-17T11:09:02.634316Z",
     "start_time": "2020-10-17T11:09:02.623159Z"
    }
   },
   "outputs": [
    {
     "name": "stdout",
     "output_type": "stream",
     "text": [
      "1\n",
      "2\n",
      "3\n",
      "6\n"
     ]
    }
   ],
   "source": [
    "print(*make_divisors(N), sep='\\n')"
   ]
  },
  {
   "cell_type": "markdown",
   "metadata": {},
   "source": [
    "## D（AC）"
   ]
  },
  {
   "cell_type": "markdown",
   "metadata": {},
   "source": [
    "https://atcoder.jp/contests/abc180/tasks/abc180_d"
   ]
  },
  {
   "cell_type": "code",
   "execution_count": 71,
   "metadata": {
    "ExecuteTime": {
     "end_time": "2020-10-17T11:37:25.376854Z",
     "start_time": "2020-10-17T11:37:08.824935Z"
    }
   },
   "outputs": [
    {
     "name": "stdout",
     "output_type": "stream",
     "text": [
      "10 12 2 3\n"
     ]
    }
   ],
   "source": [
    "X, Y, A, B = map(int, input().split())"
   ]
  },
  {
   "cell_type": "code",
   "execution_count": 72,
   "metadata": {
    "ExecuteTime": {
     "end_time": "2020-10-17T11:37:25.516735Z",
     "start_time": "2020-10-17T11:37:25.506928Z"
    }
   },
   "outputs": [
    {
     "name": "stdout",
     "output_type": "stream",
     "text": [
      "0\n"
     ]
    }
   ],
   "source": [
    "inc_sum = B\n",
    "\n",
    "exp = 0\n",
    "\n",
    "while X < Y:\n",
    "    inc_multi = X*(A-1)\n",
    "    if inc_multi > inc_sum:\n",
    "        exp += (Y-X) // B\n",
    "        if (Y-X) // B == 0:\n",
    "            break\n",
    "        else:\n",
    "            X += B * ((Y-X)//B)\n",
    "    else:\n",
    "        X *= A\n",
    "        exp += 1\n",
    "\n",
    "if X >= Y:\n",
    "    print(exp-1)\n",
    "else:\n",
    "    print(exp)"
   ]
  },
  {
   "cell_type": "markdown",
   "metadata": {},
   "source": [
    "## E（WA）"
   ]
  },
  {
   "cell_type": "code",
   "execution_count": 158,
   "metadata": {
    "ExecuteTime": {
     "end_time": "2020-10-17T12:16:51.338941Z",
     "start_time": "2020-10-17T12:16:42.347603Z"
    }
   },
   "outputs": [
    {
     "name": "stdout",
     "output_type": "stream",
     "text": [
      "3\n",
      "0 0 0\n",
      "1 1 1\n",
      "-1 -1 -1\n"
     ]
    }
   ],
   "source": [
    "N = int(input())\n",
    "c = []\n",
    "for _ in range(N):\n",
    "    c.append(list(map(int, input().split())))"
   ]
  },
  {
   "cell_type": "code",
   "execution_count": 172,
   "metadata": {
    "ExecuteTime": {
     "end_time": "2020-10-17T12:17:34.529147Z",
     "start_time": "2020-10-17T12:17:34.423297Z"
    }
   },
   "outputs": [
    {
     "data": {
      "application/vnd.jupyter.widget-view+json": {
       "model_id": "af50831454e54381bde15194023e16f7",
       "version_major": 2,
       "version_minor": 0
      },
      "text/plain": [
       "Textarea(value='')"
      ]
     },
     "metadata": {},
     "output_type": "display_data"
    }
   ],
   "source": [
    "from ipywidgets import Textarea\n",
    "import io\n",
    "\n",
    "if 'open' in globals():\n",
    "    del open\n",
    "original_open = open\n",
    "class custom_open():\n",
    "    def __init__(self):\n",
    "        self.text = ''\n",
    "    def __call__(self, file, *args, **kwargs):\n",
    "        if file == 0:\n",
    "            return io.StringIO(self.text)\n",
    "        return original_open(file, *args, **kwargs)\n",
    "    def updater(self, change):\n",
    "        self.text = change[\"new\"]\n",
    "open = custom_open()\n",
    "text_area = Textarea()\n",
    "text_area.observe(open.updater, names='value')\n",
    "display(text_area)"
   ]
  },
  {
   "cell_type": "code",
   "execution_count": 201,
   "metadata": {
    "ExecuteTime": {
     "end_time": "2020-10-17T12:21:11.319903Z",
     "start_time": "2020-10-17T12:21:11.308855Z"
    }
   },
   "outputs": [],
   "source": [
    "import numpy as np\n",
    "\n",
    "N, *_c = map(int, open(0).read().split())\n",
    "c = np.array(list(zip(*[map(int, iter(_c))]*3)))"
   ]
  },
  {
   "cell_type": "code",
   "execution_count": 202,
   "metadata": {
    "ExecuteTime": {
     "end_time": "2020-10-17T12:21:11.720278Z",
     "start_time": "2020-10-17T12:21:11.713396Z"
    }
   },
   "outputs": [],
   "source": [
    "def dist(a,b,c, p,q,r):\n",
    "    return abs(p-a) + abs(q-b) + max(0, r-c)"
   ]
  },
  {
   "cell_type": "code",
   "execution_count": 203,
   "metadata": {
    "ExecuteTime": {
     "end_time": "2020-10-17T12:21:12.092062Z",
     "start_time": "2020-10-17T12:21:12.082328Z"
    }
   },
   "outputs": [],
   "source": [
    "distance_matrix = np.array([[dist(*c[i], *c[j]) for j in range(N)]  for i in range(N)])"
   ]
  },
  {
   "cell_type": "code",
   "execution_count": 204,
   "metadata": {
    "ExecuteTime": {
     "end_time": "2020-10-17T12:21:12.437816Z",
     "start_time": "2020-10-17T12:21:12.430099Z"
    }
   },
   "outputs": [],
   "source": [
    "def calculate_total_distance(order, distance_matrix):\n",
    "    \"\"\"Calculate total distance traveled for given visit order\"\"\"\n",
    "    idx_from = np.array(order)\n",
    "    idx_to = np.array(order[1:] + [order[0]])\n",
    "    distance_arr = distance_matrix[idx_from, idx_to]\n",
    "\n",
    "    return np.sum(distance_arr)"
   ]
  },
  {
   "cell_type": "code",
   "execution_count": 205,
   "metadata": {
    "ExecuteTime": {
     "end_time": "2020-10-17T12:21:12.791307Z",
     "start_time": "2020-10-17T12:21:12.780779Z"
    }
   },
   "outputs": [
    {
     "name": "stdout",
     "output_type": "stream",
     "text": [
      "訪問順序 = [3, 9, 12, 4, 8, 11, 5, 10, 16, 13, 0, 14, 7, 6, 15, 1, 2]\n",
      "総移動距離 = 13314247\n"
     ]
    }
   ],
   "source": [
    "# 試しに距離を計算してみる\n",
    "test_order = list(np.random.permutation(N))\n",
    "print('訪問順序 = {}'.format(test_order))\n",
    "\n",
    "total = calculate_total_distance(test_order, distance_matrix)\n",
    "print('総移動距離 = {}'.format(total))"
   ]
  },
  {
   "cell_type": "code",
   "execution_count": 224,
   "metadata": {
    "ExecuteTime": {
     "end_time": "2020-10-17T12:24:57.044502Z",
     "start_time": "2020-10-17T12:24:57.035314Z"
    }
   },
   "outputs": [],
   "source": [
    "def calculate_2opt_exchange_cost(visit_order, i, j, distance_matrix):\n",
    "    \"\"\"Calculate the difference of cost by applying given 2-opt exchange\"\"\"\n",
    "    n_cities = len(visit_order)\n",
    "    a, b = visit_order[i], visit_order[(i + 1) % n_cities]\n",
    "    c, d = visit_order[j], visit_order[(j + 1) % n_cities]\n",
    "\n",
    "    cost_before = distance_matrix[a, b] + distance_matrix[c, d]\n",
    "    cost_after = distance_matrix[a, c] + distance_matrix[b, d]\n",
    "    return cost_after - cost_before"
   ]
  },
  {
   "cell_type": "code",
   "execution_count": 225,
   "metadata": {
    "ExecuteTime": {
     "end_time": "2020-10-17T12:24:57.460608Z",
     "start_time": "2020-10-17T12:24:57.452386Z"
    }
   },
   "outputs": [],
   "source": [
    "def apply_2opt_exchange(visit_order, i, j):\n",
    "    \"\"\"Apply 2-opt exhanging on visit order\"\"\"\n",
    "\n",
    "    tmp = visit_order[i + 1: j + 1]\n",
    "    tmp.reverse()\n",
    "    visit_order[i + 1: j + 1] = tmp\n",
    "\n",
    "    return visit_order"
   ]
  },
  {
   "cell_type": "code",
   "execution_count": 226,
   "metadata": {
    "ExecuteTime": {
     "end_time": "2020-10-17T12:24:57.865042Z",
     "start_time": "2020-10-17T12:24:57.852603Z"
    }
   },
   "outputs": [],
   "source": [
    "def improve_with_2opt(visit_order, distance_matrix):\n",
    "    \"\"\"Check all 2-opt neighbors and improve the visit order\"\"\"\n",
    "    n_cities = len(visit_order)\n",
    "    cost_diff_best = 0.0\n",
    "    i_best, j_best = None, None\n",
    "\n",
    "    for i in range(0, n_cities - 2):\n",
    "        for j in range(i + 2, n_cities):\n",
    "            if i == 0 and j == n_cities - 1:\n",
    "                continue\n",
    "\n",
    "            cost_diff = calculate_2opt_exchange_cost(\n",
    "                visit_order, i, j, distance_matrix)\n",
    "\n",
    "            if cost_diff < cost_diff_best:\n",
    "                cost_diff_best = cost_diff\n",
    "                i_best, j_best = i, j\n",
    "\n",
    "    if cost_diff_best < 0.0:\n",
    "        visit_order_new = apply_2opt_exchange(visit_order, i_best, j_best)\n",
    "        return visit_order_new\n",
    "    else:\n",
    "        return None"
   ]
  },
  {
   "cell_type": "code",
   "execution_count": 259,
   "metadata": {
    "ExecuteTime": {
     "end_time": "2020-10-17T12:30:34.081290Z",
     "start_time": "2020-10-17T12:30:34.073717Z"
    }
   },
   "outputs": [],
   "source": [
    "def local_search(visit_order, distance_matrix, improve_func):\n",
    "    \"\"\"Main procedure of local search\"\"\"\n",
    "    cost_total = calculate_total_distance(visit_order, distance_matrix)\n",
    "    judge_num = 0\n",
    "    \n",
    "    while True:\n",
    "        improved = improve_func(visit_order, distance_matrix)\n",
    "        if not improved:\n",
    "            break\n",
    "\n",
    "        visit_order = improved\n",
    "\n",
    "    return visit_order"
   ]
  },
  {
   "cell_type": "code",
   "execution_count": 294,
   "metadata": {
    "ExecuteTime": {
     "end_time": "2020-10-17T12:39:37.932399Z",
     "start_time": "2020-10-17T12:39:37.912191Z"
    }
   },
   "outputs": [
    {
     "name": "stdout",
     "output_type": "stream",
     "text": [
      "7079527\n"
     ]
    }
   ],
   "source": [
    "# 適当に初期解を生成\n",
    "test_order = [0, *np.array(list(np.random.permutation(N-1)))+1, 0]\n",
    "# visualize_visit_order(test_order, city_xy)\n",
    "total_distance = calculate_total_distance(test_order, distance_matrix)\n",
    "# print('初期解の総移動距離 = {}'.format(total_distance))\n",
    "\n",
    "# 近傍を計算\n",
    "improved = local_search(test_order, distance_matrix, improve_with_2opt)\n",
    "# visualize_visit_order(improved, city_xy)\n",
    "total_distance = calculate_total_distance(improved, distance_matrix)\n",
    "# print('近傍探索適用後の総移動距離 = {}'.format(total_distance))\n",
    "print(total_distance)"
   ]
  }
 ],
 "metadata": {
  "kernelspec": {
   "display_name": "Python 3",
   "language": "python",
   "name": "python3"
  },
  "language_info": {
   "codemirror_mode": {
    "name": "ipython",
    "version": 3
   },
   "file_extension": ".py",
   "mimetype": "text/x-python",
   "name": "python",
   "nbconvert_exporter": "python",
   "pygments_lexer": "ipython3",
   "version": "3.7.6"
  },
  "toc": {
   "base_numbering": 1,
   "nav_menu": {},
   "number_sections": true,
   "sideBar": true,
   "skip_h1_title": true,
   "title_cell": "Table of Contents",
   "title_sidebar": "Contents",
   "toc_cell": false,
   "toc_position": {},
   "toc_section_display": true,
   "toc_window_display": false
  }
 },
 "nbformat": 4,
 "nbformat_minor": 4
}
