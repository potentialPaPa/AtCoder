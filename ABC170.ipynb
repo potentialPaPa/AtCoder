{
 "cells": [
  {
   "cell_type": "markdown",
   "metadata": {},
   "source": [
    "# AtCoder Beginner Contest 170"
   ]
  },
  {
   "cell_type": "markdown",
   "metadata": {},
   "source": [
    "Attended on June 14th, 2020  "
   ]
  },
  {
   "cell_type": "markdown",
   "metadata": {},
   "source": [
    "https://atcoder.jp/contests/abc170"
   ]
  },
  {
   "cell_type": "markdown",
   "metadata": {},
   "source": [
    "## A（AC）"
   ]
  },
  {
   "cell_type": "markdown",
   "metadata": {},
   "source": [
    "https://atcoder.jp/contests/abc170/tasks/abc170_a"
   ]
  },
  {
   "cell_type": "code",
   "execution_count": 6,
   "metadata": {
    "ExecuteTime": {
     "end_time": "2020-06-14T12:01:25.495507Z",
     "start_time": "2020-06-14T12:01:24.766955Z"
    }
   },
   "outputs": [
    {
     "name": "stdout",
     "output_type": "stream",
     "text": [
      "1 2 0 4 5\n"
     ]
    }
   ],
   "source": [
    "x = list(map(int, input().split()))"
   ]
  },
  {
   "cell_type": "code",
   "execution_count": 7,
   "metadata": {
    "ExecuteTime": {
     "end_time": "2020-06-14T12:01:25.908917Z",
     "start_time": "2020-06-14T12:01:25.892149Z"
    }
   },
   "outputs": [
    {
     "name": "stdout",
     "output_type": "stream",
     "text": [
      "3\n"
     ]
    }
   ],
   "source": [
    "print(*[i+1 for i,x in enumerate(x) if x==0])"
   ]
  },
  {
   "cell_type": "markdown",
   "metadata": {},
   "source": [
    "## B（AC）"
   ]
  },
  {
   "cell_type": "markdown",
   "metadata": {},
   "source": [
    "https://atcoder.jp/contests/abc170/tasks/abc170_b"
   ]
  },
  {
   "cell_type": "code",
   "execution_count": 29,
   "metadata": {
    "ExecuteTime": {
     "end_time": "2020-06-14T12:07:21.557126Z",
     "start_time": "2020-06-14T12:07:20.978824Z"
    }
   },
   "outputs": [
    {
     "name": "stdout",
     "output_type": "stream",
     "text": [
      "2 100\n"
     ]
    }
   ],
   "source": [
    "X, Y = map(int, input().split())"
   ]
  },
  {
   "cell_type": "code",
   "execution_count": 30,
   "metadata": {
    "ExecuteTime": {
     "end_time": "2020-06-14T12:07:21.783320Z",
     "start_time": "2020-06-14T12:07:21.776389Z"
    }
   },
   "outputs": [],
   "source": [
    "b = (Y-2*X)/2\n",
    "a = X - b"
   ]
  },
  {
   "cell_type": "code",
   "execution_count": 31,
   "metadata": {
    "ExecuteTime": {
     "end_time": "2020-06-14T12:07:21.909099Z",
     "start_time": "2020-06-14T12:07:21.901541Z"
    }
   },
   "outputs": [
    {
     "name": "stdout",
     "output_type": "stream",
     "text": [
      "No\n"
     ]
    }
   ],
   "source": [
    "if a < 0 or b < 0 or b%1 != 0:\n",
    "    print(\"No\")\n",
    "else:\n",
    "    print(\"Yes\")"
   ]
  },
  {
   "cell_type": "markdown",
   "metadata": {},
   "source": [
    "## C（AC）"
   ]
  },
  {
   "cell_type": "markdown",
   "metadata": {},
   "source": [
    "https://atcoder.jp/contests/abc170/tasks/abc170_c"
   ]
  },
  {
   "cell_type": "code",
   "execution_count": 42,
   "metadata": {
    "ExecuteTime": {
     "end_time": "2020-06-14T12:18:10.547846Z",
     "start_time": "2020-06-14T12:18:07.105388Z"
    }
   },
   "outputs": [
    {
     "name": "stdout",
     "output_type": "stream",
     "text": [
      "10 5\n",
      "4 7 10 6 5\n",
      "9\n"
     ]
    }
   ],
   "source": [
    "X, N = map(int, input().split())\n",
    "if N==0:\n",
    "    ans = X\n",
    "else:\n",
    "    p = list(map(int, input().split()))\n",
    "    \n",
    "    finished = False\n",
    "    cnt = 1\n",
    "\n",
    "    if X not in p:\n",
    "        ans = X\n",
    "\n",
    "    else:    \n",
    "        while(not finished):\n",
    "            L = X-cnt\n",
    "            R = X+cnt\n",
    "\n",
    "            if L not in p:\n",
    "                ans = L\n",
    "                finished = True\n",
    "            elif R not in p:\n",
    "                ans = R\n",
    "                finished = True\n",
    "\n",
    "            else:\n",
    "                cnt += 1\n",
    "\n",
    "print(ans)"
   ]
  },
  {
   "cell_type": "markdown",
   "metadata": {},
   "source": [
    "## D（解けず…）"
   ]
  },
  {
   "cell_type": "markdown",
   "metadata": {},
   "source": [
    "https://atcoder.jp/contests/abc170/tasks/abc170_d"
   ]
  },
  {
   "cell_type": "markdown",
   "metadata": {},
   "source": [
    "- TLEの解（PyPyで提出するも）"
   ]
  },
  {
   "cell_type": "code",
   "execution_count": 112,
   "metadata": {
    "ExecuteTime": {
     "end_time": "2020-06-14T12:50:46.227321Z",
     "start_time": "2020-06-14T12:50:43.857709Z"
    }
   },
   "outputs": [
    {
     "name": "stdout",
     "output_type": "stream",
     "text": [
      "10\n",
      "33 18 45 28 8 19 89 86 2 4\n"
     ]
    }
   ],
   "source": [
    "N = int(input())\n",
    "A = list(map(int, input().split()))"
   ]
  },
  {
   "cell_type": "code",
   "execution_count": 115,
   "metadata": {
    "ExecuteTime": {
     "end_time": "2020-06-14T12:50:53.374125Z",
     "start_time": "2020-06-14T12:50:53.368312Z"
    }
   },
   "outputs": [],
   "source": [
    "A_sort = sorted(A, reverse=True)"
   ]
  },
  {
   "cell_type": "code",
   "execution_count": 114,
   "metadata": {
    "ExecuteTime": {
     "end_time": "2020-06-14T12:50:46.596612Z",
     "start_time": "2020-06-14T12:50:46.587580Z"
    }
   },
   "outputs": [
    {
     "name": "stdout",
     "output_type": "stream",
     "text": [
      "5\n"
     ]
    }
   ],
   "source": [
    "cnt = 0\n",
    "\n",
    "for i in range(N):\n",
    "    for j in range(i+1, N):\n",
    "        if A_sort[i] % A_sort[j] == 0:\n",
    "            break\n",
    "        elif j==N-1:\n",
    "            cnt += 1\n",
    "\n",
    "if A_sort[-1] != A_sort[-2]:\n",
    "    cnt += 1\n",
    "\n",
    "print(cnt)"
   ]
  },
  {
   "cell_type": "markdown",
   "metadata": {},
   "source": [
    "- 再検討"
   ]
  },
  {
   "cell_type": "code",
   "execution_count": 202,
   "metadata": {
    "ExecuteTime": {
     "end_time": "2020-06-14T13:35:34.095119Z",
     "start_time": "2020-06-14T13:35:31.470500Z"
    }
   },
   "outputs": [
    {
     "name": "stdout",
     "output_type": "stream",
     "text": [
      "2\n",
      "1 3\n"
     ]
    }
   ],
   "source": [
    "N = int(input())\n",
    "A = list(map(int, input().split()))"
   ]
  },
  {
   "cell_type": "code",
   "execution_count": 203,
   "metadata": {
    "ExecuteTime": {
     "end_time": "2020-06-14T13:35:34.471117Z",
     "start_time": "2020-06-14T13:35:34.465327Z"
    }
   },
   "outputs": [],
   "source": [
    "A_sort = sorted(A, reverse=True)"
   ]
  },
  {
   "cell_type": "code",
   "execution_count": 204,
   "metadata": {
    "ExecuteTime": {
     "end_time": "2020-06-14T13:35:34.691265Z",
     "start_time": "2020-06-14T13:35:34.678830Z"
    }
   },
   "outputs": [
    {
     "data": {
      "text/plain": [
       "[3, 1]"
      ]
     },
     "execution_count": 204,
     "metadata": {},
     "output_type": "execute_result"
    }
   ],
   "source": [
    "A_sort"
   ]
  },
  {
   "cell_type": "code",
   "execution_count": 205,
   "metadata": {
    "ExecuteTime": {
     "end_time": "2020-06-14T13:35:34.832052Z",
     "start_time": "2020-06-14T13:35:34.819019Z"
    }
   },
   "outputs": [
    {
     "name": "stdout",
     "output_type": "stream",
     "text": [
      "0\n"
     ]
    }
   ],
   "source": [
    "cnt = 0\n",
    "\n",
    "if N == 1:\n",
    "    cnt +=1\n",
    "\n",
    "elif A_sort[-1] != 1:\n",
    "        \n",
    "    if A_sort[-1] != A_sort[-2]:\n",
    "        cnt += 1\n",
    "\n",
    "    for i in range(N):\n",
    "        L = A_sort[i]\n",
    "        for j in range(N-1, i, -1):\n",
    "            R = A_sort[j]\n",
    "            if L % R == 0:\n",
    "                break\n",
    "\n",
    "            if R > L/2 or j == i+1:\n",
    "                cnt += 1\n",
    "                break\n",
    "\n",
    "            \n",
    "print(cnt)"
   ]
  },
  {
   "cell_type": "markdown",
   "metadata": {},
   "source": [
    "## E（）"
   ]
  },
  {
   "cell_type": "markdown",
   "metadata": {},
   "source": [
    "https://atcoder.jp/contests/abc170/tasks/abc170_e"
   ]
  },
  {
   "cell_type": "markdown",
   "metadata": {},
   "source": [
    "## F（）"
   ]
  },
  {
   "cell_type": "markdown",
   "metadata": {},
   "source": [
    "https://atcoder.jp/contests/abc170/tasks/abc170_f"
   ]
  }
 ],
 "metadata": {
  "kernelspec": {
   "display_name": "Python 3",
   "language": "python",
   "name": "python3"
  },
  "language_info": {
   "codemirror_mode": {
    "name": "ipython",
    "version": 3
   },
   "file_extension": ".py",
   "mimetype": "text/x-python",
   "name": "python",
   "nbconvert_exporter": "python",
   "pygments_lexer": "ipython3",
   "version": "3.7.6"
  },
  "toc": {
   "base_numbering": 1,
   "nav_menu": {},
   "number_sections": true,
   "sideBar": true,
   "skip_h1_title": true,
   "title_cell": "Table of Contents",
   "title_sidebar": "Contents",
   "toc_cell": false,
   "toc_position": {},
   "toc_section_display": true,
   "toc_window_display": false
  }
 },
 "nbformat": 4,
 "nbformat_minor": 4
}
