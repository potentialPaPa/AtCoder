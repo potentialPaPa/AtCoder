{
 "cells": [
  {
   "cell_type": "markdown",
   "metadata": {},
   "source": [
    "# AtCoder Beginner Contest 182"
   ]
  },
  {
   "cell_type": "markdown",
   "metadata": {},
   "source": [
    "Created on November 08, 2020  "
   ]
  },
  {
   "cell_type": "markdown",
   "metadata": {},
   "source": [
    "## A（AC）"
   ]
  },
  {
   "cell_type": "markdown",
   "metadata": {},
   "source": [
    "https://atcoder.jp/contests/abc182/tasks/abc182_a"
   ]
  },
  {
   "cell_type": "code",
   "execution_count": 15,
   "metadata": {},
   "outputs": [
    {
     "name": "stdout",
     "output_type": "stream",
     "text": [
      "200 300\n"
     ]
    }
   ],
   "source": [
    "A, B = map(int, input().split())"
   ]
  },
  {
   "cell_type": "code",
   "execution_count": 16,
   "metadata": {},
   "outputs": [
    {
     "name": "stdout",
     "output_type": "stream",
     "text": [
      "200\n"
     ]
    }
   ],
   "source": [
    "print((2*A + 100) - B)"
   ]
  },
  {
   "cell_type": "markdown",
   "metadata": {},
   "source": [
    "## B（AC, ただしWA1回）"
   ]
  },
  {
   "cell_type": "markdown",
   "metadata": {},
   "source": [
    "https://atcoder.jp/contests/abc182/tasks/abc182_b"
   ]
  },
  {
   "cell_type": "code",
   "execution_count": 46,
   "metadata": {},
   "outputs": [
    {
     "name": "stdout",
     "output_type": "stream",
     "text": [
      "3\n",
      "3 12 7\n"
     ]
    }
   ],
   "source": [
    "N = int(input())\n",
    "A = list(map(int, input().split()))"
   ]
  },
  {
   "cell_type": "code",
   "execution_count": 47,
   "metadata": {},
   "outputs": [
    {
     "name": "stdout",
     "output_type": "stream",
     "text": [
      "3\n"
     ]
    }
   ],
   "source": [
    "import numpy as np\n",
    "MAX_A = max(A)\n",
    "\n",
    "ans = 0\n",
    "c = 0\n",
    "\n",
    "for n in range(2, MAX_A+1):\n",
    "    new_c = sum(np.floor(np.gcd(A, n)/n))\n",
    "    if c < new_c:\n",
    "        ans = n\n",
    "        c = new_c\n",
    "        \n",
    "print(ans)"
   ]
  },
  {
   "cell_type": "markdown",
   "metadata": {},
   "source": [
    "再考"
   ]
  },
  {
   "cell_type": "code",
   "execution_count": 78,
   "metadata": {},
   "outputs": [
    {
     "name": "stdout",
     "output_type": "stream",
     "text": [
      "5\n",
      "1000 1000 1000 1000 1000\n"
     ]
    }
   ],
   "source": [
    "N = int(input())\n",
    "A = list(map(int, input().split()))"
   ]
  },
  {
   "cell_type": "code",
   "execution_count": 79,
   "metadata": {},
   "outputs": [
    {
     "name": "stdout",
     "output_type": "stream",
     "text": [
      "2\n"
     ]
    }
   ],
   "source": [
    "MAX_A = max(A)\n",
    "\n",
    "ans = 0\n",
    "c = 0\n",
    "\n",
    "for n in range(2, MAX_A+1):\n",
    "    new_c = sum([a%n==0 for a in A])\n",
    "    if new_c==N:\n",
    "        ans = n\n",
    "        break\n",
    "    elif c < new_c:\n",
    "        ans = n\n",
    "        c = new_c\n",
    "        \n",
    "print(ans)"
   ]
  },
  {
   "cell_type": "markdown",
   "metadata": {},
   "source": [
    "## C（AC, ただしWA1回）"
   ]
  },
  {
   "cell_type": "markdown",
   "metadata": {},
   "source": [
    "https://atcoder.jp/contests/abc182/tasks/abc182_c"
   ]
  },
  {
   "cell_type": "code",
   "execution_count": 130,
   "metadata": {},
   "outputs": [
    {
     "name": "stdout",
     "output_type": "stream",
     "text": [
      "223\n"
     ]
    }
   ],
   "source": [
    "N_str = input()\n",
    "N = int(N_str)"
   ]
  },
  {
   "cell_type": "code",
   "execution_count": 133,
   "metadata": {},
   "outputs": [
    {
     "name": "stdout",
     "output_type": "stream",
     "text": [
      "2\n"
     ]
    }
   ],
   "source": [
    "import collections\n",
    "\n",
    "N_len = len(N_str)\n",
    "N_list = list(map(int, list(N_str)))\n",
    "N_mods = [x%3 for x in N_list]\n",
    "mods_sum = sum(N_mods)\n",
    "\n",
    "c = collections.Counter(N_mods)\n",
    "\n",
    "if mods_sum%3 == 0:\n",
    "    ans = 0\n",
    "elif mods_sum%3 == 2:\n",
    "    if N_len > c[2] >= 1:\n",
    "        ans = 1\n",
    "    elif N_len > c[1] >= 2:\n",
    "        ans = 2\n",
    "    elif c[0] >= 1:\n",
    "        ans = N_len - c[0]\n",
    "    else:\n",
    "        ans = -1\n",
    "else: # mods_sum%3 == 1\n",
    "    if N_len > c[1] >= 1:\n",
    "        ans = 1\n",
    "    elif c[0] >= 1:\n",
    "        ans = N_len - c[0]\n",
    "    else:\n",
    "        ans = -1\n",
    "        \n",
    "print(ans)"
   ]
  },
  {
   "cell_type": "markdown",
   "metadata": {},
   "source": [
    "## D（AC, ただしWA1回）"
   ]
  },
  {
   "cell_type": "markdown",
   "metadata": {},
   "source": [
    "https://atcoder.jp/contests/abc182/tasks/abc182_d"
   ]
  },
  {
   "cell_type": "code",
   "execution_count": 189,
   "metadata": {},
   "outputs": [
    {
     "name": "stdout",
     "output_type": "stream",
     "text": [
      "3\n",
      "2 -1 -2\n"
     ]
    }
   ],
   "source": [
    "N = int(input())\n",
    "A = list(map(int, input().split()))"
   ]
  },
  {
   "cell_type": "code",
   "execution_count": 190,
   "metadata": {},
   "outputs": [],
   "source": [
    "max_list = {}\n",
    "result_list = {}\n",
    "\n",
    "for i,a in enumerate(A):\n",
    "    if i==0:\n",
    "        result_list[i] = a\n",
    "        max_list[i] = a\n",
    "    else:\n",
    "        result_list[i] = result_list[i-1] + a\n",
    "        max_list[i] = max(result_list[i-1]+a, max_list[i-1])"
   ]
  },
  {
   "cell_type": "code",
   "execution_count": 191,
   "metadata": {},
   "outputs": [
    {
     "name": "stdout",
     "output_type": "stream",
     "text": [
      "5\n"
     ]
    }
   ],
   "source": [
    "now_n = 0\n",
    "ans = 0\n",
    "\n",
    "for i in range(N):\n",
    "    ans = max(ans, now_n+max_list[i])\n",
    "    now_n += result_list[i]\n",
    "    \n",
    "print(ans)"
   ]
  },
  {
   "cell_type": "markdown",
   "metadata": {},
   "source": [
    "## E（）"
   ]
  },
  {
   "cell_type": "markdown",
   "metadata": {},
   "source": [
    "https://atcoder.jp/contests/abc182/tasks/abc182_e"
   ]
  },
  {
   "cell_type": "code",
   "execution_count": 192,
   "metadata": {},
   "outputs": [
    {
     "data": {
      "application/vnd.jupyter.widget-view+json": {
       "model_id": "576e37a99865401aa819fc15ba059d0d",
       "version_major": 2,
       "version_minor": 0
      },
      "text/plain": [
       "Textarea(value='')"
      ]
     },
     "metadata": {},
     "output_type": "display_data"
    }
   ],
   "source": [
    "from ipywidgets import Textarea\n",
    "import io\n",
    "\n",
    "if 'open' in globals():\n",
    "    del open\n",
    "original_open = open\n",
    "class custom_open():\n",
    "    def __init__(self):\n",
    "        self.text = ''\n",
    "    def __call__(self, file, *args, **kwargs):\n",
    "        if file == 0:\n",
    "            return io.StringIO(self.text)\n",
    "        return original_open(file, *args, **kwargs)\n",
    "    def updater(self, change):\n",
    "        self.text = change[\"new\"]\n",
    "open = custom_open()\n",
    "text_area = Textarea()\n",
    "text_area.observe(open.updater, names='value')\n",
    "display(text_area)"
   ]
  },
  {
   "cell_type": "code",
   "execution_count": 237,
   "metadata": {},
   "outputs": [],
   "source": [
    "H,W,N,M, *ABCD = list(map(int, open(0).read().split()))"
   ]
  },
  {
   "cell_type": "code",
   "execution_count": 238,
   "metadata": {},
   "outputs": [],
   "source": [
    "AB = []\n",
    "j = 0\n",
    "\n",
    "for i in range(N):\n",
    "    AB.append([ABCD[j], ABCD[j+1]])\n",
    "    j += 2\n",
    "\n",
    "CD = []\n",
    "for i in range(M):\n",
    "    CD.append([ABCD[j], ABCD[j+1]])\n",
    "    j += 2"
   ]
  },
  {
   "cell_type": "code",
   "execution_count": 242,
   "metadata": {},
   "outputs": [
    {
     "name": "stdout",
     "output_type": "stream",
     "text": [
      "[[0, 0, 0], [0, -999999, 0], [0, 0, 0]]\n"
     ]
    }
   ],
   "source": [
    "masu = [[0 for _ in range(W)] for _ in range(H)]\n",
    "\n",
    "for i in range(M):\n",
    "    masu[CD[i][0]-1][CD[i][1]-1] = -999999\n",
    "    \n",
    "for i in range(N):\n",
    "    masu[]\n",
    "print(masu)"
   ]
  },
  {
   "cell_type": "code",
   "execution_count": null,
   "metadata": {},
   "outputs": [],
   "source": []
  }
 ],
 "metadata": {
  "kernelspec": {
   "display_name": "Python 3",
   "language": "python",
   "name": "python3"
  },
  "language_info": {
   "codemirror_mode": {
    "name": "ipython",
    "version": 3
   },
   "file_extension": ".py",
   "mimetype": "text/x-python",
   "name": "python",
   "nbconvert_exporter": "python",
   "pygments_lexer": "ipython3",
   "version": "3.7.6"
  },
  "toc": {
   "base_numbering": 1,
   "nav_menu": {},
   "number_sections": true,
   "sideBar": true,
   "skip_h1_title": true,
   "title_cell": "Table of Contents",
   "title_sidebar": "Contents",
   "toc_cell": false,
   "toc_position": {},
   "toc_section_display": true,
   "toc_window_display": false
  }
 },
 "nbformat": 4,
 "nbformat_minor": 4
}
