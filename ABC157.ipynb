{
 "cells": [
  {
   "cell_type": "markdown",
   "metadata": {},
   "source": [
    "# AtCoder Beginner Contest 157"
   ]
  },
  {
   "cell_type": "markdown",
   "metadata": {},
   "source": [
    "Created on May 7, 2020  \n",
    "For Exercise in the morning."
   ]
  },
  {
   "cell_type": "markdown",
   "metadata": {},
   "source": [
    "https://atcoder.jp/contests/abc157"
   ]
  },
  {
   "cell_type": "markdown",
   "metadata": {},
   "source": [
    "## A（AC）"
   ]
  },
  {
   "cell_type": "markdown",
   "metadata": {},
   "source": [
    "https://atcoder.jp/contests/abc157/tasks/abc157_a"
   ]
  },
  {
   "cell_type": "code",
   "execution_count": 1,
   "metadata": {},
   "outputs": [
    {
     "name": "stdin",
     "output_type": "stream",
     "text": [
      " 5\n"
     ]
    }
   ],
   "source": [
    "N = int(input())"
   ]
  },
  {
   "cell_type": "code",
   "execution_count": 2,
   "metadata": {},
   "outputs": [
    {
     "name": "stdout",
     "output_type": "stream",
     "text": [
      "3\n"
     ]
    }
   ],
   "source": [
    "import math\n",
    "\n",
    "print(math.ceil(N/2))"
   ]
  },
  {
   "cell_type": "markdown",
   "metadata": {},
   "source": [
    "## B（AC、ただし苦戦）"
   ]
  },
  {
   "cell_type": "markdown",
   "metadata": {},
   "source": [
    "https://atcoder.jp/contests/abc157/tasks/abc157_b"
   ]
  },
  {
   "cell_type": "code",
   "execution_count": 94,
   "metadata": {},
   "outputs": [
    {
     "name": "stdin",
     "output_type": "stream",
     "text": [
      " 84 97 66\n",
      " 79 89 11\n",
      " 61 59 7\n"
     ]
    }
   ],
   "source": [
    "import numpy as np\n",
    "A = []\n",
    "for i in range(3):\n",
    "    A.append(list(map(int, input().split())))\n",
    "A = np.array(A)"
   ]
  },
  {
   "cell_type": "code",
   "execution_count": 88,
   "metadata": {},
   "outputs": [
    {
     "data": {
      "text/plain": [
       "array([[84, 97, 66],\n",
       "       [79, 89, 11],\n",
       "       [61, 59,  7]])"
      ]
     },
     "execution_count": 88,
     "metadata": {},
     "output_type": "execute_result"
    }
   ],
   "source": [
    "A"
   ]
  },
  {
   "cell_type": "code",
   "execution_count": 96,
   "metadata": {},
   "outputs": [
    {
     "name": "stdin",
     "output_type": "stream",
     "text": [
      " 7\n"
     ]
    }
   ],
   "source": [
    "N = int(input())"
   ]
  },
  {
   "cell_type": "code",
   "execution_count": 105,
   "metadata": {},
   "outputs": [
    {
     "name": "stdin",
     "output_type": "stream",
     "text": [
      " 89\n",
      " 7\n",
      " 87\n",
      " 79\n",
      " 24\n",
      " 84\n",
      " 30\n"
     ]
    }
   ],
   "source": [
    "for n in range(N):\n",
    "    called_num = int(input())\n",
    "    exist_list = [called_num in A[i] for i in range(3)]\n",
    "    if True in exist_list:\n",
    "        called_row = exist_list.index(True)\n",
    "        A[called_row] = [0 if x==called_num else x for x in A[called_row]]"
   ]
  },
  {
   "cell_type": "code",
   "execution_count": 98,
   "metadata": {},
   "outputs": [
    {
     "name": "stdout",
     "output_type": "stream",
     "text": [
      "Yes\n"
     ]
    }
   ],
   "source": [
    "sum_row = np.sum(A, axis=1)\n",
    "sum_col = np.sum(A, axis=0)\n",
    "sum_diag1 = np.diag(A).sum()\n",
    "sum_diag2 = A[0][2] + A[1][1] + A[2][0] #良い実装が思いつかなかった\n",
    "\n",
    "if 0 in sum_row or 0 in sum_col or 0 in [sum_diag1, sum_diag2]: #書き方イマイチ\n",
    "    print('Yes')\n",
    "else:\n",
    "    print('No')"
   ]
  },
  {
   "cell_type": "markdown",
   "metadata": {},
   "source": [
    "## C（AC, ただしエッジケースを漏らしてWA*1）"
   ]
  },
  {
   "cell_type": "markdown",
   "metadata": {},
   "source": [
    "https://atcoder.jp/contests/abc157/tasks/abc157_c"
   ]
  },
  {
   "cell_type": "code",
   "execution_count": 1,
   "metadata": {
    "ExecuteTime": {
     "end_time": "2021-01-02T08:52:06.227230Z",
     "start_time": "2021-01-02T08:52:06.150865Z"
    }
   },
   "outputs": [
    {
     "data": {
      "application/vnd.jupyter.widget-view+json": {
       "model_id": "af4866298807406ca97deaa8b0f2c9f3",
       "version_major": 2,
       "version_minor": 0
      },
      "text/plain": [
       "Textarea(value='')"
      ]
     },
     "metadata": {},
     "output_type": "display_data"
    }
   ],
   "source": [
    "from ipywidgets import Textarea\n",
    "import io\n",
    "\n",
    "if 'open' in globals():\n",
    "    del open\n",
    "original_open = open\n",
    "class custom_open():\n",
    "    def __init__(self):\n",
    "        self.text = ''\n",
    "    def __call__(self, file, *args, **kwargs):\n",
    "        if file == 0:\n",
    "            return io.StringIO(self.text)\n",
    "        return original_open(file, *args, **kwargs)\n",
    "    def updater(self, change):\n",
    "        self.text = change[\"new\"]\n",
    "open = custom_open()\n",
    "text_area = Textarea()\n",
    "text_area.observe(open.updater, names='value')\n",
    "display(text_area)"
   ]
  },
  {
   "cell_type": "code",
   "execution_count": 29,
   "metadata": {
    "ExecuteTime": {
     "end_time": "2021-01-02T09:17:45.223634Z",
     "start_time": "2021-01-02T09:17:45.218615Z"
    }
   },
   "outputs": [],
   "source": [
    "N,M,*SC = [int(s) for s in open(0).read().split()]\n",
    "SC = list(zip(*[iter(SC)]*2))"
   ]
  },
  {
   "cell_type": "code",
   "execution_count": 31,
   "metadata": {
    "ExecuteTime": {
     "end_time": "2021-01-02T09:18:27.009807Z",
     "start_time": "2021-01-02T09:18:26.992707Z"
    }
   },
   "outputs": [
    {
     "name": "stdout",
     "output_type": "stream",
     "text": [
      "0\n"
     ]
    }
   ],
   "source": [
    "nums = {}\n",
    "is_exist = True\n",
    "\n",
    "for i in range(M):\n",
    "    if SC[i][0] in nums.keys():\n",
    "        if SC[i][1] != nums[SC[i][0]]:\n",
    "            is_exist = False\n",
    "            break\n",
    "    else:\n",
    "        nums[SC[i][0]] = SC[i][1]\n",
    "\n",
    "if is_exist:\n",
    "    ans = ''\n",
    "    for n in range(1,N+1):\n",
    "        if n in nums.keys():\n",
    "            ans += str(nums[n])\n",
    "        elif n!=1 or (N==1 and n==1):\n",
    "            ans += '0'\n",
    "        else:\n",
    "            ans += '1'\n",
    "            \n",
    "    if len(str(int(ans))) == N:\n",
    "        ans = int(ans)\n",
    "    else:\n",
    "        ans = -1\n",
    "else:\n",
    "    ans = -1\n",
    "    \n",
    "print(ans)"
   ]
  }
 ],
 "metadata": {
  "kernelspec": {
   "display_name": "Python 3",
   "language": "python",
   "name": "python3"
  },
  "language_info": {
   "codemirror_mode": {
    "name": "ipython",
    "version": 3
   },
   "file_extension": ".py",
   "mimetype": "text/x-python",
   "name": "python",
   "nbconvert_exporter": "python",
   "pygments_lexer": "ipython3",
   "version": "3.7.6"
  },
  "toc": {
   "base_numbering": 1,
   "nav_menu": {},
   "number_sections": true,
   "sideBar": true,
   "skip_h1_title": true,
   "title_cell": "Table of Contents",
   "title_sidebar": "Contents",
   "toc_cell": false,
   "toc_position": {},
   "toc_section_display": true,
   "toc_window_display": false
  }
 },
 "nbformat": 4,
 "nbformat_minor": 4
}
