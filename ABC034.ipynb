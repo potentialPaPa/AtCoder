{
 "cells": [
  {
   "cell_type": "markdown",
   "metadata": {},
   "source": [
    "# AtCoder Beginner Contest 034"
   ]
  },
  {
   "cell_type": "markdown",
   "metadata": {},
   "source": [
    "Created on December 01, 2020  "
   ]
  },
  {
   "cell_type": "markdown",
   "metadata": {},
   "source": [
    "https://atcoder.jp/contests/abc034"
   ]
  },
  {
   "cell_type": "markdown",
   "metadata": {},
   "source": [
    "## A（AC）"
   ]
  },
  {
   "cell_type": "markdown",
   "metadata": {},
   "source": [
    "https://atcoder.jp/contests/abc034/tasks/abc034_a"
   ]
  },
  {
   "cell_type": "code",
   "execution_count": 2,
   "metadata": {
    "ExecuteTime": {
     "end_time": "2020-11-30T22:19:41.813100Z",
     "start_time": "2020-11-30T22:19:40.247560Z"
    }
   },
   "outputs": [
    {
     "name": "stdout",
     "output_type": "stream",
     "text": [
      "12 34\n",
      "Better\n"
     ]
    }
   ],
   "source": [
    "x,y = map(int, input().split())\n",
    "if x < y:\n",
    "    print('Better')\n",
    "else:\n",
    "    print('Worse')"
   ]
  },
  {
   "cell_type": "markdown",
   "metadata": {},
   "source": [
    "## B（AC）"
   ]
  },
  {
   "cell_type": "markdown",
   "metadata": {},
   "source": [
    "https://atcoder.jp/contests/abc034/tasks/abc034_b"
   ]
  },
  {
   "cell_type": "code",
   "execution_count": 5,
   "metadata": {
    "ExecuteTime": {
     "end_time": "2020-11-30T22:20:42.979086Z",
     "start_time": "2020-11-30T22:20:42.392113Z"
    }
   },
   "outputs": [
    {
     "name": "stdout",
     "output_type": "stream",
     "text": [
      "123456789\n"
     ]
    }
   ],
   "source": [
    "n = int(input())"
   ]
  },
  {
   "cell_type": "code",
   "execution_count": 6,
   "metadata": {
    "ExecuteTime": {
     "end_time": "2020-11-30T22:20:43.177154Z",
     "start_time": "2020-11-30T22:20:43.162820Z"
    }
   },
   "outputs": [
    {
     "name": "stdout",
     "output_type": "stream",
     "text": [
      "123456790\n"
     ]
    }
   ],
   "source": [
    "if n%2==0:\n",
    "    print(n-1)\n",
    "else:\n",
    "    print(n+1)"
   ]
  },
  {
   "cell_type": "markdown",
   "metadata": {},
   "source": [
    "## C（AC）"
   ]
  },
  {
   "cell_type": "markdown",
   "metadata": {},
   "source": [
    "https://atcoder.jp/contests/abc034/tasks/abc034_c"
   ]
  },
  {
   "cell_type": "markdown",
   "metadata": {},
   "source": [
    "- nCrの計算の高速化はネットから拝借した"
   ]
  },
  {
   "cell_type": "code",
   "execution_count": 27,
   "metadata": {
    "ExecuteTime": {
     "end_time": "2020-11-30T22:30:31.580971Z",
     "start_time": "2020-11-30T22:30:30.875626Z"
    }
   },
   "outputs": [
    {
     "name": "stdout",
     "output_type": "stream",
     "text": [
      "123 456\n"
     ]
    }
   ],
   "source": [
    "W,H = map(int, input().split())"
   ]
  },
  {
   "cell_type": "code",
   "execution_count": 32,
   "metadata": {
    "ExecuteTime": {
     "end_time": "2020-11-30T22:32:43.705515Z",
     "start_time": "2020-11-30T22:32:42.317308Z"
    }
   },
   "outputs": [
    {
     "name": "stdout",
     "output_type": "stream",
     "text": [
      "210368064\n"
     ]
    }
   ],
   "source": [
    "INF = 1000000007\n",
    "\n",
    "def cmb(n, r, p):\n",
    "    if (r < 0) or (n < r):\n",
    "        return 0\n",
    "    r = min(r, n - r)\n",
    "    return fact[n] * factinv[r] * factinv[n-r] % p\n",
    "\n",
    "p = 10 ** 9 + 7\n",
    "N = 10 ** 6  # N は必要分だけ用意する\n",
    "fact = [1, 1]  # fact[n] = (n! mod p)\n",
    "factinv = [1, 1]  # factinv[n] = ((n!)^(-1) mod p)\n",
    "inv = [0, 1]  # factinv 計算用\n",
    " \n",
    "for i in range(2, N + 1):\n",
    "    fact.append((fact[-1] * i) % p)\n",
    "    inv.append((-inv[p % i] * (p // i)) % p)\n",
    "    factinv.append((factinv[-1] * inv[-1]) % p)\n",
    "\n",
    "print(cmb(W+H-2, W-1, INF))"
   ]
  },
  {
   "cell_type": "markdown",
   "metadata": {},
   "source": [
    "## D（）"
   ]
  },
  {
   "cell_type": "markdown",
   "metadata": {},
   "source": [
    "https://atcoder.jp/contests/abc034/tasks/abc034_d"
   ]
  }
 ],
 "metadata": {
  "kernelspec": {
   "display_name": "Python 3",
   "language": "python",
   "name": "python3"
  },
  "language_info": {
   "codemirror_mode": {
    "name": "ipython",
    "version": 3
   },
   "file_extension": ".py",
   "mimetype": "text/x-python",
   "name": "python",
   "nbconvert_exporter": "python",
   "pygments_lexer": "ipython3",
   "version": "3.7.6"
  },
  "toc": {
   "base_numbering": 1,
   "nav_menu": {},
   "number_sections": true,
   "sideBar": true,
   "skip_h1_title": true,
   "title_cell": "Table of Contents",
   "title_sidebar": "Contents",
   "toc_cell": false,
   "toc_position": {},
   "toc_section_display": true,
   "toc_window_display": false
  }
 },
 "nbformat": 4,
 "nbformat_minor": 4
}
