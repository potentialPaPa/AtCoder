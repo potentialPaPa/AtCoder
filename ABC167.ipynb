{
 "cells": [
  {
   "cell_type": "markdown",
   "metadata": {},
   "source": [
    "# AtCoder Beginner Contest 167"
   ]
  },
  {
   "cell_type": "markdown",
   "metadata": {},
   "source": [
    "Created on May 10, 2020"
   ]
  },
  {
   "cell_type": "markdown",
   "metadata": {},
   "source": [
    "https://atcoder.jp/contests/abc167"
   ]
  },
  {
   "cell_type": "markdown",
   "metadata": {},
   "source": [
    "## A（AC）"
   ]
  },
  {
   "cell_type": "markdown",
   "metadata": {},
   "source": [
    "https://atcoder.jp/contests/abc167/tasks/abc167_a"
   ]
  },
  {
   "cell_type": "code",
   "execution_count": 11,
   "metadata": {},
   "outputs": [
    {
     "name": "stdout",
     "output_type": "stream",
     "text": [
      "b\n",
      "aa\n"
     ]
    }
   ],
   "source": [
    "S = input()\n",
    "T = input()"
   ]
  },
  {
   "cell_type": "code",
   "execution_count": 13,
   "metadata": {},
   "outputs": [
    {
     "name": "stdout",
     "output_type": "stream",
     "text": [
      "No\n"
     ]
    }
   ],
   "source": [
    "if S == T[:-1] and len(T)-len(S) == 1:\n",
    "    print(\"Yes\")\n",
    "else:\n",
    "    print(\"No\")"
   ]
  },
  {
   "cell_type": "markdown",
   "metadata": {},
   "source": [
    "## B（AC）"
   ]
  },
  {
   "cell_type": "markdown",
   "metadata": {},
   "source": [
    "https://atcoder.jp/contests/abc167/tasks/abc167_b"
   ]
  },
  {
   "cell_type": "code",
   "execution_count": 19,
   "metadata": {},
   "outputs": [
    {
     "name": "stdout",
     "output_type": "stream",
     "text": [
      "2000000000 0 0 2000000000\n"
     ]
    }
   ],
   "source": [
    "A, B, C, K = map(int, input().split())"
   ]
  },
  {
   "cell_type": "code",
   "execution_count": 20,
   "metadata": {},
   "outputs": [
    {
     "name": "stdout",
     "output_type": "stream",
     "text": [
      "2000000000\n"
     ]
    }
   ],
   "source": [
    "ans = 0\n",
    "num_of_cards = K\n",
    "\n",
    "if A <= num_of_cards:\n",
    "    ans += 1*A\n",
    "    num_of_cards -= A\n",
    "    if B <= num_of_cards:\n",
    "        ans += 0\n",
    "        num_of_cards -= B\n",
    "        if C <= num_of_cards:\n",
    "            ans += -1*C\n",
    "        else:\n",
    "            ans += -1*num_of_cards\n",
    "    else:\n",
    "        ans += 0\n",
    "else:\n",
    "    ans += 1*num_of_cards\n",
    "\n",
    "print(ans)"
   ]
  },
  {
   "cell_type": "markdown",
   "metadata": {},
   "source": [
    "## C（解けず…復習にてAC）"
   ]
  },
  {
   "cell_type": "markdown",
   "metadata": {},
   "source": [
    "全探索"
   ]
  },
  {
   "cell_type": "markdown",
   "metadata": {},
   "source": [
    "https://atcoder.jp/contests/abc167/tasks/abc167_c"
   ]
  },
  {
   "cell_type": "code",
   "execution_count": 2,
   "metadata": {
    "ExecuteTime": {
     "end_time": "2021-01-02T08:25:57.350443Z",
     "start_time": "2021-01-02T08:25:57.253585Z"
    }
   },
   "outputs": [
    {
     "data": {
      "application/vnd.jupyter.widget-view+json": {
       "model_id": "358ae69189b345e2a29ed5b5f9995f53",
       "version_major": 2,
       "version_minor": 0
      },
      "text/plain": [
       "Textarea(value='')"
      ]
     },
     "metadata": {},
     "output_type": "display_data"
    }
   ],
   "source": [
    "from ipywidgets import Textarea\n",
    "import io\n",
    "\n",
    "if 'open' in globals():\n",
    "    del open\n",
    "original_open = open\n",
    "class custom_open():\n",
    "    def __init__(self):\n",
    "        self.text = ''\n",
    "    def __call__(self, file, *args, **kwargs):\n",
    "        if file == 0:\n",
    "            return io.StringIO(self.text)\n",
    "        return original_open(file, *args, **kwargs)\n",
    "    def updater(self, change):\n",
    "        self.text = change[\"new\"]\n",
    "open = custom_open()\n",
    "text_area = Textarea()\n",
    "text_area.observe(open.updater, names='value')\n",
    "display(text_area)"
   ]
  },
  {
   "cell_type": "code",
   "execution_count": 62,
   "metadata": {
    "ExecuteTime": {
     "end_time": "2021-01-02T08:44:16.942616Z",
     "start_time": "2021-01-02T08:44:16.934757Z"
    }
   },
   "outputs": [],
   "source": [
    "import numpy as np\n",
    "\n",
    "N, M, X, *CA = [int(s) for s in open(0).read().split()]\n",
    "CA = np.array(list(zip(*[iter(CA)]*(M+1))))"
   ]
  },
  {
   "cell_type": "code",
   "execution_count": 64,
   "metadata": {
    "ExecuteTime": {
     "end_time": "2021-01-02T08:44:23.390659Z",
     "start_time": "2021-01-02T08:44:23.361006Z"
    }
   },
   "outputs": [
    {
     "name": "stdout",
     "output_type": "stream",
     "text": [
      "1067\n"
     ]
    }
   ],
   "source": [
    "INF = 999999999\n",
    "ans = 999999999\n",
    "\n",
    "for i in range(1 << N):\n",
    "    tmp = np.array([0]*M)\n",
    "    cost = 0\n",
    "    \n",
    "    for k in range(N):\n",
    "        if ((i >> k)&1) == 1:\n",
    "            tmp += CA[k][1:]\n",
    "            cost += CA[k][0]\n",
    "            \n",
    "    if sum(tmp >= X) == M:\n",
    "        ans = min(ans, cost)\n",
    "\n",
    "if ans == INF:\n",
    "    print(-1)\n",
    "else:\n",
    "    print(ans)"
   ]
  },
  {
   "cell_type": "markdown",
   "metadata": {},
   "source": [
    "## D（AC）"
   ]
  },
  {
   "cell_type": "markdown",
   "metadata": {},
   "source": [
    "https://atcoder.jp/contests/abc167/tasks/abc167_d"
   ]
  },
  {
   "cell_type": "code",
   "execution_count": 74,
   "metadata": {},
   "outputs": [
    {
     "name": "stdout",
     "output_type": "stream",
     "text": [
      "6 727202214173249351\n"
     ]
    }
   ],
   "source": [
    "N, K = map(int, input().split())"
   ]
  },
  {
   "cell_type": "code",
   "execution_count": 75,
   "metadata": {},
   "outputs": [
    {
     "name": "stdout",
     "output_type": "stream",
     "text": [
      "6 5 2 5 3 2\n"
     ]
    }
   ],
   "source": [
    "A = list(map(int, input().split()))"
   ]
  },
  {
   "cell_type": "code",
   "execution_count": 76,
   "metadata": {},
   "outputs": [
    {
     "name": "stdout",
     "output_type": "stream",
     "text": [
      "2\n"
     ]
    }
   ],
   "source": [
    "is_first_visit = [True for i in range(N)]\n",
    "\n",
    "now_city = 1\n",
    "visited_history = []\n",
    "num_to_visit = K\n",
    "\n",
    "is_finished = False\n",
    "\n",
    "while is_first_visit[now_city-1]:\n",
    "    is_first_visit[now_city-1] = False\n",
    "    visited_history.append(now_city)\n",
    "    now_city = A[now_city-1]\n",
    "    num_to_visit -= 1\n",
    "    \n",
    "    if num_to_visit == 0:\n",
    "        is_finished = True\n",
    "        break\n",
    "\n",
    "if is_finished:\n",
    "    print(now_city)\n",
    "else:\n",
    "    loop_route = visited_history[visited_history.index(now_city):]\n",
    "    loop_length = len(loop_route)\n",
    "\n",
    "    print(loop_route[loop_route.index(now_city) + (num_to_visit % loop_length)])"
   ]
  },
  {
   "cell_type": "markdown",
   "metadata": {},
   "source": [
    "## E（解けず…）"
   ]
  },
  {
   "cell_type": "markdown",
   "metadata": {},
   "source": [
    "https://atcoder.jp/contests/abc167/tasks/abc167_e"
   ]
  },
  {
   "cell_type": "code",
   "execution_count": 95,
   "metadata": {},
   "outputs": [
    {
     "name": "stdout",
     "output_type": "stream",
     "text": [
      "3 2 1\n"
     ]
    }
   ],
   "source": [
    "N, M, K = map(int, input().split())"
   ]
  },
  {
   "cell_type": "code",
   "execution_count": 96,
   "metadata": {},
   "outputs": [],
   "source": [
    "ans = 1\n",
    "for i in range(1, N+1):\n",
    "    ans = ans*i % 998244353"
   ]
  },
  {
   "cell_type": "code",
   "execution_count": 97,
   "metadata": {},
   "outputs": [
    {
     "data": {
      "text/plain": [
       "6"
      ]
     },
     "execution_count": 97,
     "metadata": {},
     "output_type": "execute_result"
    }
   ],
   "source": [
    "ans"
   ]
  }
 ],
 "metadata": {
  "kernelspec": {
   "display_name": "Python 3",
   "language": "python",
   "name": "python3"
  },
  "language_info": {
   "codemirror_mode": {
    "name": "ipython",
    "version": 3
   },
   "file_extension": ".py",
   "mimetype": "text/x-python",
   "name": "python",
   "nbconvert_exporter": "python",
   "pygments_lexer": "ipython3",
   "version": "3.7.6"
  },
  "toc": {
   "base_numbering": 1,
   "nav_menu": {},
   "number_sections": true,
   "sideBar": true,
   "skip_h1_title": true,
   "title_cell": "Table of Contents",
   "title_sidebar": "Contents",
   "toc_cell": false,
   "toc_position": {},
   "toc_section_display": true,
   "toc_window_display": false
  }
 },
 "nbformat": 4,
 "nbformat_minor": 4
}
