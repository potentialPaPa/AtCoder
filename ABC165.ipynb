{
 "cells": [
  {
   "cell_type": "markdown",
   "metadata": {},
   "source": [
    "# AtCoder Beginner Contest 165"
   ]
  },
  {
   "cell_type": "markdown",
   "metadata": {},
   "source": [
    "https://atcoder.jp/contests/abc165"
   ]
  },
  {
   "cell_type": "markdown",
   "metadata": {},
   "source": [
    "## A（AC）"
   ]
  },
  {
   "cell_type": "markdown",
   "metadata": {},
   "source": [
    "https://atcoder.jp/contests/abc165/tasks/abc165_a"
   ]
  },
  {
   "cell_type": "code",
   "execution_count": 1,
   "metadata": {},
   "outputs": [
    {
     "name": "stdin",
     "output_type": "stream",
     "text": [
      " 7\n"
     ]
    }
   ],
   "source": [
    "K = int(input())"
   ]
  },
  {
   "cell_type": "code",
   "execution_count": 2,
   "metadata": {},
   "outputs": [
    {
     "name": "stdin",
     "output_type": "stream",
     "text": [
      " 500 600\n"
     ]
    }
   ],
   "source": [
    "A, B = map(int, input().split())"
   ]
  },
  {
   "cell_type": "code",
   "execution_count": 5,
   "metadata": {},
   "outputs": [
    {
     "name": "stdout",
     "output_type": "stream",
     "text": [
      "OK\n"
     ]
    }
   ],
   "source": [
    "ans_flag = False\n",
    "for i in range(A, B+1):\n",
    "    if i%K==0:\n",
    "        ans_flag = True\n",
    "        break\n",
    "if ans_flag:\n",
    "    print(\"OK\")\n",
    "else:\n",
    "    print(\"NG\")"
   ]
  },
  {
   "cell_type": "markdown",
   "metadata": {},
   "source": [
    "## B（AC）"
   ]
  },
  {
   "cell_type": "markdown",
   "metadata": {},
   "source": [
    "https://atcoder.jp/contests/abc165/tasks/abc165_b"
   ]
  },
  {
   "cell_type": "code",
   "execution_count": 12,
   "metadata": {},
   "outputs": [
    {
     "name": "stdin",
     "output_type": "stream",
     "text": [
      " 1000000000000000000\n"
     ]
    }
   ],
   "source": [
    "X = int(input())"
   ]
  },
  {
   "cell_type": "code",
   "execution_count": 14,
   "metadata": {},
   "outputs": [
    {
     "name": "stdout",
     "output_type": "stream",
     "text": [
      "3760\n"
     ]
    }
   ],
   "source": [
    "import math\n",
    "\n",
    "tyokin = 100\n",
    "year_count = 0\n",
    "for i in range(9999):\n",
    "    tyokin = math.floor(tyokin * 1.01)\n",
    "    year_count += 1\n",
    "    \n",
    "    if tyokin >= X:\n",
    "        break\n",
    "        \n",
    "print(year_count)"
   ]
  },
  {
   "cell_type": "markdown",
   "metadata": {},
   "source": [
    "## C（AC）"
   ]
  },
  {
   "cell_type": "markdown",
   "metadata": {},
   "source": [
    "https://atcoder.jp/contests/abc165/tasks/abc165_c"
   ]
  },
  {
   "cell_type": "code",
   "execution_count": 158,
   "metadata": {},
   "outputs": [
    {
     "name": "stdin",
     "output_type": "stream",
     "text": [
      " 3 4 3\n"
     ]
    }
   ],
   "source": [
    "N, M, Q = map(int, input().split())"
   ]
  },
  {
   "cell_type": "code",
   "execution_count": 156,
   "metadata": {},
   "outputs": [
    {
     "name": "stdin",
     "output_type": "stream",
     "text": [
      " 1 3 3 100\n",
      " 1 2 2 10\n",
      " 2 3 2 10\n"
     ]
    }
   ],
   "source": [
    "a,b,c,d = [], [], [], []\n",
    "for i in range(Q):\n",
    "    tmp_a, tmp_b, tmp_c, tmp_d = map(int, input().split())\n",
    "    a.append(tmp_a)\n",
    "    b.append(tmp_b)\n",
    "    c.append(tmp_c)\n",
    "    d.append(tmp_d)"
   ]
  },
  {
   "cell_type": "code",
   "execution_count": 159,
   "metadata": {},
   "outputs": [
    {
     "name": "stdout",
     "output_type": "stream",
     "text": [
      "110\n"
     ]
    }
   ],
   "source": [
    "import itertools\n",
    "\n",
    "ans = {}\n",
    "\n",
    "for j in itertools.combinations_with_replacement(range(1,M+1), N):\n",
    "    ans[j] = 0\n",
    "    for i in range(Q):\n",
    "        if j[b[i]-1]-j[a[i]-1] == c[i]:\n",
    "            ans[j] += d[i]\n",
    "print(max(ans.values()))"
   ]
  },
  {
   "cell_type": "markdown",
   "metadata": {},
   "source": [
    "## D（AC）"
   ]
  },
  {
   "cell_type": "markdown",
   "metadata": {},
   "source": [
    "https://atcoder.jp/contests/abc165/tasks/abc165_d"
   ]
  },
  {
   "cell_type": "code",
   "execution_count": 85,
   "metadata": {},
   "outputs": [
    {
     "name": "stdin",
     "output_type": "stream",
     "text": [
      " 100000 100 99\n"
     ]
    }
   ],
   "source": [
    "A, B, N = map(int, input().split())"
   ]
  },
  {
   "cell_type": "code",
   "execution_count": 87,
   "metadata": {},
   "outputs": [
    {
     "name": "stdout",
     "output_type": "stream",
     "text": [
      "99000\n"
     ]
    }
   ],
   "source": [
    "import math\n",
    "\n",
    "solved_flag = False\n",
    "if B==1:\n",
    "    ans = 0\n",
    "    solved_flag = True\n",
    "else:\n",
    "    if B <= N:\n",
    "        x = B-1\n",
    "    else:\n",
    "        x = N\n",
    "\n",
    "if not solved_flag:\n",
    "    ans = math.floor(A*x/B) - A*math.floor(x/B)\n",
    "print(ans)"
   ]
  },
  {
   "cell_type": "markdown",
   "metadata": {},
   "source": [
    "- 全探索バージョン（TLEになるが、答えの確認用）"
   ]
  },
  {
   "cell_type": "code",
   "execution_count": 86,
   "metadata": {},
   "outputs": [
    {
     "name": "stdout",
     "output_type": "stream",
     "text": [
      "99000\n"
     ]
    }
   ],
   "source": [
    "import math\n",
    "\n",
    "ans = 0\n",
    "\n",
    "for x in range(1, N+1):\n",
    "    ans = max(ans, math.floor(A*x/B) - A*math.floor(x/B))\n",
    "\n",
    "print(ans)"
   ]
  },
  {
   "cell_type": "markdown",
   "metadata": {},
   "source": [
    "## E（RE）"
   ]
  },
  {
   "cell_type": "markdown",
   "metadata": {},
   "source": [
    "https://atcoder.jp/contests/abc165/tasks/abc165_e"
   ]
  },
  {
   "cell_type": "code",
   "execution_count": 102,
   "metadata": {},
   "outputs": [
    {
     "name": "stdin",
     "output_type": "stream",
     "text": [
      " 7 3\n"
     ]
    }
   ],
   "source": [
    "N, M = map(int, input().split())"
   ]
  },
  {
   "cell_type": "code",
   "execution_count": 154,
   "metadata": {},
   "outputs": [
    {
     "name": "stdout",
     "output_type": "stream",
     "text": [
      "3 4\n",
      "2 5\n",
      "1 6\n"
     ]
    }
   ],
   "source": [
    "sankasha_num = {}\n",
    "for i in range(1, N+1):\n",
    "    sankasha_num[i] = i\n",
    "\n",
    "import numpy as np\n",
    "\n",
    "for x in range(N):\n",
    "    a, b = [], []\n",
    "    for m in range(M):\n",
    "        a.append(int(N/2)-m)\n",
    "        if int(N/2+1)+m+x > N:\n",
    "            b.append(int(N/2+1)+m+x - N)\n",
    "        else:\n",
    "            b.append(int(N/2+1)+m+x)\n",
    "\n",
    "    flag_matrix = np.array([np.zeros(N)]*N)\n",
    "\n",
    "    for n in range(N):\n",
    "        for m in range(M):\n",
    "            now_a = [k for k, v in sankasha_num.items() if v == a[m]][0]\n",
    "            now_b = [k for k, v in sankasha_num.items() if v == b[m]][0]\n",
    "            flag_matrix[now_a-1][now_b-1] += 1\n",
    "        sankasha_num = dict(zip(sankasha_num.keys(), [k+1 if k < N else 1 for k in sankasha_num.values()]))\n",
    "\n",
    "    if flag_matrix.max() > 1:\n",
    "        x += 1\n",
    "    else:\n",
    "        break\n",
    "\n",
    "for m in range(M):\n",
    "    print(a[m], b[m])\n"
   ]
  },
  {
   "cell_type": "markdown",
   "metadata": {},
   "source": [
    "- 個別要素の確認"
   ]
  },
  {
   "cell_type": "code",
   "execution_count": 150,
   "metadata": {},
   "outputs": [
    {
     "data": {
      "text/plain": [
       "array([[0., 0., 0., 0., 0., 0., 0.],\n",
       "       [0., 0., 0., 0., 0., 0., 0.],\n",
       "       [0., 0., 0., 0., 0., 0., 0.],\n",
       "       [0., 0., 0., 0., 0., 0., 0.],\n",
       "       [0., 0., 0., 0., 0., 0., 0.],\n",
       "       [0., 0., 0., 0., 0., 0., 0.],\n",
       "       [0., 0., 0., 0., 0., 0., 0.]])"
      ]
     },
     "execution_count": 150,
     "metadata": {},
     "output_type": "execute_result"
    }
   ],
   "source": [
    "flag_matrix"
   ]
  }
 ],
 "metadata": {
  "kernelspec": {
   "display_name": "Python 3",
   "language": "python",
   "name": "python3"
  },
  "language_info": {
   "codemirror_mode": {
    "name": "ipython",
    "version": 3
   },
   "file_extension": ".py",
   "mimetype": "text/x-python",
   "name": "python",
   "nbconvert_exporter": "python",
   "pygments_lexer": "ipython3",
   "version": "3.7.4"
  }
 },
 "nbformat": 4,
 "nbformat_minor": 4
}
