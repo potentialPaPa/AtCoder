{
 "cells": [
  {
   "cell_type": "markdown",
   "metadata": {},
   "source": [
    "# M-SOLUTIONS プロコンオープン 2020"
   ]
  },
  {
   "cell_type": "markdown",
   "metadata": {},
   "source": [
    "Created on July 25, 2020  "
   ]
  },
  {
   "cell_type": "markdown",
   "metadata": {},
   "source": [
    "https://atcoder.jp/contests/m-solutions2020"
   ]
  },
  {
   "cell_type": "markdown",
   "metadata": {},
   "source": [
    "## A（AC）"
   ]
  },
  {
   "cell_type": "code",
   "execution_count": 5,
   "metadata": {
    "ExecuteTime": {
     "end_time": "2020-07-25T12:03:23.887211Z",
     "start_time": "2020-07-25T12:03:23.266360Z"
    }
   },
   "outputs": [
    {
     "name": "stdout",
     "output_type": "stream",
     "text": [
      "1600\n"
     ]
    }
   ],
   "source": [
    "X = int(input())"
   ]
  },
  {
   "cell_type": "code",
   "execution_count": 6,
   "metadata": {
    "ExecuteTime": {
     "end_time": "2020-07-25T12:03:24.029197Z",
     "start_time": "2020-07-25T12:03:24.015163Z"
    }
   },
   "outputs": [
    {
     "name": "stdout",
     "output_type": "stream",
     "text": [
      "2\n"
     ]
    }
   ],
   "source": [
    "RATE = [400, 600, 800, 1000, 1200, 1400, 1600, 1800, 2000]\n",
    "\n",
    "your_rate = 8\n",
    "\n",
    "for i in range(len(RATE)-1):\n",
    "    if RATE[i] <= X < RATE[i+1]:\n",
    "        print(your_rate)\n",
    "        break\n",
    "    else:\n",
    "        your_rate -= 1"
   ]
  },
  {
   "cell_type": "markdown",
   "metadata": {},
   "source": [
    "## B（AC, ただしWA 1回）"
   ]
  },
  {
   "cell_type": "code",
   "execution_count": 47,
   "metadata": {
    "ExecuteTime": {
     "end_time": "2020-07-25T12:21:51.783945Z",
     "start_time": "2020-07-25T12:21:48.900790Z"
    }
   },
   "outputs": [
    {
     "name": "stdout",
     "output_type": "stream",
     "text": [
      "7 4 2\n",
      "3\n"
     ]
    }
   ],
   "source": [
    "A, B, C = map(int, input().split())\n",
    "K = int(input())"
   ]
  },
  {
   "cell_type": "code",
   "execution_count": 48,
   "metadata": {
    "ExecuteTime": {
     "end_time": "2020-07-25T12:21:51.999202Z",
     "start_time": "2020-07-25T12:21:51.986514Z"
    }
   },
   "outputs": [
    {
     "name": "stdout",
     "output_type": "stream",
     "text": [
      "No\n"
     ]
    }
   ],
   "source": [
    "red, green, blue = A, B, C\n",
    "\n",
    "ans = \"No\"\n",
    "\n",
    "from itertools import product\n",
    "\n",
    "for p in product(range(3),repeat=K):\n",
    "    red_tmp = red * 2 ** p.count(0)\n",
    "    green_tmp = green * 2 ** p.count(1)\n",
    "    blue_tmp = blue * 2 ** p.count(2)\n",
    "    \n",
    "    if blue_tmp > green_tmp > red_tmp:\n",
    "        ans = \"Yes\"\n",
    "        break\n",
    "    \n",
    "print(ans)"
   ]
  },
  {
   "cell_type": "markdown",
   "metadata": {},
   "source": [
    "## C（AC, ただしTLE 1回）"
   ]
  },
  {
   "cell_type": "code",
   "execution_count": 88,
   "metadata": {
    "ExecuteTime": {
     "end_time": "2020-07-25T12:42:41.215806Z",
     "start_time": "2020-07-25T12:42:37.751959Z"
    }
   },
   "outputs": [
    {
     "name": "stdout",
     "output_type": "stream",
     "text": [
      "15 7\n",
      "3 1 4 1 5 9 2 6 5 3 5 8 9 7 9\n"
     ]
    }
   ],
   "source": [
    "N, K = map(int, input().split())\n",
    "A = list(map(int, input().split()))"
   ]
  },
  {
   "cell_type": "code",
   "execution_count": 89,
   "metadata": {
    "ExecuteTime": {
     "end_time": "2020-07-25T12:42:41.365883Z",
     "start_time": "2020-07-25T12:42:41.355481Z"
    }
   },
   "outputs": [
    {
     "name": "stdout",
     "output_type": "stream",
     "text": [
      "Yes\n",
      "Yes\n",
      "No\n",
      "Yes\n",
      "Yes\n",
      "No\n",
      "Yes\n",
      "Yes\n"
     ]
    }
   ],
   "source": [
    "judge_str = {True: \"Yes\", False: \"No\"}\n",
    "\n",
    "for i in range(K+1, N+1):\n",
    "    print(judge_str[A[i-K-1] < A[i-1]])"
   ]
  },
  {
   "cell_type": "markdown",
   "metadata": {},
   "source": [
    "- TLEの解"
   ]
  },
  {
   "cell_type": "code",
   "execution_count": 61,
   "metadata": {
    "ExecuteTime": {
     "end_time": "2020-07-25T12:33:50.831373Z",
     "start_time": "2020-07-25T12:33:48.234293Z"
    }
   },
   "outputs": [
    {
     "name": "stdout",
     "output_type": "stream",
     "text": [
      "15 7\n",
      "3 1 4 1 5 9 2 6 5 3 5 8 9 7 9\n"
     ]
    }
   ],
   "source": [
    "N, K = map(int, input().split())\n",
    "A = list(map(int, input().split()))"
   ]
  },
  {
   "cell_type": "code",
   "execution_count": 62,
   "metadata": {
    "ExecuteTime": {
     "end_time": "2020-07-25T12:33:51.254062Z",
     "start_time": "2020-07-25T12:33:51.230419Z"
    }
   },
   "outputs": [
    {
     "name": "stdout",
     "output_type": "stream",
     "text": [
      "Yes\n",
      "Yes\n",
      "No\n",
      "Yes\n",
      "Yes\n",
      "No\n",
      "Yes\n",
      "Yes\n"
     ]
    }
   ],
   "source": [
    "from operator import mul\n",
    "from functools import reduce\n",
    "\n",
    "scores = []\n",
    "judge_str = {True: \"Yes\", False: \"No\"}\n",
    "\n",
    "for i in range(K, N+1):\n",
    "    scores.append(reduce(mul, A[i-K:i]))\n",
    "    if len(scores) == 1:\n",
    "        continue\n",
    "    else:\n",
    "        print(judge_str[scores[i-K-1] < scores[i-K]])"
   ]
  },
  {
   "cell_type": "markdown",
   "metadata": {},
   "source": [
    "## D（AC, ただしWA 1回）"
   ]
  },
  {
   "cell_type": "code",
   "execution_count": 116,
   "metadata": {
    "ExecuteTime": {
     "end_time": "2020-07-25T13:19:01.314761Z",
     "start_time": "2020-07-25T13:18:58.049671Z"
    }
   },
   "outputs": [
    {
     "name": "stdout",
     "output_type": "stream",
     "text": [
      "7\n",
      "100 130 130 130 145 115 150\n"
     ]
    }
   ],
   "source": [
    "N = int(input())\n",
    "A = list(map(int, input().split()))"
   ]
  },
  {
   "cell_type": "code",
   "execution_count": 129,
   "metadata": {
    "ExecuteTime": {
     "end_time": "2020-07-25T13:26:36.316885Z",
     "start_time": "2020-07-25T13:26:36.298400Z"
    }
   },
   "outputs": [
    {
     "name": "stdout",
     "output_type": "stream",
     "text": [
      "1870\n"
     ]
    }
   ],
   "source": [
    "def ask_judge(asset_now, position):\n",
    "    if ask[i]:\n",
    "        position += asset_now // A[i]\n",
    "        asset_now -= asset_now // A[i] * A[i]    \n",
    "    return asset_now, position\n",
    "\n",
    "def bid_judge(asset_now, position):\n",
    "    if bid[i]:\n",
    "        asset_now += position * A[i]    \n",
    "        position = 0\n",
    "    return asset_now, position\n",
    "\n",
    "\n",
    "asset_now = 1000\n",
    "\n",
    "ask = [True if A[i+1] - A[i] > 0 else False for i in range(N-1)]\n",
    "bid = [True if A[i+1] - A[i] < 0 else False for i in range(N-1)]\n",
    "position = 0\n",
    "\n",
    "for i in range(N):\n",
    "    if i == 0:\n",
    "        asset_now, position = ask_judge(asset_now, position)\n",
    "    elif i == N-1:\n",
    "        if position > 0:\n",
    "            asset_now += position * A[N-1]\n",
    "    else:\n",
    "        asset_now, position = ask_judge(asset_now, position)\n",
    "        asset_now, position = bid_judge(asset_now, position)\n",
    "\n",
    "print(asset_now)"
   ]
  },
  {
   "cell_type": "markdown",
   "metadata": {},
   "source": [
    "- WAの解答"
   ]
  },
  {
   "cell_type": "code",
   "execution_count": 106,
   "metadata": {
    "ExecuteTime": {
     "end_time": "2020-07-25T13:07:31.950596Z",
     "start_time": "2020-07-25T13:07:28.346566Z"
    }
   },
   "outputs": [
    {
     "name": "stdout",
     "output_type": "stream",
     "text": [
      "2\n",
      "157 193\n"
     ]
    }
   ],
   "source": [
    "N = int(input())\n",
    "A = list(map(int, input().split()))"
   ]
  },
  {
   "cell_type": "code",
   "execution_count": 107,
   "metadata": {
    "ExecuteTime": {
     "end_time": "2020-07-25T13:07:32.238793Z",
     "start_time": "2020-07-25T13:07:32.221044Z"
    }
   },
   "outputs": [
    {
     "name": "stdout",
     "output_type": "stream",
     "text": [
      "1216\n"
     ]
    }
   ],
   "source": [
    "def ask_judge(asset_now, position):\n",
    "    if ask[i]:\n",
    "        position += asset_now // A[i]\n",
    "        asset_now -= position * A[i]    \n",
    "    return asset_now, position\n",
    "\n",
    "def bid_judge(asset_now, position):\n",
    "    if bid[i]:\n",
    "        asset_now += position * A[i]    \n",
    "        position = 0\n",
    "    return asset_now, position\n",
    "\n",
    "\n",
    "asset_now = 1000\n",
    "\n",
    "ask = [True if A[i+1] - A[i] > 0 else False for i in range(N-1)]\n",
    "bid = [True if A[i+1] - A[i] <= 0 else False for i in range(N-1)]\n",
    "position = 0\n",
    "\n",
    "for i in range(N):\n",
    "    if i == 0:\n",
    "        asset_now, position = ask_judge(asset_now, position)\n",
    "    elif i == N-1:\n",
    "        if position > 0:\n",
    "            asset_now += position * A[N-1]\n",
    "    else:\n",
    "        asset_now, position = ask_judge(asset_now, position)\n",
    "        asset_now, position = bid_judge(asset_now, position)\n",
    "\n",
    "print(asset_now)"
   ]
  },
  {
   "cell_type": "markdown",
   "metadata": {},
   "source": [
    "## E（）"
   ]
  },
  {
   "cell_type": "markdown",
   "metadata": {},
   "source": [
    "## F（）"
   ]
  }
 ],
 "metadata": {
  "kernelspec": {
   "display_name": "Python 3",
   "language": "python",
   "name": "python3"
  },
  "language_info": {
   "codemirror_mode": {
    "name": "ipython",
    "version": 3
   },
   "file_extension": ".py",
   "mimetype": "text/x-python",
   "name": "python",
   "nbconvert_exporter": "python",
   "pygments_lexer": "ipython3",
   "version": "3.7.6"
  },
  "toc": {
   "base_numbering": 1,
   "nav_menu": {},
   "number_sections": true,
   "sideBar": true,
   "skip_h1_title": true,
   "title_cell": "Table of Contents",
   "title_sidebar": "Contents",
   "toc_cell": false,
   "toc_position": {},
   "toc_section_display": true,
   "toc_window_display": false
  }
 },
 "nbformat": 4,
 "nbformat_minor": 4
}
