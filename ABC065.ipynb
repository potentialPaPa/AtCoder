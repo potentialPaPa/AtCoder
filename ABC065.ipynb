{
 "cells": [
  {
   "cell_type": "markdown",
   "metadata": {},
   "source": [
    "# AtCoder Beginner Contest 065"
   ]
  },
  {
   "cell_type": "markdown",
   "metadata": {},
   "source": [
    "Created on November 13, 2020  "
   ]
  },
  {
   "cell_type": "markdown",
   "metadata": {},
   "source": [
    "https://atcoder.jp/contests/abc065"
   ]
  },
  {
   "cell_type": "markdown",
   "metadata": {},
   "source": [
    "## A（）"
   ]
  },
  {
   "cell_type": "markdown",
   "metadata": {},
   "source": [
    "https://atcoder.jp/contests/abc065/tasks/abc065_a"
   ]
  },
  {
   "cell_type": "code",
   "execution_count": 14,
   "metadata": {
    "ExecuteTime": {
     "end_time": "2020-11-13T14:04:45.852042Z",
     "start_time": "2020-11-13T14:04:43.979598Z"
    }
   },
   "outputs": [
    {
     "name": "stdout",
     "output_type": "stream",
     "text": [
      "3 3 7\n"
     ]
    }
   ],
   "source": [
    "X,A,B = map(int, input().split())"
   ]
  },
  {
   "cell_type": "code",
   "execution_count": 15,
   "metadata": {
    "ExecuteTime": {
     "end_time": "2020-11-13T14:04:46.036008Z",
     "start_time": "2020-11-13T14:04:46.024883Z"
    }
   },
   "outputs": [
    {
     "name": "stdout",
     "output_type": "stream",
     "text": [
      "dangerous\n"
     ]
    }
   ],
   "source": [
    "if B <= A:\n",
    "    ans = 'delicious'\n",
    "elif B <= A+X:\n",
    "    ans = 'safe'\n",
    "else:\n",
    "    ans = 'dangerous'\n",
    "    \n",
    "print(ans)"
   ]
  },
  {
   "cell_type": "markdown",
   "metadata": {},
   "source": [
    "## B（AC, ただしRE1回）"
   ]
  },
  {
   "cell_type": "markdown",
   "metadata": {},
   "source": [
    "https://atcoder.jp/contests/abc065/tasks/abc065_b"
   ]
  },
  {
   "cell_type": "markdown",
   "metadata": {},
   "source": [
    "【RE】"
   ]
  },
  {
   "cell_type": "code",
   "execution_count": 57,
   "metadata": {
    "ExecuteTime": {
     "end_time": "2020-11-13T14:14:41.110543Z",
     "start_time": "2020-11-13T14:14:31.704382Z"
    }
   },
   "outputs": [
    {
     "name": "stdout",
     "output_type": "stream",
     "text": [
      "5\n",
      "1\n",
      "4\n",
      "3\n",
      "2\n",
      "1\n"
     ]
    }
   ],
   "source": [
    "N = int(input())\n",
    "a = {}\n",
    "for i in range(1, N+1):\n",
    "    a[i] = int(input())"
   ]
  },
  {
   "cell_type": "code",
   "execution_count": 58,
   "metadata": {
    "ExecuteTime": {
     "end_time": "2020-11-13T14:14:41.531272Z",
     "start_time": "2020-11-13T14:14:41.523203Z"
    }
   },
   "outputs": [],
   "source": [
    "def ans(i, n):\n",
    "    if i==2:\n",
    "        print(n)\n",
    "    elif n ==N:\n",
    "        print(-1)\n",
    "    else:\n",
    "        return ans(a[i], n+1)"
   ]
  },
  {
   "cell_type": "code",
   "execution_count": 59,
   "metadata": {
    "ExecuteTime": {
     "end_time": "2020-11-13T14:14:41.755659Z",
     "start_time": "2020-11-13T14:14:41.741545Z"
    }
   },
   "outputs": [
    {
     "name": "stdout",
     "output_type": "stream",
     "text": [
      "-1\n"
     ]
    }
   ],
   "source": [
    "ans(1, 0)"
   ]
  },
  {
   "cell_type": "markdown",
   "metadata": {},
   "source": [
    "【再考】"
   ]
  },
  {
   "cell_type": "code",
   "execution_count": 68,
   "metadata": {
    "ExecuteTime": {
     "end_time": "2020-11-13T14:18:31.288475Z",
     "start_time": "2020-11-13T14:18:25.085817Z"
    }
   },
   "outputs": [
    {
     "name": "stdout",
     "output_type": "stream",
     "text": [
      "5\n",
      "3\n",
      "3\n",
      "4\n",
      "2\n",
      "4\n"
     ]
    }
   ],
   "source": [
    "N = int(input())\n",
    "a = {}\n",
    "for i in range(1, N+1):\n",
    "    a[i] = int(input())"
   ]
  },
  {
   "cell_type": "code",
   "execution_count": 69,
   "metadata": {
    "ExecuteTime": {
     "end_time": "2020-11-13T14:18:31.546692Z",
     "start_time": "2020-11-13T14:18:31.532898Z"
    }
   },
   "outputs": [
    {
     "name": "stdout",
     "output_type": "stream",
     "text": [
      "3\n"
     ]
    }
   ],
   "source": [
    "i = 1\n",
    "ans = 0\n",
    "for _ in range(N):\n",
    "    i = a[i]\n",
    "    ans += 1\n",
    "    if i == 2:\n",
    "        break\n",
    "    elif _==N-1:\n",
    "        ans = -1\n",
    "        break\n",
    "\n",
    "print(ans)"
   ]
  },
  {
   "cell_type": "markdown",
   "metadata": {},
   "source": [
    "## C（）"
   ]
  },
  {
   "cell_type": "markdown",
   "metadata": {},
   "source": [
    "https://atcoder.jp/contests/abc065/tasks/arc076_a"
   ]
  },
  {
   "cell_type": "code",
   "execution_count": 99,
   "metadata": {
    "ExecuteTime": {
     "end_time": "2020-11-13T14:29:27.382730Z",
     "start_time": "2020-11-13T14:29:24.518082Z"
    }
   },
   "outputs": [
    {
     "name": "stdout",
     "output_type": "stream",
     "text": [
      "10000 10000\n"
     ]
    }
   ],
   "source": [
    "N,M = map(int, input().split())"
   ]
  },
  {
   "cell_type": "code",
   "execution_count": 100,
   "metadata": {
    "ExecuteTime": {
     "end_time": "2020-11-13T14:29:27.588838Z",
     "start_time": "2020-11-13T14:29:27.565842Z"
    }
   },
   "outputs": [
    {
     "name": "stdout",
     "output_type": "stream",
     "text": [
      "77857918\n"
     ]
    }
   ],
   "source": [
    "import math\n",
    "\n",
    "BIG_M = 10**9+7\n",
    "delta = abs(N - M)\n",
    "\n",
    "if  delta == 0:\n",
    "    ans = 1\n",
    "    for n in range(1,N+1):\n",
    "        ans = ans*n % BIG_M\n",
    "    for n in range(1,M+1):\n",
    "        ans = ans*n % BIG_M\n",
    "    ans *= 2\n",
    "elif delta == 1:\n",
    "    ans = 1\n",
    "    for n in range(1,N+1):\n",
    "        ans = ans*n % BIG_M\n",
    "    for n in range(1,M+1):\n",
    "        ans = ans*n % BIG_M\n",
    "else:\n",
    "    ans = 0\n",
    "    \n",
    "print(ans)"
   ]
  },
  {
   "cell_type": "markdown",
   "metadata": {},
   "source": [
    "## D（）"
   ]
  },
  {
   "cell_type": "markdown",
   "metadata": {},
   "source": [
    "https://atcoder.jp/contests/abc065/tasks/abc065_d"
   ]
  }
 ],
 "metadata": {
  "kernelspec": {
   "display_name": "Python 3",
   "language": "python",
   "name": "python3"
  },
  "language_info": {
   "codemirror_mode": {
    "name": "ipython",
    "version": 3
   },
   "file_extension": ".py",
   "mimetype": "text/x-python",
   "name": "python",
   "nbconvert_exporter": "python",
   "pygments_lexer": "ipython3",
   "version": "3.7.6"
  },
  "toc": {
   "base_numbering": 1,
   "nav_menu": {},
   "number_sections": true,
   "sideBar": true,
   "skip_h1_title": true,
   "title_cell": "Table of Contents",
   "title_sidebar": "Contents",
   "toc_cell": false,
   "toc_position": {},
   "toc_section_display": true,
   "toc_window_display": false
  }
 },
 "nbformat": 4,
 "nbformat_minor": 4
}
