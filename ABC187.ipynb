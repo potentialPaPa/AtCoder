{
 "cells": [
  {
   "cell_type": "markdown",
   "metadata": {},
   "source": [
    "# AtCoder Beginner Contest 187"
   ]
  },
  {
   "cell_type": "markdown",
   "metadata": {},
   "source": [
    "Created on January 02, 2021  "
   ]
  },
  {
   "cell_type": "markdown",
   "metadata": {},
   "source": [
    "https://atcoder.jp/contests/abc187"
   ]
  },
  {
   "cell_type": "markdown",
   "metadata": {},
   "source": [
    "## A（AC）"
   ]
  },
  {
   "cell_type": "markdown",
   "metadata": {},
   "source": [
    "https://atcoder.jp/contests/abc187/tasks/abc187_a"
   ]
  },
  {
   "cell_type": "code",
   "execution_count": 7,
   "metadata": {
    "ExecuteTime": {
     "end_time": "2021-01-02T12:02:03.407525Z",
     "start_time": "2021-01-02T12:02:02.831192Z"
    }
   },
   "outputs": [
    {
     "name": "stdout",
     "output_type": "stream",
     "text": [
      "593 953\n"
     ]
    }
   ],
   "source": [
    "A, B = input().split()\n",
    "A = list(map(int, list(A)))\n",
    "B = list(map(int, list(B)))"
   ]
  },
  {
   "cell_type": "code",
   "execution_count": 8,
   "metadata": {
    "ExecuteTime": {
     "end_time": "2021-01-02T12:02:03.593851Z",
     "start_time": "2021-01-02T12:02:03.584259Z"
    }
   },
   "outputs": [
    {
     "name": "stdout",
     "output_type": "stream",
     "text": [
      "17\n"
     ]
    }
   ],
   "source": [
    "print(max(sum(A),sum(B)))"
   ]
  },
  {
   "cell_type": "markdown",
   "metadata": {},
   "source": [
    "## B（AC）"
   ]
  },
  {
   "cell_type": "markdown",
   "metadata": {},
   "source": [
    "https://atcoder.jp/contests/abc187/tasks/abc187_b"
   ]
  },
  {
   "cell_type": "code",
   "execution_count": 9,
   "metadata": {
    "ExecuteTime": {
     "end_time": "2021-01-02T12:02:33.235421Z",
     "start_time": "2021-01-02T12:02:33.151129Z"
    }
   },
   "outputs": [
    {
     "data": {
      "application/vnd.jupyter.widget-view+json": {
       "model_id": "166cdf18a2ab462386b08b1efab87596",
       "version_major": 2,
       "version_minor": 0
      },
      "text/plain": [
       "Textarea(value='')"
      ]
     },
     "metadata": {},
     "output_type": "display_data"
    }
   ],
   "source": [
    "from ipywidgets import Textarea\n",
    "import io\n",
    "\n",
    "if 'open' in globals():\n",
    "    del open\n",
    "original_open = open\n",
    "class custom_open():\n",
    "    def __init__(self):\n",
    "        self.text = ''\n",
    "    def __call__(self, file, *args, **kwargs):\n",
    "        if file == 0:\n",
    "            return io.StringIO(self.text)\n",
    "        return original_open(file, *args, **kwargs)\n",
    "    def updater(self, change):\n",
    "        self.text = change[\"new\"]\n",
    "open = custom_open()\n",
    "text_area = Textarea()\n",
    "text_area.observe(open.updater, names='value')\n",
    "display(text_area)"
   ]
  },
  {
   "cell_type": "code",
   "execution_count": 21,
   "metadata": {
    "ExecuteTime": {
     "end_time": "2021-01-02T12:06:45.293836Z",
     "start_time": "2021-01-02T12:06:45.287563Z"
    }
   },
   "outputs": [],
   "source": [
    "N,*XY = map(int, open(0).read().split())\n",
    "XY = list(zip(*[iter(XY)]*2))"
   ]
  },
  {
   "cell_type": "code",
   "execution_count": 23,
   "metadata": {
    "ExecuteTime": {
     "end_time": "2021-01-02T12:07:16.536219Z",
     "start_time": "2021-01-02T12:07:16.526401Z"
    }
   },
   "outputs": [
    {
     "name": "stdout",
     "output_type": "stream",
     "text": [
      "11\n"
     ]
    }
   ],
   "source": [
    "ans = 0\n",
    "for i in range(N):\n",
    "    for j in range(i+1, N):\n",
    "        if -1 <= (XY[i][1]-XY[j][1])/(XY[i][0]-XY[j][0]) <= 1:\n",
    "            ans += 1\n",
    "            \n",
    "print(ans)"
   ]
  },
  {
   "cell_type": "markdown",
   "metadata": {},
   "source": [
    "## C（AC）"
   ]
  },
  {
   "cell_type": "markdown",
   "metadata": {},
   "source": [
    "https://atcoder.jp/contests/abc187/tasks/abc187_c"
   ]
  },
  {
   "cell_type": "code",
   "execution_count": 24,
   "metadata": {
    "ExecuteTime": {
     "end_time": "2021-01-02T12:07:44.486503Z",
     "start_time": "2021-01-02T12:07:44.452190Z"
    }
   },
   "outputs": [
    {
     "data": {
      "application/vnd.jupyter.widget-view+json": {
       "model_id": "053e0fb1713d442ea7e5452d04c5fcb3",
       "version_major": 2,
       "version_minor": 0
      },
      "text/plain": [
       "Textarea(value='')"
      ]
     },
     "metadata": {},
     "output_type": "display_data"
    }
   ],
   "source": [
    "from ipywidgets import Textarea\n",
    "import io\n",
    "\n",
    "if 'open' in globals():\n",
    "    del open\n",
    "original_open = open\n",
    "class custom_open():\n",
    "    def __init__(self):\n",
    "        self.text = ''\n",
    "    def __call__(self, file, *args, **kwargs):\n",
    "        if file == 0:\n",
    "            return io.StringIO(self.text)\n",
    "        return original_open(file, *args, **kwargs)\n",
    "    def updater(self, change):\n",
    "        self.text = change[\"new\"]\n",
    "open = custom_open()\n",
    "text_area = Textarea()\n",
    "text_area.observe(open.updater, names='value')\n",
    "display(text_area)"
   ]
  },
  {
   "cell_type": "code",
   "execution_count": 35,
   "metadata": {
    "ExecuteTime": {
     "end_time": "2021-01-02T12:13:28.766444Z",
     "start_time": "2021-01-02T12:13:28.760284Z"
    }
   },
   "outputs": [],
   "source": [
    "N,*S = open(0).read().split()\n",
    "N = int(N)"
   ]
  },
  {
   "cell_type": "code",
   "execution_count": 36,
   "metadata": {
    "ExecuteTime": {
     "end_time": "2021-01-02T12:13:28.871340Z",
     "start_time": "2021-01-02T12:13:28.859751Z"
    }
   },
   "outputs": [
    {
     "name": "stdout",
     "output_type": "stream",
     "text": [
      "satisfiable\n"
     ]
    }
   ],
   "source": [
    "is_exist = False\n",
    "\n",
    "set_S = set(S)\n",
    "for s in sorted(S):\n",
    "    if s[0] != '!':\n",
    "        break\n",
    "    elif s[1:] in set_S:\n",
    "        is_exist = True\n",
    "        ans = s[1:]\n",
    "        break\n",
    "        \n",
    "if is_exist:\n",
    "    print(ans)\n",
    "else:\n",
    "    print('satisfiable')"
   ]
  },
  {
   "cell_type": "markdown",
   "metadata": {},
   "source": [
    "## D（AC）"
   ]
  },
  {
   "cell_type": "markdown",
   "metadata": {},
   "source": [
    "https://atcoder.jp/contests/abc187/tasks/abc187_d"
   ]
  },
  {
   "cell_type": "code",
   "execution_count": 37,
   "metadata": {
    "ExecuteTime": {
     "end_time": "2021-01-02T12:14:20.534649Z",
     "start_time": "2021-01-02T12:14:20.509054Z"
    }
   },
   "outputs": [
    {
     "data": {
      "application/vnd.jupyter.widget-view+json": {
       "model_id": "12b733eee4fe4dbd8f43f60400f37a0a",
       "version_major": 2,
       "version_minor": 0
      },
      "text/plain": [
       "Textarea(value='')"
      ]
     },
     "metadata": {},
     "output_type": "display_data"
    }
   ],
   "source": [
    "from ipywidgets import Textarea\n",
    "import io\n",
    "\n",
    "if 'open' in globals():\n",
    "    del open\n",
    "original_open = open\n",
    "class custom_open():\n",
    "    def __init__(self):\n",
    "        self.text = ''\n",
    "    def __call__(self, file, *args, **kwargs):\n",
    "        if file == 0:\n",
    "            return io.StringIO(self.text)\n",
    "        return original_open(file, *args, **kwargs)\n",
    "    def updater(self, change):\n",
    "        self.text = change[\"new\"]\n",
    "open = custom_open()\n",
    "text_area = Textarea()\n",
    "text_area.observe(open.updater, names='value')\n",
    "display(text_area)"
   ]
  },
  {
   "cell_type": "code",
   "execution_count": 57,
   "metadata": {
    "ExecuteTime": {
     "end_time": "2021-01-02T12:23:19.363032Z",
     "start_time": "2021-01-02T12:23:19.355406Z"
    }
   },
   "outputs": [],
   "source": [
    "N, *AB = map(int, open(0).read().split())\n",
    "AB = list(zip(*[iter(AB)]*2))"
   ]
  },
  {
   "cell_type": "code",
   "execution_count": 58,
   "metadata": {
    "ExecuteTime": {
     "end_time": "2021-01-02T12:23:19.472237Z",
     "start_time": "2021-01-02T12:23:19.461906Z"
    }
   },
   "outputs": [
    {
     "name": "stdout",
     "output_type": "stream",
     "text": [
      "1\n"
     ]
    }
   ],
   "source": [
    "sum_a = sum([a for a,b in AB])\n",
    "speech = [2*a+b for a,b in AB]\n",
    "speech_sort = sorted(speech, reverse=True)\n",
    "from itertools import accumulate\n",
    "\n",
    "for i,k in enumerate(accumulate(speech_sort), 1):\n",
    "    if sum_a < k:\n",
    "        ans = i\n",
    "        break\n",
    "        \n",
    "print(ans)"
   ]
  },
  {
   "cell_type": "markdown",
   "metadata": {},
   "source": [
    "## E（TLE）"
   ]
  },
  {
   "cell_type": "markdown",
   "metadata": {},
   "source": [
    "https://atcoder.jp/contests/abc187/tasks/abc187_e"
   ]
  },
  {
   "cell_type": "code",
   "execution_count": 59,
   "metadata": {
    "ExecuteTime": {
     "end_time": "2021-01-02T12:24:30.228519Z",
     "start_time": "2021-01-02T12:24:30.196561Z"
    }
   },
   "outputs": [
    {
     "data": {
      "application/vnd.jupyter.widget-view+json": {
       "model_id": "266a5f6825e04dcb916985fe9e50422f",
       "version_major": 2,
       "version_minor": 0
      },
      "text/plain": [
       "Textarea(value='')"
      ]
     },
     "metadata": {},
     "output_type": "display_data"
    }
   ],
   "source": [
    "from ipywidgets import Textarea\n",
    "import io\n",
    "\n",
    "if 'open' in globals():\n",
    "    del open\n",
    "original_open = open\n",
    "class custom_open():\n",
    "    def __init__(self):\n",
    "        self.text = ''\n",
    "    def __call__(self, file, *args, **kwargs):\n",
    "        if file == 0:\n",
    "            return io.StringIO(self.text)\n",
    "        return original_open(file, *args, **kwargs)\n",
    "    def updater(self, change):\n",
    "        self.text = change[\"new\"]\n",
    "open = custom_open()\n",
    "text_area = Textarea()\n",
    "text_area.observe(open.updater, names='value')\n",
    "display(text_area)"
   ]
  },
  {
   "cell_type": "code",
   "execution_count": 189,
   "metadata": {
    "ExecuteTime": {
     "end_time": "2021-01-02T13:30:25.349659Z",
     "start_time": "2021-01-02T13:30:25.339917Z"
    }
   },
   "outputs": [],
   "source": [
    "S = [list(map(int, s.split())) for s in open(0).readlines()]\n",
    "[N] = S[0]\n",
    "ab = S[1:N]\n",
    "[Q] = S[N]\n",
    "tex = S[N+1:]"
   ]
  },
  {
   "cell_type": "code",
   "execution_count": 190,
   "metadata": {
    "ExecuteTime": {
     "end_time": "2021-01-02T13:30:25.480944Z",
     "start_time": "2021-01-02T13:30:25.471933Z"
    }
   },
   "outputs": [],
   "source": [
    "G = [set() for _ in range(N+1)]\n",
    "for a,b in ab:\n",
    "    G[a].add(b)\n",
    "    G[b].add(a)\n",
    "G = dict(zip(range(N+1), G))"
   ]
  },
  {
   "cell_type": "code",
   "execution_count": 191,
   "metadata": {
    "ExecuteTime": {
     "end_time": "2021-01-02T13:30:25.617683Z",
     "start_time": "2021-01-02T13:30:25.599754Z"
    }
   },
   "outputs": [
    {
     "name": "stdout",
     "output_type": "stream",
     "text": [
      "1657\n",
      "1657\n",
      "2109\n",
      "1703\n",
      "1474\n",
      "1657\n",
      "3202\n",
      "1474\n",
      "1247\n",
      "2109\n",
      "2559\n"
     ]
    }
   ],
   "source": [
    "c = dict(zip(range(N+1), [0]*(N+1)))\n",
    "\n",
    "from collections import deque\n",
    "\n",
    "for t,e,x in tex:\n",
    "    queue = deque([])\n",
    "    visited = set()\n",
    "    \n",
    "    if t == 1:\n",
    "        queue.extend(G[ab[e-1][0]])\n",
    "        \n",
    "        c[ab[e-1][0]] += x\n",
    "        visited.add(ab[e-1][0])\n",
    "        \n",
    "        while queue:\n",
    "            v = queue.pop()\n",
    "            if v != ab[e-1][1] and v not in visited:\n",
    "                c[v] += x\n",
    "                queue.extend(G[v])\n",
    "                visited.add(v)\n",
    "                \n",
    "    else: #t == 2:\n",
    "        queue.extend(G[ab[e-1][1]])\n",
    "        \n",
    "        c[ab[e-1][1]] += x\n",
    "        visited.add(ab[e-1][1])\n",
    "        \n",
    "        while queue:\n",
    "            v = queue.pop()\n",
    "            if v != ab[e-1][0] and v not in visited:\n",
    "                c[v] += x\n",
    "                queue.extend(G[v])\n",
    "                visited.add(v)\n",
    "\n",
    "for i in range(1, N+1):\n",
    "    print(c[i])"
   ]
  }
 ],
 "metadata": {
  "kernelspec": {
   "display_name": "Python 3",
   "language": "python",
   "name": "python3"
  },
  "language_info": {
   "codemirror_mode": {
    "name": "ipython",
    "version": 3
   },
   "file_extension": ".py",
   "mimetype": "text/x-python",
   "name": "python",
   "nbconvert_exporter": "python",
   "pygments_lexer": "ipython3",
   "version": "3.7.6"
  },
  "toc": {
   "base_numbering": 1,
   "nav_menu": {},
   "number_sections": true,
   "sideBar": true,
   "skip_h1_title": true,
   "title_cell": "Table of Contents",
   "title_sidebar": "Contents",
   "toc_cell": false,
   "toc_position": {},
   "toc_section_display": true,
   "toc_window_display": false
  }
 },
 "nbformat": 4,
 "nbformat_minor": 4
}
