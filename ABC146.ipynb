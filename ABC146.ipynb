{
 "cells": [
  {
   "cell_type": "markdown",
   "metadata": {},
   "source": [
    "# AtCoder Beginner Contest 146"
   ]
  },
  {
   "cell_type": "markdown",
   "metadata": {},
   "source": [
    "Created on May 27, 2020  \n",
    "30 minutes exercise in the morning."
   ]
  },
  {
   "cell_type": "markdown",
   "metadata": {},
   "source": [
    "https://atcoder.jp/contests/abc146"
   ]
  },
  {
   "cell_type": "markdown",
   "metadata": {},
   "source": [
    "## A（AC、1回WA）"
   ]
  },
  {
   "cell_type": "markdown",
   "metadata": {},
   "source": [
    "- SUNのとき7ではなく0を出力していたため"
   ]
  },
  {
   "cell_type": "markdown",
   "metadata": {},
   "source": [
    "https://atcoder.jp/contests/abc146/tasks/abc146_a"
   ]
  },
  {
   "cell_type": "code",
   "execution_count": 14,
   "metadata": {},
   "outputs": [
    {
     "name": "stdout",
     "output_type": "stream",
     "text": [
      "SUN\n"
     ]
    }
   ],
   "source": [
    "S = input()"
   ]
  },
  {
   "cell_type": "code",
   "execution_count": 15,
   "metadata": {},
   "outputs": [],
   "source": [
    "DAYS_TO_NUM = {'SUN':0, 'MON': 1, 'TUE': 2, 'WED': 3, 'THU': 4, 'FRI': 5, 'SAT': 6}"
   ]
  },
  {
   "cell_type": "code",
   "execution_count": 16,
   "metadata": {},
   "outputs": [
    {
     "name": "stdout",
     "output_type": "stream",
     "text": [
      "7\n"
     ]
    }
   ],
   "source": [
    "print(7 - DAYS_TO_NUM[S])"
   ]
  },
  {
   "cell_type": "markdown",
   "metadata": {},
   "source": [
    "## B（AC）"
   ]
  },
  {
   "cell_type": "markdown",
   "metadata": {},
   "source": [
    "https://atcoder.jp/contests/abc146/tasks/abc146_b"
   ]
  },
  {
   "cell_type": "code",
   "execution_count": 62,
   "metadata": {},
   "outputs": [
    {
     "name": "stdout",
     "output_type": "stream",
     "text": [
      "13\n",
      "ABCDEFGHIJKLMNOPQRSTUVWXYZ\n"
     ]
    }
   ],
   "source": [
    "N = int(input())\n",
    "S = list(input())"
   ]
  },
  {
   "cell_type": "code",
   "execution_count": 63,
   "metadata": {},
   "outputs": [],
   "source": [
    "ord_S = list(map(ord, S))"
   ]
  },
  {
   "cell_type": "code",
   "execution_count": 65,
   "metadata": {},
   "outputs": [],
   "source": [
    "ord_shift_S = [(x+N - ord('A'))%26 + ord('A') for x in ord_S]\n",
    "chr_shift_S = list(map(chr, ord_shift_S))"
   ]
  },
  {
   "cell_type": "code",
   "execution_count": 66,
   "metadata": {},
   "outputs": [
    {
     "name": "stdout",
     "output_type": "stream",
     "text": [
      "NOPQRSTUVWXYZABCDEFGHIJKLM\n"
     ]
    }
   ],
   "source": [
    "print(*chr_shift_S, sep='')"
   ]
  },
  {
   "cell_type": "markdown",
   "metadata": {},
   "source": [
    "## C（TLE、15分オーバー）"
   ]
  },
  {
   "cell_type": "markdown",
   "metadata": {},
   "source": [
    "https://atcoder.jp/contests/abc146/tasks/abc146_c"
   ]
  },
  {
   "cell_type": "code",
   "execution_count": 119,
   "metadata": {},
   "outputs": [
    {
     "name": "stdout",
     "output_type": "stream",
     "text": [
      "1234 56789 314159265\n"
     ]
    }
   ],
   "source": [
    "A, B, X = map(int, input().split())"
   ]
  },
  {
   "cell_type": "code",
   "execution_count": 120,
   "metadata": {},
   "outputs": [
    {
     "name": "stdout",
     "output_type": "stream",
     "text": [
      "254309\n"
     ]
    }
   ],
   "source": [
    "if A + B > X:\n",
    "    print(0)\n",
    "    \n",
    "elif A*10**9 + B*10 <= X:\n",
    "    print(10**9)\n",
    "    \n",
    "else:\n",
    "    N = int(X/A)\n",
    "    d_N = len(str(N))\n",
    "    pay = A*N + B*d_N\n",
    "    \n",
    "    finished = False\n",
    "    while not finished:\n",
    "        pay_before = pay\n",
    "        d_N = len(str(N))\n",
    "        pay = A*N + B*d_N\n",
    "\n",
    "        if pay_before<=X<= pay:\n",
    "            finished = True\n",
    "            print(N_before)\n",
    "            \n",
    "        elif pay<=X<= pay_before:\n",
    "            finished = True\n",
    "            print(N)\n",
    "            \n",
    "        N_before = N\n",
    "        if pay > X:\n",
    "            N -= 1\n",
    "        else:\n",
    "            N += 1"
   ]
  },
  {
   "cell_type": "code",
   "execution_count": null,
   "metadata": {},
   "outputs": [],
   "source": []
  }
 ],
 "metadata": {
  "kernelspec": {
   "display_name": "Python 3",
   "language": "python",
   "name": "python3"
  },
  "language_info": {
   "codemirror_mode": {
    "name": "ipython",
    "version": 3
   },
   "file_extension": ".py",
   "mimetype": "text/x-python",
   "name": "python",
   "nbconvert_exporter": "python",
   "pygments_lexer": "ipython3",
   "version": "3.7.6"
  }
 },
 "nbformat": 4,
 "nbformat_minor": 4
}
