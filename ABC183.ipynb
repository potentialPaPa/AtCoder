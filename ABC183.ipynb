{
 "cells": [
  {
   "cell_type": "markdown",
   "metadata": {},
   "source": [
    "# AtCoder Beginner Contest 183"
   ]
  },
  {
   "cell_type": "markdown",
   "metadata": {},
   "source": [
    "Created on November 15, 2020  "
   ]
  },
  {
   "cell_type": "markdown",
   "metadata": {},
   "source": [
    "https://atcoder.jp/contests/abc183"
   ]
  },
  {
   "cell_type": "markdown",
   "metadata": {},
   "source": [
    "## A（AC）"
   ]
  },
  {
   "cell_type": "markdown",
   "metadata": {},
   "source": [
    "https://atcoder.jp/contests/abc183/tasks/abc183_a"
   ]
  },
  {
   "cell_type": "code",
   "execution_count": 5,
   "metadata": {
    "ExecuteTime": {
     "end_time": "2020-11-15T12:00:38.982935Z",
     "start_time": "2020-11-15T12:00:38.056852Z"
    }
   },
   "outputs": [
    {
     "name": "stdout",
     "output_type": "stream",
     "text": [
      "-1\n"
     ]
    }
   ],
   "source": [
    "x = int(input())"
   ]
  },
  {
   "cell_type": "code",
   "execution_count": 6,
   "metadata": {
    "ExecuteTime": {
     "end_time": "2020-11-15T12:00:39.270186Z",
     "start_time": "2020-11-15T12:00:39.260754Z"
    }
   },
   "outputs": [
    {
     "name": "stdout",
     "output_type": "stream",
     "text": [
      "0\n"
     ]
    }
   ],
   "source": [
    "if x < 0:\n",
    "    print(0)\n",
    "else:\n",
    "    print(x)"
   ]
  },
  {
   "cell_type": "markdown",
   "metadata": {},
   "source": [
    "## B（AC）"
   ]
  },
  {
   "cell_type": "markdown",
   "metadata": {},
   "source": [
    "https://atcoder.jp/contests/abc183/tasks/abc183_b"
   ]
  },
  {
   "cell_type": "code",
   "execution_count": 17,
   "metadata": {
    "ExecuteTime": {
     "end_time": "2020-11-15T12:05:15.742602Z",
     "start_time": "2020-11-15T12:05:12.349004Z"
    }
   },
   "outputs": [
    {
     "name": "stdout",
     "output_type": "stream",
     "text": [
      "-1 5 1 5\n"
     ]
    }
   ],
   "source": [
    "sx,sy,gx,gy = map(int, input().split())"
   ]
  },
  {
   "cell_type": "code",
   "execution_count": 18,
   "metadata": {
    "ExecuteTime": {
     "end_time": "2020-11-15T12:05:15.944227Z",
     "start_time": "2020-11-15T12:05:15.934704Z"
    }
   },
   "outputs": [
    {
     "name": "stdout",
     "output_type": "stream",
     "text": [
      "0.0\n"
     ]
    }
   ],
   "source": [
    "grad = (-gy - sy)/(gx - sx)\n",
    "x = sx - sy/grad\n",
    "print(x)"
   ]
  },
  {
   "cell_type": "markdown",
   "metadata": {},
   "source": [
    "## C（AC）"
   ]
  },
  {
   "cell_type": "markdown",
   "metadata": {},
   "source": [
    "https://atcoder.jp/contests/abc183/tasks/abc183_c"
   ]
  },
  {
   "cell_type": "code",
   "execution_count": 19,
   "metadata": {
    "ExecuteTime": {
     "end_time": "2020-11-15T12:05:41.182744Z",
     "start_time": "2020-11-15T12:05:41.105932Z"
    }
   },
   "outputs": [
    {
     "data": {
      "application/vnd.jupyter.widget-view+json": {
       "model_id": "9ac9ed1c01d5409c8f3c44126c01fa27",
       "version_major": 2,
       "version_minor": 0
      },
      "text/plain": [
       "Textarea(value='')"
      ]
     },
     "metadata": {},
     "output_type": "display_data"
    }
   ],
   "source": [
    "from ipywidgets import Textarea\n",
    "import io\n",
    "\n",
    "if 'open' in globals():\n",
    "    del open\n",
    "original_open = open\n",
    "class custom_open():\n",
    "    def __init__(self):\n",
    "        self.text = ''\n",
    "    def __call__(self, file, *args, **kwargs):\n",
    "        if file == 0:\n",
    "            return io.StringIO(self.text)\n",
    "        return original_open(file, *args, **kwargs)\n",
    "    def updater(self, change):\n",
    "        self.text = change[\"new\"]\n",
    "open = custom_open()\n",
    "text_area = Textarea()\n",
    "text_area.observe(open.updater, names='value')\n",
    "display(text_area)"
   ]
  },
  {
   "cell_type": "code",
   "execution_count": 50,
   "metadata": {
    "ExecuteTime": {
     "end_time": "2020-11-15T12:18:09.931660Z",
     "start_time": "2020-11-15T12:18:09.924057Z"
    }
   },
   "outputs": [],
   "source": [
    "N,K,*T = map(int, open(0).read().split())\n",
    "T = list(zip(*[map(int, iter(T))]*N))"
   ]
  },
  {
   "cell_type": "code",
   "execution_count": 51,
   "metadata": {
    "ExecuteTime": {
     "end_time": "2020-11-15T12:18:10.039403Z",
     "start_time": "2020-11-15T12:18:10.011782Z"
    }
   },
   "outputs": [
    {
     "name": "stdout",
     "output_type": "stream",
     "text": [
      "5040\n"
     ]
    }
   ],
   "source": [
    "from itertools import permutations\n",
    "\n",
    "ans = 0\n",
    "\n",
    "for r in list(permutations(range(1, N))):\n",
    "    i=0\n",
    "    total = 0\n",
    "    for j in r:\n",
    "        total += T[i][j]\n",
    "        i=j\n",
    "    total +=T[i][0]\n",
    "    \n",
    "    if total==K:\n",
    "        ans += 1\n",
    "        \n",
    "print(ans)"
   ]
  },
  {
   "cell_type": "markdown",
   "metadata": {},
   "source": [
    "## D（TLE）"
   ]
  },
  {
   "cell_type": "markdown",
   "metadata": {},
   "source": [
    "https://atcoder.jp/contests/abc183/tasks/abc183_d"
   ]
  },
  {
   "cell_type": "markdown",
   "metadata": {},
   "source": [
    "【TLE】"
   ]
  },
  {
   "cell_type": "code",
   "execution_count": 52,
   "metadata": {
    "ExecuteTime": {
     "end_time": "2020-11-15T12:18:44.613808Z",
     "start_time": "2020-11-15T12:18:44.584559Z"
    }
   },
   "outputs": [
    {
     "data": {
      "application/vnd.jupyter.widget-view+json": {
       "model_id": "3ee1f96269a14b1096bfebab1439e3d6",
       "version_major": 2,
       "version_minor": 0
      },
      "text/plain": [
       "Textarea(value='')"
      ]
     },
     "metadata": {},
     "output_type": "display_data"
    }
   ],
   "source": [
    "from ipywidgets import Textarea\n",
    "import io\n",
    "\n",
    "if 'open' in globals():\n",
    "    del open\n",
    "original_open = open\n",
    "class custom_open():\n",
    "    def __init__(self):\n",
    "        self.text = ''\n",
    "    def __call__(self, file, *args, **kwargs):\n",
    "        if file == 0:\n",
    "            return io.StringIO(self.text)\n",
    "        return original_open(file, *args, **kwargs)\n",
    "    def updater(self, change):\n",
    "        self.text = change[\"new\"]\n",
    "open = custom_open()\n",
    "text_area = Textarea()\n",
    "text_area.observe(open.updater, names='value')\n",
    "display(text_area)"
   ]
  },
  {
   "cell_type": "code",
   "execution_count": 99,
   "metadata": {
    "ExecuteTime": {
     "end_time": "2020-11-15T12:53:51.844759Z",
     "start_time": "2020-11-15T12:53:51.835120Z"
    }
   },
   "outputs": [],
   "source": [
    "N,W,*STP = map(int, open(0).read().split())\n",
    "STP = list(zip(*[map(int, iter(STP))]*3))\n",
    "S = dict(zip(range(N), [x[0] for x in STP]))\n",
    "T = dict(zip(range(N), [x[1] for x in STP]))\n",
    "P = dict(zip(range(N), [x[2] for x in STP]))"
   ]
  },
  {
   "cell_type": "code",
   "execution_count": 100,
   "metadata": {
    "ExecuteTime": {
     "end_time": "2020-11-15T12:53:51.950134Z",
     "start_time": "2020-11-15T12:53:51.933549Z"
    }
   },
   "outputs": [
    {
     "name": "stdout",
     "output_type": "stream",
     "text": [
      "Yes\n"
     ]
    }
   ],
   "source": [
    "L = min(S.values())\n",
    "R = max(T.values())\n",
    "\n",
    "plan = [0]\n",
    "n = 0\n",
    "\n",
    "flag = True\n",
    "\n",
    "for i in range(L, R+1):\n",
    "    now = plan[n]+sum([P[k] for k,v in S.items() if v==i]) - sum([P[k] for k,v in T.items() if v==i])\n",
    "    \n",
    "    if now <= W:\n",
    "        plan.append(now)\n",
    "    else:\n",
    "        flag = False\n",
    "        break\n",
    "        \n",
    "    n += 1\n",
    "\n",
    "if flag:\n",
    "    print('Yes')\n",
    "else:\n",
    "    print('No')"
   ]
  },
  {
   "cell_type": "markdown",
   "metadata": {},
   "source": [
    "【再考：TLE】"
   ]
  },
  {
   "cell_type": "code",
   "execution_count": 126,
   "metadata": {
    "ExecuteTime": {
     "end_time": "2020-11-15T13:13:19.532903Z",
     "start_time": "2020-11-15T13:13:19.502786Z"
    }
   },
   "outputs": [
    {
     "data": {
      "application/vnd.jupyter.widget-view+json": {
       "model_id": "01fc4042cd1044ae8e2b6badf8df6a9b",
       "version_major": 2,
       "version_minor": 0
      },
      "text/plain": [
       "Textarea(value='')"
      ]
     },
     "metadata": {},
     "output_type": "display_data"
    }
   ],
   "source": [
    "from ipywidgets import Textarea\n",
    "import io\n",
    "\n",
    "if 'open' in globals():\n",
    "    del open\n",
    "original_open = open\n",
    "class custom_open():\n",
    "    def __init__(self):\n",
    "        self.text = ''\n",
    "    def __call__(self, file, *args, **kwargs):\n",
    "        if file == 0:\n",
    "            return io.StringIO(self.text)\n",
    "        return original_open(file, *args, **kwargs)\n",
    "    def updater(self, change):\n",
    "        self.text = change[\"new\"]\n",
    "open = custom_open()\n",
    "text_area = Textarea()\n",
    "text_area.observe(open.updater, names='value')\n",
    "display(text_area)"
   ]
  },
  {
   "cell_type": "code",
   "execution_count": 214,
   "metadata": {
    "ExecuteTime": {
     "end_time": "2020-11-15T14:03:32.060052Z",
     "start_time": "2020-11-15T14:03:32.050343Z"
    }
   },
   "outputs": [],
   "source": [
    "N,W,*STP = map(int, open(0).read().split())\n",
    "STP = list(zip(*[map(int, iter(STP))]*3))\n",
    "S = dict(zip(range(N), [x[0] for x in STP]))\n",
    "T = dict(zip(range(N), [x[1] for x in STP]))\n",
    "P = dict(zip(range(N), [x[2] for x in STP]))"
   ]
  },
  {
   "cell_type": "code",
   "execution_count": 215,
   "metadata": {
    "ExecuteTime": {
     "end_time": "2020-11-15T14:03:32.143812Z",
     "start_time": "2020-11-15T14:03:32.132409Z"
    }
   },
   "outputs": [
    {
     "name": "stdout",
     "output_type": "stream",
     "text": [
      "Yes\n"
     ]
    }
   ],
   "source": [
    "L = min(S.values())\n",
    "R = max(T.values())\n",
    "\n",
    "S_sort = sorted(S.items(), key=lambda x:x[1])\n",
    "T_sort = sorted(T.items(), key=lambda x:x[1])\n",
    "\n",
    "nL = 0\n",
    "nR = 0\n",
    "\n",
    "plan = {L-1: 0}\n",
    "\n",
    "for i in range(L, R+1):\n",
    "    for j in range(min(nL,nR), N):\n",
    "        if S_sort[j][1] == i:\n",
    "            if i not in plan.keys():\n",
    "                plan[i] = plan[i-1] + P[S_sort[j][0]]\n",
    "            else:\n",
    "                plan[i] += P[S_sort[j][0]]\n",
    "            nL += 1\n",
    "\n",
    "        if T_sort[j][1] == i:\n",
    "            if i not in plan.keys():\n",
    "                plan[i] = plan[i-1] - P[T_sort[j][0]]\n",
    "            else:\n",
    "                plan[i] -= P[T_sort[j][0]]\n",
    "            nR += 1\n",
    "            \n",
    "    if i not in plan.keys():\n",
    "        plan[i] = plan[i-1]\n",
    "        \n",
    "if max(plan.values()) <= W:\n",
    "    print('Yes')\n",
    "else:\n",
    "    print('No')\n",
    "    \n",
    "# print(plan)"
   ]
  },
  {
   "cell_type": "markdown",
   "metadata": {},
   "source": [
    "## E（解けず）"
   ]
  },
  {
   "cell_type": "code",
   "execution_count": 104,
   "metadata": {
    "ExecuteTime": {
     "end_time": "2020-11-15T12:58:30.100020Z",
     "start_time": "2020-11-15T12:58:30.067539Z"
    }
   },
   "outputs": [
    {
     "data": {
      "application/vnd.jupyter.widget-view+json": {
       "model_id": "e028c3a5554b413dab7502eec8176cfc",
       "version_major": 2,
       "version_minor": 0
      },
      "text/plain": [
       "Textarea(value='')"
      ]
     },
     "metadata": {},
     "output_type": "display_data"
    }
   ],
   "source": [
    "from ipywidgets import Textarea\n",
    "import io\n",
    "\n",
    "if 'open' in globals():\n",
    "    del open\n",
    "original_open = open\n",
    "class custom_open():\n",
    "    def __init__(self):\n",
    "        self.text = ''\n",
    "    def __call__(self, file, *args, **kwargs):\n",
    "        if file == 0:\n",
    "            return io.StringIO(self.text)\n",
    "        return original_open(file, *args, **kwargs)\n",
    "    def updater(self, change):\n",
    "        self.text = change[\"new\"]\n",
    "open = custom_open()\n",
    "text_area = Textarea()\n",
    "text_area.observe(open.updater, names='value')\n",
    "display(text_area)"
   ]
  },
  {
   "cell_type": "code",
   "execution_count": 111,
   "metadata": {
    "ExecuteTime": {
     "end_time": "2020-11-15T13:00:01.302534Z",
     "start_time": "2020-11-15T13:00:01.286021Z"
    }
   },
   "outputs": [
    {
     "data": {
      "text/plain": [
       "(3, 3, ['...', '.#.', '...'])"
      ]
     },
     "execution_count": 111,
     "metadata": {},
     "output_type": "execute_result"
    }
   ],
   "source": [
    "H,W,*S = open(0).read().split()\n",
    "H,W = map(int, [H,W])\n",
    "H,W,S"
   ]
  },
  {
   "cell_type": "code",
   "execution_count": 112,
   "metadata": {
    "ExecuteTime": {
     "end_time": "2020-11-15T13:03:13.685257Z",
     "start_time": "2020-11-15T13:03:13.679224Z"
    }
   },
   "outputs": [],
   "source": [
    "dx = [1, 0, 1]\n",
    "dy = [0, 1, 1]"
   ]
  },
  {
   "cell_type": "code",
   "execution_count": 123,
   "metadata": {
    "ExecuteTime": {
     "end_time": "2020-11-15T13:10:05.387080Z",
     "start_time": "2020-11-15T13:10:05.379109Z"
    }
   },
   "outputs": [],
   "source": [
    "from collections import deque\n",
    "queue = deque([])\n",
    "\n",
    "sx, sy = 0,0\n",
    "gx,gy = W-1, H-1\n",
    "\n",
    "queue.append((sx, sy, 0))"
   ]
  },
  {
   "cell_type": "code",
   "execution_count": 124,
   "metadata": {
    "ExecuteTime": {
     "end_time": "2020-11-15T13:10:05.496124Z",
     "start_time": "2020-11-15T13:10:05.484226Z"
    }
   },
   "outputs": [],
   "source": [
    "ans = 0\n",
    "\n",
    "while len(queue):\n",
    "    p = queue.popleft()\n",
    "    if p[:2] == (gx, gy):\n",
    "        ans += 1\n",
    "    \n",
    "    # 3方向を探索\n",
    "    for i in range(3):\n",
    "        nx = p[0] + dx[i]\n",
    "        ny = p[1] + dy[i]\n",
    "        \n",
    "        if 0 <= nx < W and 0 <= ny < H and S[ny][nx] != '#':\n",
    "            queue.append((nx, ny, p[2]))"
   ]
  },
  {
   "cell_type": "code",
   "execution_count": 125,
   "metadata": {
    "ExecuteTime": {
     "end_time": "2020-11-15T13:10:06.469930Z",
     "start_time": "2020-11-15T13:10:06.462191Z"
    }
   },
   "outputs": [
    {
     "data": {
      "text/plain": [
       "4"
      ]
     },
     "execution_count": 125,
     "metadata": {},
     "output_type": "execute_result"
    }
   ],
   "source": [
    "ans"
   ]
  },
  {
   "cell_type": "code",
   "execution_count": null,
   "metadata": {},
   "outputs": [],
   "source": []
  }
 ],
 "metadata": {
  "kernelspec": {
   "display_name": "Python 3",
   "language": "python",
   "name": "python3"
  },
  "language_info": {
   "codemirror_mode": {
    "name": "ipython",
    "version": 3
   },
   "file_extension": ".py",
   "mimetype": "text/x-python",
   "name": "python",
   "nbconvert_exporter": "python",
   "pygments_lexer": "ipython3",
   "version": "3.7.6"
  },
  "toc": {
   "base_numbering": 1,
   "nav_menu": {},
   "number_sections": true,
   "sideBar": true,
   "skip_h1_title": true,
   "title_cell": "Table of Contents",
   "title_sidebar": "Contents",
   "toc_cell": false,
   "toc_position": {},
   "toc_section_display": true,
   "toc_window_display": false
  }
 },
 "nbformat": 4,
 "nbformat_minor": 4
}
