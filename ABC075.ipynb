{
 "cells": [
  {
   "cell_type": "markdown",
   "metadata": {},
   "source": [
    "# AtCoder Beginner Contest 075"
   ]
  },
  {
   "cell_type": "markdown",
   "metadata": {},
   "source": [
    "Created on July 28, 2020  \n",
    "A-B: 30 minutes."
   ]
  },
  {
   "cell_type": "markdown",
   "metadata": {},
   "source": [
    "https://atcoder.jp/contests/abc075"
   ]
  },
  {
   "cell_type": "markdown",
   "metadata": {},
   "source": [
    "## A（AC）"
   ]
  },
  {
   "cell_type": "markdown",
   "metadata": {},
   "source": [
    "https://atcoder.jp/contests/abc075/tasks/abc075_a"
   ]
  },
  {
   "cell_type": "code",
   "execution_count": 11,
   "metadata": {
    "ExecuteTime": {
     "end_time": "2020-07-27T20:21:32.265340Z",
     "start_time": "2020-07-27T20:21:31.724450Z"
    }
   },
   "outputs": [
    {
     "name": "stdout",
     "output_type": "stream",
     "text": [
      "-100 100 100\n"
     ]
    }
   ],
   "source": [
    "A, B, C = map(int, input().split())"
   ]
  },
  {
   "cell_type": "code",
   "execution_count": 12,
   "metadata": {
    "ExecuteTime": {
     "end_time": "2020-07-27T20:21:32.476147Z",
     "start_time": "2020-07-27T20:21:32.470149Z"
    }
   },
   "outputs": [
    {
     "name": "stdout",
     "output_type": "stream",
     "text": [
      "-100\n"
     ]
    }
   ],
   "source": [
    "if A==B:\n",
    "    print(C)\n",
    "elif B==C:\n",
    "    print(A)\n",
    "else:\n",
    "    print(B)"
   ]
  },
  {
   "cell_type": "markdown",
   "metadata": {},
   "source": [
    "## B（AC）"
   ]
  },
  {
   "cell_type": "markdown",
   "metadata": {},
   "source": [
    "https://atcoder.jp/contests/abc075/tasks/abc075_b"
   ]
  },
  {
   "cell_type": "code",
   "execution_count": 52,
   "metadata": {
    "ExecuteTime": {
     "end_time": "2020-07-27T20:49:16.918568Z",
     "start_time": "2020-07-27T20:48:59.237951Z"
    }
   },
   "outputs": [
    {
     "name": "stdout",
     "output_type": "stream",
     "text": [
      "6 6\n",
      "#####.\n",
      "#.#.##\n",
      "####.#\n",
      ".#..#.\n",
      "#.##..\n",
      "#.#...\n"
     ]
    }
   ],
   "source": [
    "H, W = map(int, input().split())\n",
    "S = [input() for _ in range(H)]"
   ]
  },
  {
   "cell_type": "code",
   "execution_count": 53,
   "metadata": {
    "ExecuteTime": {
     "end_time": "2020-07-27T20:49:17.235970Z",
     "start_time": "2020-07-27T20:49:17.222473Z"
    }
   },
   "outputs": [
    {
     "name": "stdout",
     "output_type": "stream",
     "text": [
      "#####3\n",
      "#8#7##\n",
      "####5#\n",
      "4#65#2\n",
      "#5##21\n",
      "#4#310\n"
     ]
    }
   ],
   "source": [
    "## 下準備(1)：　H*Wマスの周囲を0で囲む\n",
    "S.insert(0, \"0\"*W)\n",
    "S.append(\"0\"*W)\n",
    "S = [\"0\" + s + \"0\" for s in S]\n",
    "S = [s.replace(\"#\", \"1\") for s in S]\n",
    "\n",
    "## 下準備(2): 8方向をforループで回すためのリストを作る\n",
    "delta_H = [-1, -1, -1, 0, 0, 1, 1, 1]\n",
    "delta_W = [-1, 0, 1, -1, 1, -1, 0, 1]\n",
    "\n",
    "\n",
    "## 実行：　一文字ずつ見ていき、\".\"の場合、周囲8方向の数字を足し算する\n",
    "S_new = [\"\"]*H\n",
    "\n",
    "for i in range(1, H+1):\n",
    "    for j in range(1, W+1):\n",
    "        if S[i][j] == \".\":\n",
    "            ans = 0\n",
    "            \n",
    "            for k in range(8):\n",
    "                if S[i + delta_H[k]][j + delta_W[k]] != \".\":\n",
    "                    ans += int(S[i + delta_H[k]][j + delta_W[k]])\n",
    "                    \n",
    "            S_new[i-1] += str(ans)\n",
    "            \n",
    "        else:\n",
    "            S_new[i-1] += \"#\"\n",
    "            \n",
    "print(*S_new, sep=\"\\n\")"
   ]
  },
  {
   "cell_type": "markdown",
   "metadata": {},
   "source": [
    "## C（）"
   ]
  },
  {
   "cell_type": "markdown",
   "metadata": {},
   "source": [
    "https://atcoder.jp/contests/abc075/tasks/abc075_c"
   ]
  },
  {
   "cell_type": "markdown",
   "metadata": {},
   "source": [
    "## D（）"
   ]
  },
  {
   "cell_type": "markdown",
   "metadata": {},
   "source": [
    "https://atcoder.jp/contests/abc075/tasks/abc075_d"
   ]
  }
 ],
 "metadata": {
  "kernelspec": {
   "display_name": "Python 3",
   "language": "python",
   "name": "python3"
  },
  "language_info": {
   "codemirror_mode": {
    "name": "ipython",
    "version": 3
   },
   "file_extension": ".py",
   "mimetype": "text/x-python",
   "name": "python",
   "nbconvert_exporter": "python",
   "pygments_lexer": "ipython3",
   "version": "3.7.6"
  },
  "toc": {
   "base_numbering": 1,
   "nav_menu": {},
   "number_sections": true,
   "sideBar": true,
   "skip_h1_title": true,
   "title_cell": "Table of Contents",
   "title_sidebar": "Contents",
   "toc_cell": false,
   "toc_position": {},
   "toc_section_display": true,
   "toc_window_display": false
  }
 },
 "nbformat": 4,
 "nbformat_minor": 4
}
