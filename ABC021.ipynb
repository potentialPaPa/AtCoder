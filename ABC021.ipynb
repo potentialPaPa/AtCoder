{
 "cells": [
  {
   "cell_type": "markdown",
   "metadata": {},
   "source": [
    "# AtCoder Beginner Contest 021"
   ]
  },
  {
   "cell_type": "markdown",
   "metadata": {},
   "source": [
    "Created on December 06, 2020  "
   ]
  },
  {
   "cell_type": "markdown",
   "metadata": {},
   "source": [
    "https://atcoder.jp/contests/abc021"
   ]
  },
  {
   "cell_type": "markdown",
   "metadata": {},
   "source": [
    "## A（AC）"
   ]
  },
  {
   "cell_type": "markdown",
   "metadata": {},
   "source": [
    "https://atcoder.jp/contests/abc021/tasks/abc021_a"
   ]
  },
  {
   "cell_type": "code",
   "execution_count": 4,
   "metadata": {
    "ExecuteTime": {
     "end_time": "2020-12-06T12:28:19.433741Z",
     "start_time": "2020-12-06T12:28:18.935117Z"
    }
   },
   "outputs": [
    {
     "name": "stdout",
     "output_type": "stream",
     "text": [
      "1\n"
     ]
    }
   ],
   "source": [
    "N = int(input())"
   ]
  },
  {
   "cell_type": "code",
   "execution_count": 5,
   "metadata": {
    "ExecuteTime": {
     "end_time": "2020-12-06T12:28:19.651027Z",
     "start_time": "2020-12-06T12:28:19.641321Z"
    }
   },
   "outputs": [
    {
     "name": "stdout",
     "output_type": "stream",
     "text": [
      "1\n",
      "1\n"
     ]
    }
   ],
   "source": [
    "print(N)\n",
    "print(*[1]*N, sep='\\n')"
   ]
  },
  {
   "cell_type": "markdown",
   "metadata": {},
   "source": [
    "## B（AC）"
   ]
  },
  {
   "cell_type": "markdown",
   "metadata": {},
   "source": [
    "https://atcoder.jp/contests/abc021/tasks/abc021_b"
   ]
  },
  {
   "cell_type": "code",
   "execution_count": 6,
   "metadata": {
    "ExecuteTime": {
     "end_time": "2020-12-06T12:28:39.786661Z",
     "start_time": "2020-12-06T12:28:39.707191Z"
    }
   },
   "outputs": [
    {
     "data": {
      "application/vnd.jupyter.widget-view+json": {
       "model_id": "db6417b3f6a347858d9e1f9130ac1aaf",
       "version_major": 2,
       "version_minor": 0
      },
      "text/plain": [
       "Textarea(value='')"
      ]
     },
     "metadata": {},
     "output_type": "display_data"
    }
   ],
   "source": [
    "from ipywidgets import Textarea\n",
    "import io\n",
    "\n",
    "if 'open' in globals():\n",
    "    del open\n",
    "original_open = open\n",
    "class custom_open():\n",
    "    def __init__(self):\n",
    "        self.text = ''\n",
    "    def __call__(self, file, *args, **kwargs):\n",
    "        if file == 0:\n",
    "            return io.StringIO(self.text)\n",
    "        return original_open(file, *args, **kwargs)\n",
    "    def updater(self, change):\n",
    "        self.text = change[\"new\"]\n",
    "open = custom_open()\n",
    "text_area = Textarea()\n",
    "text_area.observe(open.updater, names='value')\n",
    "display(text_area)"
   ]
  },
  {
   "cell_type": "code",
   "execution_count": 19,
   "metadata": {
    "ExecuteTime": {
     "end_time": "2020-12-06T12:52:38.919819Z",
     "start_time": "2020-12-06T12:52:38.912582Z"
    }
   },
   "outputs": [],
   "source": [
    "N,a,b,K,*P = map(int, open(0).read().split())"
   ]
  },
  {
   "cell_type": "code",
   "execution_count": 20,
   "metadata": {
    "ExecuteTime": {
     "end_time": "2020-12-06T12:52:39.071083Z",
     "start_time": "2020-12-06T12:52:39.049939Z"
    }
   },
   "outputs": [
    {
     "name": "stdout",
     "output_type": "stream",
     "text": [
      "YES\n"
     ]
    }
   ],
   "source": [
    "path = set(P)\n",
    "if a in path or b in path:\n",
    "    ans = 'NO'\n",
    "elif K > len(path):\n",
    "    ans = 'NO'\n",
    "else:\n",
    "    ans = 'YES'\n",
    "    \n",
    "print(ans)"
   ]
  },
  {
   "cell_type": "markdown",
   "metadata": {},
   "source": [
    "## C（）"
   ]
  },
  {
   "cell_type": "markdown",
   "metadata": {},
   "source": [
    "https://atcoder.jp/contests/abc021/tasks/abc021_c"
   ]
  },
  {
   "cell_type": "code",
   "execution_count": 21,
   "metadata": {
    "ExecuteTime": {
     "end_time": "2020-12-06T12:56:13.868090Z",
     "start_time": "2020-12-06T12:56:13.837835Z"
    }
   },
   "outputs": [
    {
     "data": {
      "application/vnd.jupyter.widget-view+json": {
       "model_id": "d8f4c1d73866402dafc44728bc891cbd",
       "version_major": 2,
       "version_minor": 0
      },
      "text/plain": [
       "Textarea(value='')"
      ]
     },
     "metadata": {},
     "output_type": "display_data"
    }
   ],
   "source": [
    "from ipywidgets import Textarea\n",
    "import io\n",
    "\n",
    "if 'open' in globals():\n",
    "    del open\n",
    "original_open = open\n",
    "class custom_open():\n",
    "    def __init__(self):\n",
    "        self.text = ''\n",
    "    def __call__(self, file, *args, **kwargs):\n",
    "        if file == 0:\n",
    "            return io.StringIO(self.text)\n",
    "        return original_open(file, *args, **kwargs)\n",
    "    def updater(self, change):\n",
    "        self.text = change[\"new\"]\n",
    "open = custom_open()\n",
    "text_area = Textarea()\n",
    "text_area.observe(open.updater, names='value')\n",
    "display(text_area)"
   ]
  },
  {
   "cell_type": "code",
   "execution_count": 53,
   "metadata": {
    "ExecuteTime": {
     "end_time": "2020-12-06T13:04:23.883287Z",
     "start_time": "2020-12-06T13:04:23.874147Z"
    }
   },
   "outputs": [],
   "source": [
    "N,a,b,M,*XY = map(int, open(0).read().split())\n",
    "XY = set(zip(*[iter(XY)]*2))"
   ]
  },
  {
   "cell_type": "code",
   "execution_count": 66,
   "metadata": {
    "ExecuteTime": {
     "end_time": "2020-12-06T13:08:47.936264Z",
     "start_time": "2020-12-06T13:08:47.922303Z"
    }
   },
   "outputs": [
    {
     "data": {
      "text/plain": [
       "[{1: False, 2: False, 3: False, 4: False, 5: False, 6: False, 7: False},\n",
       " {1: False, 2: False, 3: False, 4: False, 5: False, 6: False, 7: False},\n",
       " {1: False, 2: False, 3: False, 4: False, 5: False, 6: False, 7: False},\n",
       " {1: False, 2: False, 3: False, 4: False, 5: False, 6: False, 7: False},\n",
       " {1: False, 2: False, 3: False, 4: False, 5: False, 6: False, 7: False},\n",
       " {1: False, 2: False, 3: False, 4: False, 5: False, 6: False, 7: False},\n",
       " {1: False, 2: False, 3: False, 4: False, 5: False, 6: False, 7: False}]"
      ]
     },
     "execution_count": 66,
     "metadata": {},
     "output_type": "execute_result"
    }
   ],
   "source": [
    "[{i:False for i in range(1, N+1)} for j in range(1, M)]"
   ]
  },
  {
   "cell_type": "code",
   "execution_count": 46,
   "metadata": {
    "ExecuteTime": {
     "end_time": "2020-12-06T13:04:13.130731Z",
     "start_time": "2020-12-06T13:04:13.114412Z"
    }
   },
   "outputs": [
    {
     "name": "stdout",
     "output_type": "stream",
     "text": [
      "(4, 2)\n",
      "(4, 3)\n",
      "(4, 6)\n",
      "(4, 5)\n",
      "(4, 3)\n",
      "(4, 2)\n",
      "(4, 5)\n",
      "(7, 5)\n",
      "(4, 6)\n",
      "(7, 6)\n"
     ]
    }
   ],
   "source": [
    "for i in range(1, N):\n",
    "    for v in [xy for xy in XY if i in xy]:\n",
    "        print(v)"
   ]
  },
  {
   "cell_type": "markdown",
   "metadata": {},
   "source": [
    "## D（）"
   ]
  },
  {
   "cell_type": "markdown",
   "metadata": {},
   "source": [
    "https://atcoder.jp/contests/abc021/tasks/abc021_d"
   ]
  }
 ],
 "metadata": {
  "kernelspec": {
   "display_name": "Python 3",
   "language": "python",
   "name": "python3"
  },
  "language_info": {
   "codemirror_mode": {
    "name": "ipython",
    "version": 3
   },
   "file_extension": ".py",
   "mimetype": "text/x-python",
   "name": "python",
   "nbconvert_exporter": "python",
   "pygments_lexer": "ipython3",
   "version": "3.7.6"
  },
  "toc": {
   "base_numbering": 1,
   "nav_menu": {},
   "number_sections": true,
   "sideBar": true,
   "skip_h1_title": true,
   "title_cell": "Table of Contents",
   "title_sidebar": "Contents",
   "toc_cell": false,
   "toc_position": {},
   "toc_section_display": true,
   "toc_window_display": false
  }
 },
 "nbformat": 4,
 "nbformat_minor": 4
}
