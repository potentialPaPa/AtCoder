{
 "cells": [
  {
   "cell_type": "markdown",
   "metadata": {},
   "source": [
    "# AtCoder Beginner Contest 013"
   ]
  },
  {
   "cell_type": "markdown",
   "metadata": {},
   "source": [
    "Created on December 10, 2020  "
   ]
  },
  {
   "cell_type": "markdown",
   "metadata": {},
   "source": [
    "https://atcoder.jp/contests/abc013"
   ]
  },
  {
   "cell_type": "markdown",
   "metadata": {},
   "source": [
    "## A（AC）"
   ]
  },
  {
   "cell_type": "markdown",
   "metadata": {},
   "source": [
    "https://atcoder.jp/contests/abc013/tasks/abc013_1"
   ]
  },
  {
   "cell_type": "code",
   "execution_count": 10,
   "metadata": {
    "ExecuteTime": {
     "end_time": "2020-12-10T10:35:59.234899Z",
     "start_time": "2020-12-10T10:35:58.567792Z"
    }
   },
   "outputs": [
    {
     "name": "stdout",
     "output_type": "stream",
     "text": [
      "B\n",
      "2\n"
     ]
    }
   ],
   "source": [
    "print(ord(input()) - ord('A') + 1)"
   ]
  },
  {
   "cell_type": "markdown",
   "metadata": {},
   "source": [
    "## B（AC）"
   ]
  },
  {
   "cell_type": "markdown",
   "metadata": {},
   "source": [
    "https://atcoder.jp/contests/abc013/tasks/abc013_2"
   ]
  },
  {
   "cell_type": "code",
   "execution_count": 25,
   "metadata": {
    "ExecuteTime": {
     "end_time": "2020-12-10T10:39:39.023763Z",
     "start_time": "2020-12-10T10:39:37.267738Z"
    }
   },
   "outputs": [
    {
     "name": "stdout",
     "output_type": "stream",
     "text": [
      "8\n",
      "1\n"
     ]
    }
   ],
   "source": [
    "a = int(input())\n",
    "b = int(input())"
   ]
  },
  {
   "cell_type": "code",
   "execution_count": 29,
   "metadata": {
    "ExecuteTime": {
     "end_time": "2020-12-10T10:41:55.930456Z",
     "start_time": "2020-12-10T10:41:55.920813Z"
    }
   },
   "outputs": [
    {
     "name": "stdout",
     "output_type": "stream",
     "text": [
      "3\n"
     ]
    }
   ],
   "source": [
    "print(min(abs(a-b), abs(a+10-b), abs(a-b-10)))"
   ]
  },
  {
   "cell_type": "markdown",
   "metadata": {},
   "source": [
    "## C（WA）"
   ]
  },
  {
   "cell_type": "markdown",
   "metadata": {},
   "source": [
    "https://atcoder.jp/contests/abc013/tasks/abc013_3"
   ]
  },
  {
   "cell_type": "code",
   "execution_count": 81,
   "metadata": {
    "ExecuteTime": {
     "end_time": "2020-12-10T11:30:45.877065Z",
     "start_time": "2020-12-10T11:30:45.872395Z"
    }
   },
   "outputs": [],
   "source": [
    "# ini = 5\n",
    "# 何も食べなかったら　4*4 = 16　のダメージ　→　ini=5から-11へ　→　NG\n",
    "# 1食食べたら　4*3 = 12　のダメージ　→　ini=5から-7へ　→　普通の食事×1で回復できないのでNG\n",
    "# 2食食べたら　4*2 = 8　のダメージ　→　ini=5から-3へ　→　普通の食事×1で回復できるのでOK\n",
    "# 3食食べたら　4*1 = 4 のダメージ　→　ini=5から1へ　→　OK、質素な食事のみでしのげる\n",
    "# 4食食べたら　4*0 = 0 のダメージ　→　ini=5のまま　→ OK、質素な食事のみでしのげる"
   ]
  },
  {
   "cell_type": "code",
   "execution_count": 106,
   "metadata": {
    "ExecuteTime": {
     "end_time": "2020-12-10T11:42:20.522010Z",
     "start_time": "2020-12-10T11:42:16.551546Z"
    }
   },
   "outputs": [
    {
     "name": "stdout",
     "output_type": "stream",
     "text": [
      "653 314159\n",
      "6728 123456 5141 41928 222222\n"
     ]
    }
   ],
   "source": [
    "N,H = map(int, input().split())\n",
    "A,B,C,D,E = map(int, input().split())"
   ]
  },
  {
   "cell_type": "code",
   "execution_count": 108,
   "metadata": {
    "ExecuteTime": {
     "end_time": "2020-12-10T11:43:03.884726Z",
     "start_time": "2020-12-10T11:43:03.871174Z"
    }
   },
   "outputs": [
    {
     "name": "stdout",
     "output_type": "stream",
     "text": [
      "2818162\n"
     ]
    }
   ],
   "source": [
    "ini = H\n",
    "\n",
    "ans = 10000000\n",
    "\n",
    "for i in range(N+1): #食べる数\n",
    "    HP = ini-E*(N-i) + B*i\n",
    "    \n",
    "    if  HP > 0:\n",
    "        sisso = HP//(B-D) if HP%(B-D) else HP//(B-D)-1\n",
    "        sisso = min(sisso, i)\n",
    "        price = sisso*C + (i-sisso)*A\n",
    "        ans = min(ans, price)\n",
    "        \n",
    "print(ans)"
   ]
  },
  {
   "cell_type": "markdown",
   "metadata": {},
   "source": [
    "【WA,TLE解答】"
   ]
  },
  {
   "cell_type": "code",
   "execution_count": 80,
   "metadata": {
    "ExecuteTime": {
     "end_time": "2020-12-10T11:29:21.303590Z",
     "start_time": "2020-12-10T11:29:21.246337Z"
    }
   },
   "outputs": [
    {
     "name": "stdout",
     "output_type": "stream",
     "text": [
      "2818162\n"
     ]
    }
   ],
   "source": [
    "ini = H\n",
    "\n",
    "ans = 10000000\n",
    "\n",
    "for i in range(N+1): #食べる数\n",
    "    HP = ini-E*(N-i) + B*i\n",
    "    \n",
    "    if  HP > 0:\n",
    "        sisso = 0\n",
    "        \n",
    "        while HP-(B-D) > 0 and sisso < i:\n",
    "            HP -= (B-D)\n",
    "            sisso += 1\n",
    "            \n",
    "        price = sisso*C + (i-sisso)*A\n",
    "        ans = min(ans, price)\n",
    "        \n",
    "print(ans)"
   ]
  },
  {
   "cell_type": "markdown",
   "metadata": {},
   "source": [
    "## D（）"
   ]
  },
  {
   "cell_type": "markdown",
   "metadata": {},
   "source": [
    "https://atcoder.jp/contests/abc013/tasks/abc013_4"
   ]
  }
 ],
 "metadata": {
  "kernelspec": {
   "display_name": "Python 3",
   "language": "python",
   "name": "python3"
  },
  "language_info": {
   "codemirror_mode": {
    "name": "ipython",
    "version": 3
   },
   "file_extension": ".py",
   "mimetype": "text/x-python",
   "name": "python",
   "nbconvert_exporter": "python",
   "pygments_lexer": "ipython3",
   "version": "3.7.6"
  },
  "toc": {
   "base_numbering": 1,
   "nav_menu": {},
   "number_sections": true,
   "sideBar": true,
   "skip_h1_title": true,
   "title_cell": "Table of Contents",
   "title_sidebar": "Contents",
   "toc_cell": false,
   "toc_position": {},
   "toc_section_display": true,
   "toc_window_display": false
  }
 },
 "nbformat": 4,
 "nbformat_minor": 4
}
