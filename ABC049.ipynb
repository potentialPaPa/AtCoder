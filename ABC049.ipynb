{
 "cells": [
  {
   "cell_type": "markdown",
   "metadata": {},
   "source": [
    "# AtCoder Beginner Contest 049"
   ]
  },
  {
   "cell_type": "markdown",
   "metadata": {},
   "source": [
    "Created on November 25, 2020  "
   ]
  },
  {
   "cell_type": "markdown",
   "metadata": {},
   "source": [
    "https://atcoder.jp/contests/abc049"
   ]
  },
  {
   "cell_type": "markdown",
   "metadata": {},
   "source": [
    "## A（AC）"
   ]
  },
  {
   "cell_type": "markdown",
   "metadata": {},
   "source": [
    "https://atcoder.jp/contests/abc049/tasks/abc049_a"
   ]
  },
  {
   "cell_type": "code",
   "execution_count": 5,
   "metadata": {
    "ExecuteTime": {
     "end_time": "2020-11-24T22:20:25.145040Z",
     "start_time": "2020-11-24T22:20:24.208568Z"
    }
   },
   "outputs": [
    {
     "name": "stdout",
     "output_type": "stream",
     "text": [
      "s\n"
     ]
    }
   ],
   "source": [
    "c = input()"
   ]
  },
  {
   "cell_type": "code",
   "execution_count": 6,
   "metadata": {
    "ExecuteTime": {
     "end_time": "2020-11-24T22:20:25.438315Z",
     "start_time": "2020-11-24T22:20:25.427804Z"
    }
   },
   "outputs": [
    {
     "name": "stdout",
     "output_type": "stream",
     "text": [
      "consonant\n"
     ]
    }
   ],
   "source": [
    "if c in 'aiueo':\n",
    "    print('vowel')\n",
    "else:\n",
    "    print('consonant')"
   ]
  },
  {
   "cell_type": "markdown",
   "metadata": {},
   "source": [
    "## B（AC）"
   ]
  },
  {
   "cell_type": "markdown",
   "metadata": {},
   "source": [
    "https://atcoder.jp/contests/abc049/tasks/abc049_b"
   ]
  },
  {
   "cell_type": "code",
   "execution_count": 17,
   "metadata": {
    "ExecuteTime": {
     "end_time": "2020-11-24T22:26:24.891843Z",
     "start_time": "2020-11-24T22:25:40.617852Z"
    }
   },
   "outputs": [
    {
     "name": "stdout",
     "output_type": "stream",
     "text": [
      "9 20\n",
      ".....***....***.....\n",
      "....*...*..*...*....\n",
      "...*.....**.....*...\n",
      "...*.....*......*...\n",
      "....*.....*....*....\n",
      ".....**..*...**.....\n",
      ".......*..*.*.......\n",
      "........**.*........\n",
      ".........**.........\n"
     ]
    }
   ],
   "source": [
    "H,W = map(int, input().split())\n",
    "C = {}\n",
    "for i in range(1, H+1):\n",
    "    C[i] = input()"
   ]
  },
  {
   "cell_type": "code",
   "execution_count": 18,
   "metadata": {
    "ExecuteTime": {
     "end_time": "2020-11-24T22:26:25.633238Z",
     "start_time": "2020-11-24T22:26:25.619303Z"
    }
   },
   "outputs": [
    {
     "name": "stdout",
     "output_type": "stream",
     "text": [
      ".....***....***.....\n",
      ".....***....***.....\n",
      "....*...*..*...*....\n",
      "....*...*..*...*....\n",
      "...*.....**.....*...\n",
      "...*.....**.....*...\n",
      "...*.....*......*...\n",
      "...*.....*......*...\n",
      "....*.....*....*....\n",
      "....*.....*....*....\n",
      ".....**..*...**.....\n",
      ".....**..*...**.....\n",
      ".......*..*.*.......\n",
      ".......*..*.*.......\n",
      "........**.*........\n",
      "........**.*........\n",
      ".........**.........\n",
      ".........**.........\n"
     ]
    }
   ],
   "source": [
    "for i in range(1, H+1):\n",
    "    print(C[i])\n",
    "    print(C[i])"
   ]
  },
  {
   "cell_type": "markdown",
   "metadata": {},
   "source": [
    "## C（）"
   ]
  },
  {
   "cell_type": "markdown",
   "metadata": {},
   "source": [
    "https://atcoder.jp/contests/abc049/tasks/arc065_a"
   ]
  },
  {
   "cell_type": "code",
   "execution_count": 28,
   "metadata": {
    "ExecuteTime": {
     "end_time": "2020-11-24T22:35:49.211277Z",
     "start_time": "2020-11-24T22:35:45.960560Z"
    }
   },
   "outputs": [
    {
     "name": "stdout",
     "output_type": "stream",
     "text": [
      "dreameraser\n"
     ]
    }
   ],
   "source": [
    "S = input()"
   ]
  },
  {
   "cell_type": "code",
   "execution_count": 29,
   "metadata": {
    "ExecuteTime": {
     "end_time": "2020-11-24T22:35:49.443749Z",
     "start_time": "2020-11-24T22:35:49.421756Z"
    }
   },
   "outputs": [
    {
     "name": "stdout",
     "output_type": "stream",
     "text": [
      "dreameraser\n",
      "aser\n",
      "NO\n"
     ]
    }
   ],
   "source": [
    "word5 = ['dream', 'erase']\n",
    "word6 = ['eraser']\n",
    "word7 = ['dreamer']\n",
    "\n",
    "S_orig = S\n",
    "i = 0\n",
    "flag = True\n",
    "\n",
    "while len(S) > 0:\n",
    "    print(S)\n",
    "    if S[i:i+7] in word7:\n",
    "        S = S[i+7:]\n",
    "    elif S[i:i+6] in word6:\n",
    "        S = S[i+6:]\n",
    "    elif S[i:i+5] in word5:\n",
    "        S = S[i+5:]\n",
    "    else:\n",
    "        flag = False\n",
    "        break\n",
    "        \n",
    "if flag==False:\n",
    "    print('NO')\n",
    "else:\n",
    "    print('YES')"
   ]
  },
  {
   "cell_type": "markdown",
   "metadata": {},
   "source": [
    "## D（）"
   ]
  },
  {
   "cell_type": "markdown",
   "metadata": {},
   "source": [
    "https://atcoder.jp/contests/abc049/tasks/abc049_d"
   ]
  }
 ],
 "metadata": {
  "kernelspec": {
   "display_name": "Python 3",
   "language": "python",
   "name": "python3"
  },
  "language_info": {
   "codemirror_mode": {
    "name": "ipython",
    "version": 3
   },
   "file_extension": ".py",
   "mimetype": "text/x-python",
   "name": "python",
   "nbconvert_exporter": "python",
   "pygments_lexer": "ipython3",
   "version": "3.7.6"
  },
  "toc": {
   "base_numbering": 1,
   "nav_menu": {},
   "number_sections": true,
   "sideBar": true,
   "skip_h1_title": true,
   "title_cell": "Table of Contents",
   "title_sidebar": "Contents",
   "toc_cell": false,
   "toc_position": {},
   "toc_section_display": true,
   "toc_window_display": false
  }
 },
 "nbformat": 4,
 "nbformat_minor": 4
}
