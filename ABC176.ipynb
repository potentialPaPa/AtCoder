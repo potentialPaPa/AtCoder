{
 "cells": [
  {
   "cell_type": "markdown",
   "metadata": {},
   "source": [
    "# AtCoder Beginner Contest 176"
   ]
  },
  {
   "cell_type": "markdown",
   "metadata": {},
   "source": [
    "Created on August 22, 2020  "
   ]
  },
  {
   "cell_type": "markdown",
   "metadata": {},
   "source": [
    "https://atcoder.jp/contests/abc176"
   ]
  },
  {
   "cell_type": "markdown",
   "metadata": {},
   "source": [
    "## A（AC）"
   ]
  },
  {
   "cell_type": "markdown",
   "metadata": {},
   "source": [
    "https://atcoder.jp/contests/abc176/tasks/abc176_a"
   ]
  },
  {
   "cell_type": "code",
   "execution_count": 5,
   "metadata": {
    "ExecuteTime": {
     "end_time": "2020-08-22T12:01:53.994990Z",
     "start_time": "2020-08-22T12:01:53.546757Z"
    }
   },
   "outputs": [
    {
     "name": "stdout",
     "output_type": "stream",
     "text": [
      "1000 1 1000\n"
     ]
    }
   ],
   "source": [
    "N, X, T = map(int, input().split())"
   ]
  },
  {
   "cell_type": "code",
   "execution_count": 6,
   "metadata": {
    "ExecuteTime": {
     "end_time": "2020-08-22T12:01:54.206069Z",
     "start_time": "2020-08-22T12:01:54.198467Z"
    }
   },
   "outputs": [
    {
     "name": "stdout",
     "output_type": "stream",
     "text": [
      "1000000\n"
     ]
    }
   ],
   "source": [
    "import math\n",
    "print(math.ceil(N/X)*T)"
   ]
  },
  {
   "cell_type": "markdown",
   "metadata": {},
   "source": [
    "## B（AC）"
   ]
  },
  {
   "cell_type": "markdown",
   "metadata": {},
   "source": [
    "https://atcoder.jp/contests/abc176/tasks/abc176_b"
   ]
  },
  {
   "cell_type": "code",
   "execution_count": 30,
   "metadata": {
    "ExecuteTime": {
     "end_time": "2020-08-22T12:04:44.124643Z",
     "start_time": "2020-08-22T12:04:43.578018Z"
    }
   },
   "outputs": [
    {
     "name": "stdout",
     "output_type": "stream",
     "text": [
      "31415926535897932384626433832795028841971693993751058209749445923078164062862089986280\n"
     ]
    }
   ],
   "source": [
    "N_str = list(input())"
   ]
  },
  {
   "cell_type": "code",
   "execution_count": 31,
   "metadata": {
    "ExecuteTime": {
     "end_time": "2020-08-22T12:04:44.355627Z",
     "start_time": "2020-08-22T12:04:44.347083Z"
    }
   },
   "outputs": [
    {
     "name": "stdout",
     "output_type": "stream",
     "text": [
      "No\n"
     ]
    }
   ],
   "source": [
    "N = [int(x) for x in N_str]\n",
    "\n",
    "if sum(N) % 9 == 0:\n",
    "    print(\"Yes\")\n",
    "else:\n",
    "    print(\"No\")"
   ]
  },
  {
   "cell_type": "markdown",
   "metadata": {},
   "source": [
    "## C（AC）"
   ]
  },
  {
   "cell_type": "markdown",
   "metadata": {},
   "source": [
    "https://atcoder.jp/contests/abc176/tasks/abc176_c"
   ]
  },
  {
   "cell_type": "code",
   "execution_count": 52,
   "metadata": {
    "ExecuteTime": {
     "end_time": "2020-08-22T12:12:00.512653Z",
     "start_time": "2020-08-22T12:11:56.220654Z"
    }
   },
   "outputs": [
    {
     "name": "stdout",
     "output_type": "stream",
     "text": [
      "5\n",
      "5 4 3 2 1\n"
     ]
    }
   ],
   "source": [
    "N = int(input())\n",
    "A = list(map(int, input().split()))"
   ]
  },
  {
   "cell_type": "code",
   "execution_count": 53,
   "metadata": {
    "ExecuteTime": {
     "end_time": "2020-08-22T12:12:00.661951Z",
     "start_time": "2020-08-22T12:12:00.650719Z"
    }
   },
   "outputs": [
    {
     "name": "stdout",
     "output_type": "stream",
     "text": [
      "10\n"
     ]
    }
   ],
   "source": [
    "ans = 0\n",
    "max_a = A[0]\n",
    "\n",
    "for a in A:\n",
    "    if max_a > a:\n",
    "        ans += max_a - a\n",
    "    else:\n",
    "        max_a = a\n",
    "        \n",
    "print(ans)"
   ]
  },
  {
   "cell_type": "markdown",
   "metadata": {},
   "source": [
    "## D（解けず…TLE, WA）"
   ]
  },
  {
   "cell_type": "markdown",
   "metadata": {},
   "source": [
    "https://atcoder.jp/contests/abc176/tasks/abc176_d"
   ]
  },
  {
   "cell_type": "code",
   "execution_count": 327,
   "metadata": {
    "ExecuteTime": {
     "end_time": "2020-08-22T13:25:44.847840Z",
     "start_time": "2020-08-22T13:25:28.434118Z"
    }
   },
   "outputs": [
    {
     "name": "stdout",
     "output_type": "stream",
     "text": [
      "4 4\n",
      "1 1\n",
      "4 4\n",
      "..#.\n",
      "..#.\n",
      ".#..\n",
      ".#..\n"
     ]
    }
   ],
   "source": [
    "H, W = map(int, input().split())\n",
    "CH, CW = map(int, input().split())\n",
    "DH, DW = map(int, input().split())\n",
    "maze_ini = []\n",
    "for h in range(H):\n",
    "    maze_ini.append(list(input()))"
   ]
  },
  {
   "cell_type": "code",
   "execution_count": 350,
   "metadata": {
    "ExecuteTime": {
     "end_time": "2020-08-22T13:35:02.267860Z",
     "start_time": "2020-08-22T13:35:02.257060Z"
    }
   },
   "outputs": [],
   "source": [
    "maze = maze_ini\n",
    "maze[CH-1][CW-1] = \"s\"\n",
    "maze[DH-1][DW-1] = \"g\""
   ]
  },
  {
   "cell_type": "code",
   "execution_count": 351,
   "metadata": {
    "ExecuteTime": {
     "end_time": "2020-08-22T13:35:05.854505Z",
     "start_time": "2020-08-22T13:35:05.841558Z"
    }
   },
   "outputs": [
    {
     "data": {
      "text/plain": [
       "[['s', '.', '#', '.'],\n",
       " ['.', '.', '#', '.'],\n",
       " ['.', '#', '.', '.'],\n",
       " ['.', '#', '.', 'g']]"
      ]
     },
     "execution_count": 351,
     "metadata": {},
     "output_type": "execute_result"
    }
   ],
   "source": [
    "maze"
   ]
  },
  {
   "cell_type": "code",
   "execution_count": 352,
   "metadata": {
    "ExecuteTime": {
     "end_time": "2020-08-22T13:35:07.984523Z",
     "start_time": "2020-08-22T13:35:07.844615Z"
    }
   },
   "outputs": [],
   "source": [
    "INF = 10**8\n",
    "\n",
    "d = [[INF for w in range(W)] for h in range(H)] # 各点までの最短距離配列\n",
    "dx = [1, 0, -1, 0]\n",
    "dy = [0, 1, 0, -1]\n",
    "#     →,↑,←,↓\n",
    "\n",
    "ddx = [0, 1, 2, 2, 2, 2, 2, 1, 0, -1, -2, -2, -2, -2, -2, -1]\n",
    "ddy = [2, 2, 2, 1, 0, -1, -2, -2, -2, -2, -2, -1, 0, 1, 2, 2]\n",
    "\n",
    "\n",
    "from collections import deque\n",
    "queue = deque([])\n",
    "\n",
    "queue.append((DW-1, DH-1))\n",
    "d[DH-1][DW-1] = 0"
   ]
  },
  {
   "cell_type": "code",
   "execution_count": 355,
   "metadata": {
    "ExecuteTime": {
     "end_time": "2020-08-22T13:38:56.435396Z",
     "start_time": "2020-08-22T13:38:56.214095Z"
    }
   },
   "outputs": [
    {
     "name": "stdout",
     "output_type": "stream",
     "text": [
      "1\n"
     ]
    }
   ],
   "source": [
    "while len(queue):\n",
    "    p = queue.popleft()\n",
    "    if p == (CW-1, CH-1):\n",
    "        break\n",
    "\n",
    "    # 4方向を探索\n",
    "    for i in range(4):\n",
    "        nx = p[0] + dx[i]\n",
    "        ny = p[1] + dy[i]\n",
    "        \n",
    "        if 0 <= nx < W and 0 <= ny < H and maze[ny][nx] != '#':\n",
    "            queue.append((nx, ny))\n",
    "            d[ny][nx] = min(d[ny][nx], d[p[1]][p[0]])\n",
    "        \n",
    "        elif  0 <= nx < W and 0 <= ny < H and maze[ny][nx] == '#':\n",
    "            # ワープ\n",
    "            for i in range(16):\n",
    "                nx = p[0] + ddx[i]\n",
    "                ny = p[1] + ddy[i]\n",
    "\n",
    "                if 0 <= nx < W and 0 <= ny < H and maze[ny][nx] != '#' and d[ny][nx] > d[p[1]][p[0]]:\n",
    "                    queue.append((nx, ny))\n",
    "                    d[ny][nx] = d[p[1]][p[0]] + 1\n",
    "            \n",
    "if d[CH-1][CW-1] == INF:\n",
    "    print(-1)\n",
    "else:\n",
    "    print(d[CH-1][CW-1])"
   ]
  },
  {
   "cell_type": "code",
   "execution_count": null,
   "metadata": {},
   "outputs": [],
   "source": []
  }
 ],
 "metadata": {
  "kernelspec": {
   "display_name": "Python 3",
   "language": "python",
   "name": "python3"
  },
  "language_info": {
   "codemirror_mode": {
    "name": "ipython",
    "version": 3
   },
   "file_extension": ".py",
   "mimetype": "text/x-python",
   "name": "python",
   "nbconvert_exporter": "python",
   "pygments_lexer": "ipython3",
   "version": "3.7.6"
  },
  "toc": {
   "base_numbering": 1,
   "nav_menu": {},
   "number_sections": true,
   "sideBar": true,
   "skip_h1_title": true,
   "title_cell": "Table of Contents",
   "title_sidebar": "Contents",
   "toc_cell": false,
   "toc_position": {},
   "toc_section_display": true,
   "toc_window_display": false
  }
 },
 "nbformat": 4,
 "nbformat_minor": 4
}
