{
 "cells": [
  {
   "cell_type": "markdown",
   "metadata": {},
   "source": [
    "# AtCoder Beginner Contest 108"
   ]
  },
  {
   "cell_type": "markdown",
   "metadata": {},
   "source": [
    "Created on June 27, 2020  "
   ]
  },
  {
   "cell_type": "markdown",
   "metadata": {},
   "source": [
    "https://atcoder.jp/contests/abc108"
   ]
  },
  {
   "cell_type": "markdown",
   "metadata": {},
   "source": [
    "## A（AC）"
   ]
  },
  {
   "cell_type": "markdown",
   "metadata": {},
   "source": [
    "https://atcoder.jp/contests/abc108/tasks/abc108_a"
   ]
  },
  {
   "cell_type": "code",
   "execution_count": 8,
   "metadata": {
    "ExecuteTime": {
     "end_time": "2020-06-26T21:45:30.690425Z",
     "start_time": "2020-06-26T21:45:29.722515Z"
    }
   },
   "outputs": [
    {
     "name": "stdout",
     "output_type": "stream",
     "text": [
      "50\n"
     ]
    }
   ],
   "source": [
    "K = int(input())"
   ]
  },
  {
   "cell_type": "code",
   "execution_count": 9,
   "metadata": {
    "ExecuteTime": {
     "end_time": "2020-06-26T21:45:30.850007Z",
     "start_time": "2020-06-26T21:45:30.838435Z"
    }
   },
   "outputs": [
    {
     "name": "stdout",
     "output_type": "stream",
     "text": [
      "625\n"
     ]
    }
   ],
   "source": [
    "print(K//2 * (K - K//2))"
   ]
  },
  {
   "cell_type": "markdown",
   "metadata": {},
   "source": [
    "## B（AC）"
   ]
  },
  {
   "cell_type": "markdown",
   "metadata": {},
   "source": [
    "状況把握を面倒くさがったらだめ！  \n",
    "図を描いて、数式でアプローチするのが最速"
   ]
  },
  {
   "cell_type": "markdown",
   "metadata": {},
   "source": [
    "https://atcoder.jp/contests/abc108/tasks/abc108_b"
   ]
  },
  {
   "cell_type": "code",
   "execution_count": 23,
   "metadata": {
    "ExecuteTime": {
     "end_time": "2020-06-26T22:03:04.296955Z",
     "start_time": "2020-06-26T22:03:03.577576Z"
    }
   },
   "outputs": [
    {
     "name": "stdout",
     "output_type": "stream",
     "text": [
      "0 0 0 1\n"
     ]
    }
   ],
   "source": [
    "x1, y1, x2, y2 = map(int, input().split())"
   ]
  },
  {
   "cell_type": "code",
   "execution_count": 24,
   "metadata": {
    "ExecuteTime": {
     "end_time": "2020-06-26T22:03:04.509804Z",
     "start_time": "2020-06-26T22:03:04.495277Z"
    }
   },
   "outputs": [
    {
     "name": "stdout",
     "output_type": "stream",
     "text": [
      "-1 1 -1 0\n"
     ]
    }
   ],
   "source": [
    "vx, vy = (x2 - x1, y2 - y1)\n",
    "\n",
    "vx, vy = (-vy, vx)\n",
    "x3, y3 = (x2 + vx, y2 + vy)\n",
    "\n",
    "vx, vy = (-vy, vx)\n",
    "x4, y4 = (x3 + vx, y3 + vy)\n",
    "\n",
    "print(x3, y3, x4, y4)"
   ]
  },
  {
   "cell_type": "markdown",
   "metadata": {},
   "source": [
    "## C（AC、ただしRE, WA）"
   ]
  },
  {
   "cell_type": "markdown",
   "metadata": {},
   "source": [
    "WAが解消できず、テストケースを確認の上修正した。"
   ]
  },
  {
   "cell_type": "markdown",
   "metadata": {},
   "source": [
    "https://atcoder.jp/contests/abc108/tasks/arc102_a"
   ]
  },
  {
   "cell_type": "markdown",
   "metadata": {},
   "source": [
    "- TLEの解答。いくらメモ化しても全通りを愚直に計算はできない。"
   ]
  },
  {
   "cell_type": "code",
   "execution_count": 32,
   "metadata": {
    "ExecuteTime": {
     "end_time": "2020-06-26T23:24:57.691819Z",
     "start_time": "2020-06-26T23:24:55.969055Z"
    }
   },
   "outputs": [
    {
     "name": "stdout",
     "output_type": "stream",
     "text": [
      "5 2\n"
     ]
    }
   ],
   "source": [
    "N, K = map(int, input().split())"
   ]
  },
  {
   "cell_type": "code",
   "execution_count": 33,
   "metadata": {
    "ExecuteTime": {
     "end_time": "2020-06-26T23:24:57.885859Z",
     "start_time": "2020-06-26T23:24:57.872222Z"
    }
   },
   "outputs": [
    {
     "name": "stdout",
     "output_type": "stream",
     "text": [
      "35\n"
     ]
    }
   ],
   "source": [
    "import itertools\n",
    "\n",
    "memo = dict()\n",
    "ans = 0\n",
    "\n",
    "for a,b,c in list(itertools.product(range(1, N+1), repeat = 3)):\n",
    "    res = ((a+b)%K, (b+c)%K, (c+a)%K)\n",
    "    \n",
    "    if res not in memo.keys():\n",
    "        memo[res] = ((a+b)%K == 0 and (b+c)%K == 0 and (c+a)%K == 0)\n",
    "\n",
    "    if memo[res]:\n",
    "        ans += 1\n",
    "        \n",
    "print(ans)"
   ]
  },
  {
   "cell_type": "markdown",
   "metadata": {},
   "source": [
    "再検討。a+b, b+c, c+a全てがKの倍数になるのは：\n",
    "- a,b,c全てがKの倍数のとき\n",
    "- 偶数の場合、a%K, b%K, c%KがK/2の倍数のとき"
   ]
  },
  {
   "cell_type": "code",
   "execution_count": 127,
   "metadata": {
    "ExecuteTime": {
     "end_time": "2020-06-27T04:18:32.809156Z",
     "start_time": "2020-06-27T04:18:32.024522Z"
    }
   },
   "outputs": [
    {
     "name": "stdout",
     "output_type": "stream",
     "text": [
      "99999 199998\n"
     ]
    }
   ],
   "source": [
    "N, K = map(int, input().split())"
   ]
  },
  {
   "cell_type": "code",
   "execution_count": 135,
   "metadata": {
    "ExecuteTime": {
     "end_time": "2020-06-27T04:21:29.032567Z",
     "start_time": "2020-06-27T04:21:28.957086Z"
    }
   },
   "outputs": [
    {
     "ename": "IndexError",
     "evalue": "list index out of range",
     "output_type": "error",
     "traceback": [
      "\u001b[0;31m---------------------------------------------------------------------------\u001b[0m",
      "\u001b[0;31mIndexError\u001b[0m                                Traceback (most recent call last)",
      "\u001b[0;32m<ipython-input-135-59118cac7b01>\u001b[0m in \u001b[0;36m<module>\u001b[0;34m\u001b[0m\n\u001b[1;32m      7\u001b[0m \u001b[0;34m\u001b[0m\u001b[0m\n\u001b[1;32m      8\u001b[0m     \u001b[0;32mif\u001b[0m \u001b[0mK\u001b[0m\u001b[0;34m//\u001b[0m\u001b[0;36m2\u001b[0m \u001b[0;34m<=\u001b[0m \u001b[0mN\u001b[0m\u001b[0;34m:\u001b[0m\u001b[0;34m\u001b[0m\u001b[0;34m\u001b[0m\u001b[0m\n\u001b[0;32m----> 9\u001b[0;31m         \u001b[0mans\u001b[0m \u001b[0;34m+=\u001b[0m \u001b[0mres_sort\u001b[0m\u001b[0;34m[\u001b[0m\u001b[0mK\u001b[0m\u001b[0;34m//\u001b[0m\u001b[0;36m2\u001b[0m\u001b[0;34m]\u001b[0m\u001b[0;34m[\u001b[0m\u001b[0;36m1\u001b[0m\u001b[0;34m]\u001b[0m\u001b[0;34m**\u001b[0m\u001b[0;36m3\u001b[0m\u001b[0;34m\u001b[0m\u001b[0;34m\u001b[0m\u001b[0m\n\u001b[0m\u001b[1;32m     10\u001b[0m \u001b[0;34m\u001b[0m\u001b[0m\n\u001b[1;32m     11\u001b[0m     \u001b[0;32melif\u001b[0m \u001b[0mN\u001b[0m \u001b[0;34m<\u001b[0m \u001b[0mK\u001b[0m\u001b[0;34m:\u001b[0m\u001b[0;34m\u001b[0m\u001b[0;34m\u001b[0m\u001b[0m\n",
      "\u001b[0;31mIndexError\u001b[0m: list index out of range"
     ]
    }
   ],
   "source": [
    "from collections import Counter\n",
    "res = [x%K for x in range(1, N+1)]\n",
    "res_sort = sorted(zip(Counter(res).keys(), Counter(res).values()))\n",
    "\n",
    "if K%2==0:\n",
    "    ans = res_sort[0][1]**3\n",
    "    \n",
    "    if K//2 <= N:\n",
    "        ans += res_sort[K//2][1]**3\n",
    "        \n",
    "    elif N < K:\n",
    "        ans = 0\n",
    "else:\n",
    "    if N < K:\n",
    "        ans = 0\n",
    "    else:\n",
    "        ans = res_sort[0][1]**3\n",
    "\n",
    "print(ans)"
   ]
  },
  {
   "cell_type": "markdown",
   "metadata": {},
   "source": [
    "## D（）"
   ]
  },
  {
   "cell_type": "markdown",
   "metadata": {},
   "source": [
    "https://atcoder.jp/contests/abc108/tasks/abc108_d"
   ]
  }
 ],
 "metadata": {
  "kernelspec": {
   "display_name": "Python 3",
   "language": "python",
   "name": "python3"
  },
  "language_info": {
   "codemirror_mode": {
    "name": "ipython",
    "version": 3
   },
   "file_extension": ".py",
   "mimetype": "text/x-python",
   "name": "python",
   "nbconvert_exporter": "python",
   "pygments_lexer": "ipython3",
   "version": "3.7.6"
  },
  "toc": {
   "base_numbering": 1,
   "nav_menu": {},
   "number_sections": true,
   "sideBar": true,
   "skip_h1_title": true,
   "title_cell": "Table of Contents",
   "title_sidebar": "Contents",
   "toc_cell": false,
   "toc_position": {},
   "toc_section_display": true,
   "toc_window_display": false
  }
 },
 "nbformat": 4,
 "nbformat_minor": 4
}
