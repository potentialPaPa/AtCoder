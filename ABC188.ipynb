{
 "cells": [
  {
   "cell_type": "markdown",
   "metadata": {},
   "source": [
    "# AtCoder Beginner Contest 188"
   ]
  },
  {
   "cell_type": "markdown",
   "metadata": {},
   "source": [
    "Created on January 10, 2021  "
   ]
  },
  {
   "cell_type": "markdown",
   "metadata": {},
   "source": [
    "https://atcoder.jp/contests/abc188"
   ]
  },
  {
   "cell_type": "markdown",
   "metadata": {},
   "source": [
    "## A（AC）"
   ]
  },
  {
   "cell_type": "markdown",
   "metadata": {},
   "source": [
    "https://atcoder.jp/contests/abc188/tasks/abc188_a"
   ]
  },
  {
   "cell_type": "code",
   "execution_count": 3,
   "metadata": {
    "ExecuteTime": {
     "end_time": "2021-01-10T12:01:19.592159Z",
     "start_time": "2021-01-10T12:01:16.384037Z"
    }
   },
   "outputs": [
    {
     "name": "stdout",
     "output_type": "stream",
     "text": [
      "3 5\n",
      "Yes\n"
     ]
    }
   ],
   "source": [
    "X,Y = map(int, input().split())\n",
    "if min(X,Y)+3 > max(X,Y):\n",
    "    print('Yes')\n",
    "else:\n",
    "    print('No')"
   ]
  },
  {
   "cell_type": "markdown",
   "metadata": {},
   "source": [
    "## B（AC）"
   ]
  },
  {
   "cell_type": "markdown",
   "metadata": {},
   "source": [
    "https://atcoder.jp/contests/abc188/tasks/abc188_b"
   ]
  },
  {
   "cell_type": "code",
   "execution_count": 10,
   "metadata": {
    "ExecuteTime": {
     "end_time": "2021-01-10T12:03:30.771773Z",
     "start_time": "2021-01-10T12:03:26.415865Z"
    }
   },
   "outputs": [
    {
     "name": "stdout",
     "output_type": "stream",
     "text": [
      "3\n",
      "1 3 5\n",
      "3 -6 3\n"
     ]
    }
   ],
   "source": [
    "N = int(input())\n",
    "A = list(map(int, input().split()))\n",
    "B = list(map(int, input().split()))"
   ]
  },
  {
   "cell_type": "code",
   "execution_count": 11,
   "metadata": {
    "ExecuteTime": {
     "end_time": "2021-01-10T12:03:31.035960Z",
     "start_time": "2021-01-10T12:03:31.022935Z"
    }
   },
   "outputs": [
    {
     "name": "stdout",
     "output_type": "stream",
     "text": [
      "Yes\n"
     ]
    }
   ],
   "source": [
    "ans = 0\n",
    "for i in range(N):\n",
    "    ans += A[i]*B[i]\n",
    "    \n",
    "if ans==0:\n",
    "    print('Yes')\n",
    "else:\n",
    "    print('No')"
   ]
  },
  {
   "cell_type": "markdown",
   "metadata": {},
   "source": [
    "## C（AC）"
   ]
  },
  {
   "cell_type": "markdown",
   "metadata": {},
   "source": [
    "https://atcoder.jp/contests/abc188/tasks/abc188_c"
   ]
  },
  {
   "cell_type": "code",
   "execution_count": 62,
   "metadata": {
    "ExecuteTime": {
     "end_time": "2021-01-10T12:34:33.367597Z",
     "start_time": "2021-01-10T12:34:31.514157Z"
    }
   },
   "outputs": [
    {
     "name": "stdout",
     "output_type": "stream",
     "text": [
      "2\n",
      "3 1 5 4\n"
     ]
    }
   ],
   "source": [
    "N = int(input())\n",
    "A = list(map(int, input().split()))"
   ]
  },
  {
   "cell_type": "code",
   "execution_count": 63,
   "metadata": {
    "ExecuteTime": {
     "end_time": "2021-01-10T12:34:33.567810Z",
     "start_time": "2021-01-10T12:34:33.550925Z"
    }
   },
   "outputs": [
    {
     "name": "stdout",
     "output_type": "stream",
     "text": [
      "1\n"
     ]
    }
   ],
   "source": [
    "senshu = dict(zip(range(1, 2**N+1), A))\n",
    "\n",
    "for i in range(1, N):\n",
    "    senshu_win = list(senshu.keys())\n",
    "    \n",
    "    for j in range(1, 2**(N-i)+1):\n",
    "        if senshu[senshu_win[2*j-2]] > senshu[senshu_win[2*j-1]]:\n",
    "            del senshu[senshu_win[2*j-1]]\n",
    "        else:\n",
    "            del senshu[senshu_win[2*j-2]]\n",
    "        \n",
    "print(min(senshu.items(), key=lambda x: x[1])[0])"
   ]
  },
  {
   "cell_type": "markdown",
   "metadata": {},
   "source": [
    "## D（AC）"
   ]
  },
  {
   "cell_type": "markdown",
   "metadata": {},
   "source": [
    "https://atcoder.jp/contests/abc188/tasks/abc188_d"
   ]
  },
  {
   "cell_type": "code",
   "execution_count": 1,
   "metadata": {
    "ExecuteTime": {
     "end_time": "2021-01-10T12:57:16.208139Z",
     "start_time": "2021-01-10T12:57:16.092590Z"
    }
   },
   "outputs": [
    {
     "data": {
      "application/vnd.jupyter.widget-view+json": {
       "model_id": "3f2eef3717834107aaff2aaa96c0ab25",
       "version_major": 2,
       "version_minor": 0
      },
      "text/plain": [
       "Textarea(value='')"
      ]
     },
     "metadata": {},
     "output_type": "display_data"
    }
   ],
   "source": [
    "from ipywidgets import Textarea\n",
    "import io\n",
    "\n",
    "if 'open' in globals():\n",
    "    del open\n",
    "original_open = open\n",
    "class custom_open():\n",
    "    def __init__(self):\n",
    "        self.text = ''\n",
    "    def __call__(self, file, *args, **kwargs):\n",
    "        if file == 0:\n",
    "            return io.StringIO(self.text)\n",
    "        return original_open(file, *args, **kwargs)\n",
    "    def updater(self, change):\n",
    "        self.text = change[\"new\"]\n",
    "open = custom_open()\n",
    "text_area = Textarea()\n",
    "text_area.observe(open.updater, names='value')\n",
    "display(text_area)"
   ]
  },
  {
   "cell_type": "code",
   "execution_count": 79,
   "metadata": {
    "ExecuteTime": {
     "end_time": "2021-01-10T13:30:59.366698Z",
     "start_time": "2021-01-10T13:30:59.358614Z"
    }
   },
   "outputs": [],
   "source": [
    "[N,C],*abc = [list(map(int, s.split())) for s in open(0).readlines()]\n",
    "max_b = max([x[1] for x in abc])"
   ]
  },
  {
   "cell_type": "code",
   "execution_count": 80,
   "metadata": {
    "ExecuteTime": {
     "end_time": "2021-01-10T13:30:59.478770Z",
     "start_time": "2021-01-10T13:30:59.458204Z"
    }
   },
   "outputs": [
    {
     "name": "stdout",
     "output_type": "stream",
     "text": [
      "88206004785464\n"
     ]
    }
   ],
   "source": [
    "cum_dict = {}\n",
    "\n",
    "for [a,b,c] in abc:\n",
    "    if a not in cum_dict.keys():\n",
    "        cum_dict[a] = 0\n",
    "    cum_dict[a] += c\n",
    "    \n",
    "    if b+1 not in cum_dict.keys():\n",
    "        cum_dict[b+1] = 0\n",
    "    cum_dict[b+1] -= c\n",
    "\n",
    "ans = 0\n",
    "now_c = 0\n",
    "len_cum = len(cum_dict)\n",
    "cum_sort = sorted(cum_dict.keys())\n",
    "\n",
    "for n,i in enumerate(range(len_cum)):\n",
    "    if n==len_cum-1:\n",
    "        break\n",
    "    now_c += cum_dict[cum_sort[i]]\n",
    "    if now_c > C:\n",
    "        ans += C*(cum_sort[i+1]-cum_sort[i])\n",
    "    else:\n",
    "        ans += now_c*(cum_sort[i+1]-cum_sort[i])\n",
    "    prev = i\n",
    "    \n",
    "print(ans)"
   ]
  },
  {
   "cell_type": "markdown",
   "metadata": {},
   "source": [
    "【これではTLEになる】"
   ]
  },
  {
   "cell_type": "code",
   "execution_count": 3,
   "metadata": {
    "ExecuteTime": {
     "end_time": "2021-01-10T12:57:21.598807Z",
     "start_time": "2021-01-10T12:57:21.585854Z"
    }
   },
   "outputs": [
    {
     "name": "stdout",
     "output_type": "stream",
     "text": [
      "10\n"
     ]
    }
   ],
   "source": [
    "from itertools import accumulate\n",
    "\n",
    "cum_dict = dict(zip(range(1,max_b+2), [0]*(max_b+1)))\n",
    "for [a,b,c] in abc:\n",
    "    cum_dict[a] += c\n",
    "    cum_dict[b+1] -= c\n",
    "    \n",
    "cum = list(accumulate(cum_dict.values()))\n",
    "\n",
    "print(sum([x if x < C else C for x in cum]))"
   ]
  },
  {
   "cell_type": "code",
   "execution_count": null,
   "metadata": {},
   "outputs": [],
   "source": []
  }
 ],
 "metadata": {
  "kernelspec": {
   "display_name": "Python 3",
   "language": "python",
   "name": "python3"
  },
  "language_info": {
   "codemirror_mode": {
    "name": "ipython",
    "version": 3
   },
   "file_extension": ".py",
   "mimetype": "text/x-python",
   "name": "python",
   "nbconvert_exporter": "python",
   "pygments_lexer": "ipython3",
   "version": "3.7.6"
  },
  "toc": {
   "base_numbering": 1,
   "nav_menu": {},
   "number_sections": true,
   "sideBar": true,
   "skip_h1_title": true,
   "title_cell": "Table of Contents",
   "title_sidebar": "Contents",
   "toc_cell": false,
   "toc_position": {},
   "toc_section_display": true,
   "toc_window_display": false
  }
 },
 "nbformat": 4,
 "nbformat_minor": 4
}
