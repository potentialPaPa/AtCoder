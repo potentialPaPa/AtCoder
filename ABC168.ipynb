{
 "cells": [
  {
   "cell_type": "markdown",
   "metadata": {},
   "source": [
    "# AtCoder Beginner Contest 168"
   ]
  },
  {
   "cell_type": "markdown",
   "metadata": {},
   "source": [
    "Created on May 17, 2020"
   ]
  },
  {
   "cell_type": "markdown",
   "metadata": {},
   "source": [
    "https://atcoder.jp/contests/abc168"
   ]
  },
  {
   "cell_type": "markdown",
   "metadata": {},
   "source": [
    "## A（AC）"
   ]
  },
  {
   "cell_type": "markdown",
   "metadata": {},
   "source": [
    "https://atcoder.jp/contests/abc168/tasks/abc168_a"
   ]
  },
  {
   "cell_type": "code",
   "execution_count": 10,
   "metadata": {},
   "outputs": [
    {
     "name": "stdout",
     "output_type": "stream",
     "text": [
      "183\n"
     ]
    }
   ],
   "source": [
    "N = int(input())"
   ]
  },
  {
   "cell_type": "code",
   "execution_count": 11,
   "metadata": {},
   "outputs": [
    {
     "name": "stdout",
     "output_type": "stream",
     "text": [
      "bon\n"
     ]
    }
   ],
   "source": [
    "if N%10 in [2,4,5,7,9]:\n",
    "    print('hon')\n",
    "elif N%10 in [0,1,6,8]:\n",
    "    print('pon')\n",
    "else:\n",
    "    print('bon')"
   ]
  },
  {
   "cell_type": "markdown",
   "metadata": {},
   "source": [
    "## B（AC）"
   ]
  },
  {
   "cell_type": "markdown",
   "metadata": {},
   "source": [
    "https://atcoder.jp/contests/abc168/tasks/abc168_b"
   ]
  },
  {
   "cell_type": "code",
   "execution_count": 17,
   "metadata": {},
   "outputs": [
    {
     "name": "stdout",
     "output_type": "stream",
     "text": [
      "40\n",
      "ferelibenterhominesidquodvoluntcredunt\n"
     ]
    }
   ],
   "source": [
    "K = int(input())\n",
    "S = input()"
   ]
  },
  {
   "cell_type": "code",
   "execution_count": 18,
   "metadata": {},
   "outputs": [
    {
     "name": "stdout",
     "output_type": "stream",
     "text": [
      "ferelibenterhominesidquodvoluntcredunt\n"
     ]
    }
   ],
   "source": [
    "if len(S) <= K:\n",
    "    print(S)\n",
    "else:\n",
    "    print(S[:K] + '...')"
   ]
  },
  {
   "cell_type": "markdown",
   "metadata": {},
   "source": [
    "## C（AC）"
   ]
  },
  {
   "cell_type": "markdown",
   "metadata": {},
   "source": [
    "https://atcoder.jp/contests/abc168/tasks/abc168_c"
   ]
  },
  {
   "cell_type": "code",
   "execution_count": 33,
   "metadata": {},
   "outputs": [
    {
     "name": "stdout",
     "output_type": "stream",
     "text": [
      "3 4 10 40\n"
     ]
    }
   ],
   "source": [
    "A, B, H, M = map(int, input().split())"
   ]
  },
  {
   "cell_type": "code",
   "execution_count": 34,
   "metadata": {},
   "outputs": [],
   "source": [
    "import math\n",
    "import numpy as np\n",
    "\n",
    "t = H + M/60\n",
    "w_A = 2 * math.pi / 12 * t\n",
    "w_B = 2 * math.pi * t\n",
    "\n",
    "x_A = A * math.cos(w_A)\n",
    "y_A = A * math.sin(w_A)\n",
    "\n",
    "x_B = B * math.cos(w_B)\n",
    "y_B = B * math.sin(w_B)"
   ]
  },
  {
   "cell_type": "code",
   "execution_count": 35,
   "metadata": {},
   "outputs": [
    {
     "name": "stdout",
     "output_type": "stream",
     "text": [
      "4.564257194330072\n"
     ]
    }
   ],
   "source": [
    "xy_A = np.array([x_A, y_A])\n",
    "xy_B = np.array([x_B, y_B])\n",
    "\n",
    "u = xy_A - xy_B\n",
    "\n",
    "print(np.linalg.norm(u))"
   ]
  },
  {
   "cell_type": "markdown",
   "metadata": {},
   "source": [
    "## D（復習）"
   ]
  },
  {
   "cell_type": "markdown",
   "metadata": {},
   "source": [
    "https://atcoder.jp/contests/abc168/tasks/abc168_d"
   ]
  },
  {
   "cell_type": "code",
   "execution_count": 1,
   "metadata": {},
   "outputs": [
    {
     "data": {
      "application/vnd.jupyter.widget-view+json": {
       "model_id": "c1b6c6dfeb67484995ead3121ec393f8",
       "version_major": 2,
       "version_minor": 0
      },
      "text/plain": [
       "Textarea(value='')"
      ]
     },
     "metadata": {},
     "output_type": "display_data"
    }
   ],
   "source": [
    "from ipywidgets import Textarea\n",
    "import io\n",
    "\n",
    "if 'open' in globals():\n",
    "    del open\n",
    "original_open = open\n",
    "\n",
    "class custom_open():\n",
    "    def __init__(self):\n",
    "        self.text = ''\n",
    "\n",
    "    def __call__(self, file, *args, **kwargs):\n",
    "        if file == 0:\n",
    "            return io.StringIO(self.text)\n",
    "        return original_open(file, *args, **kwargs)\n",
    "\n",
    "    def updater(self, change):\n",
    "        self.text = change[\"new\"]\n",
    "\n",
    "open = custom_open()\n",
    "text_area = Textarea()\n",
    "text_area.observe(open.updater, names='value')\n",
    "display(text_area)"
   ]
  },
  {
   "cell_type": "code",
   "execution_count": 2,
   "metadata": {},
   "outputs": [],
   "source": [
    "N, M, *AB = map(int, open(0).read().split())"
   ]
  },
  {
   "cell_type": "code",
   "execution_count": 3,
   "metadata": {},
   "outputs": [],
   "source": [
    "graph = [[] for _ in range(N + 1)]\n",
    "for a, b in zip(*[iter(AB)] * 2):\n",
    "    graph[a].append(b)\n",
    "    graph[b].append(a)"
   ]
  },
  {
   "cell_type": "code",
   "execution_count": 4,
   "metadata": {},
   "outputs": [
    {
     "name": "stdout",
     "output_type": "stream",
     "text": [
      "Yes\n",
      "6\n",
      "5\n",
      "6\n",
      "1\n",
      "1\n"
     ]
    }
   ],
   "source": [
    "# bfs\n",
    "from collections import deque\n",
    " \n",
    "queue = deque([1])\n",
    "numsigns = [0] * (N + 1) # ←なるほど、0行および0列は定義するが使わないということか\n",
    "numsigns[1] = 1\n",
    " \n",
    "while queue:\n",
    "    p = queue.popleft() # ←現在地\n",
    "    for nxt in graph[p]: # ←現在地がつながっているところを探索\n",
    "        if not numsigns[nxt]: # ←印が付いていなかったら\n",
    "            numsigns[nxt] = p\n",
    "            queue.append(nxt)\n",
    "\n",
    "print('Yes')\n",
    "print(*numsigns[2:], sep='\\n')"
   ]
  }
 ],
 "metadata": {
  "kernelspec": {
   "display_name": "Python 3",
   "language": "python",
   "name": "python3"
  },
  "language_info": {
   "codemirror_mode": {
    "name": "ipython",
    "version": 3
   },
   "file_extension": ".py",
   "mimetype": "text/x-python",
   "name": "python",
   "nbconvert_exporter": "python",
   "pygments_lexer": "ipython3",
   "version": "3.7.6"
  }
 },
 "nbformat": 4,
 "nbformat_minor": 4
}
