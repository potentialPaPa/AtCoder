{
 "cells": [
  {
   "cell_type": "markdown",
   "metadata": {},
   "source": [
    "# AtCoder Beginner Contest 110"
   ]
  },
  {
   "cell_type": "markdown",
   "metadata": {},
   "source": [
    "Created on June 27, 2020  \n",
    "A-C: Over 30 minutes"
   ]
  },
  {
   "cell_type": "markdown",
   "metadata": {},
   "source": [
    "https://atcoder.jp/contests/abc110"
   ]
  },
  {
   "cell_type": "markdown",
   "metadata": {},
   "source": [
    "## A（AC、ただしWA 1回）"
   ]
  },
  {
   "cell_type": "markdown",
   "metadata": {},
   "source": [
    "- 問題文の理解不足が原因"
   ]
  },
  {
   "cell_type": "markdown",
   "metadata": {},
   "source": [
    "https://atcoder.jp/contests/abc110/tasks/abc110_a"
   ]
  },
  {
   "cell_type": "code",
   "execution_count": 15,
   "metadata": {
    "ExecuteTime": {
     "end_time": "2020-06-26T20:10:55.451334Z",
     "start_time": "2020-06-26T20:10:53.713280Z"
    }
   },
   "outputs": [
    {
     "name": "stdout",
     "output_type": "stream",
     "text": [
      "6 6 7\n"
     ]
    }
   ],
   "source": [
    "A, B, C = input().split()"
   ]
  },
  {
   "cell_type": "code",
   "execution_count": 18,
   "metadata": {
    "ExecuteTime": {
     "end_time": "2020-06-26T20:15:02.100918Z",
     "start_time": "2020-06-26T20:15:02.086277Z"
    }
   },
   "outputs": [
    {
     "name": "stdout",
     "output_type": "stream",
     "text": [
      "82\n"
     ]
    }
   ],
   "source": [
    "ans = []\n",
    "\n",
    "ans.append(int(A) + int(B+C))\n",
    "ans.append(int(A) + int(C+B))\n",
    "ans.append(int(B) + int(A+C))\n",
    "ans.append(int(B) + int(C+A))\n",
    "ans.append(int(C) + int(A+B))\n",
    "ans.append(int(C) + int(B+A))\n",
    "\n",
    "print(max(ans))"
   ]
  },
  {
   "cell_type": "markdown",
   "metadata": {},
   "source": [
    "## B（AC）"
   ]
  },
  {
   "cell_type": "markdown",
   "metadata": {},
   "source": [
    "https://atcoder.jp/contests/abc110/tasks/abc110_b"
   ]
  },
  {
   "cell_type": "code",
   "execution_count": 41,
   "metadata": {
    "ExecuteTime": {
     "end_time": "2020-06-26T20:23:47.107870Z",
     "start_time": "2020-06-26T20:23:41.024456Z"
    }
   },
   "outputs": [
    {
     "name": "stdout",
     "output_type": "stream",
     "text": [
      "5 3 6 8\n",
      "-10 3 1 5 -100\n",
      "100 6 14\n"
     ]
    }
   ],
   "source": [
    "N, M, X, Y = map(int, input().split())\n",
    "x_list = list(map(int, input().split()))\n",
    "y_list = list(map(int, input().split()))"
   ]
  },
  {
   "cell_type": "code",
   "execution_count": 42,
   "metadata": {
    "ExecuteTime": {
     "end_time": "2020-06-26T20:23:47.458369Z",
     "start_time": "2020-06-26T20:23:47.444056Z"
    }
   },
   "outputs": [
    {
     "name": "stdout",
     "output_type": "stream",
     "text": [
      "War\n"
     ]
    }
   ],
   "source": [
    "is_war = True\n",
    "\n",
    "import numpy as np\n",
    "\n",
    "for Z in range(X+1, Y+1):\n",
    "    if np.all(np.array(x_list) < Z) and np.all(np.array(y_list) >= Z):\n",
    "        is_war = False\n",
    "        break\n",
    "    \n",
    "if is_war:\n",
    "    print(\"War\")\n",
    "else:\n",
    "    print(\"No War\")"
   ]
  },
  {
   "cell_type": "markdown",
   "metadata": {},
   "source": [
    "## C（AC）"
   ]
  },
  {
   "cell_type": "markdown",
   "metadata": {},
   "source": [
    "変換可能な場合の特徴を発見したつもりだが、模範解答は要確認"
   ]
  },
  {
   "cell_type": "markdown",
   "metadata": {},
   "source": [
    "https://atcoder.jp/contests/abc110/tasks/abc110_c"
   ]
  },
  {
   "cell_type": "markdown",
   "metadata": {},
   "source": [
    "- 最初に同一文字が複数個あった場合は、操作によってそれぞれ異なる文字に変換はできない\n",
    "- 裏を返すと、文字のかぶり方が同じであれば、変換可能  \n",
    "ex) aaabbc → xxxyyz は可能"
   ]
  },
  {
   "cell_type": "code",
   "execution_count": 76,
   "metadata": {
    "ExecuteTime": {
     "end_time": "2020-06-26T20:49:09.756865Z",
     "start_time": "2020-06-26T20:49:05.399733Z"
    }
   },
   "outputs": [
    {
     "name": "stdout",
     "output_type": "stream",
     "text": [
      "abcdefghijklmnopqrstuvwxyz\n",
      "ibyhqfrekavclxjstdwgpzmonu\n"
     ]
    }
   ],
   "source": [
    "S = input()\n",
    "T = input()"
   ]
  },
  {
   "cell_type": "code",
   "execution_count": 77,
   "metadata": {
    "ExecuteTime": {
     "end_time": "2020-06-26T20:49:10.028629Z",
     "start_time": "2020-06-26T20:49:10.020519Z"
    }
   },
   "outputs": [
    {
     "name": "stdout",
     "output_type": "stream",
     "text": [
      "Yes\n"
     ]
    }
   ],
   "source": [
    "from collections import Counter\n",
    "\n",
    "S_sorted = sorted(Counter(S).values(), reverse = True)\n",
    "T_sorted = sorted(Counter(T).values(), reverse = True)\n",
    "\n",
    "if S_sorted == T_sorted:\n",
    "    print(\"Yes\")\n",
    "else:\n",
    "    print(\"No\")"
   ]
  },
  {
   "cell_type": "markdown",
   "metadata": {},
   "source": [
    "## D（）"
   ]
  },
  {
   "cell_type": "markdown",
   "metadata": {},
   "source": [
    "https://atcoder.jp/contests/abc110/tasks/abc110_d"
   ]
  }
 ],
 "metadata": {
  "kernelspec": {
   "display_name": "Python 3",
   "language": "python",
   "name": "python3"
  },
  "language_info": {
   "codemirror_mode": {
    "name": "ipython",
    "version": 3
   },
   "file_extension": ".py",
   "mimetype": "text/x-python",
   "name": "python",
   "nbconvert_exporter": "python",
   "pygments_lexer": "ipython3",
   "version": "3.7.6"
  },
  "toc": {
   "base_numbering": 1,
   "nav_menu": {},
   "number_sections": true,
   "sideBar": true,
   "skip_h1_title": true,
   "title_cell": "Table of Contents",
   "title_sidebar": "Contents",
   "toc_cell": false,
   "toc_position": {},
   "toc_section_display": true,
   "toc_window_display": false
  }
 },
 "nbformat": 4,
 "nbformat_minor": 4
}
