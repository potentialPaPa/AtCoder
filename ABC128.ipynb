{
 "cells": [
  {
   "cell_type": "markdown",
   "metadata": {},
   "source": [
    "# AtCoder Beginner Contest 128"
   ]
  },
  {
   "cell_type": "markdown",
   "metadata": {},
   "source": [
    "Created on June 10 & 11, 2020  \n",
    "30 minutes exercise at night & morning."
   ]
  },
  {
   "cell_type": "markdown",
   "metadata": {},
   "source": [
    "https://atcoder.jp/contests/abc128"
   ]
  },
  {
   "cell_type": "markdown",
   "metadata": {},
   "source": [
    "## A（AC）"
   ]
  },
  {
   "cell_type": "markdown",
   "metadata": {},
   "source": [
    "https://atcoder.jp/contests/abc128/tasks/abc128_a"
   ]
  },
  {
   "cell_type": "code",
   "execution_count": 6,
   "metadata": {
    "ExecuteTime": {
     "end_time": "2020-06-10T13:58:48.130384Z",
     "start_time": "2020-06-10T13:58:46.738863Z"
    }
   },
   "outputs": [
    {
     "name": "stdout",
     "output_type": "stream",
     "text": [
      "32 21\n"
     ]
    }
   ],
   "source": [
    "A, P = map(int, input().split())"
   ]
  },
  {
   "cell_type": "code",
   "execution_count": 7,
   "metadata": {
    "ExecuteTime": {
     "end_time": "2020-06-10T13:58:48.422721Z",
     "start_time": "2020-06-10T13:58:48.409896Z"
    }
   },
   "outputs": [
    {
     "name": "stdout",
     "output_type": "stream",
     "text": [
      "58\n"
     ]
    }
   ],
   "source": [
    "import math\n",
    "print(math.floor((3*A + P)/2))"
   ]
  },
  {
   "cell_type": "markdown",
   "metadata": {},
   "source": [
    "## B（AC）"
   ]
  },
  {
   "cell_type": "markdown",
   "metadata": {},
   "source": [
    "https://atcoder.jp/contests/abc128/tasks/abc128_b"
   ]
  },
  {
   "cell_type": "code",
   "execution_count": 8,
   "metadata": {
    "ExecuteTime": {
     "end_time": "2020-06-10T13:59:21.122752Z",
     "start_time": "2020-06-10T13:59:21.014679Z"
    }
   },
   "outputs": [
    {
     "data": {
      "application/vnd.jupyter.widget-view+json": {
       "model_id": "719a1490cf044fd2918ea1e84d7472ae",
       "version_major": 2,
       "version_minor": 0
      },
      "text/plain": [
       "Textarea(value='')"
      ]
     },
     "metadata": {},
     "output_type": "display_data"
    }
   ],
   "source": [
    "from ipywidgets import Textarea\n",
    "import io\n",
    "\n",
    "if 'open' in globals():\n",
    "    del open\n",
    "original_open = open\n",
    "class custom_open():\n",
    "    def __init__(self):\n",
    "        self.text = ''\n",
    "    def __call__(self, file, *args, **kwargs):\n",
    "        if file == 0:\n",
    "            return io.StringIO(self.text)\n",
    "        return original_open(file, *args, **kwargs)\n",
    "    def updater(self, change):\n",
    "        self.text = change[\"new\"]\n",
    "open = custom_open()\n",
    "text_area = Textarea()\n",
    "text_area.observe(open.updater, names='value')\n",
    "display(text_area)"
   ]
  },
  {
   "cell_type": "markdown",
   "metadata": {},
   "source": [
    "- REの解（pandasは使えないらしい）"
   ]
  },
  {
   "cell_type": "code",
   "execution_count": 56,
   "metadata": {
    "ExecuteTime": {
     "end_time": "2020-06-10T14:19:53.070712Z",
     "start_time": "2020-06-10T14:19:53.063720Z"
    }
   },
   "outputs": [],
   "source": [
    "_N, *_SP = open(0).read().split()\n",
    "N = int(_N)"
   ]
  },
  {
   "cell_type": "code",
   "execution_count": 57,
   "metadata": {
    "ExecuteTime": {
     "end_time": "2020-06-10T14:19:53.376695Z",
     "start_time": "2020-06-10T14:19:53.368739Z"
    }
   },
   "outputs": [],
   "source": [
    "S = {}\n",
    "P = {}\n",
    "\n",
    "for i in range(N):\n",
    "    S[i+1] = _SP[2*i]\n",
    "    P[i+1] = int(_SP[2*i+1])"
   ]
  },
  {
   "cell_type": "code",
   "execution_count": 58,
   "metadata": {
    "ExecuteTime": {
     "end_time": "2020-06-10T14:19:53.659281Z",
     "start_time": "2020-06-10T14:19:53.632724Z"
    }
   },
   "outputs": [
    {
     "name": "stdout",
     "output_type": "stream",
     "text": [
      "10\n",
      "9\n",
      "8\n",
      "7\n",
      "6\n",
      "5\n",
      "4\n",
      "3\n",
      "2\n",
      "1\n"
     ]
    }
   ],
   "source": [
    "import pandas as pd\n",
    "\n",
    "S_df = pd.DataFrame(S.values(), index=S.keys(), columns=[\"name\"])\n",
    "P_df = pd.DataFrame(P.values(), index=P.keys(), columns=[\"point\"])\n",
    "\n",
    "df = pd.concat([S_df, P_df], axis=1)\n",
    "print(*list(df.sort_values(['name', 'point'], ascending=[True, False]).index), sep=\"\\n\")"
   ]
  },
  {
   "cell_type": "markdown",
   "metadata": {},
   "source": [
    "- 再検討"
   ]
  },
  {
   "cell_type": "code",
   "execution_count": 75,
   "metadata": {
    "ExecuteTime": {
     "end_time": "2020-06-10T14:28:25.856086Z",
     "start_time": "2020-06-10T14:28:25.848800Z"
    }
   },
   "outputs": [],
   "source": [
    "_N, *_SP = open(0).read().split()\n",
    "N = int(_N)"
   ]
  },
  {
   "cell_type": "code",
   "execution_count": 86,
   "metadata": {
    "ExecuteTime": {
     "end_time": "2020-06-10T14:31:24.933685Z",
     "start_time": "2020-06-10T14:31:24.924906Z"
    }
   },
   "outputs": [],
   "source": [
    "SP = {}\n",
    "\n",
    "for i in range(N):\n",
    "    SP[i+1] = [_SP[2*i], int(_SP[2*i+1])]"
   ]
  },
  {
   "cell_type": "code",
   "execution_count": 85,
   "metadata": {
    "ExecuteTime": {
     "end_time": "2020-06-10T14:30:56.113104Z",
     "start_time": "2020-06-10T14:30:56.098418Z"
    }
   },
   "outputs": [
    {
     "name": "stdout",
     "output_type": "stream",
     "text": [
      "3\n",
      "4\n",
      "6\n",
      "1\n",
      "5\n",
      "2\n"
     ]
    }
   ],
   "source": [
    "sorted_by_P = sorted(SP.items(), key = lambda x: x[1][1], reverse=True)\n",
    "sorted_by_S = sorted(sorted_by_P, key = lambda x: x[1][0])\n",
    "\n",
    "print(*[x[0] for x in sorted_by_S], sep=\"\\n\")"
   ]
  },
  {
   "cell_type": "markdown",
   "metadata": {},
   "source": [
    "## C（AC）"
   ]
  },
  {
   "cell_type": "markdown",
   "metadata": {},
   "source": [
    "https://atcoder.jp/contests/abc128/tasks/abc128_c"
   ]
  },
  {
   "cell_type": "code",
   "execution_count": 155,
   "metadata": {
    "ExecuteTime": {
     "end_time": "2020-06-11T21:05:47.689581Z",
     "start_time": "2020-06-11T21:05:35.975845Z"
    }
   },
   "outputs": [
    {
     "name": "stdout",
     "output_type": "stream",
     "text": [
      "5 2\n",
      "3 1 2 5\n",
      "2 2 3\n",
      "1 0\n"
     ]
    }
   ],
   "source": [
    "N, M = map(int, input().split())\n",
    "\n",
    "s = []\n",
    "for i in range(M):\n",
    "    _, *tmp_s = map(int, input().split())\n",
    "    s.append(tmp_s)\n",
    "    \n",
    "p = list(map(int, input().split()))"
   ]
  },
  {
   "cell_type": "code",
   "execution_count": 161,
   "metadata": {
    "ExecuteTime": {
     "end_time": "2020-06-11T21:08:11.729873Z",
     "start_time": "2020-06-11T21:08:11.720860Z"
    }
   },
   "outputs": [],
   "source": [
    "import numpy as np\n",
    "\n",
    "s_matrix = []\n",
    "\n",
    "for i in range(M):\n",
    "    s_matrix.append([1 if x+1 in s[i] else 0 for x in range(N)])\n",
    "    \n",
    "s_matrix = np.array(s_matrix)"
   ]
  },
  {
   "cell_type": "code",
   "execution_count": 164,
   "metadata": {
    "ExecuteTime": {
     "end_time": "2020-06-11T21:15:48.636381Z",
     "start_time": "2020-06-11T21:15:48.619618Z"
    }
   },
   "outputs": [
    {
     "name": "stdout",
     "output_type": "stream",
     "text": [
      "8\n"
     ]
    }
   ],
   "source": [
    "ans = 0\n",
    "\n",
    "for i in range(2**N):\n",
    "    on_off_pattern = list(format(i, '0%db' %N))\n",
    "    on_nums = np.dot(s_matrix, np.array(list(map(int, on_off_pattern))))\n",
    "    on_nums_mod2 = on_nums % 2\n",
    "\n",
    "    if not False in (on_nums_mod2 == p):\n",
    "        ans += 1\n",
    "        \n",
    "print(ans)"
   ]
  },
  {
   "cell_type": "markdown",
   "metadata": {},
   "source": [
    "注意）　行列の積の演算子 @ は、Python3.5以降からとのこと。よって、ここではnp.dot()を用いた。"
   ]
  },
  {
   "cell_type": "markdown",
   "metadata": {},
   "source": [
    "## D（）"
   ]
  },
  {
   "cell_type": "markdown",
   "metadata": {},
   "source": [
    "https://atcoder.jp/contests/abc128/tasks/abc128_d"
   ]
  },
  {
   "cell_type": "markdown",
   "metadata": {},
   "source": [
    "## E（）"
   ]
  },
  {
   "cell_type": "markdown",
   "metadata": {},
   "source": [
    "https://atcoder.jp/contests/abc128/tasks/abc128_e"
   ]
  },
  {
   "cell_type": "markdown",
   "metadata": {},
   "source": [
    "## F（）"
   ]
  },
  {
   "cell_type": "markdown",
   "metadata": {},
   "source": [
    "https://atcoder.jp/contests/abc128/tasks/abc128_f"
   ]
  }
 ],
 "metadata": {
  "kernelspec": {
   "display_name": "Python 3",
   "language": "python",
   "name": "python3"
  },
  "language_info": {
   "codemirror_mode": {
    "name": "ipython",
    "version": 3
   },
   "file_extension": ".py",
   "mimetype": "text/x-python",
   "name": "python",
   "nbconvert_exporter": "python",
   "pygments_lexer": "ipython3",
   "version": "3.7.6"
  },
  "toc": {
   "base_numbering": 1,
   "nav_menu": {},
   "number_sections": true,
   "sideBar": true,
   "skip_h1_title": true,
   "title_cell": "Table of Contents",
   "title_sidebar": "Contents",
   "toc_cell": false,
   "toc_position": {},
   "toc_section_display": true,
   "toc_window_display": false
  }
 },
 "nbformat": 4,
 "nbformat_minor": 4
}
