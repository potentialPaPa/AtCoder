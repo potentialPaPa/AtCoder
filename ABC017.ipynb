{
 "cells": [
  {
   "cell_type": "markdown",
   "metadata": {},
   "source": [
    "# AtCoder Beginner Contest 017"
   ]
  },
  {
   "cell_type": "markdown",
   "metadata": {},
   "source": [
    "Created on December 08, 2020  "
   ]
  },
  {
   "cell_type": "markdown",
   "metadata": {},
   "source": [
    "https://atcoder.jp/contests/abc017"
   ]
  },
  {
   "cell_type": "markdown",
   "metadata": {},
   "source": [
    "## A（AC）"
   ]
  },
  {
   "cell_type": "markdown",
   "metadata": {},
   "source": [
    "https://atcoder.jp/contests/abc017/tasks/abc017_1"
   ]
  },
  {
   "cell_type": "code",
   "execution_count": 6,
   "metadata": {
    "ExecuteTime": {
     "end_time": "2020-12-07T22:21:31.731650Z",
     "start_time": "2020-12-07T22:21:25.715304Z"
    }
   },
   "outputs": [
    {
     "name": "stdout",
     "output_type": "stream",
     "text": [
      "990 10\n",
      "990 10\n",
      "990 10\n"
     ]
    }
   ],
   "source": [
    "S = []\n",
    "for i in range(3):\n",
    "    S.append(tuple(map(int, input().split())))"
   ]
  },
  {
   "cell_type": "code",
   "execution_count": 8,
   "metadata": {
    "ExecuteTime": {
     "end_time": "2020-12-07T22:21:44.535923Z",
     "start_time": "2020-12-07T22:21:44.527370Z"
    }
   },
   "outputs": [
    {
     "name": "stdout",
     "output_type": "stream",
     "text": [
      "2970\n"
     ]
    }
   ],
   "source": [
    "print(sum([s[0]*s[1]//10 for s in S]))"
   ]
  },
  {
   "cell_type": "markdown",
   "metadata": {},
   "source": [
    "## B（AC, WA*5）"
   ]
  },
  {
   "cell_type": "markdown",
   "metadata": {},
   "source": [
    "https://atcoder.jp/contests/abc017/tasks/abc017_2"
   ]
  },
  {
   "cell_type": "markdown",
   "metadata": {},
   "source": [
    "- cの直後がhであるかの判定\n",
    "- hの直前がcであるかの判定（←こちらが抜けており、WAを連発した）\n",
    "- あまりきれいな実装ではない。例えば、str.replace()を使って末尾から探索していく方法が考えられる。"
   ]
  },
  {
   "cell_type": "code",
   "execution_count": 39,
   "metadata": {
    "ExecuteTime": {
     "end_time": "2020-12-08T11:54:29.178290Z",
     "start_time": "2020-12-08T11:54:27.552606Z"
    }
   },
   "outputs": [
    {
     "name": "stdout",
     "output_type": "stream",
     "text": [
      "ch\n"
     ]
    }
   ],
   "source": [
    "X = input()"
   ]
  },
  {
   "cell_type": "code",
   "execution_count": 40,
   "metadata": {
    "ExecuteTime": {
     "end_time": "2020-12-08T11:54:29.362379Z",
     "start_time": "2020-12-08T11:54:29.345070Z"
    }
   },
   "outputs": [
    {
     "name": "stdout",
     "output_type": "stream",
     "text": [
      "YES\n"
     ]
    }
   ],
   "source": [
    "choku = set(['c', 'h', 'o', 'k', 'u'])\n",
    "\n",
    "is_c = False\n",
    "bfr = ''\n",
    "\n",
    "if X=='':\n",
    "    ans ='YES'\n",
    "else:\n",
    "    for s in X:\n",
    "        if s not in choku:\n",
    "            ans = 'NO'\n",
    "            break\n",
    "        else:\n",
    "            if is_c:\n",
    "                if s!='h':\n",
    "                    ans = 'NO'\n",
    "                    break\n",
    "                else:\n",
    "                    ans = 'YES'\n",
    "                    is_c = False\n",
    "            elif s == 'c':\n",
    "                is_c = True\n",
    "                ans = 'False'\n",
    "            elif s == 'h':\n",
    "                if bfr != 'c':\n",
    "                    ans = 'NO'\n",
    "                    break\n",
    "                else:\n",
    "                    ans = 'YES'\n",
    "            else:\n",
    "                ans = 'YES'\n",
    "                \n",
    "            bfr = s\n",
    "            \n",
    "print(ans)"
   ]
  },
  {
   "cell_type": "markdown",
   "metadata": {},
   "source": [
    "【問題文の解釈間違い】"
   ]
  },
  {
   "cell_type": "code",
   "execution_count": 14,
   "metadata": {
    "ExecuteTime": {
     "end_time": "2020-12-07T22:25:58.997197Z",
     "start_time": "2020-12-07T22:25:58.986032Z"
    }
   },
   "outputs": [
    {
     "name": "stdout",
     "output_type": "stream",
     "text": [
      "YES\n"
     ]
    }
   ],
   "source": [
    "R1 = X[-1]\n",
    "len_X = len(X)\n",
    "\n",
    "choku = set(['h','o','k','u'])\n",
    "\n",
    "ans = 'NO'\n",
    "\n",
    "if R1 in choku:\n",
    "    if R1=='h' and len_X != 1:\n",
    "        if R2 == 'c':\n",
    "            ans = 'YES'\n",
    "    else:\n",
    "        ans = 'YES'\n",
    "        \n",
    "print(ans)"
   ]
  },
  {
   "cell_type": "markdown",
   "metadata": {},
   "source": [
    "## C（）"
   ]
  },
  {
   "cell_type": "markdown",
   "metadata": {},
   "source": [
    "https://atcoder.jp/contests/abc017/tasks/abc017_3"
   ]
  },
  {
   "cell_type": "code",
   "execution_count": 41,
   "metadata": {
    "ExecuteTime": {
     "end_time": "2020-12-08T11:57:34.119902Z",
     "start_time": "2020-12-08T11:57:34.038725Z"
    }
   },
   "outputs": [
    {
     "data": {
      "application/vnd.jupyter.widget-view+json": {
       "model_id": "9edd4877592d4dff82d7f66f7921a1e8",
       "version_major": 2,
       "version_minor": 0
      },
      "text/plain": [
       "Textarea(value='')"
      ]
     },
     "metadata": {},
     "output_type": "display_data"
    }
   ],
   "source": [
    "from ipywidgets import Textarea\n",
    "import io\n",
    "\n",
    "if 'open' in globals():\n",
    "    del open\n",
    "original_open = open\n",
    "class custom_open():\n",
    "    def __init__(self):\n",
    "        self.text = ''\n",
    "    def __call__(self, file, *args, **kwargs):\n",
    "        if file == 0:\n",
    "            return io.StringIO(self.text)\n",
    "        return original_open(file, *args, **kwargs)\n",
    "    def updater(self, change):\n",
    "        self.text = change[\"new\"]\n",
    "open = custom_open()\n",
    "text_area = Textarea()\n",
    "text_area.observe(open.updater, names='value')\n",
    "display(text_area)"
   ]
  },
  {
   "cell_type": "code",
   "execution_count": 43,
   "metadata": {
    "ExecuteTime": {
     "end_time": "2020-12-08T11:58:09.333090Z",
     "start_time": "2020-12-08T11:58:09.326617Z"
    }
   },
   "outputs": [],
   "source": [
    "N,M,*lrs = map(int, open(0).read().split())"
   ]
  },
  {
   "cell_type": "code",
   "execution_count": 46,
   "metadata": {
    "ExecuteTime": {
     "end_time": "2020-12-08T11:58:57.257305Z",
     "start_time": "2020-12-08T11:58:57.250429Z"
    }
   },
   "outputs": [],
   "source": [
    "visited = dict(zip(range(1,N+1), [0]*N))"
   ]
  },
  {
   "cell_type": "code",
   "execution_count": 47,
   "metadata": {
    "ExecuteTime": {
     "end_time": "2020-12-08T11:59:00.525105Z",
     "start_time": "2020-12-08T11:59:00.513700Z"
    }
   },
   "outputs": [
    {
     "data": {
      "text/plain": [
       "{1: 0, 2: 0, 3: 0, 4: 0}"
      ]
     },
     "execution_count": 47,
     "metadata": {},
     "output_type": "execute_result"
    }
   ],
   "source": [
    "visited"
   ]
  },
  {
   "cell_type": "markdown",
   "metadata": {},
   "source": [
    "## D（）"
   ]
  },
  {
   "cell_type": "markdown",
   "metadata": {},
   "source": [
    "https://atcoder.jp/contests/abc017/tasks/abc017_4"
   ]
  },
  {
   "cell_type": "code",
   "execution_count": null,
   "metadata": {},
   "outputs": [],
   "source": []
  }
 ],
 "metadata": {
  "kernelspec": {
   "display_name": "Python 3",
   "language": "python",
   "name": "python3"
  },
  "language_info": {
   "codemirror_mode": {
    "name": "ipython",
    "version": 3
   },
   "file_extension": ".py",
   "mimetype": "text/x-python",
   "name": "python",
   "nbconvert_exporter": "python",
   "pygments_lexer": "ipython3",
   "version": "3.7.6"
  },
  "toc": {
   "base_numbering": 1,
   "nav_menu": {},
   "number_sections": true,
   "sideBar": true,
   "skip_h1_title": true,
   "title_cell": "Table of Contents",
   "title_sidebar": "Contents",
   "toc_cell": false,
   "toc_position": {},
   "toc_section_display": true,
   "toc_window_display": false
  }
 },
 "nbformat": 4,
 "nbformat_minor": 4
}
