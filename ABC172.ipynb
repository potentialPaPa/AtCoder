{
 "cells": [
  {
   "cell_type": "markdown",
   "metadata": {},
   "source": [
    "# AtCoder Beginner Contest 172"
   ]
  },
  {
   "cell_type": "markdown",
   "metadata": {},
   "source": [
    "Created on June 27, 2020  "
   ]
  },
  {
   "cell_type": "markdown",
   "metadata": {},
   "source": [
    "https://atcoder.jp/contests/abc172"
   ]
  },
  {
   "cell_type": "markdown",
   "metadata": {},
   "source": [
    "## A（AC）"
   ]
  },
  {
   "cell_type": "markdown",
   "metadata": {},
   "source": [
    "https://atcoder.jp/contests/abc172/tasks/abc172_a"
   ]
  },
  {
   "cell_type": "code",
   "execution_count": 5,
   "metadata": {
    "ExecuteTime": {
     "end_time": "2020-06-27T12:00:31.946408Z",
     "start_time": "2020-06-27T12:00:31.084107Z"
    }
   },
   "outputs": [
    {
     "name": "stdout",
     "output_type": "stream",
     "text": [
      "10\n"
     ]
    }
   ],
   "source": [
    "a = int(input())"
   ]
  },
  {
   "cell_type": "code",
   "execution_count": 6,
   "metadata": {
    "ExecuteTime": {
     "end_time": "2020-06-27T12:00:32.407963Z",
     "start_time": "2020-06-27T12:00:32.398574Z"
    }
   },
   "outputs": [
    {
     "name": "stdout",
     "output_type": "stream",
     "text": [
      "1110\n"
     ]
    }
   ],
   "source": [
    "print(a + a**2 + a**3)"
   ]
  },
  {
   "cell_type": "markdown",
   "metadata": {},
   "source": [
    "## B（AC）"
   ]
  },
  {
   "cell_type": "markdown",
   "metadata": {},
   "source": [
    "https://atcoder.jp/contests/abc172/tasks/abc172_b"
   ]
  },
  {
   "cell_type": "code",
   "execution_count": 18,
   "metadata": {
    "ExecuteTime": {
     "end_time": "2020-06-27T12:03:26.203648Z",
     "start_time": "2020-06-27T12:03:23.978702Z"
    }
   },
   "outputs": [
    {
     "name": "stdout",
     "output_type": "stream",
     "text": [
      "apple\n",
      "apple\n"
     ]
    }
   ],
   "source": [
    "S = list(input())\n",
    "T = list(input())"
   ]
  },
  {
   "cell_type": "code",
   "execution_count": 19,
   "metadata": {
    "ExecuteTime": {
     "end_time": "2020-06-27T12:03:26.499671Z",
     "start_time": "2020-06-27T12:03:26.490072Z"
    }
   },
   "outputs": [
    {
     "name": "stdout",
     "output_type": "stream",
     "text": [
      "0\n"
     ]
    }
   ],
   "source": [
    "print(sum([s!=t for s,t in zip(S,T)]))"
   ]
  },
  {
   "cell_type": "markdown",
   "metadata": {},
   "source": [
    "## C（解けず…RE, TLE）"
   ]
  },
  {
   "cell_type": "markdown",
   "metadata": {},
   "source": [
    "https://atcoder.jp/contests/abc172/tasks/abc172_c"
   ]
  },
  {
   "cell_type": "code",
   "execution_count": 18,
   "metadata": {
    "ExecuteTime": {
     "end_time": "2020-06-27T13:35:24.554414Z",
     "start_time": "2020-06-27T13:35:17.352890Z"
    }
   },
   "outputs": [
    {
     "name": "stdout",
     "output_type": "stream",
     "text": [
      "3 4 240\n",
      "60 90 120\n",
      "80 150 80 150\n"
     ]
    }
   ],
   "source": [
    "N, M, K = map(int, input().split())\n",
    "A = list(map(int, input().split()))\n",
    "B = list(map(int, input().split()))"
   ]
  },
  {
   "cell_type": "code",
   "execution_count": 19,
   "metadata": {
    "ExecuteTime": {
     "end_time": "2020-06-27T13:35:24.802463Z",
     "start_time": "2020-06-27T13:35:24.790704Z"
    }
   },
   "outputs": [],
   "source": [
    "sum_A = [0] * (N+1)\n",
    "mark_A = 0\n",
    "for i,a in enumerate(A, 1):\n",
    "    tmp =  sum_A[i-1] + a\n",
    "    if tmp <= K:\n",
    "        sum_A[i] = tmp\n",
    "        mark_A = i\n",
    "    else:\n",
    "        break\n",
    "\n",
    "sum_B = [0] * (M+1)\n",
    "mark_B = 0\n",
    "for i,b in enumerate(B, 1):\n",
    "    tmp = sum_B[i-1] + b\n",
    "    if tmp <= K:\n",
    "        sum_B[i] = tmp\n",
    "        mark_B = i\n",
    "    else:\n",
    "        break"
   ]
  },
  {
   "cell_type": "code",
   "execution_count": 23,
   "metadata": {
    "ExecuteTime": {
     "end_time": "2020-06-27T13:37:48.257819Z",
     "start_time": "2020-06-27T13:37:48.246255Z"
    }
   },
   "outputs": [
    {
     "name": "stdout",
     "output_type": "stream",
     "text": [
      "3\n"
     ]
    }
   ],
   "source": [
    "import numpy as np\n",
    "C = np.array([sum_A[:mark_A+1]]*(mark_B+1)) + np.array(sum_B[:mark_B+1]).reshape(-1, 1)\n",
    "# C = np.array([np.array(sum_A[:mark_A+1]) + x for x in sum_B[:mark_B+1]])\n",
    "# C = np.tile(sum_A[:mark_A+1], (mark_B+1,1)) + np.array(sum_B[:mark_B+1]).reshape(-1, 1)\n",
    "print(max(np.where(C <= K)[0] + np.where(C <= K)[1]))"
   ]
  },
  {
   "cell_type": "markdown",
   "metadata": {},
   "source": [
    "- 終了後、復習"
   ]
  },
  {
   "cell_type": "code",
   "execution_count": 101,
   "metadata": {
    "ExecuteTime": {
     "end_time": "2020-06-27T14:53:19.732642Z",
     "start_time": "2020-06-27T14:53:13.324576Z"
    }
   },
   "outputs": [
    {
     "name": "stdout",
     "output_type": "stream",
     "text": [
      "3 4 240\n",
      "60 90 120\n",
      "80 150 80 150\n"
     ]
    }
   ],
   "source": [
    "N, M, K = map(int, input().split())\n",
    "A = list(map(int, input().split()))\n",
    "B = list(map(int, input().split()))"
   ]
  },
  {
   "cell_type": "code",
   "execution_count": 110,
   "metadata": {
    "ExecuteTime": {
     "end_time": "2020-06-27T14:55:42.335842Z",
     "start_time": "2020-06-27T14:55:42.322139Z"
    }
   },
   "outputs": [
    {
     "name": "stdout",
     "output_type": "stream",
     "text": [
      "3\n"
     ]
    }
   ],
   "source": [
    "sum_A = [0]\n",
    "for i,a in enumerate(A, 1):\n",
    "    tmp = sum_A[i-1] + a\n",
    "    if tmp <= K:\n",
    "        sum_A.append(tmp)\n",
    "    else:\n",
    "        break\n",
    "    \n",
    "sum_B = [0]\n",
    "for i,b in enumerate(B, 1):\n",
    "    tmp = sum_B[i-1] + b\n",
    "    if tmp <= K:\n",
    "        sum_B.append(tmp)\n",
    "    else:\n",
    "        break\n",
    "    \n",
    "ans = 0\n",
    "j = len(sum_B) - 1\n",
    "\n",
    "for i,a in enumerate(sum_A):\n",
    "    while sum_B[j] > K - a:\n",
    "        j -= 1\n",
    "        \n",
    "    ans = max(ans, i+j)\n",
    "    \n",
    "print(ans)"
   ]
  },
  {
   "cell_type": "markdown",
   "metadata": {},
   "source": [
    "## D（）"
   ]
  },
  {
   "cell_type": "markdown",
   "metadata": {},
   "source": [
    "https://atcoder.jp/contests/abc172/tasks/abc172_d"
   ]
  },
  {
   "cell_type": "code",
   "execution_count": null,
   "metadata": {},
   "outputs": [],
   "source": []
  },
  {
   "cell_type": "code",
   "execution_count": null,
   "metadata": {},
   "outputs": [],
   "source": []
  },
  {
   "cell_type": "code",
   "execution_count": null,
   "metadata": {},
   "outputs": [],
   "source": []
  },
  {
   "cell_type": "markdown",
   "metadata": {},
   "source": [
    "## E（）"
   ]
  },
  {
   "cell_type": "markdown",
   "metadata": {},
   "source": [
    "https://atcoder.jp/contests/abc172/tasks/abc172_e"
   ]
  },
  {
   "cell_type": "markdown",
   "metadata": {},
   "source": [
    "## F（）"
   ]
  },
  {
   "cell_type": "markdown",
   "metadata": {},
   "source": [
    "https://atcoder.jp/contests/abc172/tasks/abc172_f"
   ]
  }
 ],
 "metadata": {
  "kernelspec": {
   "display_name": "Python 3",
   "language": "python",
   "name": "python3"
  },
  "language_info": {
   "codemirror_mode": {
    "name": "ipython",
    "version": 3
   },
   "file_extension": ".py",
   "mimetype": "text/x-python",
   "name": "python",
   "nbconvert_exporter": "python",
   "pygments_lexer": "ipython3",
   "version": "3.7.6"
  },
  "toc": {
   "base_numbering": 1,
   "nav_menu": {},
   "number_sections": true,
   "sideBar": true,
   "skip_h1_title": true,
   "title_cell": "Table of Contents",
   "title_sidebar": "Contents",
   "toc_cell": false,
   "toc_position": {},
   "toc_section_display": true,
   "toc_window_display": false
  }
 },
 "nbformat": 4,
 "nbformat_minor": 4
}
