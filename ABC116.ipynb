{
 "cells": [
  {
   "cell_type": "markdown",
   "metadata": {},
   "source": [
    "# AtCoder Beginner Contest 116"
   ]
  },
  {
   "cell_type": "markdown",
   "metadata": {},
   "source": [
    "Created on June 21, 2020  \n",
    "Extra exercise.  \n",
    "A-C:  Over 30min."
   ]
  },
  {
   "cell_type": "markdown",
   "metadata": {},
   "source": [
    "https://atcoder.jp/contests/abc116"
   ]
  },
  {
   "cell_type": "markdown",
   "metadata": {},
   "source": [
    "## A（AC）"
   ]
  },
  {
   "cell_type": "markdown",
   "metadata": {},
   "source": [
    "- ヘロンの公式より"
   ]
  },
  {
   "cell_type": "markdown",
   "metadata": {},
   "source": [
    "https://atcoder.jp/contests/abc116/tasks/abc116_a"
   ]
  },
  {
   "cell_type": "code",
   "execution_count": 4,
   "metadata": {
    "ExecuteTime": {
     "end_time": "2020-06-21T04:28:52.062268Z",
     "start_time": "2020-06-21T04:28:51.588749Z"
    }
   },
   "outputs": [
    {
     "name": "stdout",
     "output_type": "stream",
     "text": [
      "45 28 53\n"
     ]
    }
   ],
   "source": [
    "a,b,c = map(int, input().split())"
   ]
  },
  {
   "cell_type": "code",
   "execution_count": 5,
   "metadata": {
    "ExecuteTime": {
     "end_time": "2020-06-21T04:28:52.417018Z",
     "start_time": "2020-06-21T04:28:52.404714Z"
    }
   },
   "outputs": [
    {
     "name": "stdout",
     "output_type": "stream",
     "text": [
      "630\n"
     ]
    }
   ],
   "source": [
    "import math\n",
    "s = (a+b+c)/2\n",
    "S = math.sqrt(s*(s-a)*(s-b)*(s-c))\n",
    "print(int(S))"
   ]
  },
  {
   "cell_type": "markdown",
   "metadata": {},
   "source": [
    "## B（AC、ただしWA 1回）"
   ]
  },
  {
   "cell_type": "markdown",
   "metadata": {},
   "source": [
    "- memoを無駄に取っていて非効率と思う"
   ]
  },
  {
   "cell_type": "markdown",
   "metadata": {},
   "source": [
    "https://atcoder.jp/contests/abc116/tasks/abc116_b"
   ]
  },
  {
   "cell_type": "code",
   "execution_count": 44,
   "metadata": {
    "ExecuteTime": {
     "end_time": "2020-06-21T04:51:53.288365Z",
     "start_time": "2020-06-21T04:51:51.473404Z"
    }
   },
   "outputs": [
    {
     "name": "stdout",
     "output_type": "stream",
     "text": [
      "54\n"
     ]
    }
   ],
   "source": [
    "s = int(input())"
   ]
  },
  {
   "cell_type": "code",
   "execution_count": 45,
   "metadata": {
    "ExecuteTime": {
     "end_time": "2020-06-21T04:51:53.673244Z",
     "start_time": "2020-06-21T04:51:53.566161Z"
    }
   },
   "outputs": [
    {
     "name": "stdout",
     "output_type": "stream",
     "text": [
      "114\n"
     ]
    }
   ],
   "source": [
    "def f(n):\n",
    "    if n%2 == 0:\n",
    "        return int(n/2)\n",
    "    else:\n",
    "        return 3*n+1\n",
    "    \n",
    "memo = {i: 0 for i in range(1, 999999)}\n",
    "\n",
    "a = s\n",
    "i = 1\n",
    "memo[a] = 1\n",
    "\n",
    "while(True):\n",
    "    i += 1\n",
    "    a = f(a)\n",
    "\n",
    "    if memo[a]:\n",
    "        break\n",
    "\n",
    "    memo[a] = 1\n",
    "    \n",
    "        \n",
    "print(i)"
   ]
  },
  {
   "cell_type": "markdown",
   "metadata": {},
   "source": [
    "## C（AC）"
   ]
  },
  {
   "cell_type": "markdown",
   "metadata": {},
   "source": [
    "- キューを使うという発想は良いと思うが、実装があまりきれいではない"
   ]
  },
  {
   "cell_type": "markdown",
   "metadata": {},
   "source": [
    "https://atcoder.jp/contests/abc116/tasks/abc116_c"
   ]
  },
  {
   "cell_type": "code",
   "execution_count": 176,
   "metadata": {
    "ExecuteTime": {
     "end_time": "2020-06-21T08:01:36.154695Z",
     "start_time": "2020-06-21T08:01:29.375435Z"
    }
   },
   "outputs": [
    {
     "name": "stdout",
     "output_type": "stream",
     "text": [
      "8\n",
      "4 23 75 0 23 96 50 100\n"
     ]
    }
   ],
   "source": [
    "import numpy as np\n",
    "N = int(input())\n",
    "h = np.array(list(map(int, input().split())))"
   ]
  },
  {
   "cell_type": "code",
   "execution_count": 177,
   "metadata": {
    "ExecuteTime": {
     "end_time": "2020-06-21T08:01:37.416401Z",
     "start_time": "2020-06-21T08:01:37.398759Z"
    }
   },
   "outputs": [
    {
     "name": "stdout",
     "output_type": "stream",
     "text": [
      "221\n"
     ]
    }
   ],
   "source": [
    "from collections import deque\n",
    "queue = deque([])\n",
    "\n",
    "queue.append(h)\n",
    "\n",
    "ans = 0\n",
    "\n",
    "while(len(queue) > 0):\n",
    "    new_h = queue.popleft()\n",
    "    ans += np.min(new_h)\n",
    "    new_h -= np.min(new_h)\n",
    "    \n",
    "    R = np.where(new_h == 0)[0][0]\n",
    "    new_L = new_h[:R]\n",
    "    new_R = new_h[R+1:]\n",
    "    \n",
    "    if new_L.size > 0:\n",
    "        queue.append(new_L)\n",
    "    if new_R.size > 0:\n",
    "        queue.append(new_R)\n",
    "    \n",
    "print(ans)"
   ]
  },
  {
   "cell_type": "markdown",
   "metadata": {},
   "source": [
    "## D（）"
   ]
  },
  {
   "cell_type": "markdown",
   "metadata": {},
   "source": [
    "https://atcoder.jp/contests/abc116/tasks/abc116_d"
   ]
  }
 ],
 "metadata": {
  "kernelspec": {
   "display_name": "Python 3",
   "language": "python",
   "name": "python3"
  },
  "language_info": {
   "codemirror_mode": {
    "name": "ipython",
    "version": 3
   },
   "file_extension": ".py",
   "mimetype": "text/x-python",
   "name": "python",
   "nbconvert_exporter": "python",
   "pygments_lexer": "ipython3",
   "version": "3.7.6"
  },
  "toc": {
   "base_numbering": 1,
   "nav_menu": {},
   "number_sections": true,
   "sideBar": true,
   "skip_h1_title": true,
   "title_cell": "Table of Contents",
   "title_sidebar": "Contents",
   "toc_cell": false,
   "toc_position": {},
   "toc_section_display": true,
   "toc_window_display": false
  }
 },
 "nbformat": 4,
 "nbformat_minor": 4
}
