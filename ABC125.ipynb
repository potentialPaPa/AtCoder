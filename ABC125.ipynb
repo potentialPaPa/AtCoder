{
 "cells": [
  {
   "cell_type": "markdown",
   "metadata": {},
   "source": [
    "# AtCoder Beginner Contest 125"
   ]
  },
  {
   "cell_type": "markdown",
   "metadata": {},
   "source": [
    "Created on June 13, 2020  \n",
    "Extra training in the morning.  \n",
    "A-C: Over 30min."
   ]
  },
  {
   "cell_type": "markdown",
   "metadata": {},
   "source": [
    "https://atcoder.jp/contests/abc125"
   ]
  },
  {
   "cell_type": "markdown",
   "metadata": {},
   "source": [
    "## A（AC）"
   ]
  },
  {
   "cell_type": "markdown",
   "metadata": {},
   "source": [
    "https://atcoder.jp/contests/abc125/tasks/abc125_a"
   ]
  },
  {
   "cell_type": "code",
   "execution_count": 10,
   "metadata": {
    "ExecuteTime": {
     "end_time": "2020-06-13T00:53:53.233806Z",
     "start_time": "2020-06-13T00:53:52.605745Z"
    }
   },
   "outputs": [
    {
     "name": "stdout",
     "output_type": "stream",
     "text": [
      "3 2 9\n"
     ]
    }
   ],
   "source": [
    "A, B, T = map(int, input().split())"
   ]
  },
  {
   "cell_type": "code",
   "execution_count": 11,
   "metadata": {
    "ExecuteTime": {
     "end_time": "2020-06-13T00:53:53.545194Z",
     "start_time": "2020-06-13T00:53:53.535216Z"
    }
   },
   "outputs": [
    {
     "name": "stdout",
     "output_type": "stream",
     "text": [
      "6\n"
     ]
    }
   ],
   "source": [
    "t = T//A\n",
    "print(t*B)"
   ]
  },
  {
   "cell_type": "markdown",
   "metadata": {},
   "source": [
    "## B（AC）"
   ]
  },
  {
   "cell_type": "markdown",
   "metadata": {},
   "source": [
    "https://atcoder.jp/contests/abc125/tasks/abc125_b"
   ]
  },
  {
   "cell_type": "code",
   "execution_count": 17,
   "metadata": {
    "ExecuteTime": {
     "end_time": "2020-06-13T00:57:58.836596Z",
     "start_time": "2020-06-13T00:57:54.163867Z"
    }
   },
   "outputs": [
    {
     "name": "stdout",
     "output_type": "stream",
     "text": [
      "1\n",
      "1\n",
      "50\n"
     ]
    }
   ],
   "source": [
    "N = int(input())\n",
    "V = list(map(int, input().split()))\n",
    "C = list(map(int, input().split()))"
   ]
  },
  {
   "cell_type": "code",
   "execution_count": 18,
   "metadata": {
    "ExecuteTime": {
     "end_time": "2020-06-13T00:57:59.135174Z",
     "start_time": "2020-06-13T00:57:59.121415Z"
    }
   },
   "outputs": [
    {
     "name": "stdout",
     "output_type": "stream",
     "text": [
      "0\n"
     ]
    }
   ],
   "source": [
    "ans = 0\n",
    "for v,c in zip(V, C):\n",
    "    if v - c > 0:\n",
    "        ans += v - c\n",
    "print(ans)"
   ]
  },
  {
   "cell_type": "markdown",
   "metadata": {},
   "source": [
    "## C（AC、ただしRE 1回、WA 2回）"
   ]
  },
  {
   "cell_type": "markdown",
   "metadata": {},
   "source": [
    "https://atcoder.jp/contests/abc125/tasks/abc125_c"
   ]
  },
  {
   "cell_type": "code",
   "execution_count": 44,
   "metadata": {
    "ExecuteTime": {
     "end_time": "2020-06-13T01:11:17.395874Z",
     "start_time": "2020-06-13T01:11:14.290169Z"
    }
   },
   "outputs": [
    {
     "name": "stdout",
     "output_type": "stream",
     "text": [
      "3\n",
      "12 15 18\n"
     ]
    }
   ],
   "source": [
    "N = int(input())\n",
    "A = list(map(int, input().split()))"
   ]
  },
  {
   "cell_type": "markdown",
   "metadata": {},
   "source": [
    "- なぜか以下だとAtCoderではエラーになった"
   ]
  },
  {
   "cell_type": "code",
   "execution_count": 54,
   "metadata": {
    "ExecuteTime": {
     "end_time": "2020-06-13T01:17:37.710772Z",
     "start_time": "2020-06-13T01:17:37.695758Z"
    }
   },
   "outputs": [
    {
     "name": "stdout",
     "output_type": "stream",
     "text": [
      "6\n"
     ]
    },
    {
     "name": "stderr",
     "output_type": "stream",
     "text": [
      "/opt/conda/lib/python3.7/site-packages/ipykernel_launcher.py:5: DeprecationWarning: fractions.gcd() is deprecated. Use math.gcd() instead.\n",
      "  \"\"\"\n"
     ]
    }
   ],
   "source": [
    "import fractions\n",
    "from functools import reduce\n",
    "\n",
    "def gcd_list(numbers):\n",
    "    return reduce(fractions.gcd, numbers)\n",
    "\n",
    "ans = 0\n",
    "\n",
    "for i in range(N):\n",
    "    if ans == 0:\n",
    "        ans = gcd_list([*A[:i], *A[i+1:]])\n",
    "        \n",
    "    elif gcd_list([*A[:i], *A[i+1:]]) > ans:\n",
    "        ans = gcd_list([*A[:i], *A[i+1:]])\n",
    "        break\n",
    "        \n",
    "print(ans)"
   ]
  },
  {
   "cell_type": "markdown",
   "metadata": {},
   "source": [
    "- starred表記をリスト内包表記に変更した\n",
    "- breakの判定を微修正  \n",
    "⇒　これでもTLE かつ WA"
   ]
  },
  {
   "cell_type": "code",
   "execution_count": 70,
   "metadata": {
    "ExecuteTime": {
     "end_time": "2020-06-13T01:33:53.676204Z",
     "start_time": "2020-06-13T01:33:53.663534Z"
    },
    "scrolled": true
   },
   "outputs": [
    {
     "name": "stdout",
     "output_type": "stream",
     "text": [
      "6\n"
     ]
    },
    {
     "name": "stderr",
     "output_type": "stream",
     "text": [
      "/opt/conda/lib/python3.7/site-packages/ipykernel_launcher.py:5: DeprecationWarning: fractions.gcd() is deprecated. Use math.gcd() instead.\n",
      "  \"\"\"\n"
     ]
    }
   ],
   "source": [
    "import fractions\n",
    "from functools import reduce\n",
    "\n",
    "def gcd_list(numbers):\n",
    "    return reduce(fractions.gcd, numbers)\n",
    "\n",
    "ans = 0\n",
    "ans_before = 0\n",
    "\n",
    "for i in range(N):\n",
    "    ans_before = ans\n",
    "    ans = max(gcd_list([a for j, a in enumerate(A) if j!=i]), ans)\n",
    "    if ans_before != 0 and ans != ans_before:\n",
    "        break\n",
    "    \n",
    "print(ans)"
   ]
  },
  {
   "cell_type": "markdown",
   "metadata": {},
   "source": [
    "- 解説動画を見て実装"
   ]
  },
  {
   "cell_type": "code",
   "execution_count": 99,
   "metadata": {
    "ExecuteTime": {
     "end_time": "2020-06-13T04:33:58.202759Z",
     "start_time": "2020-06-13T04:33:45.775416Z"
    }
   },
   "outputs": [
    {
     "name": "stdout",
     "output_type": "stream",
     "text": [
      "8\n",
      "4 8 7 12 16 20 24 28\n"
     ]
    }
   ],
   "source": [
    "N = int(input())\n",
    "A = list(map(int, input().split()))"
   ]
  },
  {
   "cell_type": "code",
   "execution_count": 165,
   "metadata": {
    "ExecuteTime": {
     "end_time": "2020-06-13T05:05:09.740097Z",
     "start_time": "2020-06-13T05:05:09.723512Z"
    }
   },
   "outputs": [
    {
     "name": "stdout",
     "output_type": "stream",
     "text": [
      "4\n"
     ]
    },
    {
     "name": "stderr",
     "output_type": "stream",
     "text": [
      "/opt/conda/lib/python3.7/site-packages/ipykernel_launcher.py:7: DeprecationWarning: fractions.gcd() is deprecated. Use math.gcd() instead.\n",
      "  import sys\n",
      "/opt/conda/lib/python3.7/site-packages/ipykernel_launcher.py:8: DeprecationWarning: fractions.gcd() is deprecated. Use math.gcd() instead.\n",
      "  \n",
      "/opt/conda/lib/python3.7/site-packages/ipykernel_launcher.py:21: DeprecationWarning: fractions.gcd() is deprecated. Use math.gcd() instead.\n"
     ]
    }
   ],
   "source": [
    "import fractions\n",
    "\n",
    "L = [A[0]]\n",
    "R = [A[-1]]\n",
    "\n",
    "for i in range(1, N):\n",
    "    L.append(fractions.gcd(L[i-1], A[i]))\n",
    "    R.append(fractions.gcd(R[i-1], A[-(i+1)]))\n",
    "\n",
    "R.reverse()\n",
    "\n",
    "\n",
    "ans = 0\n",
    "\n",
    "for i in range(N):\n",
    "    if i == 0:\n",
    "        ans = max(ans, R[1])\n",
    "    elif i == N-1:\n",
    "        ans = max(ans, L[-2])\n",
    "    else:\n",
    "        ans = max(ans, fractions.gcd(L[i-1], R[i+1]))\n",
    "    \n",
    "print(ans)"
   ]
  },
  {
   "cell_type": "markdown",
   "metadata": {},
   "source": [
    "## D（）"
   ]
  },
  {
   "cell_type": "markdown",
   "metadata": {},
   "source": [
    "https://atcoder.jp/contests/abc125/tasks/abc125_d"
   ]
  },
  {
   "cell_type": "markdown",
   "metadata": {},
   "source": [
    "## E（）"
   ]
  },
  {
   "cell_type": "markdown",
   "metadata": {},
   "source": [
    "https://atcoder.jp/contests/abc125/tasks/abc125_e"
   ]
  },
  {
   "cell_type": "markdown",
   "metadata": {},
   "source": [
    "## F（）"
   ]
  },
  {
   "cell_type": "markdown",
   "metadata": {},
   "source": [
    "https://atcoder.jp/contests/abc125/tasks/abc125_f"
   ]
  }
 ],
 "metadata": {
  "kernelspec": {
   "display_name": "Python 3",
   "language": "python",
   "name": "python3"
  },
  "language_info": {
   "codemirror_mode": {
    "name": "ipython",
    "version": 3
   },
   "file_extension": ".py",
   "mimetype": "text/x-python",
   "name": "python",
   "nbconvert_exporter": "python",
   "pygments_lexer": "ipython3",
   "version": "3.7.6"
  },
  "toc": {
   "base_numbering": 1,
   "nav_menu": {},
   "number_sections": true,
   "sideBar": true,
   "skip_h1_title": true,
   "title_cell": "Table of Contents",
   "title_sidebar": "Contents",
   "toc_cell": false,
   "toc_position": {},
   "toc_section_display": true,
   "toc_window_display": false
  }
 },
 "nbformat": 4,
 "nbformat_minor": 4
}
